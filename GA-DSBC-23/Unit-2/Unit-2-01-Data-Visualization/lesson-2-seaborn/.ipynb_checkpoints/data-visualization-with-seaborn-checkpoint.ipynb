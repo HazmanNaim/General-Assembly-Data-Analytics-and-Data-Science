{
 "cells": [
  {
   "cell_type": "markdown",
   "id": "0d2ab1dc",
   "metadata": {},
   "source": [
    "## Data Visualization with Seaborn\n",
    "\n",
    "\n",
    "In this notebook we will try out another library for data visualization called [Seaborn](https://seaborn.pydata.org/index.html)\n",
    "\n",
    "Let's import all the libraries first. \n"
   ]
  },
  {
   "cell_type": "code",
   "execution_count": null,
   "id": "58fd7939",
   "metadata": {},
   "outputs": [],
   "source": [
    "import pandas as pd\n",
    "import numpy as np\n",
    "import matplotlib.pyplot as plt\n",
    "import seaborn as sns\n",
    "\n",
    "\n",
    "%matplotlib inline"
   ]
  },
  {
   "cell_type": "markdown",
   "id": "b3effbd0",
   "metadata": {},
   "source": [
    "Read in the table with returned orders\n",
    "\n"
   ]
  },
  {
   "cell_type": "code",
   "execution_count": null,
   "id": "21438bfe",
   "metadata": {},
   "outputs": [],
   "source": [
    "orders = pd.read_csv('datasets/returned_orders.csv')\n",
    "orders.head()"
   ]
  },
  {
   "cell_type": "markdown",
   "id": "81a98871",
   "metadata": {},
   "source": [
    "### Histogram with Seaborn\n",
    "\n",
    "Seaborn is built on top of Matplotlib, and is integrated with Pandas. \n",
    "\n",
    "There are many high level functions defined in Seaborn that can help us to create complex plots quickly. \n",
    "\n",
    "The basic histogram is created by specifying the data and the column to be used for the x-axis."
   ]
  },
  {
   "cell_type": "code",
   "execution_count": null,
   "id": "91609262",
   "metadata": {},
   "outputs": [],
   "source": [
    "# Create histogram with seaborn, return the axes object\n",
    "fig = plt.figure(figsize=(8,5))\n",
    "ax= sns.histplot(data = orders, x = 'sales', bins=20)\n",
    "\n",
    "# use the axes object to customize\n",
    "ax.set_title('Distribution of Sales Value for Orders')\n",
    "plt.show()"
   ]
  },
  {
   "cell_type": "markdown",
   "id": "cf61e5b3",
   "metadata": {},
   "source": [
    "## Comparing Categories\n",
    "\n",
    "Seaborn makes it easy to add categorical comparisons by color. \n",
    "\n",
    "We can compare the distribution for different product categories by adding the keyword argument `hue`.\n",
    "Specifying the `category` as the `hue` will separate each category by color.\n"
   ]
  },
  {
   "cell_type": "code",
   "execution_count": null,
   "id": "8033ac12",
   "metadata": {},
   "outputs": [],
   "source": [
    "# Create histogram with seaborn\n",
    "ax = sns.histplot(data = orders, x = 'sales', bins = 20, hue='category')\n",
    "plt.show()"
   ]
  },
  {
   "cell_type": "markdown",
   "id": "7fe05880",
   "metadata": {},
   "source": [
    "## Seaborn boxplot\n",
    "\n",
    "Similarly, we can create a comparative boxplot that might make it easier for us to view the distribution by sub category\n",
    "\n"
   ]
  },
  {
   "cell_type": "code",
   "execution_count": null,
   "id": "ae0fbdd7",
   "metadata": {},
   "outputs": [],
   "source": [
    "# Create boxplot by Cateogry and Sales\n",
    "ax = sns.boxplot(data =orders, \n",
    "                 x='margin_category', \n",
    "                 y='quantity',\n",
    "                hue='ship_mode')\n",
    "ax.legend(loc='upper right')\n",
    "plt.show()"
   ]
  },
  {
   "cell_type": "code",
   "execution_count": null,
   "id": "a4bc5f0a",
   "metadata": {},
   "outputs": [],
   "source": [
    "orders.dtypes"
   ]
  },
  {
   "cell_type": "markdown",
   "id": "109aa1f5",
   "metadata": {},
   "source": [
    "### Scatterplot with Seaborn\n",
    "\n",
    "Recall that we previously created a scatterplot using the `scatter` method in Matplotlib."
   ]
  },
  {
   "cell_type": "code",
   "execution_count": null,
   "id": "5eab497b",
   "metadata": {},
   "outputs": [],
   "source": [
    "# Scatterplot with matplotlib\n",
    "fig, ax = plt.subplots(figsize=(10,5))\n",
    "ax.scatter(data = orders, x='discount', y='profit_margin',alpha=0.4)\n",
    "plt.show()"
   ]
  },
  {
   "cell_type": "markdown",
   "id": "84f32763",
   "metadata": {},
   "source": [
    "Let's say we wanted to create the same scatter plot but we want to compare the `ship_mode` category.\n",
    "\n",
    "All we have to do is to add the `ship_mode` for the `hue` argument, and this will *color* the points according to whether it was returned, and automatically create the legend."
   ]
  },
  {
   "cell_type": "code",
   "execution_count": null,
   "id": "a886a216",
   "metadata": {},
   "outputs": [],
   "source": [
    "# Create the scatterplot using seaborn, still using figure and ax as before \n",
    "\n",
    "fig, ax = plt.subplots(figsize=(10,5))\n",
    "\n",
    "## but now we can add hue for a categorical variable and size for a numeric variable\n",
    "ax = sns.scatterplot(data =orders, \n",
    "                     x='discount', y='profit_margin', \n",
    "                     hue='ship_mode', size='sales', alpha = 0.7)\n",
    "plt.show()"
   ]
  },
  {
   "cell_type": "markdown",
   "id": "6451b6a8",
   "metadata": {},
   "source": [
    "## Jointplot\n",
    "\n",
    "#The seaborn jointplot shows the scatterplot relationship (bivariate) and the distribution of the individual variables (univariate)\n",
    "\n",
    "Check the different kinds of plots for both the bivariate and univariate plots by setting the `kind=` parameter\n",
    "https://seaborn.pydata.org/generated/seaborn.jointplot.html"
   ]
  },
  {
   "cell_type": "code",
   "execution_count": null,
   "id": "b8df638e",
   "metadata": {},
   "outputs": [],
   "source": [
    "# Create the jointplot using seaborn, still using figure and ax as before \n",
    "sns.jointplot(data =orders, x='discount', y='profit_margin', alpha = 0.7)\n",
    "\n",
    "# add the hue by ship mode and see what happens!\n",
    "# try kind='kde', kind='reg', kind='hex'"
   ]
  },
  {
   "cell_type": "markdown",
   "id": "2bb89393",
   "metadata": {},
   "source": [
    "## Pairplot\n",
    "\n",
    "The Seaborn pairplot will plot all the parameters, for our dataset let's limit to a few to compare:\n"
   ]
  },
  {
   "cell_type": "code",
   "execution_count": null,
   "id": "74b59785",
   "metadata": {},
   "outputs": [],
   "source": [
    "plot_data = orders[['discount', 'profit_margin', 'quantity','sales','order_day']]"
   ]
  },
  {
   "cell_type": "code",
   "execution_count": null,
   "id": "bd6aa38b",
   "metadata": {},
   "outputs": [],
   "source": [
    "sns.pairplot(plot_data)"
   ]
  },
  {
   "cell_type": "markdown",
   "id": "649e5050",
   "metadata": {},
   "source": [
    "## Displaying Categorical Data\n",
    "\n",
    "Scatterplots are useful for visualizing the relationship between numerical data. However when plotting categorical values the points may overlap too much. \n",
    "\n",
    "### Stripplot\n",
    "A stripplot adds 'jitter' to the points."
   ]
  },
  {
   "cell_type": "code",
   "execution_count": null,
   "id": "e34c5af0",
   "metadata": {},
   "outputs": [],
   "source": [
    "sns.stripplot(x='order_day', y='sales', data=orders, hue='category', alpha=0.5)"
   ]
  },
  {
   "cell_type": "markdown",
   "id": "f0099acf",
   "metadata": {},
   "source": [
    "### Violinplot\n",
    "\n",
    "A violinplot shows the frequency distribution as well as the boxplot of the numeric variables"
   ]
  },
  {
   "cell_type": "code",
   "execution_count": null,
   "id": "885f1a20",
   "metadata": {},
   "outputs": [],
   "source": [
    "sns.violinplot(x='category', y='sales', data=orders, alpha=0.5, hue='returned', split=True)"
   ]
  },
  {
   "cell_type": "markdown",
   "id": "e7abe1d5",
   "metadata": {},
   "source": [
    "## Faceting with Seaborn\n",
    "\n",
    "We can create subplots, called **Facets**, with Seaborn to compare categories.\n",
    "\n",
    "Each facet is used to represent one category, and can be defined by row, column, or both.\n"
   ]
  },
  {
   "cell_type": "code",
   "execution_count": null,
   "id": "b47111a4",
   "metadata": {},
   "outputs": [],
   "source": [
    "# For example, creating a FacetGrid object where each column represents one ship mode\n",
    "ax = sns.FacetGrid(orders, col='ship_mode')\n",
    "\n",
    "# Now map the plotting function onto the facets\n",
    "ax.map(sns.scatterplot, 'discount', 'profit_margin')\n",
    "ax.add_legend()\n",
    "plt.show()"
   ]
  },
  {
   "cell_type": "code",
   "execution_count": null,
   "id": "300b4df7",
   "metadata": {},
   "outputs": [],
   "source": [
    "# For example, Add another facet by row to show return status\n",
    "ax = sns.FacetGrid(orders, col='ship_mode', row='returned', hue='category')\n",
    "ax.map(sns.scatterplot, 'discount', 'profit_margin')\n",
    "ax.set_titles(col_template=\"{col_name}\", row_template=\"Returned: {row_name}\")\n",
    "ax.add_legend()\n",
    "plt.show()"
   ]
  },
  {
   "cell_type": "markdown",
   "id": "1ecb736d",
   "metadata": {},
   "source": [
    "### Bar Chart \n",
    "A bar chart is another type of plot that is usually used to compare categorical data. Seaborn can automatically create a barplot with an estimated summary value by category.\n",
    "\n",
    "For example, we can create a barplot comparing the mean `sales` based on product `category`."
   ]
  },
  {
   "cell_type": "code",
   "execution_count": null,
   "id": "69e90c8c",
   "metadata": {},
   "outputs": [],
   "source": [
    "# bar plot of mean sales by order return status\n",
    "ax = sns.barplot(data = orders, x = 'category', y='sales')\n",
    "ax.set_title(\"Mean Sales Value by Product Category\")\n",
    "ax.set_xlabel('')\n",
    "plt.show()"
   ]
  },
  {
   "cell_type": "markdown",
   "id": "319bf5ca",
   "metadata": {},
   "source": [
    "The little black lines shown at the top of each bar is an error bar to show the confidence interval estimate for the mean. We can turn it off by using the argument `ci=None`."
   ]
  },
  {
   "cell_type": "code",
   "execution_count": null,
   "id": "cdbed730",
   "metadata": {},
   "outputs": [],
   "source": [
    "# bar plot of mean sales by order return status\n",
    "fig, ax = plt.subplots(figsize=(10,5))\n",
    "# use hue for the category and palette for the required colors\n",
    "ax = sns.barplot(\n",
    "    data = orders, \n",
    "    x = 'category', \n",
    "    y='sales', \n",
    "    hue='returned', \n",
    "    ci=None, \n",
    "    dodge=True)\n",
    "ax.set_title(\"Mean Sales Value by Product Category\")\n",
    "ax.set_xlabel('')\n",
    "ax.set_ylabel('')\n",
    "\n",
    "plt.show()"
   ]
  },
  {
   "attachments": {
    "image.png": {
     "image/png": "[encoded data removed]"
    }
   },
   "cell_type": "markdown",
   "id": "8f269397",
   "metadata": {},
   "source": [
    "### Specifying Colors\n",
    "We can specify basic colors in matplotlib by name (or letter). ![image.png](attachment:image.png)\n",
    "\n",
    "\n",
    "In Seaborn, the colors can be specified using the `palette=` kwarg. You can also use colormaps to represent quantitative data.\n",
    "You can check the colormap names [here](https://matplotlib.org/stable/tutorials/colors/colormaps.html) "
   ]
  },
  {
   "cell_type": "markdown",
   "id": "40ea99d2",
   "metadata": {},
   "source": [
    "**Estimator Values**\n",
    "\n",
    "When we specify the categories that we want to plot, Seaborn will calculate an single value from each group of categories depending on the `estimator=` argument. \n",
    "\n",
    "The default estimator is the mean, but we can specify a different estimator such as\n",
    "- `estimator=len` for the number of observations in the group\n",
    "- `estimator=np.median` for the median value (using numpy)\n",
    "- `estimator=sum` for the sum of all the values\n",
    "- `estimator=max` for the highest value\n",
    "- `estimator=min` for the lowest value\n",
    "\n"
   ]
  },
  {
   "cell_type": "code",
   "execution_count": null,
   "id": "5811c4fc",
   "metadata": {},
   "outputs": [],
   "source": [
    "# bar plot of Median sales value by return status\n",
    "import numpy as np\n",
    "fig, ax = plt.subplots(figsize=(20,8))\n",
    "ax = sns.barplot(data = orders, \n",
    "                 x = 'sub_category', \n",
    "                 y='sales', \n",
    "                 hue='returned', \n",
    "                 ci=None, \n",
    "                 estimator=np.median)\n",
    "ax.set_title(\"Median Sales Value\")\n",
    "plt.show()"
   ]
  },
  {
   "cell_type": "markdown",
   "id": "de091971",
   "metadata": {},
   "source": [
    "### Heatmaps with Seaborn\n",
    "\n",
    "When a category has many levels, like the `sub_category` above, a heatmap is useful for comparing the values by color. \n",
    "\n",
    "A heatmap is a way of representing the data in a 2-dimensional form. The data values are represented as colors in the graph. \n",
    "The goal of the heatmap is to provide a colored visual summary of information. \n",
    "\n",
    "For example, we can calculate the mean sales for each order by return status. First we create a two-way table for the two dimensions, `sub_category` and `returned`."
   ]
  },
  {
   "cell_type": "code",
   "execution_count": null,
   "id": "594ac739",
   "metadata": {
    "scrolled": true
   },
   "outputs": [],
   "source": [
    "# Calculate mean sales for each group of sub category and day name\n",
    "sales_by_subcategory= orders.groupby(['sub_category','order_day_name'])['sales'].mean()\n",
    "data = sales_by_subcategory.unstack()\n",
    "data"
   ]
  },
  {
   "cell_type": "markdown",
   "id": "038232c0",
   "metadata": {},
   "source": [
    "#### Reordering the Axis Labels\n",
    "\n",
    "We can put the weekday names in order so that it's easier to identify if there are any trends. To do this, we can specify the `xticklabels` in the required order."
   ]
  },
  {
   "cell_type": "code",
   "execution_count": null,
   "id": "a97234d2",
   "metadata": {},
   "outputs": [],
   "source": [
    "# Create heatmap\n",
    "fig, ax = plt.subplots(figsize=(12,9))\n",
    "ax=sns.heatmap(data, \n",
    "               annot=True, \n",
    "               fmt=\"0.01f\", \n",
    "               cmap=\"Blues\",\n",
    "               xticklabels=['Sunday','Monday','Tuesday','Wednesday','Thursday','Friday','Saturday'])\n",
    "ax.set_title('Mean Sales by Sub Category')\n",
    "plt.show()"
   ]
  },
  {
   "cell_type": "markdown",
   "id": "444a9163",
   "metadata": {},
   "source": [
    "### Showing Correlation\n",
    "\n",
    "A correlation matrix can be used to investigate the correlation between numeric values in a DataFrame.\n",
    "\n",
    "The Pandas `corr` method can generate the correlation matrix on the numeric variables.\n",
    "\n",
    "Two variables can have\n",
    "- Strong positive correlation: pearson correlation statistic close to 1 \n",
    "- Strong negative correlation: pearson correlation statistic close to -1 \n",
    "- Weak correlation: pearson correlation statistic close to 0\n",
    "\n",
    "A value of 1 shows perfect correlation and this can be seen when a variable is compared against itself. "
   ]
  },
  {
   "cell_type": "code",
   "execution_count": null,
   "id": "d5fedeb5",
   "metadata": {},
   "outputs": [],
   "source": [
    "# Correlation matrix\n",
    "\n",
    "corr_mat = orders.corr()\n",
    "corr_mat"
   ]
  },
  {
   "cell_type": "markdown",
   "id": "04678412",
   "metadata": {},
   "source": [
    "### Heatmap for Correlation\n",
    "\n",
    "A heatmap can be used to show the correlation visually where darker colors can be used to indicate stronger correlations.\n"
   ]
  },
  {
   "cell_type": "code",
   "execution_count": null,
   "id": "a5a343f6",
   "metadata": {},
   "outputs": [],
   "source": [
    "\n",
    "# Create heatmap\n",
    "fig, ax = plt.subplots(figsize=(12,9))\n",
    "ax=sns.heatmap(corr_mat, \n",
    "               annot=True, \n",
    "               fmt=\"0.01f\", \n",
    "               cmap=\"BrBG\")\n",
    "ax.set_title('Mean Sales by Sub Category')\n",
    "plt.show()\n"
   ]
  },
  {
   "cell_type": "markdown",
   "id": "44d2905f",
   "metadata": {},
   "source": [
    "### Summary\n",
    "\n",
    "Phew! That is quite a lot of plotting, but in summary:\n",
    "\n",
    "[Seaborn](https://seaborn.pydata.org/tutorial.html) is integrated with matplotlib but provides an easier interface for grouping categorical variables.\n",
    "\n",
    "There are so many other types of plots that you can create in both Seaborn, so do check out the documentation and explore the other types of visualizations.\n"
   ]
  },
  {
   "cell_type": "markdown",
   "id": "41f7462c",
   "metadata": {},
   "source": [
    "### Review and Homework\n",
    "\n",
    "For this homework, we will use the diamonds dataset to create the plots using Seaborn.\n"
   ]
  },
  {
   "cell_type": "code",
   "execution_count": null,
   "id": "c4b9d6a5",
   "metadata": {
    "scrolled": true
   },
   "outputs": [],
   "source": [
    "# Make sure you have the necessary imports\n",
    "import pandas as pd\n",
    "import numpy as np\n",
    "import matplotlib.pyplot as plt\n",
    "import seaborn as sns\n",
    "\n",
    "# Read in the diamonds data set\n",
    "diamonds = pd.read_csv('datasets/diamonds.csv')\n",
    "diamonds.head()"
   ]
  },
  {
   "cell_type": "markdown",
   "id": "34693fc4",
   "metadata": {},
   "source": [
    "Q1. Create a scatter plot using\n",
    "- data: diamonds\n",
    "- x-axis: depth\n",
    "- y-axis: table\n",
    "- color of markers: cut\n",
    "- size of markers: price\n",
    "- transparency: 0.5\n",
    "\n"
   ]
  },
  {
   "cell_type": "code",
   "execution_count": null,
   "id": "85937101",
   "metadata": {},
   "outputs": [],
   "source": [
    "#Q1 Answer Using Seaborn\n"
   ]
  },
  {
   "cell_type": "markdown",
   "id": "b7357228",
   "metadata": {},
   "source": [
    "Q2. Use facets to separate the plots by cut.\n"
   ]
  },
  {
   "cell_type": "code",
   "execution_count": null,
   "id": "73db754a",
   "metadata": {},
   "outputs": [],
   "source": [
    "#Q2 Using Seaborn\n"
   ]
  },
  {
   "cell_type": "markdown",
   "id": "60bc9412",
   "metadata": {},
   "source": [
    "Q3. Draw Bar Charts to compare the mean prices by Cut and Clarity\n"
   ]
  },
  {
   "cell_type": "code",
   "execution_count": null,
   "id": "b4938cd2",
   "metadata": {},
   "outputs": [],
   "source": [
    "#Q3 Using Seaborn\n"
   ]
  },
  {
   "cell_type": "markdown",
   "id": "dc84958d",
   "metadata": {},
   "source": [
    "Q4. Generate the correlation matrix to check the correlation between the numeric variables in the diamonds dataset."
   ]
  },
  {
   "cell_type": "code",
   "execution_count": null,
   "id": "66e9c57f",
   "metadata": {},
   "outputs": [],
   "source": [
    "# Q4 answer \n"
   ]
  },
  {
   "cell_type": "markdown",
   "id": "fd04a630",
   "metadata": {},
   "source": [
    "Q5. Use the correlation matrix in a heatmap to determine the variables which are most highly correlated"
   ]
  },
  {
   "cell_type": "code",
   "execution_count": null,
   "id": "d5edd6a3",
   "metadata": {},
   "outputs": [],
   "source": [
    "#Q5 Answer using seaborn\n"
   ]
  },
  {
   "cell_type": "markdown",
   "id": "4bb5accc",
   "metadata": {},
   "source": [
    "Go ahead and try the other plots available in Seaborn to explore the data!"
   ]
  },
  {
   "cell_type": "code",
   "execution_count": null,
   "id": "0b0b0f0f",
   "metadata": {},
   "outputs": [],
   "source": []
  }
 ],
 "metadata": {
  "kernelspec": {
   "display_name": "Python 3 (ipykernel)",
   "language": "python",
   "name": "python3"
  },
  "language_info": {
   "codemirror_mode": {
    "name": "ipython",
    "version": 3
   },
   "file_extension": ".py",
   "mimetype": "text/x-python",
   "name": "python",
   "nbconvert_exporter": "python",
   "pygments_lexer": "ipython3",
   "version": "3.11.4"
  }
 },
 "nbformat": 4,
 "nbformat_minor": 5
}
