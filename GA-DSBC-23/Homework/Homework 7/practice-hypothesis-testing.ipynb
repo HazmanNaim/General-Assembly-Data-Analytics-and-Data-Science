{
 "cells": [
  {
   "cell_type": "markdown",
   "metadata": {},
   "source": [
    "**NAME:** Hazman Naim Bin Ahsan\n",
    "\n",
    "**CLASS:** GA-DSBC-23-003"
   ]
  },
  {
   "cell_type": "markdown",
   "metadata": {},
   "source": [
    "<img src=\"http://imgur.com/1ZcRyrc.png\" style=\"float: left; margin: 20px; height: 55px\">\n",
    "\n",
    "# Review CLT, Confidence Intervals, and Hypothesis Testing\n",
    "\n",
    "\n",
    "---"
   ]
  },
  {
   "cell_type": "code",
   "execution_count": 1,
   "metadata": {},
   "outputs": [],
   "source": [
    "import numpy as np\n",
    "import pandas as pd\n",
    "import matplotlib.pyplot as plt\n",
    "plt.style.use('fivethirtyeight')\n",
    "%matplotlib inline\n",
    "%config InlineBackend.figure_format = 'retina'"
   ]
  },
  {
   "cell_type": "markdown",
   "metadata": {},
   "source": [
    "## Boston Housing dataset\n",
    "\n",
    "Information about the boston housing dataset can be found [here](https://www.kaggle.com/datasets/simpleparadox/bostonhousingdataset)\n"
   ]
  },
  {
   "cell_type": "code",
   "execution_count": 4,
   "metadata": {},
   "outputs": [
    {
     "data": {
      "text/html": [
       "<div>\n",
       "<style scoped>\n",
       "    .dataframe tbody tr th:only-of-type {\n",
       "        vertical-align: middle;\n",
       "    }\n",
       "\n",
       "    .dataframe tbody tr th {\n",
       "        vertical-align: top;\n",
       "    }\n",
       "\n",
       "    .dataframe thead th {\n",
       "        text-align: right;\n",
       "    }\n",
       "</style>\n",
       "<table border=\"1\" class=\"dataframe\">\n",
       "  <thead>\n",
       "    <tr style=\"text-align: right;\">\n",
       "      <th></th>\n",
       "      <th>CRIM</th>\n",
       "      <th>ZN</th>\n",
       "      <th>INDUS</th>\n",
       "      <th>CHAS</th>\n",
       "      <th>NOX</th>\n",
       "      <th>RM</th>\n",
       "      <th>AGE</th>\n",
       "      <th>DIS</th>\n",
       "      <th>RAD</th>\n",
       "      <th>TAX</th>\n",
       "      <th>PTRATIO</th>\n",
       "      <th>B</th>\n",
       "      <th>LSTAT</th>\n",
       "    </tr>\n",
       "  </thead>\n",
       "  <tbody>\n",
       "    <tr>\n",
       "      <th>0</th>\n",
       "      <td>0.00632</td>\n",
       "      <td>18.0</td>\n",
       "      <td>2.31</td>\n",
       "      <td>0.0</td>\n",
       "      <td>0.538</td>\n",
       "      <td>6.575</td>\n",
       "      <td>65.2</td>\n",
       "      <td>4.0900</td>\n",
       "      <td>1.0</td>\n",
       "      <td>296.0</td>\n",
       "      <td>15.3</td>\n",
       "      <td>396.90</td>\n",
       "      <td>4.98</td>\n",
       "    </tr>\n",
       "    <tr>\n",
       "      <th>1</th>\n",
       "      <td>0.02731</td>\n",
       "      <td>0.0</td>\n",
       "      <td>7.07</td>\n",
       "      <td>0.0</td>\n",
       "      <td>0.469</td>\n",
       "      <td>6.421</td>\n",
       "      <td>78.9</td>\n",
       "      <td>4.9671</td>\n",
       "      <td>2.0</td>\n",
       "      <td>242.0</td>\n",
       "      <td>17.8</td>\n",
       "      <td>396.90</td>\n",
       "      <td>9.14</td>\n",
       "    </tr>\n",
       "    <tr>\n",
       "      <th>2</th>\n",
       "      <td>0.02729</td>\n",
       "      <td>0.0</td>\n",
       "      <td>7.07</td>\n",
       "      <td>0.0</td>\n",
       "      <td>0.469</td>\n",
       "      <td>7.185</td>\n",
       "      <td>61.1</td>\n",
       "      <td>4.9671</td>\n",
       "      <td>2.0</td>\n",
       "      <td>242.0</td>\n",
       "      <td>17.8</td>\n",
       "      <td>392.83</td>\n",
       "      <td>4.03</td>\n",
       "    </tr>\n",
       "    <tr>\n",
       "      <th>3</th>\n",
       "      <td>0.03237</td>\n",
       "      <td>0.0</td>\n",
       "      <td>2.18</td>\n",
       "      <td>0.0</td>\n",
       "      <td>0.458</td>\n",
       "      <td>6.998</td>\n",
       "      <td>45.8</td>\n",
       "      <td>6.0622</td>\n",
       "      <td>3.0</td>\n",
       "      <td>222.0</td>\n",
       "      <td>18.7</td>\n",
       "      <td>394.63</td>\n",
       "      <td>2.94</td>\n",
       "    </tr>\n",
       "    <tr>\n",
       "      <th>4</th>\n",
       "      <td>0.06905</td>\n",
       "      <td>0.0</td>\n",
       "      <td>2.18</td>\n",
       "      <td>0.0</td>\n",
       "      <td>0.458</td>\n",
       "      <td>7.147</td>\n",
       "      <td>54.2</td>\n",
       "      <td>6.0622</td>\n",
       "      <td>3.0</td>\n",
       "      <td>222.0</td>\n",
       "      <td>18.7</td>\n",
       "      <td>396.90</td>\n",
       "      <td>5.33</td>\n",
       "    </tr>\n",
       "  </tbody>\n",
       "</table>\n",
       "</div>"
      ],
      "text/plain": [
       "      CRIM    ZN  INDUS  CHAS    NOX     RM   AGE     DIS  RAD    TAX  \\\n",
       "0  0.00632  18.0   2.31   0.0  0.538  6.575  65.2  4.0900  1.0  296.0   \n",
       "1  0.02731   0.0   7.07   0.0  0.469  6.421  78.9  4.9671  2.0  242.0   \n",
       "2  0.02729   0.0   7.07   0.0  0.469  7.185  61.1  4.9671  2.0  242.0   \n",
       "3  0.03237   0.0   2.18   0.0  0.458  6.998  45.8  6.0622  3.0  222.0   \n",
       "4  0.06905   0.0   2.18   0.0  0.458  7.147  54.2  6.0622  3.0  222.0   \n",
       "\n",
       "   PTRATIO       B  LSTAT  \n",
       "0     15.3  396.90   4.98  \n",
       "1     17.8  396.90   9.14  \n",
       "2     17.8  392.83   4.03  \n",
       "3     18.7  394.63   2.94  \n",
       "4     18.7  396.90   5.33  "
      ]
     },
     "execution_count": 4,
     "metadata": {},
     "output_type": "execute_result"
    }
   ],
   "source": [
    "# Read in the dataset\n",
    "data = pd.read_csv('datasets/boston.csv')\n",
    "\n",
    "# we will only explore the NOX and AGE variables\n",
    "NOX = data['NOX']\n",
    "AGE = data['AGE']\n",
    "data.head()"
   ]
  },
  {
   "cell_type": "markdown",
   "metadata": {},
   "source": [
    "### 1. Find the mean, standard deviation, and the standard error of the mean for variable `AGE`"
   ]
  },
  {
   "cell_type": "code",
   "execution_count": 10,
   "metadata": {},
   "outputs": [
    {
     "name": "stdout",
     "output_type": "stream",
     "text": [
      "Mean: 68.57490118577076\n",
      "Standard Deviation: 28.121032570236885\n"
     ]
    }
   ],
   "source": [
    "# A:\n",
    "print(\"Mean:\", np.mean(AGE))\n",
    "print(\"Standard Deviation:\", np.std(AGE))"
   ]
  },
  {
   "cell_type": "code",
   "execution_count": 12,
   "metadata": {},
   "outputs": [
    {
     "name": "stdout",
     "output_type": "stream",
     "text": [
      "Standard Error: 1.2513695252583041\n"
     ]
    }
   ],
   "source": [
    "# scipy standard error function\n",
    "from scipy.stats import sem\n",
    "print(\"Standard Error:\", sem(AGE))"
   ]
  },
  {
   "cell_type": "markdown",
   "metadata": {},
   "source": [
    "### 2. Generate a 90%, 95%, and 99% confidence interval for `AGE`\n",
    "\n",
    "You can use the `scipy.stats.t.interval` function to calculate confidence interval range.\n",
    "\n",
    "```python\n",
    "# Endpoints of the range that contains alpha percent of the distribution\n",
    "stats.t.interval(confidence, df, loc=0, scale=1)\t\n",
    "```\n",
    "\n",
    "Arguments:\n",
    "- `confidence` = confidence level, between 0 and 1\n",
    "- `df` = the degrees of freedom, will be the length of the vector -1.\n",
    "- `loc` = the mean of the t-distribution (your point estimate - mean of the variable)\n",
    "- `scale` = the standard deviation of the t-distribution (the standard error of your sample mean)\n",
    "\n",
    "**Interpret the results from all three confidence intervals.**"
   ]
  },
  {
   "cell_type": "code",
   "execution_count": 21,
   "metadata": {},
   "outputs": [],
   "source": [
    "import scipy\n",
    "import scipy.stats as stats\n",
    "from scipy.stats import t"
   ]
  },
  {
   "cell_type": "code",
   "execution_count": 27,
   "metadata": {},
   "outputs": [
    {
     "name": "stdout",
     "output_type": "stream",
     "text": [
      "\n",
      "90% Confidence Interval:\n",
      "(66.51279866704186, 70.63700370449965)\n",
      "\n",
      "95% Confidence Interval:\n",
      "(66.11636971854321, 71.0334326529983)\n",
      "\n",
      "99% Confidence Interval:\n",
      "(65.33936041834139, 71.81044195320013)\n"
     ]
    }
   ],
   "source": [
    "# A: \n",
    "df = len(AGE) - 1\n",
    "\n",
    "confidence_levels = [0.90, 0.95, 0.99]\n",
    "\n",
    "for confidence in confidence_levels:\n",
    "    print(f\"\\n{int(confidence*100)}% Confidence Interval:\")\n",
    "    interval = stats.t.interval(confidence, df, np.mean(AGE), sem(AGE))\n",
    "    print(interval)"
   ]
  },
  {
   "cell_type": "markdown",
   "metadata": {},
   "source": [
    "**Interpretation**\n",
    "\n",
    "The confidence intervals calculated represent the range in which we are fairly certain the true population mean of `AGE` lies, given the data we have.\n",
    "\n",
    "- The **90% confidence interval** is from approximately **66.51 to 70.64**. This means that we can be 90% confident that the true population mean of `AGE` is between these two values.\n",
    "- The **95% confidence interval** is from approximately **66.12 to 71.03**. This means that we can be 95% confident that the true population mean of `AGE` is between these two values.\n",
    "- The **99% confidence interval** is from approximately **65.34 to 71.81**. This means that we can be 99% confident that the true population mean of `AGE` is between these two values.\n",
    "\n",
    "As we can see, as we increase our confidence level (from 90% to 99%), our confidence interval becomes wider. This is because to be more confident that we've captured the true population parameter, we need to provide a larger range."
   ]
  },
  {
   "cell_type": "markdown",
   "metadata": {},
   "source": [
    "### 3. Did you rely on the Central Limit Theorem in question 2? Why or why not? Explain."
   ]
  },
  {
   "cell_type": "markdown",
   "metadata": {},
   "source": [
    "Yes, the Central Limit Theorem (CLT) is implicitly relied upon when calculating confidence intervals using the methods in question 2. Here's are the reasons:\n",
    "\n",
    "The Central Limit Theorem states that if we have a population with mean μ and standard deviation σ and take sufficiently large random samples from the population with replacement, then the distribution of the sample means will be approximately normally distributed. This will hold true regardless of whether the source population is normal or skewed, provided the sample size is sufficiently large (usually n > 30).\n",
    "\n",
    "In our calculations for confidence intervals, we're dealing with the mean of `AGE` (a sample statistic). According to the CLT, this mean should follow a normal distribution if our sample size is large enough, regardless of the distribution of `AGE` in the population.\n",
    "\n",
    "This normal distribution is what allows us to use the t-distribution (when population standard deviation is unknown) or z-distribution (when population standard deviation is known) to calculate confidence intervals. Both distributions are used when we assume our data follows a normal distribution."
   ]
  },
  {
   "cell_type": "markdown",
   "metadata": {},
   "source": [
    "### 4. For the variable `NOX`, generate a 95% confidence interval and interpret it."
   ]
  },
  {
   "cell_type": "code",
   "execution_count": 28,
   "metadata": {},
   "outputs": [
    {
     "name": "stdout",
     "output_type": "stream",
     "text": [
      "(0.5445742622921801, 0.5648158562848951)\n"
     ]
    }
   ],
   "source": [
    "# A:\n",
    "df = len(NOX) - 1\n",
    "mean = np.mean(NOX)\n",
    "sem = sem(NOX)\n",
    "\n",
    "conf_interval = stats.t.interval(0.95, df, mean, sem)\n",
    "print(conf_interval)"
   ]
  },
  {
   "cell_type": "markdown",
   "metadata": {},
   "source": [
    "**Interpretation**\n",
    "\n",
    "The 95% confidence interval for the variable `NOX` is approximately **(0.5446, 0.5648)**. This means that we are 95% confident that the true population mean of `NOX` lies within this interval.\n",
    "\n",
    "In other words, if we were to take many samples and compute a 95% confidence interval for each sample, we would expect the true population mean to fall within these intervals 95% of the time."
   ]
  },
  {
   "cell_type": "markdown",
   "metadata": {},
   "source": [
    "### 5. For the variable `NOX`, we are going to test the hypothesis that the (true) mean is equal to the median in the sample\n",
    "\n",
    "In this case, we are performing the hypothesis test to test the mean based on a single sample.\n",
    "These are the steps:\n",
    "1. Define hypothesis\n",
    "2. Set alpha (Let alpha = 0.05)\n",
    "3. Calculate point estimate\n",
    "4. Calculate test statistic\n",
    "5. Find the p-value\n",
    "6. Interpret results"
   ]
  },
  {
   "cell_type": "code",
   "execution_count": 29,
   "metadata": {},
   "outputs": [
    {
     "name": "stdout",
     "output_type": "stream",
     "text": [
      "Our sample median is 0.5400.\n",
      "Our sample mean is 0.5547.\n",
      "Our t-statistic is 2.852639.\n",
      "Our p-value is 0.004514.\n",
      "We reject our null hypothesis and conclude that the true mean NOX value is different from the median NOX value.\n"
     ]
    }
   ],
   "source": [
    "# A:\n",
    "## Step 1: Define hypotheses.\n",
    "### H_0: mu_NOX = M_NOX\n",
    "### H_A: mu_NOX != M_NOX\n",
    "\n",
    "## Step 2: alpha = 0.05.\n",
    "alpha = 0.05\n",
    "\n",
    "## Step 3: Calculate point estimate.\n",
    "sample_mean = NOX.mean()\n",
    "sample_median = 0.54\n",
    "sample_std = NOX.std()\n",
    "sample_size = len(NOX)\n",
    "\n",
    "## Step 4: Calculate test statistic.\n",
    "t_statistic = (sample_mean - sample_median)/(sample_std/sample_size**0.5)\n",
    "\n",
    "## Step 5: Find p-value.\n",
    "## t.sf is survival function, which is 1-cdf at a given value \n",
    "## (proportion of values at least as extreme as...)\n",
    "p_value = t.sf(np.abs(t_statistic), len(NOX)-1) * 2 \n",
    "\n",
    "\n",
    "## Because our alternative hypothesis is != (rather than greater than or less than),\n",
    "## we multiply our p-value by 2. (This is called a two-sided test.)\n",
    "print(\"Our sample median is {:.4f}.\".format(0.54))\n",
    "print(\"Our sample mean is {:.4f}.\".format(sample_mean))\n",
    "print(\"Our t-statistic is {:.6f}.\".format(t_statistic))\n",
    "print(\"Our p-value is {:.6f}.\".format(p_value))\n",
    "\n",
    "if p_value < alpha:\n",
    "    print(\"We reject our null hypothesis and conclude that the true mean NOX value is different from the median NOX value.\")\n",
    "elif p_value > alpha:\n",
    "    print(\"We fail to reject our null hypothesis and cannot conclude that the true mean NOX value is different from the median .\")\n",
    "else:\n",
    "    print(\"Our test is inconclusive.\")"
   ]
  },
  {
   "cell_type": "markdown",
   "metadata": {},
   "source": [
    "**1-sample t-test**\n",
    "\n",
    "To perform the t-test on a single sample, you can use `scipy.stats.ttest_1samp()`.\n",
    "\n",
    "Try it out. Do you get the same values?"
   ]
  },
  {
   "cell_type": "code",
   "execution_count": 31,
   "metadata": {},
   "outputs": [
    {
     "name": "stdout",
     "output_type": "stream",
     "text": [
      "t-statistic:  2.8526390677766322\n",
      "p-value:  0.004513586425934958\n"
     ]
    }
   ],
   "source": [
    "from scipy import stats\n",
    "\n",
    "# Use stats.ttest_1samp() with appropriate parameters to check the results above\n",
    "t_statistic, p_value  = stats.ttest_1samp(NOX, sample_median)\n",
    "\n",
    "print(\"t-statistic: \", t_statistic)\n",
    "print(\"p-value: \", p_value)"
   ]
  },
  {
   "cell_type": "markdown",
   "metadata": {},
   "source": [
    "### 6. What do you notice about the results from Exercise 4 and Exercise 5? \n",
    "\n",
    "**If you were going to generalize this to the relationship between hypothesis tests and confidence intervals, what might you say? Be specific.**"
   ]
  },
  {
   "cell_type": "markdown",
   "metadata": {},
   "source": [
    "The results from Exercise 4 and Exercise 5 are indeed related. \n",
    "\n",
    "In Exercise 4, we calculated a 95% confidence interval for the `NOX` data, which resulted in an interval of approximately (0.5446, 0.5648). This means that we are 95% confident that the true population mean of `NOX` lies within this interval.\n",
    "\n",
    "In Exercise 5, we conducted a hypothesis test to determine whether the mean of `NOX` is significantly different from its median (0.54). The p-value from this test was approximately 0.004514, which is less than the commonly used significance level of 0.05. Therefore, we rejected the null hypothesis and concluded that the true mean `NOX` value is different from the median `NOX` value.\n",
    "\n",
    "Now, if we look at the confidence interval from Exercise 4, we'll notice that the median value of 0.54 does not fall within this interval. This is consistent with the results of the hypothesis test in Exercise 5, where we concluded that the mean is different from the median.\n",
    "\n",
    "So, to generalize this to the relationship between hypothesis tests and confidence intervals:\n",
    "\n",
    "- A confidence interval gives a range of plausible values for a population parameter (like the mean) based on sample data. If a given value falls within this interval, we would not reject the null hypothesis that the population parameter is equal to that value at the corresponding significance level.\n",
    "- A hypothesis test assesses whether a sample statistic is significantly different from a hypothesized population parameter. If we reject the null hypothesis, it means that the hypothesized value falls outside of the confidence interval for that parameter.\n",
    "\n",
    "In other words, if we're conducting a two-sided hypothesis test at significance level α, and we have a (1-α)100% confidence interval for a parameter, we will reject the null hypothesis that the parameter equals some value if and only if that value falls outside of our confidence interval."
   ]
  }
 ],
 "metadata": {
  "anaconda-cloud": {},
  "kernelspec": {
   "display_name": "Python 3 (ipykernel)",
   "language": "python",
   "name": "python3"
  },
  "language_info": {
   "codemirror_mode": {
    "name": "ipython",
    "version": 3
   },
   "file_extension": ".py",
   "mimetype": "text/x-python",
   "name": "python",
   "nbconvert_exporter": "python",
   "pygments_lexer": "ipython3",
   "version": "3.11.4"
  },
  "toc": {
   "nav_menu": {},
   "number_sections": false,
   "sideBar": true,
   "skip_h1_title": true,
   "title_cell": "Table of Contents",
   "title_sidebar": "Contents",
   "toc_cell": false,
   "toc_position": {},
   "toc_section_display": "block",
   "toc_window_display": false
  }
 },
 "nbformat": 4,
 "nbformat_minor": 1
}
