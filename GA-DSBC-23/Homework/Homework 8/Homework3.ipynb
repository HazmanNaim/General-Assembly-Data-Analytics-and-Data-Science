{
 "cells": [
  {
   "cell_type": "markdown",
   "id": "858d98e1",
   "metadata": {},
   "source": [
    "**NAME:** Hazman Naim Bin Ahsan\n",
    "\n",
    "**CLASS:** GA-DSBC-23-003"
   ]
  },
  {
   "cell_type": "markdown",
   "id": "e7666cf1",
   "metadata": {},
   "source": [
    "# Supervised Learning Model Evaluation for stroke diagnosis"
   ]
  },
  {
   "cell_type": "markdown",
   "id": "9b63e777",
   "metadata": {},
   "source": [
    "Stroke diagnosis involves a comprehensive assessment to determine the presence, type, and severity of a stroke, a serious medical condition characterized by disrupted blood flow to the brain along with demographic details of the patients. \n",
    "\n",
    "DATA DESCRIPTION FOR CATEGORICAL VARIABLE:\n",
    "\n",
    "1. gender:\n",
    "Male = 1\n",
    "Female = 2\n",
    "Other = 3\n",
    "\n",
    "2. ever_married:\n",
    "Yes = 1\n",
    "No = 2\n",
    "\n",
    "3. work_type:\n",
    "Children = 1\n",
    "Private = 2\n",
    "Self-employed = 3\n",
    "Govt_job = 4\n",
    "Never_worked = 5\n",
    "\n",
    "4. Residence_type:\n",
    "Rural = 1\n",
    "Urban = 2\n",
    "\n",
    "5. Smoking status:\n",
    "smokes = 1\n",
    "unknown = 2\n",
    "formerly smoked = 3\n",
    "never smoked = 4\n"
   ]
  },
  {
   "cell_type": "markdown",
   "id": "64ede251",
   "metadata": {},
   "source": [
    "# 1. Prerequisite, Importing Libraries and Packages"
   ]
  },
  {
   "cell_type": "code",
   "execution_count": 1,
   "id": "9b0af7b2",
   "metadata": {},
   "outputs": [],
   "source": [
    "import numpy as np                          # For linear algebra\n",
    "import pandas as pd                         # For data manipulation\n",
    "import matplotlib as mlt                    # For visualization\n",
    "import matplotlib.pyplot as plt             # For visualization(scripting layer)\n",
    "import seaborn as sns                       # For visualization\n",
    "\n",
    "pd.set_option('display.max_columns',None)   # To display all columns in a dataset\n",
    "\n",
    "#import warnings                             # To avoid warning flash\n",
    "#warnings.filterwarnings('ignore')  "
   ]
  },
  {
   "cell_type": "markdown",
   "id": "fa26cb0e",
   "metadata": {},
   "source": [
    "# 2. Data Preparation"
   ]
  },
  {
   "cell_type": "markdown",
   "id": "e15ec183",
   "metadata": {},
   "source": [
    "1. Import the stroke.csv dataset, get info, print header and examine the data"
   ]
  },
  {
   "cell_type": "code",
   "execution_count": 2,
   "id": "c9d95d67",
   "metadata": {},
   "outputs": [
    {
     "data": {
      "text/html": [
       "<div>\n",
       "<style scoped>\n",
       "    .dataframe tbody tr th:only-of-type {\n",
       "        vertical-align: middle;\n",
       "    }\n",
       "\n",
       "    .dataframe tbody tr th {\n",
       "        vertical-align: top;\n",
       "    }\n",
       "\n",
       "    .dataframe thead th {\n",
       "        text-align: right;\n",
       "    }\n",
       "</style>\n",
       "<table border=\"1\" class=\"dataframe\">\n",
       "  <thead>\n",
       "    <tr style=\"text-align: right;\">\n",
       "      <th></th>\n",
       "      <th>gender</th>\n",
       "      <th>age</th>\n",
       "      <th>hypertension</th>\n",
       "      <th>heart_disease</th>\n",
       "      <th>ever_married</th>\n",
       "      <th>work_type</th>\n",
       "      <th>Residence_type</th>\n",
       "      <th>avg_glucose_level</th>\n",
       "      <th>bmi</th>\n",
       "      <th>smoking_status</th>\n",
       "      <th>stroke</th>\n",
       "    </tr>\n",
       "  </thead>\n",
       "  <tbody>\n",
       "    <tr>\n",
       "      <th>0</th>\n",
       "      <td>2</td>\n",
       "      <td>31</td>\n",
       "      <td>0</td>\n",
       "      <td>0</td>\n",
       "      <td>2</td>\n",
       "      <td>4</td>\n",
       "      <td>1</td>\n",
       "      <td>70.66</td>\n",
       "      <td>27.2</td>\n",
       "      <td>4</td>\n",
       "      <td>0</td>\n",
       "    </tr>\n",
       "    <tr>\n",
       "      <th>1</th>\n",
       "      <td>2</td>\n",
       "      <td>13</td>\n",
       "      <td>0</td>\n",
       "      <td>0</td>\n",
       "      <td>2</td>\n",
       "      <td>1</td>\n",
       "      <td>1</td>\n",
       "      <td>85.81</td>\n",
       "      <td>18.6</td>\n",
       "      <td>2</td>\n",
       "      <td>0</td>\n",
       "    </tr>\n",
       "    <tr>\n",
       "      <th>2</th>\n",
       "      <td>1</td>\n",
       "      <td>18</td>\n",
       "      <td>0</td>\n",
       "      <td>0</td>\n",
       "      <td>2</td>\n",
       "      <td>2</td>\n",
       "      <td>2</td>\n",
       "      <td>60.56</td>\n",
       "      <td>33.0</td>\n",
       "      <td>4</td>\n",
       "      <td>0</td>\n",
       "    </tr>\n",
       "    <tr>\n",
       "      <th>3</th>\n",
       "      <td>2</td>\n",
       "      <td>65</td>\n",
       "      <td>0</td>\n",
       "      <td>0</td>\n",
       "      <td>1</td>\n",
       "      <td>2</td>\n",
       "      <td>2</td>\n",
       "      <td>205.77</td>\n",
       "      <td>46.0</td>\n",
       "      <td>3</td>\n",
       "      <td>1</td>\n",
       "    </tr>\n",
       "    <tr>\n",
       "      <th>4</th>\n",
       "      <td>1</td>\n",
       "      <td>4</td>\n",
       "      <td>0</td>\n",
       "      <td>0</td>\n",
       "      <td>2</td>\n",
       "      <td>1</td>\n",
       "      <td>1</td>\n",
       "      <td>90.42</td>\n",
       "      <td>16.2</td>\n",
       "      <td>2</td>\n",
       "      <td>0</td>\n",
       "    </tr>\n",
       "  </tbody>\n",
       "</table>\n",
       "</div>"
      ],
      "text/plain": [
       "   gender age  hypertension  heart_disease  ever_married  work_type  \\\n",
       "0       2  31             0              0             2          4   \n",
       "1       2  13             0              0             2          1   \n",
       "2       1  18             0              0             2          2   \n",
       "3       2  65             0              0             1          2   \n",
       "4       1   4             0              0             2          1   \n",
       "\n",
       "   Residence_type  avg_glucose_level   bmi  smoking_status  stroke  \n",
       "0               1              70.66  27.2               4       0  \n",
       "1               1              85.81  18.6               2       0  \n",
       "2               2              60.56  33.0               4       0  \n",
       "3               2             205.77  46.0               3       1  \n",
       "4               1              90.42  16.2               2       0  "
      ]
     },
     "execution_count": 2,
     "metadata": {},
     "output_type": "execute_result"
    }
   ],
   "source": [
    "df = pd.read_csv('stroke.csv')\n",
    "df.head()"
   ]
  },
  {
   "cell_type": "markdown",
   "id": "b4414ff6",
   "metadata": {},
   "source": [
    "# 3. Exploratory Data Analysis"
   ]
  },
  {
   "cell_type": "code",
   "execution_count": 3,
   "id": "760eb742",
   "metadata": {},
   "outputs": [
    {
     "data": {
      "text/html": [
       "<div>\n",
       "<style scoped>\n",
       "    .dataframe tbody tr th:only-of-type {\n",
       "        vertical-align: middle;\n",
       "    }\n",
       "\n",
       "    .dataframe tbody tr th {\n",
       "        vertical-align: top;\n",
       "    }\n",
       "\n",
       "    .dataframe thead th {\n",
       "        text-align: right;\n",
       "    }\n",
       "</style>\n",
       "<table border=\"1\" class=\"dataframe\">\n",
       "  <thead>\n",
       "    <tr style=\"text-align: right;\">\n",
       "      <th></th>\n",
       "      <th>count</th>\n",
       "      <th>mean</th>\n",
       "      <th>std</th>\n",
       "      <th>min</th>\n",
       "      <th>25%</th>\n",
       "      <th>50%</th>\n",
       "      <th>75%</th>\n",
       "      <th>max</th>\n",
       "    </tr>\n",
       "  </thead>\n",
       "  <tbody>\n",
       "    <tr>\n",
       "      <th>gender</th>\n",
       "      <td>1137.0</td>\n",
       "      <td>1.566403</td>\n",
       "      <td>0.497561</td>\n",
       "      <td>1.00</td>\n",
       "      <td>1.0</td>\n",
       "      <td>2.00</td>\n",
       "      <td>2.00</td>\n",
       "      <td>3.00</td>\n",
       "    </tr>\n",
       "    <tr>\n",
       "      <th>hypertension</th>\n",
       "      <td>1137.0</td>\n",
       "      <td>0.118734</td>\n",
       "      <td>0.323617</td>\n",
       "      <td>0.00</td>\n",
       "      <td>0.0</td>\n",
       "      <td>0.00</td>\n",
       "      <td>0.00</td>\n",
       "      <td>1.00</td>\n",
       "    </tr>\n",
       "    <tr>\n",
       "      <th>heart_disease</th>\n",
       "      <td>1137.0</td>\n",
       "      <td>0.068602</td>\n",
       "      <td>0.252887</td>\n",
       "      <td>0.00</td>\n",
       "      <td>0.0</td>\n",
       "      <td>0.00</td>\n",
       "      <td>0.00</td>\n",
       "      <td>1.00</td>\n",
       "    </tr>\n",
       "    <tr>\n",
       "      <th>ever_married</th>\n",
       "      <td>1137.0</td>\n",
       "      <td>1.323659</td>\n",
       "      <td>0.468077</td>\n",
       "      <td>1.00</td>\n",
       "      <td>1.0</td>\n",
       "      <td>1.00</td>\n",
       "      <td>2.00</td>\n",
       "      <td>2.00</td>\n",
       "    </tr>\n",
       "    <tr>\n",
       "      <th>work_type</th>\n",
       "      <td>1137.0</td>\n",
       "      <td>2.278804</td>\n",
       "      <td>0.848891</td>\n",
       "      <td>1.00</td>\n",
       "      <td>2.0</td>\n",
       "      <td>2.00</td>\n",
       "      <td>3.00</td>\n",
       "      <td>5.00</td>\n",
       "    </tr>\n",
       "    <tr>\n",
       "      <th>Residence_type</th>\n",
       "      <td>1137.0</td>\n",
       "      <td>1.516271</td>\n",
       "      <td>0.499955</td>\n",
       "      <td>1.00</td>\n",
       "      <td>1.0</td>\n",
       "      <td>2.00</td>\n",
       "      <td>2.00</td>\n",
       "      <td>2.00</td>\n",
       "    </tr>\n",
       "    <tr>\n",
       "      <th>avg_glucose_level</th>\n",
       "      <td>1137.0</td>\n",
       "      <td>107.664002</td>\n",
       "      <td>47.618723</td>\n",
       "      <td>55.27</td>\n",
       "      <td>77.6</td>\n",
       "      <td>91.82</td>\n",
       "      <td>113.85</td>\n",
       "      <td>266.59</td>\n",
       "    </tr>\n",
       "    <tr>\n",
       "      <th>bmi</th>\n",
       "      <td>1085.0</td>\n",
       "      <td>29.198065</td>\n",
       "      <td>7.669615</td>\n",
       "      <td>11.30</td>\n",
       "      <td>24.1</td>\n",
       "      <td>28.50</td>\n",
       "      <td>33.20</td>\n",
       "      <td>64.40</td>\n",
       "    </tr>\n",
       "    <tr>\n",
       "      <th>smoking_status</th>\n",
       "      <td>1137.0</td>\n",
       "      <td>2.767810</td>\n",
       "      <td>1.095245</td>\n",
       "      <td>1.00</td>\n",
       "      <td>2.0</td>\n",
       "      <td>3.00</td>\n",
       "      <td>4.00</td>\n",
       "      <td>4.00</td>\n",
       "    </tr>\n",
       "    <tr>\n",
       "      <th>stroke</th>\n",
       "      <td>1137.0</td>\n",
       "      <td>0.120493</td>\n",
       "      <td>0.325680</td>\n",
       "      <td>0.00</td>\n",
       "      <td>0.0</td>\n",
       "      <td>0.00</td>\n",
       "      <td>0.00</td>\n",
       "      <td>1.00</td>\n",
       "    </tr>\n",
       "  </tbody>\n",
       "</table>\n",
       "</div>"
      ],
      "text/plain": [
       "                    count        mean        std    min   25%    50%     75%  \\\n",
       "gender             1137.0    1.566403   0.497561   1.00   1.0   2.00    2.00   \n",
       "hypertension       1137.0    0.118734   0.323617   0.00   0.0   0.00    0.00   \n",
       "heart_disease      1137.0    0.068602   0.252887   0.00   0.0   0.00    0.00   \n",
       "ever_married       1137.0    1.323659   0.468077   1.00   1.0   1.00    2.00   \n",
       "work_type          1137.0    2.278804   0.848891   1.00   2.0   2.00    3.00   \n",
       "Residence_type     1137.0    1.516271   0.499955   1.00   1.0   2.00    2.00   \n",
       "avg_glucose_level  1137.0  107.664002  47.618723  55.27  77.6  91.82  113.85   \n",
       "bmi                1085.0   29.198065   7.669615  11.30  24.1  28.50   33.20   \n",
       "smoking_status     1137.0    2.767810   1.095245   1.00   2.0   3.00    4.00   \n",
       "stroke             1137.0    0.120493   0.325680   0.00   0.0   0.00    0.00   \n",
       "\n",
       "                      max  \n",
       "gender               3.00  \n",
       "hypertension         1.00  \n",
       "heart_disease        1.00  \n",
       "ever_married         2.00  \n",
       "work_type            5.00  \n",
       "Residence_type       2.00  \n",
       "avg_glucose_level  266.59  \n",
       "bmi                 64.40  \n",
       "smoking_status       4.00  \n",
       "stroke               1.00  "
      ]
     },
     "execution_count": 3,
     "metadata": {},
     "output_type": "execute_result"
    }
   ],
   "source": [
    "df.describe().T"
   ]
  },
  {
   "cell_type": "code",
   "execution_count": 4,
   "id": "4653ff62",
   "metadata": {},
   "outputs": [
    {
     "name": "stdout",
     "output_type": "stream",
     "text": [
      "<class 'pandas.core.frame.DataFrame'>\n",
      "RangeIndex: 1137 entries, 0 to 1136\n",
      "Data columns (total 11 columns):\n",
      " #   Column             Non-Null Count  Dtype  \n",
      "---  ------             --------------  -----  \n",
      " 0   gender             1137 non-null   int64  \n",
      " 1   age                1137 non-null   object \n",
      " 2   hypertension       1137 non-null   int64  \n",
      " 3   heart_disease      1137 non-null   int64  \n",
      " 4   ever_married       1137 non-null   int64  \n",
      " 5   work_type          1137 non-null   int64  \n",
      " 6   Residence_type     1137 non-null   int64  \n",
      " 7   avg_glucose_level  1137 non-null   float64\n",
      " 8   bmi                1085 non-null   float64\n",
      " 9   smoking_status     1137 non-null   int64  \n",
      " 10  stroke             1137 non-null   int64  \n",
      "dtypes: float64(2), int64(8), object(1)\n",
      "memory usage: 97.8+ KB\n"
     ]
    }
   ],
   "source": [
    "df.info()"
   ]
  },
  {
   "cell_type": "code",
   "execution_count": 5,
   "id": "c070a9ad",
   "metadata": {},
   "outputs": [
    {
     "data": {
      "text/plain": [
       "gender                0\n",
       "age                   0\n",
       "hypertension          0\n",
       "heart_disease         0\n",
       "ever_married          0\n",
       "work_type             0\n",
       "Residence_type        0\n",
       "avg_glucose_level     0\n",
       "bmi                  52\n",
       "smoking_status        0\n",
       "stroke                0\n",
       "dtype: int64"
      ]
     },
     "execution_count": 5,
     "metadata": {},
     "output_type": "execute_result"
    }
   ],
   "source": [
    "df.isnull().sum()"
   ]
  },
  {
   "cell_type": "markdown",
   "id": "286c2496",
   "metadata": {},
   "source": [
    "**Data Quality Assessment**\n",
    "- It seems that our dataset contains numerical feature but `age` is in incorrect data type.\n",
    "- Missing values in bmi dataset."
   ]
  },
  {
   "cell_type": "markdown",
   "id": "15e08adc",
   "metadata": {},
   "source": [
    "## Data Cleaning"
   ]
  },
  {
   "cell_type": "markdown",
   "id": "6424c754",
   "metadata": {},
   "source": [
    "**Missing Values**"
   ]
  },
  {
   "cell_type": "markdown",
   "id": "de7a7a66",
   "metadata": {},
   "source": [
    "Impute missing values in `bmi` column."
   ]
  },
  {
   "cell_type": "code",
   "execution_count": 6,
   "id": "17f4fb9a",
   "metadata": {},
   "outputs": [
    {
     "data": {
      "text/plain": [
       "<Axes: xlabel='bmi', ylabel='Count'>"
      ]
     },
     "execution_count": 6,
     "metadata": {},
     "output_type": "execute_result"
    },
    {
     "data": {
      "image/png": "[encoded data removed]",
      "text/plain": [
       "<Figure size 640x480 with 1 Axes>"
      ]
     },
     "metadata": {},
     "output_type": "display_data"
    }
   ],
   "source": [
    "sns.histplot(df['bmi'], kde=True)"
   ]
  },
  {
   "cell_type": "markdown",
   "id": "e75b44d1",
   "metadata": {},
   "source": [
    "The distribution of the `bmi` data is nearly symmetrical, so we can impute the missing values using the mean of `bmi`."
   ]
  },
  {
   "cell_type": "code",
   "execution_count": 7,
   "id": "b4be2047",
   "metadata": {},
   "outputs": [
    {
     "data": {
      "text/plain": [
       "array([27.2, 18.6, 33. , 46. , 16.2, 30.3, 31.4, 31.7, 20.3, 27.4, 34.5,\n",
       "       32.8, 17.2, 32.3, 26.1, 32.2, 29.4, 26.8, 21.7, 18.3, 22.9, 20.8,\n",
       "       27. , 25.6, 24.8, 27.6, 44.6, 43.2, 33.2, 30.7, 37.6, 35.5, 25.2,\n",
       "       31.1, 36. , 21.4, 24.2, 26.3, 29. , 28.4, 37.8, 30.2, 40.1, 45.9,\n",
       "       33.4, 31.2, 29.1, 27.3, 24.6, 23.6, 20.2, 34.8, 28.7,  nan, 24.1,\n",
       "       17.4, 32.1, 20.4, 36.9, 30.4, 25. , 31.6, 57.9, 24.3, 18.4, 20.7,\n",
       "       18.2, 35.4, 30.5, 34.4, 29.9, 39.7, 58.1, 32.4, 33.9, 29.2, 29.6,\n",
       "       26.5, 43.4, 16.4, 32.9, 38.7, 21.6, 25.1, 27.9, 34.1, 23.4, 20.5,\n",
       "       35.6, 33.3, 28.1, 24. , 16.5, 29.7, 31.3, 31.9, 22.2, 33.1, 24.5,\n",
       "       30.6, 32.5, 29.8, 36.8, 19.2, 27.1, 31.5, 48.4, 32.7, 22. , 27.5,\n",
       "       30.9, 23. , 16.8, 26.2, 43.9, 27.7, 52.5, 35.7, 13.5, 23.7, 44.3,\n",
       "       23.9, 42.4, 39.3, 11.5, 25.8, 15. , 18. , 28. , 21.1, 11.3, 36.7,\n",
       "       28.6, 18.8, 25.4, 28.8, 40.4, 36.3, 34.2, 35.9, 19.5, 26.6, 20.9,\n",
       "       45.1, 41.3, 35.8, 49.5, 13.4, 23.5, 41.5, 43.3, 21.5, 53.5, 45.5,\n",
       "       15.1, 28.5, 21.9, 22.4, 26.4, 25.5, 42.2, 40.5, 39. , 29.3, 14.3,\n",
       "       31. , 35.1, 48. , 34.7, 39.6, 26.7, 28.9, 28.3, 30.8, 57.2, 44.2,\n",
       "       28.2, 44.1, 44.7, 19. , 36.6, 19.7, 25.9, 25.7, 17.3, 48.3, 44. ,\n",
       "       18.5, 53.4, 16.7, 46.6, 16.1, 22.7, 18.7, 14.4, 34. , 19.3, 48.9,\n",
       "       19.4, 21.8, 31.8, 32. , 33.8, 24.7, 38. , 19.1, 37.3, 52.3, 18.1,\n",
       "       19.8, 17.6, 26. , 33.7, 48.1, 34.3, 17.9, 35. , 35.2, 40.8, 22.8,\n",
       "       22.3, 40.9, 45.4, 30.1, 37.9, 22.1, 17.1, 43.6, 40. , 29.5, 24.9,\n",
       "       43.8, 43. , 33.5, 34.6, 32.6, 43.7, 20. , 37.1, 39.5, 25.3, 55. ,\n",
       "       23.1, 39.1, 33.6, 46.1, 39.8, 44.5, 23.2, 40.3, 54.6, 51.9, 15.5,\n",
       "       56.1, 26.9, 14.6, 23.8, 41.1, 17. , 36.2, 24.4, 35.3, 27.8, 38.3,\n",
       "       30. , 37.2, 42.7, 21.3, 37.5, 46.3, 46.2, 42.3, 41.2, 41.8, 21.2,\n",
       "       38.1, 17.5, 34.9, 38.4, 18.9, 16. , 40.7, 16.6, 41. , 48.2, 21. ,\n",
       "       41.7, 38.6, 17.7, 23.3, 22.6, 39.2, 15.3, 38.2, 45. , 16.3, 45.3,\n",
       "       19.6, 36.5, 42.5, 64.4, 14.8, 41.4, 37.7, 54.8, 20.6, 36.4, 41.9,\n",
       "       49.4])"
      ]
     },
     "execution_count": 7,
     "metadata": {},
     "output_type": "execute_result"
    }
   ],
   "source": [
    "df['bmi'].unique()"
   ]
  },
  {
   "cell_type": "code",
   "execution_count": 8,
   "id": "13b1a1d0",
   "metadata": {},
   "outputs": [],
   "source": [
    "df['bmi'] = df['bmi'].fillna(np.mean(df['bmi']))"
   ]
  },
  {
   "cell_type": "markdown",
   "id": "4ce5d99a",
   "metadata": {},
   "source": [
    "**Inconsistencies in `age` column**"
   ]
  },
  {
   "cell_type": "code",
   "execution_count": 9,
   "id": "0a9de003",
   "metadata": {},
   "outputs": [
    {
     "data": {
      "text/plain": [
       "array(['31', '13', '18', '65', '4', '28', '64', '62', '26', '63', '50',\n",
       "       '77', '1', '52', '24', '48', '45', '74', '3', '17', '54', '55',\n",
       "       '67', '35', '38', '81', '34', '44', '79', '56', '70', '30', '39',\n",
       "       '29', '80', '59', '51', '19', '43', '71', '0', '23', '53', '78',\n",
       "       '66', '60', '76', '22', '6', '47', '2', '46', '11', '33', '37',\n",
       "       '49', '61', '75', '40', '8', '57', '12', '21', '41', '58', '27',\n",
       "       '20', '68', '42', '5', '69', '9', '36', '25', '82', '73', '32',\n",
       "       '7', '16', '14', '72', '15', '10', '*82'], dtype=object)"
      ]
     },
     "execution_count": 9,
     "metadata": {},
     "output_type": "execute_result"
    }
   ],
   "source": [
    "df['age'].unique()"
   ]
  },
  {
   "cell_type": "markdown",
   "id": "8f2988f3",
   "metadata": {},
   "source": [
    "The age value ‘\\*82’ in our data is not in line with the usual numerical format for age. It’s likely that the correct age is 82, not ‘\\*82’. Therefore, we can rectify this by replacing ‘\\*82’ with 82."
   ]
  },
  {
   "cell_type": "code",
   "execution_count": 10,
   "id": "d2ef5d6f",
   "metadata": {},
   "outputs": [],
   "source": [
    "df['age'] = df['age'].replace('*82', 82)"
   ]
  },
  {
   "cell_type": "markdown",
   "id": "06bc354a",
   "metadata": {},
   "source": [
    "**Incorrect Data Type**"
   ]
  },
  {
   "cell_type": "markdown",
   "id": "f545a95f",
   "metadata": {},
   "source": [
    "Change the data type of `age` column."
   ]
  },
  {
   "cell_type": "code",
   "execution_count": 11,
   "id": "e7797720",
   "metadata": {},
   "outputs": [],
   "source": [
    "df['age'] = df['age'].astype('int64')"
   ]
  },
  {
   "cell_type": "code",
   "execution_count": 12,
   "id": "df7ddb1d",
   "metadata": {},
   "outputs": [
    {
     "name": "stdout",
     "output_type": "stream",
     "text": [
      "<class 'pandas.core.frame.DataFrame'>\n",
      "RangeIndex: 1137 entries, 0 to 1136\n",
      "Data columns (total 11 columns):\n",
      " #   Column             Non-Null Count  Dtype  \n",
      "---  ------             --------------  -----  \n",
      " 0   gender             1137 non-null   int64  \n",
      " 1   age                1137 non-null   int64  \n",
      " 2   hypertension       1137 non-null   int64  \n",
      " 3   heart_disease      1137 non-null   int64  \n",
      " 4   ever_married       1137 non-null   int64  \n",
      " 5   work_type          1137 non-null   int64  \n",
      " 6   Residence_type     1137 non-null   int64  \n",
      " 7   avg_glucose_level  1137 non-null   float64\n",
      " 8   bmi                1137 non-null   float64\n",
      " 9   smoking_status     1137 non-null   int64  \n",
      " 10  stroke             1137 non-null   int64  \n",
      "dtypes: float64(2), int64(9)\n",
      "memory usage: 97.8 KB\n"
     ]
    }
   ],
   "source": [
    "df.info()"
   ]
  },
  {
   "cell_type": "markdown",
   "id": "2d748ee2",
   "metadata": {},
   "source": [
    "**Check Duplicates**"
   ]
  },
  {
   "cell_type": "markdown",
   "id": "9f6ab846",
   "metadata": {},
   "source": [
    "Let's identify duplicates in our dataset."
   ]
  },
  {
   "cell_type": "code",
   "execution_count": 13,
   "id": "f897c99f",
   "metadata": {},
   "outputs": [
    {
     "data": {
      "text/plain": [
       "0"
      ]
     },
     "execution_count": 13,
     "metadata": {},
     "output_type": "execute_result"
    }
   ],
   "source": [
    "df.duplicated().sum()"
   ]
  },
  {
   "cell_type": "markdown",
   "id": "71fd2a68",
   "metadata": {},
   "source": [
    "No duplicates in our dataset."
   ]
  },
  {
   "cell_type": "markdown",
   "id": "31496e18",
   "metadata": {},
   "source": [
    "Our dataset is now clean."
   ]
  },
  {
   "cell_type": "markdown",
   "id": "8bd534f9",
   "metadata": {},
   "source": [
    "2. The target variable is stroke, perform model evaluation by comparing 4 different algorithms. Determine the model accuracy. Plot confusion matrix for all four algorithms. Compare the model accuracy and determine which algorithm is the best fit to predict the diagnosis of stroke. "
   ]
  },
  {
   "cell_type": "markdown",
   "id": "101fda47",
   "metadata": {},
   "source": [
    "# 4. Model Development"
   ]
  },
  {
   "cell_type": "code",
   "execution_count": 14,
   "id": "09c7d876",
   "metadata": {},
   "outputs": [],
   "source": [
    "from sklearn.model_selection import train_test_split #split training and testing data\n",
    "\n",
    "from sklearn.linear_model import LogisticRegression\n",
    "from sklearn.tree import DecisionTreeClassifier\n",
    "from sklearn.ensemble import RandomForestClassifier\n",
    "from sklearn.neighbors import KNeighborsClassifier\n",
    "\n",
    "from sklearn.metrics import mean_squared_error #model evaluation"
   ]
  },
  {
   "cell_type": "code",
   "execution_count": 15,
   "id": "3e9a1eb2",
   "metadata": {},
   "outputs": [],
   "source": [
    "accuracies = {}"
   ]
  },
  {
   "cell_type": "markdown",
   "id": "bab6aa65",
   "metadata": {},
   "source": [
    "**Baseline Models**"
   ]
  },
  {
   "cell_type": "code",
   "execution_count": 16,
   "id": "e649e962",
   "metadata": {},
   "outputs": [
    {
     "name": "stdout",
     "output_type": "stream",
     "text": [
      "number of test samples : 228\n",
      "number of training samples: 909\n"
     ]
    }
   ],
   "source": [
    "X = df.drop('stroke', axis=1)\n",
    "Y = df['stroke']\n",
    "\n",
    "X_train, X_test, y_train, y_test = train_test_split(X, Y, test_size=0.2, random_state=0)\n",
    "\n",
    "print(\"number of test samples :\", X_test.shape[0])\n",
    "print(\"number of training samples:\",X_train.shape[0])"
   ]
  },
  {
   "cell_type": "markdown",
   "id": "d4fa443c",
   "metadata": {},
   "source": [
    "## Logistic Regression"
   ]
  },
  {
   "cell_type": "code",
   "execution_count": 17,
   "id": "c4fa7a49",
   "metadata": {},
   "outputs": [
    {
     "name": "stdout",
     "output_type": "stream",
     "text": [
      "Test Accuracy 89.47%\n"
     ]
    },
    {
     "name": "stderr",
     "output_type": "stream",
     "text": [
      "D:\\ProgramData\\anaconda3\\Lib\\site-packages\\sklearn\\linear_model\\_logistic.py:460: ConvergenceWarning: lbfgs failed to converge (status=1):\n",
      "STOP: TOTAL NO. of ITERATIONS REACHED LIMIT.\n",
      "\n",
      "Increase the number of iterations (max_iter) or scale the data as shown in:\n",
      "    https://scikit-learn.org/stable/modules/preprocessing.html\n",
      "Please also refer to the documentation for alternative solver options:\n",
      "    https://scikit-learn.org/stable/modules/linear_model.html#logistic-regression\n",
      "  n_iter_i = _check_optimize_result(\n"
     ]
    }
   ],
   "source": [
    "LR = LogisticRegression()\n",
    "LR.fit(X_train, y_train)\n",
    "\n",
    "acc = LR.score(X_test,y_test)*100\n",
    "\n",
    "accuracies['Logistic Regression'] = acc\n",
    "print(\"Test Accuracy {:.2f}%\".format(acc))"
   ]
  },
  {
   "cell_type": "code",
   "execution_count": 18,
   "id": "6100c7d8",
   "metadata": {},
   "outputs": [
    {
     "data": {
      "text/plain": [
       "{'Logistic Regression': 89.47368421052632}"
      ]
     },
     "execution_count": 18,
     "metadata": {},
     "output_type": "execute_result"
    }
   ],
   "source": [
    "accuracies"
   ]
  },
  {
   "cell_type": "markdown",
   "id": "f984902d",
   "metadata": {},
   "source": [
    "## Decision Tree"
   ]
  },
  {
   "cell_type": "code",
   "execution_count": 19,
   "id": "840a222b",
   "metadata": {},
   "outputs": [
    {
     "name": "stdout",
     "output_type": "stream",
     "text": [
      "Test Accuracy 79.82%\n"
     ]
    },
    {
     "data": {
      "text/plain": [
       "{'Logistic Regression': 89.47368421052632,\n",
       " 'Decision Tree Classifier': 79.82456140350878}"
      ]
     },
     "execution_count": 19,
     "metadata": {},
     "output_type": "execute_result"
    }
   ],
   "source": [
    "DTC = DecisionTreeClassifier()\n",
    "DTC.fit(X_train, y_train)\n",
    "\n",
    "acc = DTC.score(X_test,y_test)*100\n",
    "\n",
    "accuracies['Decision Tree Classifier'] = acc\n",
    "print(\"Test Accuracy {:.2f}%\".format(acc))\n",
    "accuracies"
   ]
  },
  {
   "cell_type": "markdown",
   "id": "e3903418",
   "metadata": {},
   "source": [
    "## Random Forest Classifier"
   ]
  },
  {
   "cell_type": "code",
   "execution_count": 20,
   "id": "d7444990",
   "metadata": {},
   "outputs": [
    {
     "name": "stdout",
     "output_type": "stream",
     "text": [
      "Test Accuracy 86.84%\n"
     ]
    },
    {
     "data": {
      "text/plain": [
       "{'Logistic Regression': 89.47368421052632,\n",
       " 'Decision Tree Classifier': 79.82456140350878,\n",
       " 'Random Forest Classifier': 86.8421052631579}"
      ]
     },
     "execution_count": 20,
     "metadata": {},
     "output_type": "execute_result"
    }
   ],
   "source": [
    "RF = RandomForestClassifier()\n",
    "RF.fit(X_train, y_train)\n",
    "\n",
    "acc = RF.score(X_test,y_test)*100\n",
    "\n",
    "accuracies['Random Forest Classifier'] = acc\n",
    "print(\"Test Accuracy {:.2f}%\".format(acc))\n",
    "accuracies"
   ]
  },
  {
   "cell_type": "markdown",
   "id": "5e998920",
   "metadata": {},
   "source": [
    "## K Nearest Neighbor"
   ]
  },
  {
   "cell_type": "code",
   "execution_count": 21,
   "id": "f830f3b5",
   "metadata": {},
   "outputs": [
    {
     "name": "stdout",
     "output_type": "stream",
     "text": [
      "Test Accuracy 82.89%\n"
     ]
    },
    {
     "data": {
      "text/plain": [
       "{'Logistic Regression': 89.47368421052632,\n",
       " 'Decision Tree Classifier': 79.82456140350878,\n",
       " 'Random Forest Classifier': 86.8421052631579,\n",
       " 'K-Nearest Neighbors': 82.89473684210526}"
      ]
     },
     "execution_count": 21,
     "metadata": {},
     "output_type": "execute_result"
    }
   ],
   "source": [
    "KNN = KNeighborsClassifier()\n",
    "KNN.fit(X_train, y_train)\n",
    "\n",
    "acc = KNN.score(X_test,y_test)*100\n",
    "\n",
    "accuracies['K-Nearest Neighbors'] = acc\n",
    "print(\"Test Accuracy {:.2f}%\".format(acc))\n",
    "accuracies"
   ]
  },
  {
   "cell_type": "markdown",
   "id": "80b4bb03",
   "metadata": {},
   "source": [
    "# Model Evaluation"
   ]
  },
  {
   "cell_type": "code",
   "execution_count": 22,
   "id": "166f3bee",
   "metadata": {},
   "outputs": [
    {
     "name": "stdout",
     "output_type": "stream",
     "text": [
      "<BarContainer object of 4 artists>\n"
     ]
    },
    {
     "data": {
      "image/png": "[encoded data removed]",
      "text/plain": [
       "<Figure size 1000x500 with 1 Axes>"
      ]
     },
     "metadata": {},
     "output_type": "display_data"
    }
   ],
   "source": [
    "colors = [\"purple\", \"green\", \"orange\", \"blue\"]\n",
    "\n",
    "sns.set_style(\"whitegrid\")\n",
    "plt.figure(figsize=(10,5))\n",
    "plt.yticks(np.arange(0,100,10))\n",
    "plt.ylabel(\"Accuracy %\")\n",
    "plt.xlabel(\"Algorithms\")\n",
    "ax = sns.barplot(x=list(accuracies.keys()), y=list(accuracies.values()), palette=colors)\n",
    "\n",
    "for i in ax.containers: #function1\n",
    "    print(i)\n",
    "    ax.bar_label(i, ) #function2\n",
    "\n",
    "plt.show()"
   ]
  },
  {
   "cell_type": "code",
   "execution_count": 31,
   "id": "572b5874",
   "metadata": {},
   "outputs": [
    {
     "name": "stdout",
     "output_type": "stream",
     "text": [
      "\n",
      "Model: LogisticRegression()\n",
      "Test Accuracy 89.47%\n",
      "[[198   2]\n",
      " [ 22   6]]\n",
      "\n",
      "Model: DecisionTreeClassifier()\n",
      "Test Accuracy 79.82%\n",
      "[[174  26]\n",
      " [ 20   8]]\n",
      "\n",
      "Model: RandomForestClassifier()\n",
      "Test Accuracy 86.84%\n",
      "[[194   6]\n",
      " [ 24   4]]\n",
      "\n",
      "Model: KNeighborsClassifier()\n",
      "Test Accuracy 82.89%\n",
      "[[186  14]\n",
      " [ 25   3]]\n"
     ]
    }
   ],
   "source": [
    "model = [LR, DTC, RF, KNN]\n",
    "for j in model:\n",
    "    prediction = j.predict(X_test)\n",
    "    from sklearn.metrics import confusion_matrix\n",
    "    cm = confusion_matrix(y_test,prediction)\n",
    "    print(\"\")\n",
    "    print(\"Model:\",j)\n",
    "    acc = j.score(X_test,y_test)*100\n",
    "    accuracies['K-Nearest Neighbors'] = acc\n",
    "    print(\"Test Accuracy {:.2f}%\".format(acc))\n",
    "    print(cm)"
   ]
  },
  {
   "cell_type": "code",
   "execution_count": 42,
   "id": "71e6739a",
   "metadata": {},
   "outputs": [],
   "source": [
    "models = [LR, DTC, RF, KNN]\n",
    "model_names = ['LogisticRegression', 'DecisionTreeClassifier', 'RandomForestClassifier', 'KNeighborsClassifier']\n",
    "confusion_matrices = {}\n",
    "\n",
    "for model, model_name in zip(models, model_names):\n",
    "    prediction = model.predict(X_test)\n",
    "    cm = confusion_matrix(y_test, prediction)\n",
    "    \n",
    "    confusion_matrices[f'cm_{model_name.lower()}'] = cm\n",
    "    \n",
    "    if model_name == 'LogisticRegression':\n",
    "        cm_lr = cm\n",
    "    elif model_name == 'DecisionTreeClassifier':\n",
    "        cm_dtc = cm\n",
    "    elif model_name == 'RandomForestClassifier':\n",
    "        cm_rf = cm\n",
    "    elif model_name == 'KNeighborsClassifier':\n",
    "        cm_knn = cm"
   ]
  },
  {
   "cell_type": "code",
   "execution_count": 43,
   "id": "b69e9d7f",
   "metadata": {},
   "outputs": [
    {
     "data": {
      "image/png": "[encoded data removed]",
      "text/plain": [
       "<Figure size 1200x1200 with 4 Axes>"
      ]
     },
     "metadata": {},
     "output_type": "display_data"
    }
   ],
   "source": [
    "plt.figure(figsize=(12,12))\n",
    "\n",
    "plt.suptitle(\"Confusion Matrixes\",fontsize=24)\n",
    "plt.subplots_adjust(wspace = 0.4, hspace= 0.4)\n",
    "\n",
    "# Plot Logistic Regression Confusion Matrix\n",
    "plt.subplot(2, 2, 1)\n",
    "plt.title(\"Logistic Regression Confusion Matrix\")\n",
    "sns.heatmap(cm_lr, annot=True, cmap=\"Blues\", fmt=\"d\", cbar=False, annot_kws={\"size\": 24})\n",
    "\n",
    "# Plot GBC Confusion Matrix\n",
    "plt.subplot(2, 2, 2)\n",
    "plt.title(\"Decison Tree Classifier Confusion Matrix\")\n",
    "sns.heatmap(cm_dtc, annot=True, cmap=\"Blues\", fmt=\"d\", cbar=False, annot_kws={\"size\": 24})\n",
    "\n",
    "# Plot RF Confusion Matrix\n",
    "plt.subplot(2, 2, 3)\n",
    "plt.title(\"Random Forest Confusion Matrix\")\n",
    "sns.heatmap(cm_rf, annot=True, cmap=\"Blues\", fmt=\"d\", cbar=False, annot_kws={\"size\": 24})\n",
    "\n",
    "# Plot RF2 Confusion Matrix\n",
    "plt.subplot(2, 2, 4)\n",
    "plt.title(\"KNN Confusion Matrix\")\n",
    "sns.heatmap(cm_knn, annot=True, cmap=\"Blues\", fmt=\"d\", cbar=False, annot_kws={\"size\": 24})\n",
    "\n",
    "plt.show()"
   ]
  },
  {
   "cell_type": "markdown",
   "id": "22e2743a",
   "metadata": {},
   "source": [
    "Based on the model evaluation, logistic regression model is the best model to predict the diagnosis of stroke with accuracy of 89.47%."
   ]
  }
 ],
 "metadata": {
  "kernelspec": {
   "display_name": "Python 3 (ipykernel)",
   "language": "python",
   "name": "python3"
  },
  "language_info": {
   "codemirror_mode": {
    "name": "ipython",
    "version": 3
   },
   "file_extension": ".py",
   "mimetype": "text/x-python",
   "name": "python",
   "nbconvert_exporter": "python",
   "pygments_lexer": "ipython3",
   "version": "3.11.4"
  }
 },
 "nbformat": 4,
 "nbformat_minor": 5
}
