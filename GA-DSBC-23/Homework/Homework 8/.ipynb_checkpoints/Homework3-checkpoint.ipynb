{
 "cells": [
  {
   "cell_type": "markdown",
   "id": "e7666cf1",
   "metadata": {},
   "source": [
    "# Supervised Learning Model Evaluation for stroke diagnosis"
   ]
  },
  {
   "cell_type": "markdown",
   "id": "9b63e777",
   "metadata": {},
   "source": [
    "Stroke diagnosis involves a comprehensive assessment to determine the presence, type, and severity of a stroke, a serious medical condition characterized by disrupted blood flow to the brain along with demographic details of the patients. \n",
    "\n",
    "DATA DESCRIPTION FOR CATEGORICAL VARIABLE:\n",
    "\n",
    "1. gender:\n",
    "Male = 1\n",
    "Female = 2\n",
    "Other = 3\n",
    "\n",
    "2. ever_married:\n",
    "Yes = 1\n",
    "No = 2\n",
    "\n",
    "3. work_type:\n",
    "Children = 1\n",
    "Private = 2\n",
    "Self-employed = 3\n",
    "Govt_job = 4\n",
    "Never_worked = 5\n",
    "\n",
    "4. Residence_type:\n",
    "Rural = 1\n",
    "Urban = 2\n",
    "\n",
    "5. Smoking status:\n",
    "smokes = 1\n",
    "unknown = 2\n",
    "formerly smoked = 3\n",
    "never smoked = 4\n"
   ]
  },
  {
   "cell_type": "markdown",
   "id": "e15ec183",
   "metadata": {},
   "source": [
    "1. Import the stroke.csv dataset, get info, print header and examine the data"
   ]
  },
  {
   "cell_type": "code",
   "execution_count": null,
   "id": "c9d95d67",
   "metadata": {},
   "outputs": [],
   "source": []
  },
  {
   "cell_type": "markdown",
   "id": "8bd534f9",
   "metadata": {},
   "source": [
    "2. The target variable is stroke, perform model evaluation by comparing 4 different algorithms. Determine the model accuracy. Plot confusion matrix for all four algorithms. Compare the model accuracy and determine which algorithm is the best fit to predict the diagnosis of stroke. "
   ]
  },
  {
   "cell_type": "code",
   "execution_count": null,
   "id": "e649e962",
   "metadata": {},
   "outputs": [],
   "source": []
  }
 ],
 "metadata": {
  "kernelspec": {
   "display_name": "Python 3 (ipykernel)",
   "language": "python",
   "name": "python3"
  },
  "language_info": {
   "codemirror_mode": {
    "name": "ipython",
    "version": 3
   },
   "file_extension": ".py",
   "mimetype": "text/x-python",
   "name": "python",
   "nbconvert_exporter": "python",
   "pygments_lexer": "ipython3",
   "version": "3.11.4"
  }
 },
 "nbformat": 4,
 "nbformat_minor": 5
}
