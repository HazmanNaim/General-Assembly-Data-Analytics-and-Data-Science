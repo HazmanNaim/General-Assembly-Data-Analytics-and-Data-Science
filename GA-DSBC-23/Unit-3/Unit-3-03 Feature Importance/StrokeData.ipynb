{
  "cells": [
    {
      "cell_type": "markdown",
      "id": "69149cb7",
      "metadata": {
        "id": "69149cb7"
      },
      "source": [
        "**NAME:** Hazman Naim Bin Ahsan\n",
        "\n",
        "**CLASS:** GA-DSBC-23-003"
      ]
    },
    {
      "cell_type": "markdown",
      "id": "52b2e3c0",
      "metadata": {
        "id": "52b2e3c0"
      },
      "source": [
        "# 1. Prerequisite, Importing Libraries and Packages"
      ]
    },
    {
      "cell_type": "code",
      "execution_count": 34,
      "id": "ca1fadd7",
      "metadata": {
        "id": "ca1fadd7"
      },
      "outputs": [],
      "source": [
        "import numpy as np\n",
        "import pandas as pd\n",
        "import matplotlib.pyplot as plt\n",
        "import seaborn as sns\n",
        "from sklearn.model_selection import train_test_split #split training and testing data\n",
        "\n",
        "from sklearn.linear_model import LogisticRegression\n",
        "from sklearn.tree import DecisionTreeClassifier\n",
        "from sklearn.ensemble import RandomForestClassifier\n",
        "from sklearn.neighbors import KNeighborsClassifier\n",
        "\n",
        "from sklearn.metrics import mean_squared_error #model evaluation"
      ]
    },
    {
      "cell_type": "markdown",
      "id": "a872163d",
      "metadata": {
        "id": "a872163d"
      },
      "source": [
        "# 2. Data Preparation"
      ]
    },
    {
      "cell_type": "code",
      "execution_count": 35,
      "id": "19b5bf14",
      "metadata": {
        "colab": {
          "base_uri": "https://localhost:8080/",
          "height": 226
        },
        "id": "19b5bf14",
        "outputId": "25bc4a29-db90-4a2b-a94f-9c5094fb853f"
      },
      "outputs": [
        {
          "output_type": "execute_result",
          "data": {
            "text/plain": [
              "   gender  age  hypertension  heart_disease  ever_married  work_type  \\\n",
              "0       2   31             0              0             2          4   \n",
              "1       2   13             0              0             2          1   \n",
              "2       1   18             0              0             2          2   \n",
              "3       2   65             0              0             1          2   \n",
              "4       1    4             0              0             2          1   \n",
              "\n",
              "   Residence_type  avg_glucose_level   bmi  smoking_status  stroke  \n",
              "0               1              70.66  27.2               4       0  \n",
              "1               1              85.81  18.6               2       0  \n",
              "2               2              60.56  33.0               4       0  \n",
              "3               2             205.77  46.0               3       1  \n",
              "4               1              90.42  16.2               2       0  "
            ],
            "text/html": [
              "\n",
              "  <div id=\"df-73d607fc-0e6a-4046-b32a-219c729bd8b9\" class=\"colab-df-container\">\n",
              "    <div>\n",
              "<style scoped>\n",
              "    .dataframe tbody tr th:only-of-type {\n",
              "        vertical-align: middle;\n",
              "    }\n",
              "\n",
              "    .dataframe tbody tr th {\n",
              "        vertical-align: top;\n",
              "    }\n",
              "\n",
              "    .dataframe thead th {\n",
              "        text-align: right;\n",
              "    }\n",
              "</style>\n",
              "<table border=\"1\" class=\"dataframe\">\n",
              "  <thead>\n",
              "    <tr style=\"text-align: right;\">\n",
              "      <th></th>\n",
              "      <th>gender</th>\n",
              "      <th>age</th>\n",
              "      <th>hypertension</th>\n",
              "      <th>heart_disease</th>\n",
              "      <th>ever_married</th>\n",
              "      <th>work_type</th>\n",
              "      <th>Residence_type</th>\n",
              "      <th>avg_glucose_level</th>\n",
              "      <th>bmi</th>\n",
              "      <th>smoking_status</th>\n",
              "      <th>stroke</th>\n",
              "    </tr>\n",
              "  </thead>\n",
              "  <tbody>\n",
              "    <tr>\n",
              "      <th>0</th>\n",
              "      <td>2</td>\n",
              "      <td>31</td>\n",
              "      <td>0</td>\n",
              "      <td>0</td>\n",
              "      <td>2</td>\n",
              "      <td>4</td>\n",
              "      <td>1</td>\n",
              "      <td>70.66</td>\n",
              "      <td>27.2</td>\n",
              "      <td>4</td>\n",
              "      <td>0</td>\n",
              "    </tr>\n",
              "    <tr>\n",
              "      <th>1</th>\n",
              "      <td>2</td>\n",
              "      <td>13</td>\n",
              "      <td>0</td>\n",
              "      <td>0</td>\n",
              "      <td>2</td>\n",
              "      <td>1</td>\n",
              "      <td>1</td>\n",
              "      <td>85.81</td>\n",
              "      <td>18.6</td>\n",
              "      <td>2</td>\n",
              "      <td>0</td>\n",
              "    </tr>\n",
              "    <tr>\n",
              "      <th>2</th>\n",
              "      <td>1</td>\n",
              "      <td>18</td>\n",
              "      <td>0</td>\n",
              "      <td>0</td>\n",
              "      <td>2</td>\n",
              "      <td>2</td>\n",
              "      <td>2</td>\n",
              "      <td>60.56</td>\n",
              "      <td>33.0</td>\n",
              "      <td>4</td>\n",
              "      <td>0</td>\n",
              "    </tr>\n",
              "    <tr>\n",
              "      <th>3</th>\n",
              "      <td>2</td>\n",
              "      <td>65</td>\n",
              "      <td>0</td>\n",
              "      <td>0</td>\n",
              "      <td>1</td>\n",
              "      <td>2</td>\n",
              "      <td>2</td>\n",
              "      <td>205.77</td>\n",
              "      <td>46.0</td>\n",
              "      <td>3</td>\n",
              "      <td>1</td>\n",
              "    </tr>\n",
              "    <tr>\n",
              "      <th>4</th>\n",
              "      <td>1</td>\n",
              "      <td>4</td>\n",
              "      <td>0</td>\n",
              "      <td>0</td>\n",
              "      <td>2</td>\n",
              "      <td>1</td>\n",
              "      <td>1</td>\n",
              "      <td>90.42</td>\n",
              "      <td>16.2</td>\n",
              "      <td>2</td>\n",
              "      <td>0</td>\n",
              "    </tr>\n",
              "  </tbody>\n",
              "</table>\n",
              "</div>\n",
              "    <div class=\"colab-df-buttons\">\n",
              "\n",
              "  <div class=\"colab-df-container\">\n",
              "    <button class=\"colab-df-convert\" onclick=\"convertToInteractive('df-73d607fc-0e6a-4046-b32a-219c729bd8b9')\"\n",
              "            title=\"Convert this dataframe to an interactive table.\"\n",
              "            style=\"display:none;\">\n",
              "\n",
              "  <svg xmlns=\"http://www.w3.org/2000/svg\" height=\"24px\" viewBox=\"0 -960 960 960\">\n",
              "    <path d=\"M120-120v-720h720v720H120Zm60-500h600v-160H180v160Zm220 220h160v-160H400v160Zm0 220h160v-160H400v160ZM180-400h160v-160H180v160Zm440 0h160v-160H620v160ZM180-180h160v-160H180v160Zm440 0h160v-160H620v160Z\"/>\n",
              "  </svg>\n",
              "    </button>\n",
              "\n",
              "  <style>\n",
              "    .colab-df-container {\n",
              "      display:flex;\n",
              "      gap: 12px;\n",
              "    }\n",
              "\n",
              "    .colab-df-convert {\n",
              "      background-color: #E8F0FE;\n",
              "      border: none;\n",
              "      border-radius: 50%;\n",
              "      cursor: pointer;\n",
              "      display: none;\n",
              "      fill: #1967D2;\n",
              "      height: 32px;\n",
              "      padding: 0 0 0 0;\n",
              "      width: 32px;\n",
              "    }\n",
              "\n",
              "    .colab-df-convert:hover {\n",
              "      background-color: #E2EBFA;\n",
              "      box-shadow: 0px 1px 2px rgba(60, 64, 67, 0.3), 0px 1px 3px 1px rgba(60, 64, 67, 0.15);\n",
              "      fill: #174EA6;\n",
              "    }\n",
              "\n",
              "    .colab-df-buttons div {\n",
              "      margin-bottom: 4px;\n",
              "    }\n",
              "\n",
              "    [theme=dark] .colab-df-convert {\n",
              "      background-color: #3B4455;\n",
              "      fill: #D2E3FC;\n",
              "    }\n",
              "\n",
              "    [theme=dark] .colab-df-convert:hover {\n",
              "      background-color: #434B5C;\n",
              "      box-shadow: 0px 1px 3px 1px rgba(0, 0, 0, 0.15);\n",
              "      filter: drop-shadow(0px 1px 2px rgba(0, 0, 0, 0.3));\n",
              "      fill: #FFFFFF;\n",
              "    }\n",
              "  </style>\n",
              "\n",
              "    <script>\n",
              "      const buttonEl =\n",
              "        document.querySelector('#df-73d607fc-0e6a-4046-b32a-219c729bd8b9 button.colab-df-convert');\n",
              "      buttonEl.style.display =\n",
              "        google.colab.kernel.accessAllowed ? 'block' : 'none';\n",
              "\n",
              "      async function convertToInteractive(key) {\n",
              "        const element = document.querySelector('#df-73d607fc-0e6a-4046-b32a-219c729bd8b9');\n",
              "        const dataTable =\n",
              "          await google.colab.kernel.invokeFunction('convertToInteractive',\n",
              "                                                    [key], {});\n",
              "        if (!dataTable) return;\n",
              "\n",
              "        const docLinkHtml = 'Like what you see? Visit the ' +\n",
              "          '<a target=\"_blank\" href=https://colab.research.google.com/notebooks/data_table.ipynb>data table notebook</a>'\n",
              "          + ' to learn more about interactive tables.';\n",
              "        element.innerHTML = '';\n",
              "        dataTable['output_type'] = 'display_data';\n",
              "        await google.colab.output.renderOutput(dataTable, element);\n",
              "        const docLink = document.createElement('div');\n",
              "        docLink.innerHTML = docLinkHtml;\n",
              "        element.appendChild(docLink);\n",
              "      }\n",
              "    </script>\n",
              "  </div>\n",
              "\n",
              "\n",
              "<div id=\"df-7823c669-f7fe-4393-9862-ff22d65a74c5\">\n",
              "  <button class=\"colab-df-quickchart\" onclick=\"quickchart('df-7823c669-f7fe-4393-9862-ff22d65a74c5')\"\n",
              "            title=\"Suggest charts.\"\n",
              "            style=\"display:none;\">\n",
              "\n",
              "<svg xmlns=\"http://www.w3.org/2000/svg\" height=\"24px\"viewBox=\"0 0 24 24\"\n",
              "     width=\"24px\">\n",
              "    <g>\n",
              "        <path d=\"M19 3H5c-1.1 0-2 .9-2 2v14c0 1.1.9 2 2 2h14c1.1 0 2-.9 2-2V5c0-1.1-.9-2-2-2zM9 17H7v-7h2v7zm4 0h-2V7h2v10zm4 0h-2v-4h2v4z\"/>\n",
              "    </g>\n",
              "</svg>\n",
              "  </button>\n",
              "\n",
              "<style>\n",
              "  .colab-df-quickchart {\n",
              "      --bg-color: #E8F0FE;\n",
              "      --fill-color: #1967D2;\n",
              "      --hover-bg-color: #E2EBFA;\n",
              "      --hover-fill-color: #174EA6;\n",
              "      --disabled-fill-color: #AAA;\n",
              "      --disabled-bg-color: #DDD;\n",
              "  }\n",
              "\n",
              "  [theme=dark] .colab-df-quickchart {\n",
              "      --bg-color: #3B4455;\n",
              "      --fill-color: #D2E3FC;\n",
              "      --hover-bg-color: #434B5C;\n",
              "      --hover-fill-color: #FFFFFF;\n",
              "      --disabled-bg-color: #3B4455;\n",
              "      --disabled-fill-color: #666;\n",
              "  }\n",
              "\n",
              "  .colab-df-quickchart {\n",
              "    background-color: var(--bg-color);\n",
              "    border: none;\n",
              "    border-radius: 50%;\n",
              "    cursor: pointer;\n",
              "    display: none;\n",
              "    fill: var(--fill-color);\n",
              "    height: 32px;\n",
              "    padding: 0;\n",
              "    width: 32px;\n",
              "  }\n",
              "\n",
              "  .colab-df-quickchart:hover {\n",
              "    background-color: var(--hover-bg-color);\n",
              "    box-shadow: 0 1px 2px rgba(60, 64, 67, 0.3), 0 1px 3px 1px rgba(60, 64, 67, 0.15);\n",
              "    fill: var(--button-hover-fill-color);\n",
              "  }\n",
              "\n",
              "  .colab-df-quickchart-complete:disabled,\n",
              "  .colab-df-quickchart-complete:disabled:hover {\n",
              "    background-color: var(--disabled-bg-color);\n",
              "    fill: var(--disabled-fill-color);\n",
              "    box-shadow: none;\n",
              "  }\n",
              "\n",
              "  .colab-df-spinner {\n",
              "    border: 2px solid var(--fill-color);\n",
              "    border-color: transparent;\n",
              "    border-bottom-color: var(--fill-color);\n",
              "    animation:\n",
              "      spin 1s steps(1) infinite;\n",
              "  }\n",
              "\n",
              "  @keyframes spin {\n",
              "    0% {\n",
              "      border-color: transparent;\n",
              "      border-bottom-color: var(--fill-color);\n",
              "      border-left-color: var(--fill-color);\n",
              "    }\n",
              "    20% {\n",
              "      border-color: transparent;\n",
              "      border-left-color: var(--fill-color);\n",
              "      border-top-color: var(--fill-color);\n",
              "    }\n",
              "    30% {\n",
              "      border-color: transparent;\n",
              "      border-left-color: var(--fill-color);\n",
              "      border-top-color: var(--fill-color);\n",
              "      border-right-color: var(--fill-color);\n",
              "    }\n",
              "    40% {\n",
              "      border-color: transparent;\n",
              "      border-right-color: var(--fill-color);\n",
              "      border-top-color: var(--fill-color);\n",
              "    }\n",
              "    60% {\n",
              "      border-color: transparent;\n",
              "      border-right-color: var(--fill-color);\n",
              "    }\n",
              "    80% {\n",
              "      border-color: transparent;\n",
              "      border-right-color: var(--fill-color);\n",
              "      border-bottom-color: var(--fill-color);\n",
              "    }\n",
              "    90% {\n",
              "      border-color: transparent;\n",
              "      border-bottom-color: var(--fill-color);\n",
              "    }\n",
              "  }\n",
              "</style>\n",
              "\n",
              "  <script>\n",
              "    async function quickchart(key) {\n",
              "      const quickchartButtonEl =\n",
              "        document.querySelector('#' + key + ' button');\n",
              "      quickchartButtonEl.disabled = true;  // To prevent multiple clicks.\n",
              "      quickchartButtonEl.classList.add('colab-df-spinner');\n",
              "      try {\n",
              "        const charts = await google.colab.kernel.invokeFunction(\n",
              "            'suggestCharts', [key], {});\n",
              "      } catch (error) {\n",
              "        console.error('Error during call to suggestCharts:', error);\n",
              "      }\n",
              "      quickchartButtonEl.classList.remove('colab-df-spinner');\n",
              "      quickchartButtonEl.classList.add('colab-df-quickchart-complete');\n",
              "    }\n",
              "    (() => {\n",
              "      let quickchartButtonEl =\n",
              "        document.querySelector('#df-7823c669-f7fe-4393-9862-ff22d65a74c5 button');\n",
              "      quickchartButtonEl.style.display =\n",
              "        google.colab.kernel.accessAllowed ? 'block' : 'none';\n",
              "    })();\n",
              "  </script>\n",
              "</div>\n",
              "    </div>\n",
              "  </div>\n"
            ]
          },
          "metadata": {},
          "execution_count": 35
        }
      ],
      "source": [
        "df = pd.read_csv('stroke.csv')\n",
        "df.head()"
      ]
    },
    {
      "cell_type": "markdown",
      "id": "f4ac1320",
      "metadata": {
        "id": "f4ac1320"
      },
      "source": [
        "# 3. Exploratory Data Analysis"
      ]
    },
    {
      "cell_type": "code",
      "execution_count": 36,
      "id": "111ffc2b",
      "metadata": {
        "colab": {
          "base_uri": "https://localhost:8080/",
          "height": 394
        },
        "id": "111ffc2b",
        "outputId": "4dd195f5-7f40-41ee-e5c6-424bce578e30"
      },
      "outputs": [
        {
          "output_type": "execute_result",
          "data": {
            "text/plain": [
              "                    count        mean        std    min      25%    50%  \\\n",
              "gender             1136.0    1.566901   0.497496   1.00   1.0000   2.00   \n",
              "age                1136.0   45.156690  23.054467   0.00  28.0000  48.00   \n",
              "hypertension       1136.0    0.118838   0.323740   0.00   0.0000   0.00   \n",
              "heart_disease      1136.0    0.067782   0.251482   0.00   0.0000   0.00   \n",
              "ever_married       1136.0    1.323944   0.468185   1.00   1.0000   1.00   \n",
              "work_type          1136.0    2.277289   0.847725   1.00   2.0000   2.00   \n",
              "Residence_type     1136.0    1.515845   0.499969   1.00   1.0000   2.00   \n",
              "avg_glucose_level  1136.0  107.693548  47.629268  55.27  77.6225  91.87   \n",
              "bmi                1084.0   29.198432   7.673146  11.30  24.1000  28.45   \n",
              "smoking_status     1136.0    2.768486   1.095490   1.00   2.0000   3.00   \n",
              "stroke             1136.0    0.119718   0.324775   0.00   0.0000   0.00   \n",
              "\n",
              "                      75%     max  \n",
              "gender               2.00    3.00  \n",
              "age                 63.00   82.00  \n",
              "hypertension         0.00    1.00  \n",
              "heart_disease        0.00    1.00  \n",
              "ever_married         2.00    2.00  \n",
              "work_type            3.00    5.00  \n",
              "Residence_type       2.00    2.00  \n",
              "avg_glucose_level  113.91  266.59  \n",
              "bmi                 33.20   64.40  \n",
              "smoking_status       4.00    4.00  \n",
              "stroke               0.00    1.00  "
            ],
            "text/html": [
              "\n",
              "  <div id=\"df-888dbf00-01ec-45c3-b928-3665e8d19f0a\" class=\"colab-df-container\">\n",
              "    <div>\n",
              "<style scoped>\n",
              "    .dataframe tbody tr th:only-of-type {\n",
              "        vertical-align: middle;\n",
              "    }\n",
              "\n",
              "    .dataframe tbody tr th {\n",
              "        vertical-align: top;\n",
              "    }\n",
              "\n",
              "    .dataframe thead th {\n",
              "        text-align: right;\n",
              "    }\n",
              "</style>\n",
              "<table border=\"1\" class=\"dataframe\">\n",
              "  <thead>\n",
              "    <tr style=\"text-align: right;\">\n",
              "      <th></th>\n",
              "      <th>count</th>\n",
              "      <th>mean</th>\n",
              "      <th>std</th>\n",
              "      <th>min</th>\n",
              "      <th>25%</th>\n",
              "      <th>50%</th>\n",
              "      <th>75%</th>\n",
              "      <th>max</th>\n",
              "    </tr>\n",
              "  </thead>\n",
              "  <tbody>\n",
              "    <tr>\n",
              "      <th>gender</th>\n",
              "      <td>1136.0</td>\n",
              "      <td>1.566901</td>\n",
              "      <td>0.497496</td>\n",
              "      <td>1.00</td>\n",
              "      <td>1.0000</td>\n",
              "      <td>2.00</td>\n",
              "      <td>2.00</td>\n",
              "      <td>3.00</td>\n",
              "    </tr>\n",
              "    <tr>\n",
              "      <th>age</th>\n",
              "      <td>1136.0</td>\n",
              "      <td>45.156690</td>\n",
              "      <td>23.054467</td>\n",
              "      <td>0.00</td>\n",
              "      <td>28.0000</td>\n",
              "      <td>48.00</td>\n",
              "      <td>63.00</td>\n",
              "      <td>82.00</td>\n",
              "    </tr>\n",
              "    <tr>\n",
              "      <th>hypertension</th>\n",
              "      <td>1136.0</td>\n",
              "      <td>0.118838</td>\n",
              "      <td>0.323740</td>\n",
              "      <td>0.00</td>\n",
              "      <td>0.0000</td>\n",
              "      <td>0.00</td>\n",
              "      <td>0.00</td>\n",
              "      <td>1.00</td>\n",
              "    </tr>\n",
              "    <tr>\n",
              "      <th>heart_disease</th>\n",
              "      <td>1136.0</td>\n",
              "      <td>0.067782</td>\n",
              "      <td>0.251482</td>\n",
              "      <td>0.00</td>\n",
              "      <td>0.0000</td>\n",
              "      <td>0.00</td>\n",
              "      <td>0.00</td>\n",
              "      <td>1.00</td>\n",
              "    </tr>\n",
              "    <tr>\n",
              "      <th>ever_married</th>\n",
              "      <td>1136.0</td>\n",
              "      <td>1.323944</td>\n",
              "      <td>0.468185</td>\n",
              "      <td>1.00</td>\n",
              "      <td>1.0000</td>\n",
              "      <td>1.00</td>\n",
              "      <td>2.00</td>\n",
              "      <td>2.00</td>\n",
              "    </tr>\n",
              "    <tr>\n",
              "      <th>work_type</th>\n",
              "      <td>1136.0</td>\n",
              "      <td>2.277289</td>\n",
              "      <td>0.847725</td>\n",
              "      <td>1.00</td>\n",
              "      <td>2.0000</td>\n",
              "      <td>2.00</td>\n",
              "      <td>3.00</td>\n",
              "      <td>5.00</td>\n",
              "    </tr>\n",
              "    <tr>\n",
              "      <th>Residence_type</th>\n",
              "      <td>1136.0</td>\n",
              "      <td>1.515845</td>\n",
              "      <td>0.499969</td>\n",
              "      <td>1.00</td>\n",
              "      <td>1.0000</td>\n",
              "      <td>2.00</td>\n",
              "      <td>2.00</td>\n",
              "      <td>2.00</td>\n",
              "    </tr>\n",
              "    <tr>\n",
              "      <th>avg_glucose_level</th>\n",
              "      <td>1136.0</td>\n",
              "      <td>107.693548</td>\n",
              "      <td>47.629268</td>\n",
              "      <td>55.27</td>\n",
              "      <td>77.6225</td>\n",
              "      <td>91.87</td>\n",
              "      <td>113.91</td>\n",
              "      <td>266.59</td>\n",
              "    </tr>\n",
              "    <tr>\n",
              "      <th>bmi</th>\n",
              "      <td>1084.0</td>\n",
              "      <td>29.198432</td>\n",
              "      <td>7.673146</td>\n",
              "      <td>11.30</td>\n",
              "      <td>24.1000</td>\n",
              "      <td>28.45</td>\n",
              "      <td>33.20</td>\n",
              "      <td>64.40</td>\n",
              "    </tr>\n",
              "    <tr>\n",
              "      <th>smoking_status</th>\n",
              "      <td>1136.0</td>\n",
              "      <td>2.768486</td>\n",
              "      <td>1.095490</td>\n",
              "      <td>1.00</td>\n",
              "      <td>2.0000</td>\n",
              "      <td>3.00</td>\n",
              "      <td>4.00</td>\n",
              "      <td>4.00</td>\n",
              "    </tr>\n",
              "    <tr>\n",
              "      <th>stroke</th>\n",
              "      <td>1136.0</td>\n",
              "      <td>0.119718</td>\n",
              "      <td>0.324775</td>\n",
              "      <td>0.00</td>\n",
              "      <td>0.0000</td>\n",
              "      <td>0.00</td>\n",
              "      <td>0.00</td>\n",
              "      <td>1.00</td>\n",
              "    </tr>\n",
              "  </tbody>\n",
              "</table>\n",
              "</div>\n",
              "    <div class=\"colab-df-buttons\">\n",
              "\n",
              "  <div class=\"colab-df-container\">\n",
              "    <button class=\"colab-df-convert\" onclick=\"convertToInteractive('df-888dbf00-01ec-45c3-b928-3665e8d19f0a')\"\n",
              "            title=\"Convert this dataframe to an interactive table.\"\n",
              "            style=\"display:none;\">\n",
              "\n",
              "  <svg xmlns=\"http://www.w3.org/2000/svg\" height=\"24px\" viewBox=\"0 -960 960 960\">\n",
              "    <path d=\"M120-120v-720h720v720H120Zm60-500h600v-160H180v160Zm220 220h160v-160H400v160Zm0 220h160v-160H400v160ZM180-400h160v-160H180v160Zm440 0h160v-160H620v160ZM180-180h160v-160H180v160Zm440 0h160v-160H620v160Z\"/>\n",
              "  </svg>\n",
              "    </button>\n",
              "\n",
              "  <style>\n",
              "    .colab-df-container {\n",
              "      display:flex;\n",
              "      gap: 12px;\n",
              "    }\n",
              "\n",
              "    .colab-df-convert {\n",
              "      background-color: #E8F0FE;\n",
              "      border: none;\n",
              "      border-radius: 50%;\n",
              "      cursor: pointer;\n",
              "      display: none;\n",
              "      fill: #1967D2;\n",
              "      height: 32px;\n",
              "      padding: 0 0 0 0;\n",
              "      width: 32px;\n",
              "    }\n",
              "\n",
              "    .colab-df-convert:hover {\n",
              "      background-color: #E2EBFA;\n",
              "      box-shadow: 0px 1px 2px rgba(60, 64, 67, 0.3), 0px 1px 3px 1px rgba(60, 64, 67, 0.15);\n",
              "      fill: #174EA6;\n",
              "    }\n",
              "\n",
              "    .colab-df-buttons div {\n",
              "      margin-bottom: 4px;\n",
              "    }\n",
              "\n",
              "    [theme=dark] .colab-df-convert {\n",
              "      background-color: #3B4455;\n",
              "      fill: #D2E3FC;\n",
              "    }\n",
              "\n",
              "    [theme=dark] .colab-df-convert:hover {\n",
              "      background-color: #434B5C;\n",
              "      box-shadow: 0px 1px 3px 1px rgba(0, 0, 0, 0.15);\n",
              "      filter: drop-shadow(0px 1px 2px rgba(0, 0, 0, 0.3));\n",
              "      fill: #FFFFFF;\n",
              "    }\n",
              "  </style>\n",
              "\n",
              "    <script>\n",
              "      const buttonEl =\n",
              "        document.querySelector('#df-888dbf00-01ec-45c3-b928-3665e8d19f0a button.colab-df-convert');\n",
              "      buttonEl.style.display =\n",
              "        google.colab.kernel.accessAllowed ? 'block' : 'none';\n",
              "\n",
              "      async function convertToInteractive(key) {\n",
              "        const element = document.querySelector('#df-888dbf00-01ec-45c3-b928-3665e8d19f0a');\n",
              "        const dataTable =\n",
              "          await google.colab.kernel.invokeFunction('convertToInteractive',\n",
              "                                                    [key], {});\n",
              "        if (!dataTable) return;\n",
              "\n",
              "        const docLinkHtml = 'Like what you see? Visit the ' +\n",
              "          '<a target=\"_blank\" href=https://colab.research.google.com/notebooks/data_table.ipynb>data table notebook</a>'\n",
              "          + ' to learn more about interactive tables.';\n",
              "        element.innerHTML = '';\n",
              "        dataTable['output_type'] = 'display_data';\n",
              "        await google.colab.output.renderOutput(dataTable, element);\n",
              "        const docLink = document.createElement('div');\n",
              "        docLink.innerHTML = docLinkHtml;\n",
              "        element.appendChild(docLink);\n",
              "      }\n",
              "    </script>\n",
              "  </div>\n",
              "\n",
              "\n",
              "<div id=\"df-a6cd83a0-087f-4d49-bd8d-0ae7cd8d36a2\">\n",
              "  <button class=\"colab-df-quickchart\" onclick=\"quickchart('df-a6cd83a0-087f-4d49-bd8d-0ae7cd8d36a2')\"\n",
              "            title=\"Suggest charts.\"\n",
              "            style=\"display:none;\">\n",
              "\n",
              "<svg xmlns=\"http://www.w3.org/2000/svg\" height=\"24px\"viewBox=\"0 0 24 24\"\n",
              "     width=\"24px\">\n",
              "    <g>\n",
              "        <path d=\"M19 3H5c-1.1 0-2 .9-2 2v14c0 1.1.9 2 2 2h14c1.1 0 2-.9 2-2V5c0-1.1-.9-2-2-2zM9 17H7v-7h2v7zm4 0h-2V7h2v10zm4 0h-2v-4h2v4z\"/>\n",
              "    </g>\n",
              "</svg>\n",
              "  </button>\n",
              "\n",
              "<style>\n",
              "  .colab-df-quickchart {\n",
              "      --bg-color: #E8F0FE;\n",
              "      --fill-color: #1967D2;\n",
              "      --hover-bg-color: #E2EBFA;\n",
              "      --hover-fill-color: #174EA6;\n",
              "      --disabled-fill-color: #AAA;\n",
              "      --disabled-bg-color: #DDD;\n",
              "  }\n",
              "\n",
              "  [theme=dark] .colab-df-quickchart {\n",
              "      --bg-color: #3B4455;\n",
              "      --fill-color: #D2E3FC;\n",
              "      --hover-bg-color: #434B5C;\n",
              "      --hover-fill-color: #FFFFFF;\n",
              "      --disabled-bg-color: #3B4455;\n",
              "      --disabled-fill-color: #666;\n",
              "  }\n",
              "\n",
              "  .colab-df-quickchart {\n",
              "    background-color: var(--bg-color);\n",
              "    border: none;\n",
              "    border-radius: 50%;\n",
              "    cursor: pointer;\n",
              "    display: none;\n",
              "    fill: var(--fill-color);\n",
              "    height: 32px;\n",
              "    padding: 0;\n",
              "    width: 32px;\n",
              "  }\n",
              "\n",
              "  .colab-df-quickchart:hover {\n",
              "    background-color: var(--hover-bg-color);\n",
              "    box-shadow: 0 1px 2px rgba(60, 64, 67, 0.3), 0 1px 3px 1px rgba(60, 64, 67, 0.15);\n",
              "    fill: var(--button-hover-fill-color);\n",
              "  }\n",
              "\n",
              "  .colab-df-quickchart-complete:disabled,\n",
              "  .colab-df-quickchart-complete:disabled:hover {\n",
              "    background-color: var(--disabled-bg-color);\n",
              "    fill: var(--disabled-fill-color);\n",
              "    box-shadow: none;\n",
              "  }\n",
              "\n",
              "  .colab-df-spinner {\n",
              "    border: 2px solid var(--fill-color);\n",
              "    border-color: transparent;\n",
              "    border-bottom-color: var(--fill-color);\n",
              "    animation:\n",
              "      spin 1s steps(1) infinite;\n",
              "  }\n",
              "\n",
              "  @keyframes spin {\n",
              "    0% {\n",
              "      border-color: transparent;\n",
              "      border-bottom-color: var(--fill-color);\n",
              "      border-left-color: var(--fill-color);\n",
              "    }\n",
              "    20% {\n",
              "      border-color: transparent;\n",
              "      border-left-color: var(--fill-color);\n",
              "      border-top-color: var(--fill-color);\n",
              "    }\n",
              "    30% {\n",
              "      border-color: transparent;\n",
              "      border-left-color: var(--fill-color);\n",
              "      border-top-color: var(--fill-color);\n",
              "      border-right-color: var(--fill-color);\n",
              "    }\n",
              "    40% {\n",
              "      border-color: transparent;\n",
              "      border-right-color: var(--fill-color);\n",
              "      border-top-color: var(--fill-color);\n",
              "    }\n",
              "    60% {\n",
              "      border-color: transparent;\n",
              "      border-right-color: var(--fill-color);\n",
              "    }\n",
              "    80% {\n",
              "      border-color: transparent;\n",
              "      border-right-color: var(--fill-color);\n",
              "      border-bottom-color: var(--fill-color);\n",
              "    }\n",
              "    90% {\n",
              "      border-color: transparent;\n",
              "      border-bottom-color: var(--fill-color);\n",
              "    }\n",
              "  }\n",
              "</style>\n",
              "\n",
              "  <script>\n",
              "    async function quickchart(key) {\n",
              "      const quickchartButtonEl =\n",
              "        document.querySelector('#' + key + ' button');\n",
              "      quickchartButtonEl.disabled = true;  // To prevent multiple clicks.\n",
              "      quickchartButtonEl.classList.add('colab-df-spinner');\n",
              "      try {\n",
              "        const charts = await google.colab.kernel.invokeFunction(\n",
              "            'suggestCharts', [key], {});\n",
              "      } catch (error) {\n",
              "        console.error('Error during call to suggestCharts:', error);\n",
              "      }\n",
              "      quickchartButtonEl.classList.remove('colab-df-spinner');\n",
              "      quickchartButtonEl.classList.add('colab-df-quickchart-complete');\n",
              "    }\n",
              "    (() => {\n",
              "      let quickchartButtonEl =\n",
              "        document.querySelector('#df-a6cd83a0-087f-4d49-bd8d-0ae7cd8d36a2 button');\n",
              "      quickchartButtonEl.style.display =\n",
              "        google.colab.kernel.accessAllowed ? 'block' : 'none';\n",
              "    })();\n",
              "  </script>\n",
              "</div>\n",
              "    </div>\n",
              "  </div>\n"
            ]
          },
          "metadata": {},
          "execution_count": 36
        }
      ],
      "source": [
        "df.describe().T"
      ]
    },
    {
      "cell_type": "code",
      "execution_count": 37,
      "id": "3b8975f9",
      "metadata": {
        "colab": {
          "base_uri": "https://localhost:8080/"
        },
        "id": "3b8975f9",
        "outputId": "55d9300b-76f9-47f5-b6a9-f8747a1c3bf0"
      },
      "outputs": [
        {
          "output_type": "stream",
          "name": "stdout",
          "text": [
            "<class 'pandas.core.frame.DataFrame'>\n",
            "RangeIndex: 1136 entries, 0 to 1135\n",
            "Data columns (total 11 columns):\n",
            " #   Column             Non-Null Count  Dtype  \n",
            "---  ------             --------------  -----  \n",
            " 0   gender             1136 non-null   int64  \n",
            " 1   age                1136 non-null   int64  \n",
            " 2   hypertension       1136 non-null   int64  \n",
            " 3   heart_disease      1136 non-null   int64  \n",
            " 4   ever_married       1136 non-null   int64  \n",
            " 5   work_type          1136 non-null   int64  \n",
            " 6   Residence_type     1136 non-null   int64  \n",
            " 7   avg_glucose_level  1136 non-null   float64\n",
            " 8   bmi                1084 non-null   float64\n",
            " 9   smoking_status     1136 non-null   int64  \n",
            " 10  stroke             1136 non-null   int64  \n",
            "dtypes: float64(2), int64(9)\n",
            "memory usage: 97.8 KB\n"
          ]
        }
      ],
      "source": [
        "df.info()"
      ]
    },
    {
      "cell_type": "markdown",
      "id": "9d02c245",
      "metadata": {
        "id": "9d02c245"
      },
      "source": [
        "It seems that our dataset contains numerical feature."
      ]
    },
    {
      "cell_type": "markdown",
      "id": "b371c8bd",
      "metadata": {
        "id": "b371c8bd"
      },
      "source": [
        "## Data Cleaning"
      ]
    },
    {
      "cell_type": "code",
      "execution_count": 38,
      "id": "906bdabb",
      "metadata": {
        "colab": {
          "base_uri": "https://localhost:8080/"
        },
        "id": "906bdabb",
        "outputId": "9ffa557e-e06a-44bb-a8b3-534f1043a8dd"
      },
      "outputs": [
        {
          "output_type": "execute_result",
          "data": {
            "text/plain": [
              "gender                0\n",
              "age                   0\n",
              "hypertension          0\n",
              "heart_disease         0\n",
              "ever_married          0\n",
              "work_type             0\n",
              "Residence_type        0\n",
              "avg_glucose_level     0\n",
              "bmi                  52\n",
              "smoking_status        0\n",
              "stroke                0\n",
              "dtype: int64"
            ]
          },
          "metadata": {},
          "execution_count": 38
        }
      ],
      "source": [
        "df.isnull().sum()"
      ]
    },
    {
      "cell_type": "markdown",
      "id": "b24b5ee4",
      "metadata": {
        "id": "b24b5ee4"
      },
      "source": [
        "Missing values in bmi dataset.\n"
      ]
    },
    {
      "cell_type": "code",
      "execution_count": 39,
      "id": "87f0bbf6",
      "metadata": {
        "id": "87f0bbf6"
      },
      "outputs": [],
      "source": [
        "df['bmi'] = df['bmi'].fillna(np.mean(df['bmi']))"
      ]
    },
    {
      "cell_type": "code",
      "execution_count": 40,
      "id": "8c9f062f",
      "metadata": {
        "colab": {
          "base_uri": "https://localhost:8080/"
        },
        "id": "8c9f062f",
        "outputId": "87e3501b-4856-484d-c849-6a7e9edd585e"
      },
      "outputs": [
        {
          "output_type": "execute_result",
          "data": {
            "text/plain": [
              "gender               0\n",
              "age                  0\n",
              "hypertension         0\n",
              "heart_disease        0\n",
              "ever_married         0\n",
              "work_type            0\n",
              "Residence_type       0\n",
              "avg_glucose_level    0\n",
              "bmi                  0\n",
              "smoking_status       0\n",
              "stroke               0\n",
              "dtype: int64"
            ]
          },
          "metadata": {},
          "execution_count": 40
        }
      ],
      "source": [
        "df.isnull().sum()"
      ]
    },
    {
      "cell_type": "markdown",
      "id": "dd252bdc",
      "metadata": {
        "id": "dd252bdc"
      },
      "source": [
        "Let's identify duplicates in our dataset."
      ]
    },
    {
      "cell_type": "code",
      "execution_count": 41,
      "id": "453fe618",
      "metadata": {
        "colab": {
          "base_uri": "https://localhost:8080/"
        },
        "id": "453fe618",
        "outputId": "8d9d532f-a08a-458c-bb6a-a9f81139b31c"
      },
      "outputs": [
        {
          "output_type": "execute_result",
          "data": {
            "text/plain": [
              "0"
            ]
          },
          "metadata": {},
          "execution_count": 41
        }
      ],
      "source": [
        "df.duplicated().sum()"
      ]
    },
    {
      "cell_type": "markdown",
      "id": "4e578655",
      "metadata": {
        "id": "4e578655"
      },
      "source": [
        "No duplicates in our dataset."
      ]
    },
    {
      "cell_type": "markdown",
      "id": "19a4fb97",
      "metadata": {
        "id": "19a4fb97"
      },
      "source": [
        "# 4. Model Development"
      ]
    },
    {
      "cell_type": "code",
      "execution_count": 42,
      "id": "8df35878",
      "metadata": {
        "colab": {
          "base_uri": "https://localhost:8080/"
        },
        "id": "8df35878",
        "outputId": "21e81fb8-b906-4494-c002-81f166b8e11f"
      },
      "outputs": [
        {
          "output_type": "stream",
          "name": "stdout",
          "text": [
            "number of test samples : 228\n",
            "number of training samples: 908\n"
          ]
        }
      ],
      "source": [
        "X = df.drop('stroke', axis=1)\n",
        "Y = df['stroke']\n",
        "\n",
        "X_train, X_test, y_train, y_test = train_test_split(X, Y, test_size=0.2, random_state=0)\n",
        "\n",
        "print(\"number of test samples :\", X_test.shape[0])\n",
        "print(\"number of training samples:\",X_train.shape[0])"
      ]
    },
    {
      "cell_type": "markdown",
      "id": "ec610c28",
      "metadata": {
        "id": "ec610c28"
      },
      "source": [
        "## Logistic Regression"
      ]
    },
    {
      "cell_type": "code",
      "execution_count": 43,
      "id": "5cf19a7c",
      "metadata": {
        "id": "5cf19a7c"
      },
      "outputs": [],
      "source": [
        "accuracies = {}"
      ]
    },
    {
      "cell_type": "code",
      "execution_count": 44,
      "id": "f467609d",
      "metadata": {
        "colab": {
          "base_uri": "https://localhost:8080/"
        },
        "id": "f467609d",
        "outputId": "f453ed81-89db-43f2-be2f-2bb217d01525"
      },
      "outputs": [
        {
          "output_type": "stream",
          "name": "stdout",
          "text": [
            "Test Accuracy 87.72%\n"
          ]
        },
        {
          "output_type": "stream",
          "name": "stderr",
          "text": [
            "/usr/local/lib/python3.10/dist-packages/sklearn/linear_model/_logistic.py:458: ConvergenceWarning: lbfgs failed to converge (status=1):\n",
            "STOP: TOTAL NO. of ITERATIONS REACHED LIMIT.\n",
            "\n",
            "Increase the number of iterations (max_iter) or scale the data as shown in:\n",
            "    https://scikit-learn.org/stable/modules/preprocessing.html\n",
            "Please also refer to the documentation for alternative solver options:\n",
            "    https://scikit-learn.org/stable/modules/linear_model.html#logistic-regression\n",
            "  n_iter_i = _check_optimize_result(\n"
          ]
        }
      ],
      "source": [
        "LR = LogisticRegression()\n",
        "LR.fit(X_train, y_train)\n",
        "\n",
        "acc = LR.score(X_test,y_test)*100\n",
        "\n",
        "accuracies['Logistic Regression'] = acc\n",
        "print(\"Test Accuracy {:.2f}%\".format(acc))"
      ]
    },
    {
      "cell_type": "code",
      "execution_count": 45,
      "id": "98343210",
      "metadata": {
        "colab": {
          "base_uri": "https://localhost:8080/"
        },
        "id": "98343210",
        "outputId": "80e75233-a4d6-4740-9b59-3642906da68c"
      },
      "outputs": [
        {
          "output_type": "execute_result",
          "data": {
            "text/plain": [
              "{'Logistic Regression': 87.71929824561403}"
            ]
          },
          "metadata": {},
          "execution_count": 45
        }
      ],
      "source": [
        "accuracies"
      ]
    },
    {
      "cell_type": "markdown",
      "id": "2ac8a499",
      "metadata": {
        "id": "2ac8a499"
      },
      "source": [
        "## Decision Tree"
      ]
    },
    {
      "cell_type": "code",
      "execution_count": 46,
      "id": "664f86e8",
      "metadata": {
        "colab": {
          "base_uri": "https://localhost:8080/"
        },
        "id": "664f86e8",
        "outputId": "3ea62c76-c6ac-4f37-92ed-a02c296df5fd"
      },
      "outputs": [
        {
          "output_type": "stream",
          "name": "stdout",
          "text": [
            "Test Accuracy 78.95%\n"
          ]
        },
        {
          "output_type": "execute_result",
          "data": {
            "text/plain": [
              "{'Logistic Regression': 87.71929824561403,\n",
              " 'Decision Tree Classifier': 78.94736842105263}"
            ]
          },
          "metadata": {},
          "execution_count": 46
        }
      ],
      "source": [
        "from sklearn.tree import DecisionTreeClassifier\n",
        "DTC = DecisionTreeClassifier()\n",
        "DTC.fit(X_train, y_train)\n",
        "\n",
        "acc = DTC.score(X_test,y_test)*100\n",
        "\n",
        "accuracies['Decision Tree Classifier'] = acc\n",
        "print(\"Test Accuracy {:.2f}%\".format(acc))\n",
        "accuracies"
      ]
    },
    {
      "cell_type": "markdown",
      "id": "51035c28",
      "metadata": {
        "id": "51035c28"
      },
      "source": [
        "## Random Forest Classifier"
      ]
    },
    {
      "cell_type": "code",
      "execution_count": 47,
      "id": "4dd71d6b",
      "metadata": {
        "colab": {
          "base_uri": "https://localhost:8080/"
        },
        "id": "4dd71d6b",
        "outputId": "393847db-1379-440b-8c73-cb98092c6321"
      },
      "outputs": [
        {
          "output_type": "stream",
          "name": "stdout",
          "text": [
            "Test Accuracy 86.84%\n"
          ]
        },
        {
          "output_type": "execute_result",
          "data": {
            "text/plain": [
              "{'Logistic Regression': 87.71929824561403,\n",
              " 'Decision Tree Classifier': 78.94736842105263,\n",
              " 'Random Forest Classifier': 86.8421052631579}"
            ]
          },
          "metadata": {},
          "execution_count": 47
        }
      ],
      "source": [
        "from sklearn.ensemble import RandomForestClassifier\n",
        "RF = RandomForestClassifier()\n",
        "RF.fit(X_train, y_train)\n",
        "\n",
        "acc = RF.score(X_test,y_test)*100\n",
        "\n",
        "accuracies['Random Forest Classifier'] = acc\n",
        "print(\"Test Accuracy {:.2f}%\".format(acc))\n",
        "accuracies"
      ]
    },
    {
      "cell_type": "markdown",
      "id": "b1cd6107",
      "metadata": {
        "id": "b1cd6107"
      },
      "source": [
        "## K Nearest Neighbors"
      ]
    },
    {
      "cell_type": "code",
      "execution_count": 48,
      "id": "3d987ac0",
      "metadata": {
        "colab": {
          "base_uri": "https://localhost:8080/"
        },
        "id": "3d987ac0",
        "outputId": "37703284-b073-41f0-b49f-469d686582fc"
      },
      "outputs": [
        {
          "output_type": "stream",
          "name": "stdout",
          "text": [
            "Test Accuracy 85.53%\n"
          ]
        },
        {
          "output_type": "execute_result",
          "data": {
            "text/plain": [
              "{'Logistic Regression': 87.71929824561403,\n",
              " 'Decision Tree Classifier': 78.94736842105263,\n",
              " 'Random Forest Classifier': 86.8421052631579,\n",
              " 'K-Nearest Neighbors': 85.52631578947368}"
            ]
          },
          "metadata": {},
          "execution_count": 48
        }
      ],
      "source": [
        "from sklearn.neighbors import KNeighborsClassifier\n",
        "KNN = KNeighborsClassifier()\n",
        "KNN.fit(X_train, y_train)\n",
        "\n",
        "acc = KNN.score(X_test,y_test)*100\n",
        "\n",
        "accuracies['K-Nearest Neighbors'] = acc\n",
        "print(\"Test Accuracy {:.2f}%\".format(acc))\n",
        "accuracies"
      ]
    },
    {
      "cell_type": "code",
      "source": [
        "colors = [\"purple\", \"green\", \"orange\", \"blue\"]\n",
        "\n",
        "sns.set_style(\"whitegrid\")\n",
        "plt.figure(figsize=(10,5))\n",
        "plt.yticks(np.arange(0,100,10))\n",
        "plt.ylabel(\"Accuracy %\")\n",
        "plt.xlabel(\"Algorithms\")\n",
        "ax = sns.barplot(x=list(accuracies.keys()), y=list(accuracies.values()), palette=colors)\n",
        "\n",
        "for i in ax.containers: #function1\n",
        "    print(i)\n",
        "    ax.bar_label(i, ) #function2\n",
        "\n",
        "plt.show()"
      ],
      "metadata": {
        "colab": {
          "base_uri": "https://localhost:8080/",
          "height": 455
        },
        "id": "UbPgWfm-HXGp",
        "outputId": "04b0bded-6ecb-4c09-fcf0-45dd2905d0d5"
      },
      "id": "UbPgWfm-HXGp",
      "execution_count": 49,
      "outputs": [
        {
          "output_type": "stream",
          "name": "stdout",
          "text": [
            "<BarContainer object of 4 artists>\n"
          ]
        },
        {
          "output_type": "display_data",
          "data": {
            "text/plain": [
              "<Figure size 1000x500 with 1 Axes>"
            ],
            "image/png": "[encoded data removed]"
          },
          "metadata": {}
        }
      ]
    },
    {
      "cell_type": "code",
      "source": [
        "# User defined function to make confusion matrix (can calcualate manually)\n",
        "from sklearn.metrics import confusion_matrix\n",
        "models = [LR, DTC, RF, KNN]\n",
        "model_names = ['LogisticRegression', 'DecisionTreeClassifier', 'RandomForestClassifier', 'KNeighborsClassifier']\n",
        "confusion_matrices = {}\n",
        "\n",
        "for model, model_name in zip(models, model_names):\n",
        "    prediction = model.predict(X_test)\n",
        "    cm = confusion_matrix(y_test, prediction)\n",
        "\n",
        "    confusion_matrices[f'cm_{model_name.lower()}'] = cm\n",
        "\n",
        "    if model_name == 'LogisticRegression':\n",
        "        cm_lr = cm\n",
        "    elif model_name == 'DecisionTreeClassifier':\n",
        "        cm_dtc = cm\n",
        "    elif model_name == 'RandomForestClassifier':\n",
        "        cm_rf = cm\n",
        "    elif model_name == 'KNeighborsClassifier':\n",
        "        cm_knn = cm"
      ],
      "metadata": {
        "id": "hIyjpuj8HlRT"
      },
      "id": "hIyjpuj8HlRT",
      "execution_count": 52,
      "outputs": []
    },
    {
      "cell_type": "code",
      "source": [
        "plt.figure(figsize=(12,12))\n",
        "\n",
        "plt.suptitle(\"Confusion Matrixes\",fontsize=24)\n",
        "plt.subplots_adjust(wspace = 0.4, hspace= 0.4)\n",
        "\n",
        "# Plot Logistic Regression Confusion Matrix\n",
        "plt.subplot(2, 2, 1)\n",
        "plt.title(\"Logistic Regression Confusion Matrix\")\n",
        "sns.heatmap(cm_lr, annot=True, cmap=\"Blues\", fmt=\"d\", cbar=False, annot_kws={\"size\": 24})\n",
        "\n",
        "# Plot GBC Confusion Matrix\n",
        "plt.subplot(2, 2, 2)\n",
        "plt.title(\"Decison Tree Classifier Confusion Matrix\")\n",
        "sns.heatmap(cm_dtc, annot=True, cmap=\"Blues\", fmt=\"d\", cbar=False, annot_kws={\"size\": 24})\n",
        "\n",
        "# Plot RF Confusion Matrix\n",
        "plt.subplot(2, 2, 3)\n",
        "plt.title(\"Random Forest Confusion Matrix\")\n",
        "sns.heatmap(cm_rf, annot=True, cmap=\"Blues\", fmt=\"d\", cbar=False, annot_kws={\"size\": 24})\n",
        "\n",
        "# Plot RF2 Confusion Matrix\n",
        "plt.subplot(2, 2, 4)\n",
        "plt.title(\"KNN Confusion Matrix\")\n",
        "sns.heatmap(cm_knn, annot=True, cmap=\"Blues\", fmt=\"d\", cbar=False, annot_kws={\"size\": 24})\n",
        "\n",
        "plt.show()"
      ],
      "metadata": {
        "colab": {
          "base_uri": "https://localhost:8080/",
          "height": 900
        },
        "id": "8peFRSiEHmXj",
        "outputId": "ba515135-f2fa-4c6e-b013-06d48d1f749e"
      },
      "id": "8peFRSiEHmXj",
      "execution_count": 53,
      "outputs": [
        {
          "output_type": "display_data",
          "data": {
            "text/plain": [
              "<Figure size 1200x1200 with 4 Axes>"
            ],
            "image/png": "[encoded data removed]"
          },
          "metadata": {}
        }
      ]
    },
    {
      "cell_type": "markdown",
      "id": "a7291e07",
      "metadata": {
        "id": "a7291e07"
      },
      "source": [
        "## Features Importance"
      ]
    },
    {
      "cell_type": "code",
      "execution_count": 54,
      "id": "09d39acf",
      "metadata": {
        "id": "09d39acf"
      },
      "outputs": [],
      "source": [
        "from sklearn.inspection import permutation_importance\n",
        "from sklearn.metrics import accuracy_score"
      ]
    },
    {
      "cell_type": "markdown",
      "id": "9e0c9c20",
      "metadata": {
        "id": "9e0c9c20"
      },
      "source": [
        "**Permutation Importance**"
      ]
    },
    {
      "cell_type": "code",
      "execution_count": 55,
      "id": "c8339414",
      "metadata": {
        "colab": {
          "base_uri": "https://localhost:8080/",
          "height": 472
        },
        "id": "c8339414",
        "outputId": "1a2dc223-8e4e-4fe5-92e8-02231b82ada3"
      },
      "outputs": [
        {
          "output_type": "display_data",
          "data": {
            "text/plain": [
              "<Figure size 640x480 with 1 Axes>"
            ],
            "image/png": "[encoded data removed]"
          },
          "metadata": {}
        }
      ],
      "source": [
        "perm_importance = permutation_importance(RF, X_test, y_test, n_repeats=30, random_state=0)\n",
        "\n",
        "# Get feature names\n",
        "feature_names = X_test.columns\n",
        "\n",
        "# Calculate mean importance and sort features\n",
        "mean_importance = perm_importance.importances_mean\n",
        "sorted_idx = mean_importance.argsort()\n",
        "\n",
        "# Plot permutation importance\n",
        "plt.barh(range(len(sorted_idx)), mean_importance[sorted_idx], align='center')\n",
        "plt.yticks(range(len(sorted_idx)), [feature_names[i] for i in sorted_idx])\n",
        "plt.xlabel('Permutation Importance')\n",
        "plt.title('Permutation Importance (Random Forest)')\n",
        "plt.show()"
      ]
    },
    {
      "cell_type": "markdown",
      "id": "754c215b",
      "metadata": {
        "id": "754c215b"
      },
      "source": [
        "**Random Forest Feature Importance**"
      ]
    },
    {
      "cell_type": "code",
      "execution_count": 56,
      "id": "6e4d0cab",
      "metadata": {
        "colab": {
          "base_uri": "https://localhost:8080/",
          "height": 472
        },
        "id": "6e4d0cab",
        "outputId": "1d92d46d-fc3d-44b9-f3d8-1518e079b552"
      },
      "outputs": [
        {
          "output_type": "display_data",
          "data": {
            "text/plain": [
              "<Figure size 640x480 with 1 Axes>"
            ],
            "image/png": "[encoded data removed]"
          },
          "metadata": {}
        }
      ],
      "source": [
        "# Get feature importances from RandomForest\n",
        "rf_feature_importances = RF.feature_importances_\n",
        "\n",
        "# Sort features by importance\n",
        "sorted_idx_rf = rf_feature_importances.argsort()\n",
        "\n",
        "# Plot feature importances from RandomForest\n",
        "plt.barh(range(len(sorted_idx_rf)), rf_feature_importances[sorted_idx_rf], align='center')\n",
        "plt.yticks(range(len(sorted_idx_rf)), [feature_names[i] for i in sorted_idx_rf])\n",
        "plt.xlabel('Feature Importance')\n",
        "plt.title('Feature Importance (Random Forest)')\n",
        "plt.show()\n"
      ]
    },
    {
      "cell_type": "code",
      "execution_count": 63,
      "id": "a01d0a80",
      "metadata": {
        "colab": {
          "base_uri": "https://localhost:8080/"
        },
        "id": "a01d0a80",
        "outputId": "e09e929d-4600-42c6-dadc-efee3740434c"
      },
      "outputs": [
        {
          "output_type": "stream",
          "name": "stdout",
          "text": [
            "number of test samples : 228\n",
            "number of training samples: 908\n"
          ]
        }
      ],
      "source": [
        "X = df.drop(['ever_married',\n",
        "             'heart_disease',\n",
        "             'Residence_type',\n",
        "             'hypertension',\n",
        "             'gender',\n",
        "             'work_type',\n",
        "             'smoking_status',\n",
        "             'stroke'], axis=1)\n",
        "\n",
        "\n",
        "Y = df['stroke']\n",
        "\n",
        "X_train, X_test, y_train, y_test = train_test_split(X, Y, test_size=0.2, random_state=0)\n",
        "\n",
        "print(\"number of test samples :\", X_test.shape[0])\n",
        "print(\"number of training samples:\",X_train.shape[0])"
      ]
    },
    {
      "cell_type": "code",
      "execution_count": 72,
      "id": "0136df5a",
      "metadata": {
        "colab": {
          "base_uri": "https://localhost:8080/"
        },
        "id": "0136df5a",
        "outputId": "7f5bfcd8-4e99-4a60-e607-b5480f55bc3a"
      },
      "outputs": [
        {
          "output_type": "stream",
          "name": "stdout",
          "text": [
            "Test Accuracy 88.16%\n"
          ]
        }
      ],
      "source": [
        "LR2 = LogisticRegression()\n",
        "LR2.fit(X_train, y_train)\n",
        "\n",
        "acc = LR2.score(X_test,y_test)*100\n",
        "\n",
        "accuracies['Logistic Regression (Selected Features)'] = acc\n",
        "print(\"Test Accuracy {:.2f}%\".format(acc))"
      ]
    },
    {
      "cell_type": "code",
      "source": [
        "X_test.columns"
      ],
      "metadata": {
        "colab": {
          "base_uri": "https://localhost:8080/"
        },
        "id": "JjY6JL8oJikr",
        "outputId": "9f55d8ed-292e-4c45-8286-b894922cd6fd"
      },
      "id": "JjY6JL8oJikr",
      "execution_count": 73,
      "outputs": [
        {
          "output_type": "execute_result",
          "data": {
            "text/plain": [
              "Index(['age', 'avg_glucose_level', 'bmi'], dtype='object')"
            ]
          },
          "metadata": {},
          "execution_count": 73
        }
      ]
    },
    {
      "cell_type": "code",
      "source": [
        "prediction = LR2.predict(X_test)\n",
        "cm_lr2 = confusion_matrix(y_test, prediction)\n",
        "cm_lr2"
      ],
      "metadata": {
        "colab": {
          "base_uri": "https://localhost:8080/"
        },
        "id": "9gr8F7PTJJmP",
        "outputId": "857e93ec-7aa4-481e-eae7-d95fb08b9c0c"
      },
      "id": "9gr8F7PTJJmP",
      "execution_count": 74,
      "outputs": [
        {
          "output_type": "execute_result",
          "data": {
            "text/plain": [
              "array([[200,   2],\n",
              "       [ 25,   1]])"
            ]
          },
          "metadata": {},
          "execution_count": 74
        }
      ]
    },
    {
      "cell_type": "markdown",
      "source": [
        "# 6. Model Evaluation"
      ],
      "metadata": {
        "id": "CHfe2sGuJ2Xg"
      },
      "id": "CHfe2sGuJ2Xg"
    },
    {
      "cell_type": "code",
      "source": [
        "colors = [\"purple\", \"green\", \"orange\", \"blue\", \"brown\"]\n",
        "\n",
        "sns.set_style(\"whitegrid\")\n",
        "plt.figure(figsize=(10,5))\n",
        "plt.yticks(np.arange(0,100,10))\n",
        "plt.ylabel(\"Accuracy %\")\n",
        "plt.xlabel(\"Algorithms\")\n",
        "ax = sns.barplot(x=list(accuracies.keys()), y=list(accuracies.values()), palette=colors)\n",
        "\n",
        "for i in ax.containers: #function1\n",
        "    print(i)\n",
        "    ax.bar_label(i, ) #function2\n",
        "\n",
        "plt.show()"
      ],
      "metadata": {
        "colab": {
          "base_uri": "https://localhost:8080/",
          "height": 428
        },
        "id": "FBmLXwWuJ1Uo",
        "outputId": "42444918-7ea6-4dc3-8f88-198ce91a8803"
      },
      "id": "FBmLXwWuJ1Uo",
      "execution_count": 75,
      "outputs": [
        {
          "output_type": "stream",
          "name": "stdout",
          "text": [
            "<BarContainer object of 5 artists>\n"
          ]
        },
        {
          "output_type": "display_data",
          "data": {
            "text/plain": [
              "<Figure size 1000x500 with 1 Axes>"
            ],
            "image/png": "[encoded data removed]"
          },
          "metadata": {}
        }
      ]
    },
    {
      "cell_type": "code",
      "execution_count": null,
      "id": "255ad908",
      "metadata": {
        "id": "255ad908"
      },
      "outputs": [],
      "source": [
        "#conda install -c anaconda graphviz"
      ]
    },
    {
      "cell_type": "code",
      "execution_count": null,
      "id": "29cf18c5",
      "metadata": {
        "id": "29cf18c5"
      },
      "outputs": [],
      "source": [
        "#import os\n",
        "\n",
        "#os.environ['PATH'] = os.environ['PATH']+';'+os.environ['CONDA_PREFIX']+r\"\\Library\\bin\\graphviz\""
      ]
    },
    {
      "cell_type": "code",
      "execution_count": 76,
      "id": "ddb40273",
      "metadata": {
        "id": "ddb40273"
      },
      "outputs": [],
      "source": [
        "from sklearn.tree import DecisionTreeClassifier, export_graphviz #Decision tree\n",
        "\n",
        "import pydotplus"
      ]
    },
    {
      "cell_type": "code",
      "execution_count": 77,
      "id": "77912570",
      "metadata": {
        "id": "77912570"
      },
      "outputs": [],
      "source": [
        "important_features = ['age', 'avg_glucose_level', 'bmi', 'work_type']\n",
        "\n",
        "f = df[important_features] #input\n",
        "t = df['stroke'] #target"
      ]
    },
    {
      "cell_type": "code",
      "execution_count": 78,
      "id": "da711fc2",
      "metadata": {
        "colab": {
          "base_uri": "https://localhost:8080/"
        },
        "id": "da711fc2",
        "outputId": "8e024ce1-6147-4896-9a20-a83c4d00c8b7"
      },
      "outputs": [
        {
          "output_type": "execute_result",
          "data": {
            "text/plain": [
              "0    1000\n",
              "1     136\n",
              "Name: stroke, dtype: int64"
            ]
          },
          "metadata": {},
          "execution_count": 78
        }
      ],
      "source": [
        "df['stroke'].value_counts()"
      ]
    },
    {
      "cell_type": "code",
      "execution_count": 80,
      "id": "a8bb76cb",
      "metadata": {
        "id": "a8bb76cb"
      },
      "outputs": [],
      "source": [
        "#X_train, X_test, y_train, y_test = train_test_split(f, t, test_size=0.2, random_state=0)"
      ]
    },
    {
      "cell_type": "code",
      "execution_count": 81,
      "id": "46af0583",
      "metadata": {
        "colab": {
          "base_uri": "https://localhost:8080/"
        },
        "id": "46af0583",
        "outputId": "73a9d45d-87ac-4dda-9386-a724ac548d69"
      },
      "outputs": [
        {
          "output_type": "execute_result",
          "data": {
            "text/plain": [
              "True"
            ]
          },
          "metadata": {},
          "execution_count": 81
        }
      ],
      "source": [
        "# Create and fit the decision tree\n",
        "clf_dt = DecisionTreeClassifier(criterion = 'gini', max_depth = 3)\n",
        "clf_dt.fit(f, t)\n",
        "\n",
        "# Export resulting tree to DOT source code string\n",
        "dot_data = export_graphviz(clf_dt,\n",
        "                                feature_names=important_features,\n",
        "                                out_file=None,\n",
        "                                filled=True,\n",
        "                                rounded=True)\n",
        "\n",
        "pydot_graph = pydotplus.graph_from_dot_data(dot_data)\n",
        "pydot_graph.write_png('tree.png')"
      ]
    },
    {
      "cell_type": "markdown",
      "id": "2a39a2c3",
      "metadata": {
        "id": "2a39a2c3"
      },
      "source": [
        "\n",
        "### Thank you for taking the time to review my notebook!\n",
        "\n",
        "Your attention and feedback are greatly appreciated!\n",
        "\n",
        "**Linkedin:** [Link](https://www.linkedin.com/in/hazmannaim/)\n",
        "\n",
        "**Github:** [Link](https://github.com/HazmanNaim)\n",
        "\n",
        "**Kaggle:** [Link](https://www.kaggle.com/hazmannaim)"
      ]
    }
  ],
  "metadata": {
    "kernelspec": {
      "display_name": "Python 3 (ipykernel)",
      "language": "python",
      "name": "python3"
    },
    "language_info": {
      "codemirror_mode": {
        "name": "ipython",
        "version": 3
      },
      "file_extension": ".py",
      "mimetype": "text/x-python",
      "name": "python",
      "nbconvert_exporter": "python",
      "pygments_lexer": "ipython3",
      "version": "3.11.4"
    },
    "colab": {
      "provenance": []
    }
  },
  "nbformat": 4,
  "nbformat_minor": 5
}