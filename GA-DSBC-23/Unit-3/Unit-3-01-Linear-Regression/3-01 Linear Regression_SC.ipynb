{
 "cells": [
  {
   "cell_type": "markdown",
   "id": "549b940b",
   "metadata": {},
   "source": [
    "# Linear Regression"
   ]
  },
  {
   "cell_type": "markdown",
   "id": "5f24ba18",
   "metadata": {},
   "source": [
    "Let's use the well-known Boston Housing dataset, a built-in dataset in scikit-learn, to demonstrate linear regression. The goal is to predict the median value of owner-occupied homes in Boston."
   ]
  },
  {
   "cell_type": "markdown",
   "id": "dcf4e0ef",
   "metadata": {},
   "source": [
    "1. Importing necessary modules"
   ]
  },
  {
   "cell_type": "code",
   "execution_count": 1,
   "id": "2649311c",
   "metadata": {},
   "outputs": [],
   "source": [
    "import numpy as np\n",
    "import pandas as pd\n",
    "import matplotlib.pyplot as plt\n",
    "#from sklearn.datasets import load_boston #sample dataset\n",
    "from sklearn.model_selection import train_test_split #split training and testing data\n",
    "from sklearn.linear_model import LinearRegression #machine learning\n",
    "from sklearn.metrics import mean_squared_error #model evaluation"
   ]
  },
  {
   "cell_type": "markdown",
   "id": "9fda4780",
   "metadata": {},
   "source": [
    "2. Load dataset"
   ]
  },
  {
   "cell_type": "code",
   "execution_count": 2,
   "id": "baa2e924",
   "metadata": {},
   "outputs": [
    {
     "data": {
      "text/html": [
       "<div>\n",
       "<style scoped>\n",
       "    .dataframe tbody tr th:only-of-type {\n",
       "        vertical-align: middle;\n",
       "    }\n",
       "\n",
       "    .dataframe tbody tr th {\n",
       "        vertical-align: top;\n",
       "    }\n",
       "\n",
       "    .dataframe thead th {\n",
       "        text-align: right;\n",
       "    }\n",
       "</style>\n",
       "<table border=\"1\" class=\"dataframe\">\n",
       "  <thead>\n",
       "    <tr style=\"text-align: right;\">\n",
       "      <th></th>\n",
       "      <th>CRIM</th>\n",
       "      <th>ZN</th>\n",
       "      <th>INDUS</th>\n",
       "      <th>CHAS</th>\n",
       "      <th>NOX</th>\n",
       "      <th>RM</th>\n",
       "      <th>AGE</th>\n",
       "      <th>DIS</th>\n",
       "      <th>RAD</th>\n",
       "      <th>TAX</th>\n",
       "      <th>PTRATIO</th>\n",
       "      <th>B</th>\n",
       "      <th>LSTAT</th>\n",
       "    </tr>\n",
       "  </thead>\n",
       "  <tbody>\n",
       "    <tr>\n",
       "      <th>0</th>\n",
       "      <td>0.00632</td>\n",
       "      <td>18.0</td>\n",
       "      <td>2.31</td>\n",
       "      <td>0.0</td>\n",
       "      <td>0.538</td>\n",
       "      <td>6.575</td>\n",
       "      <td>65.2</td>\n",
       "      <td>4.0900</td>\n",
       "      <td>1.0</td>\n",
       "      <td>296.0</td>\n",
       "      <td>15.3</td>\n",
       "      <td>396.90</td>\n",
       "      <td>4.98</td>\n",
       "    </tr>\n",
       "    <tr>\n",
       "      <th>1</th>\n",
       "      <td>0.02731</td>\n",
       "      <td>0.0</td>\n",
       "      <td>7.07</td>\n",
       "      <td>0.0</td>\n",
       "      <td>0.469</td>\n",
       "      <td>6.421</td>\n",
       "      <td>78.9</td>\n",
       "      <td>4.9671</td>\n",
       "      <td>2.0</td>\n",
       "      <td>242.0</td>\n",
       "      <td>17.8</td>\n",
       "      <td>396.90</td>\n",
       "      <td>9.14</td>\n",
       "    </tr>\n",
       "    <tr>\n",
       "      <th>2</th>\n",
       "      <td>0.02729</td>\n",
       "      <td>0.0</td>\n",
       "      <td>7.07</td>\n",
       "      <td>0.0</td>\n",
       "      <td>0.469</td>\n",
       "      <td>7.185</td>\n",
       "      <td>61.1</td>\n",
       "      <td>4.9671</td>\n",
       "      <td>2.0</td>\n",
       "      <td>242.0</td>\n",
       "      <td>17.8</td>\n",
       "      <td>392.83</td>\n",
       "      <td>4.03</td>\n",
       "    </tr>\n",
       "    <tr>\n",
       "      <th>3</th>\n",
       "      <td>0.03237</td>\n",
       "      <td>0.0</td>\n",
       "      <td>2.18</td>\n",
       "      <td>0.0</td>\n",
       "      <td>0.458</td>\n",
       "      <td>6.998</td>\n",
       "      <td>45.8</td>\n",
       "      <td>6.0622</td>\n",
       "      <td>3.0</td>\n",
       "      <td>222.0</td>\n",
       "      <td>18.7</td>\n",
       "      <td>394.63</td>\n",
       "      <td>2.94</td>\n",
       "    </tr>\n",
       "    <tr>\n",
       "      <th>4</th>\n",
       "      <td>0.06905</td>\n",
       "      <td>0.0</td>\n",
       "      <td>2.18</td>\n",
       "      <td>0.0</td>\n",
       "      <td>0.458</td>\n",
       "      <td>7.147</td>\n",
       "      <td>54.2</td>\n",
       "      <td>6.0622</td>\n",
       "      <td>3.0</td>\n",
       "      <td>222.0</td>\n",
       "      <td>18.7</td>\n",
       "      <td>396.90</td>\n",
       "      <td>5.33</td>\n",
       "    </tr>\n",
       "  </tbody>\n",
       "</table>\n",
       "</div>"
      ],
      "text/plain": [
       "      CRIM    ZN  INDUS  CHAS    NOX     RM   AGE     DIS  RAD    TAX  \\\n",
       "0  0.00632  18.0   2.31   0.0  0.538  6.575  65.2  4.0900  1.0  296.0   \n",
       "1  0.02731   0.0   7.07   0.0  0.469  6.421  78.9  4.9671  2.0  242.0   \n",
       "2  0.02729   0.0   7.07   0.0  0.469  7.185  61.1  4.9671  2.0  242.0   \n",
       "3  0.03237   0.0   2.18   0.0  0.458  6.998  45.8  6.0622  3.0  222.0   \n",
       "4  0.06905   0.0   2.18   0.0  0.458  7.147  54.2  6.0622  3.0  222.0   \n",
       "\n",
       "   PTRATIO       B  LSTAT  \n",
       "0     15.3  396.90   4.98  \n",
       "1     17.8  396.90   9.14  \n",
       "2     17.8  392.83   4.03  \n",
       "3     18.7  394.63   2.94  \n",
       "4     18.7  396.90   5.33  "
      ]
     },
     "execution_count": 2,
     "metadata": {},
     "output_type": "execute_result"
    }
   ],
   "source": [
    "# Load the Boston Housing dataset\n",
    "boston = pd.read_csv('boston.csv')\n",
    "boston.head()"
   ]
  },
  {
   "cell_type": "code",
   "execution_count": 8,
   "id": "db35a20c",
   "metadata": {},
   "outputs": [],
   "source": [
    "X = boston.drop(\"PTRATIO\", axis=1)\n",
    "Y = boston['PTRATIO']"
   ]
  },
  {
   "cell_type": "markdown",
   "id": "1f7a226e",
   "metadata": {},
   "source": [
    "3. Splitting the data"
   ]
  },
  {
   "cell_type": "code",
   "execution_count": 9,
   "id": "c45b5afb",
   "metadata": {},
   "outputs": [],
   "source": [
    "# Split the data into training and testing sets\n",
    "X_train, X_test, y_train, y_test = train_test_split(X, Y, test_size=0.2, random_state=0)"
   ]
  },
  {
   "cell_type": "markdown",
   "id": "7ff092d3",
   "metadata": {},
   "source": [
    "4. Creating and training the model"
   ]
  },
  {
   "cell_type": "code",
   "execution_count": 10,
   "id": "32c4165c",
   "metadata": {},
   "outputs": [
    {
     "data": {
      "text/html": [
       "<style>#sk-container-id-2 {color: black;}#sk-container-id-2 pre{padding: 0;}#sk-container-id-2 div.sk-toggleable {background-color: white;}#sk-container-id-2 label.sk-toggleable__label {cursor: pointer;display: block;width: 100%;margin-bottom: 0;padding: 0.3em;box-sizing: border-box;text-align: center;}#sk-container-id-2 label.sk-toggleable__label-arrow:before {content: \"▸\";float: left;margin-right: 0.25em;color: #696969;}#sk-container-id-2 label.sk-toggleable__label-arrow:hover:before {color: black;}#sk-container-id-2 div.sk-estimator:hover label.sk-toggleable__label-arrow:before {color: black;}#sk-container-id-2 div.sk-toggleable__content {max-height: 0;max-width: 0;overflow: hidden;text-align: left;background-color: #f0f8ff;}#sk-container-id-2 div.sk-toggleable__content pre {margin: 0.2em;color: black;border-radius: 0.25em;background-color: #f0f8ff;}#sk-container-id-2 input.sk-toggleable__control:checked~div.sk-toggleable__content {max-height: 200px;max-width: 100%;overflow: auto;}#sk-container-id-2 input.sk-toggleable__control:checked~label.sk-toggleable__label-arrow:before {content: \"▾\";}#sk-container-id-2 div.sk-estimator input.sk-toggleable__control:checked~label.sk-toggleable__label {background-color: #d4ebff;}#sk-container-id-2 div.sk-label input.sk-toggleable__control:checked~label.sk-toggleable__label {background-color: #d4ebff;}#sk-container-id-2 input.sk-hidden--visually {border: 0;clip: rect(1px 1px 1px 1px);clip: rect(1px, 1px, 1px, 1px);height: 1px;margin: -1px;overflow: hidden;padding: 0;position: absolute;width: 1px;}#sk-container-id-2 div.sk-estimator {font-family: monospace;background-color: #f0f8ff;border: 1px dotted black;border-radius: 0.25em;box-sizing: border-box;margin-bottom: 0.5em;}#sk-container-id-2 div.sk-estimator:hover {background-color: #d4ebff;}#sk-container-id-2 div.sk-parallel-item::after {content: \"\";width: 100%;border-bottom: 1px solid gray;flex-grow: 1;}#sk-container-id-2 div.sk-label:hover label.sk-toggleable__label {background-color: #d4ebff;}#sk-container-id-2 div.sk-serial::before {content: \"\";position: absolute;border-left: 1px solid gray;box-sizing: border-box;top: 0;bottom: 0;left: 50%;z-index: 0;}#sk-container-id-2 div.sk-serial {display: flex;flex-direction: column;align-items: center;background-color: white;padding-right: 0.2em;padding-left: 0.2em;position: relative;}#sk-container-id-2 div.sk-item {position: relative;z-index: 1;}#sk-container-id-2 div.sk-parallel {display: flex;align-items: stretch;justify-content: center;background-color: white;position: relative;}#sk-container-id-2 div.sk-item::before, #sk-container-id-2 div.sk-parallel-item::before {content: \"\";position: absolute;border-left: 1px solid gray;box-sizing: border-box;top: 0;bottom: 0;left: 50%;z-index: -1;}#sk-container-id-2 div.sk-parallel-item {display: flex;flex-direction: column;z-index: 1;position: relative;background-color: white;}#sk-container-id-2 div.sk-parallel-item:first-child::after {align-self: flex-end;width: 50%;}#sk-container-id-2 div.sk-parallel-item:last-child::after {align-self: flex-start;width: 50%;}#sk-container-id-2 div.sk-parallel-item:only-child::after {width: 0;}#sk-container-id-2 div.sk-dashed-wrapped {border: 1px dashed gray;margin: 0 0.4em 0.5em 0.4em;box-sizing: border-box;padding-bottom: 0.4em;background-color: white;}#sk-container-id-2 div.sk-label label {font-family: monospace;font-weight: bold;display: inline-block;line-height: 1.2em;}#sk-container-id-2 div.sk-label-container {text-align: center;}#sk-container-id-2 div.sk-container {/* jupyter's `normalize.less` sets `[hidden] { display: none; }` but bootstrap.min.css set `[hidden] { display: none !important; }` so we also need the `!important` here to be able to override the default hidden behavior on the sphinx rendered scikit-learn.org. See: https://github.com/scikit-learn/scikit-learn/issues/21755 */display: inline-block !important;position: relative;}#sk-container-id-2 div.sk-text-repr-fallback {display: none;}</style><div id=\"sk-container-id-2\" class=\"sk-top-container\"><div class=\"sk-text-repr-fallback\"><pre>LinearRegression()</pre><b>In a Jupyter environment, please rerun this cell to show the HTML representation or trust the notebook. <br />On GitHub, the HTML representation is unable to render, please try loading this page with nbviewer.org.</b></div><div class=\"sk-container\" hidden><div class=\"sk-item\"><div class=\"sk-estimator sk-toggleable\"><input class=\"sk-toggleable__control sk-hidden--visually\" id=\"sk-estimator-id-2\" type=\"checkbox\" checked><label for=\"sk-estimator-id-2\" class=\"sk-toggleable__label sk-toggleable__label-arrow\">LinearRegression</label><div class=\"sk-toggleable__content\"><pre>LinearRegression()</pre></div></div></div></div></div>"
      ],
      "text/plain": [
       "LinearRegression()"
      ]
     },
     "execution_count": 10,
     "metadata": {},
     "output_type": "execute_result"
    }
   ],
   "source": [
    "# Create and train the linear regression model\n",
    "model = LinearRegression()\n",
    "model.fit(X_train, y_train)"
   ]
  },
  {
   "cell_type": "markdown",
   "id": "c4777ec8",
   "metadata": {},
   "source": [
    "5. Making predictions"
   ]
  },
  {
   "cell_type": "code",
   "execution_count": 11,
   "id": "6da2fc4d",
   "metadata": {},
   "outputs": [],
   "source": [
    "# Make predictions using the trained model\n",
    "y_pred = model.predict(X_test)"
   ]
  },
  {
   "cell_type": "markdown",
   "id": "ee8ab738",
   "metadata": {},
   "source": [
    "6. Calculating Mean Squared Error"
   ]
  },
  {
   "cell_type": "code",
   "execution_count": 12,
   "id": "e0e2f4f8",
   "metadata": {},
   "outputs": [
    {
     "name": "stdout",
     "output_type": "stream",
     "text": [
      "Mean Squared Error: 2.514560582367601\n"
     ]
    }
   ],
   "source": [
    "# Calculate Mean Squared Error (MSE)\n",
    "mse = mean_squared_error(y_test, y_pred)\n",
    "print(\"Mean Squared Error:\", mse)"
   ]
  },
  {
   "cell_type": "markdown",
   "id": "c5df5f72",
   "metadata": {},
   "source": [
    "7. Plotting predicted vs. actual values"
   ]
  },
  {
   "cell_type": "code",
   "execution_count": 15,
   "id": "eb85723f",
   "metadata": {},
   "outputs": [
    {
     "data": {
      "image/png": "[encoded data removed]",
      "text/plain": [
       "<Figure size 640x480 with 1 Axes>"
      ]
     },
     "metadata": {},
     "output_type": "display_data"
    }
   ],
   "source": [
    "# Plot predicted vs. actual values\n",
    "plt.scatter(y_test, y_pred)\n",
    "plt.plot([min(y_test), max(y_test)], [min(y_test), max(y_test)], color='red', linestyle='--', label='Perfect Prediction')\n",
    "plt.title(\"Actual VS Predicted\")\n",
    "plt.xlabel(\"Actual\")\n",
    "plt.ylabel(\"Predicted\")\n",
    "plt.legend()\n",
    "plt.show()"
   ]
  },
  {
   "cell_type": "code",
   "execution_count": 33,
   "id": "7f636451",
   "metadata": {},
   "outputs": [
    {
     "name": "stdout",
     "output_type": "stream",
     "text": [
      "Test Size: 0.1\n",
      "Mean Squared Error: 2.9909839257100432\n",
      "Test Size: 0.2\n",
      "Mean Squared Error: 2.514560582367601\n",
      "Test Size: 0.3\n",
      "Mean Squared Error: 2.7077791329923984\n",
      "Test Size: 0.4\n",
      "Mean Squared Error: 2.6469845515859776\n",
      "Test Size: 0.5\n",
      "Mean Squared Error: 2.7182103247845437\n"
     ]
    }
   ],
   "source": [
    "test_size_list = [0.1,0.2,0.3,0.4,0.5]\n",
    "for size in test_size_list:\n",
    "    X_train, X_test, y_train, y_test = train_test_split(X, Y, test_size=size, random_state=0)\n",
    "    model = LinearRegression()\n",
    "    model.fit(X_train, y_train)\n",
    "    y_pred = model.predict(X_test)\n",
    "    mse = mean_squared_error(y_test, y_pred)\n",
    "    print(\"Test Size:\", size)\n",
    "    print(\"Mean Squared Error:\", mse)"
   ]
  },
  {
   "cell_type": "code",
   "execution_count": 35,
   "id": "a5e142c9",
   "metadata": {},
   "outputs": [
    {
     "name": "stdout",
     "output_type": "stream",
     "text": [
      "Random State: 0\n",
      "Test Size: 0.1\n",
      "Mean Squared Error: 2.9909839257100432\n",
      "Random State: 10\n",
      "Test Size: 0.1\n",
      "Mean Squared Error: 2.9249006131454767\n",
      "Random State: 30\n",
      "Test Size: 0.1\n",
      "Mean Squared Error: 2.4466826703966524\n",
      "Random State: 40\n",
      "Test Size: 0.1\n",
      "Mean Squared Error: 2.695281200817631\n",
      "Random State: 50\n",
      "Test Size: 0.1\n",
      "Mean Squared Error: 3.1598346794609404\n",
      "Random State: 0\n",
      "Test Size: 0.2\n",
      "Mean Squared Error: 2.514560582367601\n",
      "Random State: 10\n",
      "Test Size: 0.2\n",
      "Mean Squared Error: 3.077601950720637\n",
      "Random State: 30\n",
      "Test Size: 0.2\n",
      "Mean Squared Error: 2.533158274290671\n",
      "Random State: 40\n",
      "Test Size: 0.2\n",
      "Mean Squared Error: 2.6721847261891924\n",
      "Random State: 50\n",
      "Test Size: 0.2\n",
      "Mean Squared Error: 3.389503186251195\n",
      "Random State: 0\n",
      "Test Size: 0.3\n",
      "Mean Squared Error: 2.7077791329923984\n",
      "Random State: 10\n",
      "Test Size: 0.3\n",
      "Mean Squared Error: 2.74236115264994\n",
      "Random State: 30\n",
      "Test Size: 0.3\n",
      "Mean Squared Error: 2.652674543535335\n",
      "Random State: 40\n",
      "Test Size: 0.3\n",
      "Mean Squared Error: 2.918002847502773\n",
      "Random State: 50\n",
      "Test Size: 0.3\n",
      "Mean Squared Error: 3.153678994236069\n",
      "Random State: 0\n",
      "Test Size: 0.4\n",
      "Mean Squared Error: 2.6469845515859776\n",
      "Random State: 10\n",
      "Test Size: 0.4\n",
      "Mean Squared Error: 2.705916612113829\n",
      "Random State: 30\n",
      "Test Size: 0.4\n",
      "Mean Squared Error: 2.5202320999439856\n",
      "Random State: 40\n",
      "Test Size: 0.4\n",
      "Mean Squared Error: 2.770338445487651\n",
      "Random State: 50\n",
      "Test Size: 0.4\n",
      "Mean Squared Error: 2.810348918568171\n",
      "Random State: 0\n",
      "Test Size: 0.5\n",
      "Mean Squared Error: 2.7182103247845437\n",
      "Random State: 10\n",
      "Test Size: 0.5\n",
      "Mean Squared Error: 2.7822214542227646\n",
      "Random State: 30\n",
      "Test Size: 0.5\n",
      "Mean Squared Error: 2.6791044583779153\n",
      "Random State: 40\n",
      "Test Size: 0.5\n",
      "Mean Squared Error: 2.825936543369805\n",
      "Random State: 50\n",
      "Test Size: 0.5\n",
      "Mean Squared Error: 2.824881296850746\n"
     ]
    }
   ],
   "source": [
    "test_size_list = [0.1,0.2,0.3,0.4,0.5]\n",
    "rand = [0,10,30,40,50]\n",
    "\n",
    "for size in test_size_list:\n",
    "    for num in rand:\n",
    "        print(\"Random State:\", num)\n",
    "        X_train, X_test, y_train, y_test = train_test_split(X, Y, test_size=size, random_state=num)\n",
    "        model = LinearRegression()\n",
    "        model.fit(X_train, y_train)\n",
    "        y_pred = model.predict(X_test)\n",
    "        mse = mean_squared_error(y_test, y_pred)\n",
    "        print(\"Test Size:\", size)\n",
    "        print(\"Mean Squared Error:\", mse)"
   ]
  },
  {
   "cell_type": "markdown",
   "id": "16118273",
   "metadata": {},
   "source": [
    "8. Model Evaluation "
   ]
  },
  {
   "cell_type": "code",
   "execution_count": 17,
   "id": "eb2bbb12",
   "metadata": {},
   "outputs": [
    {
     "name": "stdout",
     "output_type": "stream",
     "text": [
      "Mean Squared Error: 2.514560582367601\n",
      "Mean Absolute Error: 1.2173430245502777\n",
      "Root Mean Squared Error: 1.1033326898765747\n",
      "R-squared: 0.3971969802818469\n"
     ]
    }
   ],
   "source": [
    "from sklearn.metrics import mean_absolute_error, mean_squared_error, r2_score\n",
    "print(\"Mean Squared Error:\", mse)\n",
    "print(\"Mean Absolute Error:\", mean_absolute_error(y_test, y_pred))\n",
    "print(\"Root Mean Squared Error:\", np.sqrt(mean_absolute_error(y_test, y_pred)))\n",
    "print(\"R-squared:\", r2_score(y_test, y_pred))"
   ]
  },
  {
   "cell_type": "markdown",
   "id": "f41c3547",
   "metadata": {},
   "source": [
    "1. Mean Absolute Error (MAE):\n",
    "\n",
    "-MAE measures the average absolute difference between the actual values and the predicted values.\n",
    "\n",
    "-In this case, the MAE is approximately 3.843. This means, on average, the linear regression model's predictions are off by about 3.843 units from the actual values.\n",
    "\n",
    "-MAE is easy to understand and gives a sense of the magnitude of errors in your model's predictions."
   ]
  },
  {
   "cell_type": "markdown",
   "id": "ed7d44f9",
   "metadata": {},
   "source": [
    "2. Root Mean Squared Error (RMSE):\n",
    "\n",
    "-RMSE is similar to MAE but gives more weight to larger errors because it takes the square of the differences.\n",
    "\n",
    "-In this case, the RMSE is approximately 5.784. This means, on average, your model's predictions are off by about 5.784 units from the actual values, and larger errors have a more significant impact on this metric compared to MAE.\n",
    "\n",
    "-RMSE is sensitive to outliers and is a useful metric when you want to penalize larger errors more."
   ]
  },
  {
   "cell_type": "markdown",
   "id": "0b9b783a",
   "metadata": {},
   "source": [
    "3. R-squared (R²):\n",
    "\n",
    "-R-squared measures the proportion of the variance in the dependent variable (the one you're trying to predict) that is predictable from the independent variables (features) in your model.\n",
    "\n",
    "-In this case, the R-squared value is approximately 0.5892, which means that about 58.92% of the variance in the dependent variable is explained by your linear regression model.\n",
    "\n",
    "-R-squared ranges from 0 to 1, where 1 indicates that the model explains all the variance, and 0 indicates that the model explains none of the variance.\n",
    "\n",
    "\n",
    "\n",
    "\n",
    "\n"
   ]
  },
  {
   "cell_type": "code",
   "execution_count": null,
   "id": "b19fe22a",
   "metadata": {},
   "outputs": [],
   "source": []
  }
 ],
 "metadata": {
  "kernelspec": {
   "display_name": "Python 3 (ipykernel)",
   "language": "python",
   "name": "python3"
  },
  "language_info": {
   "codemirror_mode": {
    "name": "ipython",
    "version": 3
   },
   "file_extension": ".py",
   "mimetype": "text/x-python",
   "name": "python",
   "nbconvert_exporter": "python",
   "pygments_lexer": "ipython3",
   "version": "3.11.4"
  }
 },
 "nbformat": 4,
 "nbformat_minor": 5
}
