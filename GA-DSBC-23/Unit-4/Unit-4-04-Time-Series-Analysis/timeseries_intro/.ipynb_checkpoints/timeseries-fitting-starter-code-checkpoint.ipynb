{
 "cells": [
  {
   "cell_type": "markdown",
   "metadata": {},
   "source": [
    "<img src=\"http://imgur.com/1ZcRyrc.png\" style=\"float: left; margin: 20px; height: 55px\">\n",
    "\n",
    "# A simplistic approach to time series modeling\n",
    "\n",
    "---\n"
   ]
  },
  {
   "cell_type": "markdown",
   "metadata": {
    "toc": true
   },
   "source": [
    "<h1>Lab Guide<span class=\"tocSkip\"></span></h1>\n",
    "<div class=\"toc\"><ul class=\"toc-item\"><li><span><a href=\"#A-simplistic-approach-to-time-series-modeling\" data-toc-modified-id=\"A-simplistic-approach-to-time-series-modeling-1\">A simplistic approach to time series modeling</a></span><ul class=\"toc-item\"><li><ul class=\"toc-item\"><li><span><a href=\"#Load-the-stock-data\" data-toc-modified-id=\"Load-the-stock-data-1.0.1\">Load the stock data</a></span><ul class=\"toc-item\"><li><span><a href=\"#Load-the-data\" data-toc-modified-id=\"Load-the-data-1.0.1.1\">Load the data</a></span></li><li><span><a href=\"#Sort-the-rows-by-Date-in-ascending-order\" data-toc-modified-id=\"Sort-the-rows-by-Date-in-ascending-order-1.0.1.2\">Sort the rows by <code>Date</code> in ascending order</a></span></li></ul></li><li><span><a href=\"#Make-the-Date-column-the-index-of-the-DataFrame.\" data-toc-modified-id=\"Make-the-Date-column-the-index-of-the-DataFrame.-1.0.2\">Make the <code>Date</code> column the index of the DataFrame.</a></span></li><li><span><a href=\"#Predicting-price-developments\" data-toc-modified-id=\"Predicting-price-developments-1.0.3\">Predicting price developments</a></span><ul class=\"toc-item\"><li><span><a href=\"#Create-the-data-frame\" data-toc-modified-id=\"Create-the-data-frame-1.0.3.1\">Create the data frame</a></span></li><li><span><a href=\"#Drop-missing-values\" data-toc-modified-id=\"Drop-missing-values-1.0.3.2\">Drop missing values</a></span></li><li><span><a href=\"#Look-at-correlations-between-the-variables\" data-toc-modified-id=\"Look-at-correlations-between-the-variables-1.0.3.3\">Look at correlations between the variables</a></span></li><li><span><a href=\"#Extract-the-outcome-variable\" data-toc-modified-id=\"Extract-the-outcome-variable-1.0.3.4\">Extract the outcome variable</a></span></li><li><span><a href=\"#Create-a-train-test\" data-toc-modified-id=\"Create-a-train-test-1.0.3.5\">Create a train-test</a></span></li><li><span><a href=\"#Fit-a-linear-regression-model-and-evaluate-it-on-the-train-and-test-set.\" data-toc-modified-id=\"Fit-a-linear-regression-model-and-evaluate-it-on-the-train-and-test-set.-1.0.3.6\">Fit a linear regression model and evaluate it on the train and test set.</a></span></li><li><span><a href=\"#Obtain-the-prediction-for-the-train-and-test-set-and-plot-them-together-with-the-true-values.\" data-toc-modified-id=\"Obtain-the-prediction-for-the-train-and-test-set-and-plot-them-together-with-the-true-values.-1.0.3.7\">Obtain the prediction for the train and test set and plot them together with the true values.</a></span></li><li><span><a href=\"#Fit-a-random-forest-model-instead.-Does-that-lead-to-an-improvement?\" data-toc-modified-id=\"Fit-a-random-forest-model-instead.-Does-that-lead-to-an-improvement?-1.0.3.8\">Fit a random forest model instead. Does that lead to an improvement?</a></span></li></ul></li><li><span><a href=\"#Fit-a-linear-regression-model-taking-additionally-the-prices-of-the-day-before-yesterday-as-predictors-into-account.\" data-toc-modified-id=\"Fit-a-linear-regression-model-taking-additionally-the-prices-of-the-day-before-yesterday-as-predictors-into-account.-1.0.4\">Fit a linear regression model taking additionally the prices of the day before yesterday as predictors into account.</a></span></li><li><span><a href=\"#Fitting-a-classification-model\" data-toc-modified-id=\"Fitting-a-classification-model-1.0.5\">Fitting a classification model</a></span><ul class=\"toc-item\"><li><span><a href=\"#Predict-rise-or-drop-with-yesterday's-close-price-and-today's-open-price.\" data-toc-modified-id=\"Predict-rise-or-drop-with-yesterday's-close-price-and-today's-open-price.-1.0.5.1\">Predict rise or drop with yesterday's close price and today's open price.</a></span></li><li><span><a href=\"#Determine-the-baseline-for-the-model\" data-toc-modified-id=\"Determine-the-baseline-for-the-model-1.0.5.2\">Determine the baseline for the model</a></span></li><li><span><a href=\"#Create-a-train-test-split\" data-toc-modified-id=\"Create-a-train-test-split-1.0.5.3\">Create a train-test split</a></span></li><li><span><a href=\"#Fit-and-evaluate-a-logistic-regression-model.\" data-toc-modified-id=\"Fit-and-evaluate-a-logistic-regression-model.-1.0.5.4\">Fit and evaluate a logistic regression model.</a></span></li><li><span><a href=\"#Fit-and-evaluate-a-random-forest-classifier.\" data-toc-modified-id=\"Fit-and-evaluate-a-random-forest-classifier.-1.0.5.5\">Fit and evaluate a random forest classifier.</a></span></li></ul></li></ul></li></ul></li></ul></div>"
   ]
  },
  {
   "cell_type": "code",
   "execution_count": null,
   "metadata": {},
   "outputs": [],
   "source": [
    "import pandas as pd\n",
    "import numpy as np\n",
    "import matplotlib.pyplot as plt\n",
    "import seaborn as sns\n",
    " \n",
    "plt.style.use('fivethirtyeight')\n",
    "\n",
    "%config InlineBackend.figure_format = 'retina'\n",
    "%matplotlib inline"
   ]
  },
  {
   "cell_type": "markdown",
   "metadata": {},
   "source": [
    "### Problem Statement\n",
    "\n",
    "Are we able to predict stock price of Apple (AAPL) based on historical data?\n",
    "We have obtained one year of daily stock data from 2016 to 2017.\n",
    "\n",
    "- `Close`: The price of AAPL when the stock market closes (at 4:30pm ET)\n",
    "- `High`: The highest price of AAPL during that trading day\n",
    "- `Low`: The lowest price of AAPL during that trading day\n",
    "- `Open`: The price of AAPL when the stock market opens (at 9:30am ET)\n",
    "- `Volume`: How many shares of AAPL were traded that day"
   ]
  },
  {
   "cell_type": "markdown",
   "metadata": {},
   "source": [
    "#### Load the data"
   ]
  },
  {
   "cell_type": "code",
   "execution_count": null,
   "metadata": {},
   "outputs": [],
   "source": [
    "df = pd.read_csv('./datasets/aapl.csv', parse_dates=['Date'])\n",
    "df.head()"
   ]
  },
  {
   "cell_type": "code",
   "execution_count": null,
   "metadata": {},
   "outputs": [],
   "source": [
    "df.info()"
   ]
  },
  {
   "cell_type": "markdown",
   "metadata": {},
   "source": [
    "#### Sort the rows by `Date` in ascending order"
   ]
  },
  {
   "cell_type": "code",
   "execution_count": null,
   "metadata": {},
   "outputs": [],
   "source": [
    "df = df.sort_values(????)\n"
   ]
  },
  {
   "cell_type": "markdown",
   "metadata": {},
   "source": [
    "### Make the `Date` column the index of the DataFrame.\n",
    "\n",
    "Making the index a datetime allows us to easily order the data by time. Doing this will result in dataframe objects indexed by DateTime - literally Time Series!"
   ]
  },
  {
   "cell_type": "code",
   "execution_count": null,
   "metadata": {},
   "outputs": [],
   "source": [
    "df.set_index(????,inplace=True,drop=True)"
   ]
  },
  {
   "cell_type": "code",
   "execution_count": null,
   "metadata": {},
   "outputs": [],
   "source": [
    "df.index.name = None"
   ]
  },
  {
   "cell_type": "code",
   "execution_count": null,
   "metadata": {},
   "outputs": [],
   "source": [
    "#make a quick plot of open, high, low, close\n",
    "df['Open'].plot(color='red', alpha=0.5, linewidth=2, label='Open')\n",
    "plt.legend()\n",
    "plt.show()"
   ]
  },
  {
   "cell_type": "markdown",
   "metadata": {},
   "source": [
    "### Predicting price developments\n",
    "\n",
    "Let's create a simple predictive model for time series.\n",
    "- As the outcome variable we take today's Close price. \n",
    "- As predictors we use yesterday's Close price and today's Open price. "
   ]
  },
  {
   "cell_type": "markdown",
   "metadata": {},
   "source": [
    "#### Create the data frame\n",
    "\n",
    "Use `.shift()` to create a column containing yesterday's closing prices."
   ]
  },
  {
   "cell_type": "code",
   "execution_count": null,
   "metadata": {},
   "outputs": [],
   "source": [
    "df['Close_Day_Before'] = ???\n",
    "X = df[['Close','Close_Day_Before','Open']].copy()\n",
    "X.head()"
   ]
  },
  {
   "cell_type": "markdown",
   "metadata": {},
   "source": [
    "#### Drop missing values"
   ]
  },
  {
   "cell_type": "code",
   "execution_count": null,
   "metadata": {},
   "outputs": [],
   "source": []
  },
  {
   "cell_type": "markdown",
   "metadata": {},
   "source": [
    "#### Look at correlations between the variables"
   ]
  },
  {
   "cell_type": "code",
   "execution_count": null,
   "metadata": {},
   "outputs": [],
   "source": []
  },
  {
   "cell_type": "markdown",
   "metadata": {},
   "source": [
    "#### Extract the outcome variable"
   ]
  },
  {
   "cell_type": "code",
   "execution_count": null,
   "metadata": {},
   "outputs": [],
   "source": [
    "y = X.pop('Close')"
   ]
  },
  {
   "cell_type": "markdown",
   "metadata": {},
   "source": [
    "#### Create a train-test\n",
    "\n",
    "Make sure to split in the order of the dates (why???)\n",
    "\n",
    "Do we still need `sklearn.model_selection.train_test_split`??"
   ]
  },
  {
   "cell_type": "code",
   "execution_count": null,
   "metadata": {},
   "outputs": [],
   "source": [
    "#from sklearn.model_selection import train_test_split\n",
    "#X_train, X_test, y_train, y_test = train_test_split(X, y, test_size=0.33,shuffle=False)"
   ]
  },
  {
   "cell_type": "code",
   "execution_count": null,
   "metadata": {},
   "outputs": [],
   "source": [
    "# Or just specify the number of days to use for training\n",
    "n = 150\n",
    "X_train, y_train = X[:n], y[:n]\n",
    "X_test, y_test = X[n:], y[n:]"
   ]
  },
  {
   "cell_type": "code",
   "execution_count": null,
   "metadata": {},
   "outputs": [],
   "source": [
    "# Check the training and test sets"
   ]
  },
  {
   "cell_type": "markdown",
   "metadata": {},
   "source": [
    "#### Fit a linear regression model and evaluate it on the train and test set."
   ]
  },
  {
   "cell_type": "code",
   "execution_count": null,
   "metadata": {},
   "outputs": [],
   "source": [
    "from sklearn.linear_model import LinearRegression"
   ]
  },
  {
   "cell_type": "code",
   "execution_count": null,
   "metadata": {},
   "outputs": [],
   "source": [
    "model = ????\n",
    "model.???(X_train, y_train)\n",
    "print(model.score(X_train, y_train))\n",
    "print(model.score(X_test, y_test))"
   ]
  },
  {
   "cell_type": "markdown",
   "metadata": {},
   "source": [
    "#### Obtain the prediction for the train and test set and plot them together with the true values."
   ]
  },
  {
   "cell_type": "code",
   "execution_count": null,
   "metadata": {},
   "outputs": [],
   "source": [
    "predictions_train = model.predict(X_train)\n",
    "predictions_test = model.predict(X_test)"
   ]
  },
  {
   "cell_type": "code",
   "execution_count": null,
   "metadata": {},
   "outputs": [],
   "source": [
    "X['predictions'] = np.concatenate([predictions_train,predictions_test])"
   ]
  },
  {
   "cell_type": "code",
   "execution_count": null,
   "metadata": {},
   "outputs": [],
   "source": [
    "plt.figure(figsize=(12,6))\n",
    "y.plot( lw=2, label='actual')\n",
    "X['predictions'].plot(label='predicted', lw=2)\n",
    "\n",
    "plt.legend()\n",
    "# we split the training and test set at n\n",
    "plt.vlines(X.index[n],90,120, color='g', lw=2)\n",
    "plt.show()"
   ]
  },
  {
   "cell_type": "code",
   "execution_count": null,
   "metadata": {},
   "outputs": [],
   "source": [
    "# Take a closer look at the border between the training and test set\n",
    "X['predictions'][n-20:n+20].plot()\n",
    "y[n-20:n+20].plot()\n",
    "plt.vlines(X.index[n],90,120, color='b')\n",
    "plt.show()"
   ]
  },
  {
   "cell_type": "code",
   "execution_count": null,
   "metadata": {},
   "outputs": [],
   "source": [
    "X['predictions'][n:].plot()\n",
    "y[n:].plot()\n",
    "plt.vlines(X.index[n],90,120)\n",
    "plt.show()"
   ]
  },
  {
   "cell_type": "markdown",
   "metadata": {},
   "source": [
    "#### Fit a random forest model instead. Does that lead to an improvement?"
   ]
  },
  {
   "cell_type": "code",
   "execution_count": null,
   "metadata": {},
   "outputs": [],
   "source": [
    "from sklearn.ensemble import RandomForestRegressor"
   ]
  },
  {
   "cell_type": "code",
   "execution_count": null,
   "metadata": {},
   "outputs": [],
   "source": [
    "model = RandomForestRegressor(n_estimators=100)\n",
    "# fit and score\n"
   ]
  },
  {
   "cell_type": "markdown",
   "metadata": {},
   "source": [
    "### Fit a linear regression model taking additionally the prices of the day before yesterday as predictors into account."
   ]
  },
  {
   "cell_type": "code",
   "execution_count": null,
   "metadata": {},
   "outputs": [],
   "source": [
    "df['Close_shift_1'] = ???\n",
    "df['Close_shift_2'] = ???\n",
    "X = df[['Close','Close_shift_1','Close_shift_2','Open']].copy()\n",
    "X.head()"
   ]
  },
  {
   "cell_type": "code",
   "execution_count": null,
   "metadata": {},
   "outputs": [],
   "source": [
    "# drop the nulls"
   ]
  },
  {
   "cell_type": "code",
   "execution_count": null,
   "metadata": {},
   "outputs": [],
   "source": [
    "# Get the target column\n"
   ]
  },
  {
   "cell_type": "code",
   "execution_count": null,
   "metadata": {},
   "outputs": [],
   "source": [
    "# create training set for first 150 days, test set for remainder\n"
   ]
  },
  {
   "cell_type": "code",
   "execution_count": null,
   "metadata": {},
   "outputs": [],
   "source": [
    "# Fit and score the Linear Regression model - are the results better?\n",
    "\n"
   ]
  },
  {
   "cell_type": "markdown",
   "metadata": {},
   "source": [
    "### Fitting a classification model\n",
    "\n",
    "What if we want to predict whether the price will go **up** or **down** the next day?\n",
    "\n",
    "Create a binary variable which indicates for consecutive days if the closing price rose or dropped."
   ]
  },
  {
   "cell_type": "code",
   "execution_count": null,
   "metadata": {},
   "outputs": [],
   "source": [
    "df['up'] = (df.Close.diff()>0)*1\n"
   ]
  },
  {
   "cell_type": "code",
   "execution_count": null,
   "metadata": {},
   "outputs": [],
   "source": [
    "df.head()"
   ]
  },
  {
   "cell_type": "markdown",
   "metadata": {},
   "source": [
    "#### Predict rise or drop with yesterday's close price and today's open price."
   ]
  },
  {
   "cell_type": "code",
   "execution_count": null,
   "metadata": {},
   "outputs": [],
   "source": [
    "X = df[['up','Close_shift_1','Open']].copy()\n",
    "X.dropna(inplace=True)\n",
    "y = X.pop('up')"
   ]
  },
  {
   "cell_type": "markdown",
   "metadata": {},
   "source": [
    "#### Determine the baseline for the model"
   ]
  },
  {
   "cell_type": "code",
   "execution_count": null,
   "metadata": {},
   "outputs": [],
   "source": [
    "y.value_counts(normalize=True)"
   ]
  },
  {
   "cell_type": "markdown",
   "metadata": {},
   "source": [
    "#### Create a train-test split"
   ]
  },
  {
   "cell_type": "code",
   "execution_count": null,
   "metadata": {},
   "outputs": [],
   "source": [
    "n = 150\n",
    "X_train, y_train = X[:n], y[:n]\n",
    "X_test, y_test = X[n:], y[n:]"
   ]
  },
  {
   "cell_type": "markdown",
   "metadata": {},
   "source": [
    "#### Fit and evaluate a logistic regression model."
   ]
  },
  {
   "cell_type": "code",
   "execution_count": null,
   "metadata": {},
   "outputs": [],
   "source": [
    "from sklearn.linear_model import LogisticRegression\n",
    "from sklearn.metrics import confusion_matrix,ConfusionMatrixDisplay"
   ]
  },
  {
   "cell_type": "code",
   "execution_count": null,
   "metadata": {},
   "outputs": [],
   "source": [
    "lr_model = ???\n",
    "lr_model.fit(????)\n",
    "print(f'Training Accuracy: {lr_model.score(X_train, y_train)}')\n",
    "print(f'Test Accuracy: {lr_model.score(X_test, y_test):.3f}')\n"
   ]
  },
  {
   "cell_type": "code",
   "execution_count": null,
   "metadata": {},
   "outputs": [],
   "source": [
    "# Plot confusion matrix\n",
    "\n",
    "lr_cm = confusion_matrix(y_test,lr_model.predict(X_test))\n",
    "disp = ConfusionMatrixDisplay(lr_cm, display_labels=['down = 0', 'up = 1'])\n",
    "disp.plot()\n",
    "plt.show()"
   ]
  },
  {
   "cell_type": "markdown",
   "metadata": {},
   "source": [
    "#### Fit and evaluate a random forest classifier."
   ]
  },
  {
   "cell_type": "code",
   "execution_count": null,
   "metadata": {},
   "outputs": [],
   "source": [
    "from sklearn.ensemble import RandomForestClassifier"
   ]
  },
  {
   "cell_type": "code",
   "execution_count": null,
   "metadata": {},
   "outputs": [],
   "source": [
    "rf_model = RandomForestClassifier(n_estimators=100)\n",
    "# Fit and train the rf_model,generate the confusion matrix plot too\n"
   ]
  },
  {
   "cell_type": "markdown",
   "metadata": {},
   "source": [
    "## Compare side by side"
   ]
  },
  {
   "cell_type": "code",
   "execution_count": null,
   "metadata": {},
   "outputs": [],
   "source": [
    "plt.figure(figsize=(24,12))\n",
    "\n",
    "plt.suptitle(\"Confusion Matrixes\",fontsize=24)\n",
    "plt.subplots_adjust(wspace = 0.4, hspace= 0.4)\n",
    "\n",
    "plt.subplot(1,2,1) #2x2 grid position 1\n",
    "plt.title(\"Logistic Regression Confusion Matrix\")\n",
    "sns.heatmap(lr_cm,annot=True,cmap=\"Blues\",fmt=\"d\",cbar=False, annot_kws={\"size\": 24})\n",
    "\n",
    "# add the confusion matrix for random forest\n"
   ]
  },
  {
   "cell_type": "markdown",
   "metadata": {},
   "source": [
    "## Evaluating with ROC Curve\n",
    "\n",
    "Another method of evaluating classification models is to use the ROC (Receiver Operating Characteristic) Curve"
   ]
  },
  {
   "cell_type": "code",
   "execution_count": null,
   "metadata": {},
   "outputs": [],
   "source": [
    "from sklearn.metrics import roc_auc_score, RocCurveDisplay\n",
    "RocCurveDisplay.from_predictions(y_test, lr_model.predict(X_test), plot_chance_level=True)\n",
    "plt.show()"
   ]
  },
  {
   "cell_type": "markdown",
   "metadata": {},
   "source": [
    "### ROC AUC\n",
    "\n",
    "The more area under this blue curve is, the better separated our distributions are.\n",
    "- Check out this gif ([source](https://twitter.com/DrHughHarvey/status/1104435699095404544)):\n",
    "\n",
    "![](https://media.giphy.com/media/H1SZ5oRLIuZ1t1c4Di/giphy.gif)\n",
    "\n",
    "We use the **area under the ROC curve** (abbreviated **ROC AUC** or **AUC ROC**) to quantify the gap between our distributions."
   ]
  },
  {
   "cell_type": "code",
   "execution_count": null,
   "metadata": {},
   "outputs": [],
   "source": [
    "print(f'AUC Score for Logistic Regression : {roc_auc_score(y_test, lr_model.predict(X_test)):.3f}')\n"
   ]
  },
  {
   "cell_type": "markdown",
   "metadata": {},
   "source": [
    "Show the ROC Curve for the random forest classifer too.\n"
   ]
  },
  {
   "cell_type": "code",
   "execution_count": null,
   "metadata": {},
   "outputs": [],
   "source": []
  },
  {
   "cell_type": "markdown",
   "metadata": {},
   "source": [
    "### Interpreting ROC AUC\n",
    "- If you have an ROC AUC of 0.5, your positive and negative populations perfectly overlap and your model is as bad as it can get.\n",
    "- If you have an ROC AUC of 1, your positive and negative populations are perfectly separated and your model is as good as it can get.\n",
    "- The closer your ROC AUC is to 1, the better. (1 is the maximum score.)\n",
    "- If you have an ROC AUC of below 0.5, your positive and negative distributions have flipped sides. By flipping your predicted values (i.e. flipping predicted 1s and 0s), your ROC AUC will now be above 0.5.\n",
    "    - Example: You have an ROC AUC of 0.2. If you change your predicted 1s to 0s and your predicted 0s to 1s, your ROC AUC will now be 0.8!"
   ]
  },
  {
   "cell_type": "markdown",
   "metadata": {},
   "source": [
    "## Conclusion\n",
    "\n",
    "What conclusions and recommendations can you make about the models that we have developed?"
   ]
  }
 ],
 "metadata": {
  "kernelspec": {
   "display_name": "Python 3 (ipykernel)",
   "language": "python",
   "name": "python3"
  },
  "language_info": {
   "codemirror_mode": {
    "name": "ipython",
    "version": 3
   },
   "file_extension": ".py",
   "mimetype": "text/x-python",
   "name": "python",
   "nbconvert_exporter": "python",
   "pygments_lexer": "ipython3",
   "version": "3.11.4"
  },
  "toc": {
   "nav_menu": {},
   "number_sections": false,
   "sideBar": true,
   "skip_h1_title": false,
   "title_cell": "Lab Guide",
   "title_sidebar": "Contents",
   "toc_cell": true,
   "toc_position": {},
   "toc_section_display": true,
   "toc_window_display": false
  },
  "varInspector": {
   "cols": {
    "lenName": 16,
    "lenType": 16,
    "lenVar": 40
   },
   "kernels_config": {
    "python": {
     "delete_cmd_postfix": "",
     "delete_cmd_prefix": "del ",
     "library": "var_list.py",
     "varRefreshCmd": "print(var_dic_list())"
    },
    "r": {
     "delete_cmd_postfix": ") ",
     "delete_cmd_prefix": "rm(",
     "library": "var_list.r",
     "varRefreshCmd": "cat(var_dic_list()) "
    }
   },
   "types_to_exclude": [
    "module",
    "function",
    "builtin_function_or_method",
    "instance",
    "_Feature"
   ],
   "window_display": false
  }
 },
 "nbformat": 4,
 "nbformat_minor": 2
}
