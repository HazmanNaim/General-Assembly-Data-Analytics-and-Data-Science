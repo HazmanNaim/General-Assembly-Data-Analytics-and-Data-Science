{
 "cells": [
  {
   "cell_type": "markdown",
   "metadata": {},
   "source": [
    "<img src=\"http://imgur.com/1ZcRyrc.png\" style=\"float: left; margin: 20px; height: 55px\">\n",
    "\n",
    "# Time series aggregation\n",
    "\n",
    "\n",
    "---"
   ]
  },
  {
   "cell_type": "markdown",
   "metadata": {},
   "source": [
    "### Learning Objectives\n",
    "\n",
    "- \"Rolling\" statistics through time, such as the rolling mean.\n",
    "- Exponentially weighted statistics.\n",
    "- Differencing and Shifting"
   ]
  },
  {
   "cell_type": "code",
   "execution_count": 1,
   "metadata": {},
   "outputs": [],
   "source": [
    "import pandas as pd\n",
    "import numpy as np\n",
    "import matplotlib.pyplot as plt\n",
    "import seaborn as sns\n",
    "import datetime\n",
    "\n",
    "plt.style.use('fivethirtyeight')\n",
    "\n",
    "%matplotlib inline\n",
    "%config InlineBackend.figure_format = 'retina'"
   ]
  },
  {
   "cell_type": "markdown",
   "metadata": {},
   "source": [
    "<a id=\"load-the-unemployment-data\"></a>\n",
    "<a id=\"load-the-unemployment-data\"></a>\n",
    "## Load the Unemployment Data\n",
    "---\n",
    "This is historical monthly data regarding unemployment rates in the United States, from [the Federal Reserve Bank of St. Louis](https://fred.stlouisfed.org/series/UNRATE).  First, perform any necessary cleaning."
   ]
  },
  {
   "cell_type": "code",
   "execution_count": 2,
   "metadata": {},
   "outputs": [],
   "source": [
    "df = pd.read_csv('./datasets/unemployment.csv')\n"
   ]
  },
  {
   "cell_type": "code",
   "execution_count": 3,
   "metadata": {},
   "outputs": [
    {
     "name": "stdout",
     "output_type": "stream",
     "text": [
      "<class 'pandas.core.frame.DataFrame'>\n",
      "RangeIndex: 295 entries, 0 to 294\n",
      "Data columns (total 2 columns):\n",
      " #   Column                                  Non-Null Count  Dtype \n",
      "---  ------                                  --------------  ----- \n",
      " 0   Month                                   295 non-null    object\n",
      " 1   Seasonally Adjusted Unemployment Rates  295 non-null    object\n",
      "dtypes: object(2)\n",
      "memory usage: 4.7+ KB\n"
     ]
    }
   ],
   "source": [
    "# Check the info\n",
    "df.info()"
   ]
  },
  {
   "cell_type": "code",
   "execution_count": 4,
   "metadata": {},
   "outputs": [
    {
     "data": {
      "text/html": [
       "<div>\n",
       "<style scoped>\n",
       "    .dataframe tbody tr th:only-of-type {\n",
       "        vertical-align: middle;\n",
       "    }\n",
       "\n",
       "    .dataframe tbody tr th {\n",
       "        vertical-align: top;\n",
       "    }\n",
       "\n",
       "    .dataframe thead th {\n",
       "        text-align: right;\n",
       "    }\n",
       "</style>\n",
       "<table border=\"1\" class=\"dataframe\">\n",
       "  <thead>\n",
       "    <tr style=\"text-align: right;\">\n",
       "      <th></th>\n",
       "      <th>Month</th>\n",
       "      <th>Seasonally Adjusted Unemployment Rates</th>\n",
       "    </tr>\n",
       "  </thead>\n",
       "  <tbody>\n",
       "    <tr>\n",
       "      <th>0</th>\n",
       "      <td>01/01/1999</td>\n",
       "      <td>4.30%</td>\n",
       "    </tr>\n",
       "    <tr>\n",
       "      <th>1</th>\n",
       "      <td>01/02/1999</td>\n",
       "      <td>4.40%</td>\n",
       "    </tr>\n",
       "    <tr>\n",
       "      <th>2</th>\n",
       "      <td>01/03/1999</td>\n",
       "      <td>4.20%</td>\n",
       "    </tr>\n",
       "  </tbody>\n",
       "</table>\n",
       "</div>"
      ],
      "text/plain": [
       "        Month Seasonally Adjusted Unemployment Rates\n",
       "0  01/01/1999                                  4.30%\n",
       "1  01/02/1999                                  4.40%\n",
       "2  01/03/1999                                  4.20%"
      ]
     },
     "execution_count": 4,
     "metadata": {},
     "output_type": "execute_result"
    }
   ],
   "source": [
    "# view the first few lines of data\n",
    "df.head(3)"
   ]
  },
  {
   "cell_type": "markdown",
   "metadata": {},
   "source": [
    "### Rename the columns\n",
    "\n",
    "Shorter names than the original ones could be good."
   ]
  },
  {
   "cell_type": "code",
   "execution_count": null,
   "metadata": {},
   "outputs": [],
   "source": [
    "df.columns=['']"
   ]
  },
  {
   "cell_type": "markdown",
   "metadata": {},
   "source": [
    "### Clean the unemployment rate column\n",
    "\n",
    "Remove the percentage sign and transform to float by applying the lambda function:\n",
    "\n",
    "`lambda x: float(str(x).replace('%','')`"
   ]
  },
  {
   "cell_type": "code",
   "execution_count": null,
   "metadata": {},
   "outputs": [],
   "source": [
    "# Apply the lambda function to the unemployment rate column\n"
   ]
  },
  {
   "cell_type": "code",
   "execution_count": null,
   "metadata": {},
   "outputs": [],
   "source": [
    "# Check the info"
   ]
  },
  {
   "cell_type": "code",
   "execution_count": null,
   "metadata": {},
   "outputs": [],
   "source": [
    "# Drop any nulls if there are"
   ]
  },
  {
   "cell_type": "code",
   "execution_count": null,
   "metadata": {},
   "outputs": [],
   "source": [
    "# Check the first five lines\n"
   ]
  },
  {
   "cell_type": "markdown",
   "metadata": {},
   "source": [
    "## Create a Datetime Index\n",
    "---\n",
    "\n",
    "This is monthly data and has been stored as a string in day/month/year format. \n",
    "\n",
    "- We need to first transform the column with the dates as `str` objects to datetime. Specify the format was `'%d/%m/%Y'`\n",
    "- Then use `.dt.to_period('M')` to represent the string as a datetime time period object, instead of a timestamp.\n",
    "    - a Timestamp object represents a single point in time\n",
    "    - a Period object represents a time period (a month, a year, a week, etc)\n",
    "- Finally, set this datetime column as the index.\n"
   ]
  },
  {
   "cell_type": "code",
   "execution_count": null,
   "metadata": {},
   "outputs": [],
   "source": [
    "# Convert the date as a monthly datetime period using pd.to_datetime\n"
   ]
  },
  {
   "cell_type": "code",
   "execution_count": null,
   "metadata": {},
   "outputs": [],
   "source": [
    "# For time series, set the date as the index.\n"
   ]
  },
  {
   "cell_type": "code",
   "execution_count": null,
   "metadata": {},
   "outputs": [],
   "source": [
    "# Check the info of the dataframe  now. What is the index?\n",
    "\n"
   ]
  },
  {
   "cell_type": "markdown",
   "metadata": {},
   "source": [
    "## Visually Examine the Unemployment Rate\n",
    "---\n",
    "\n",
    "Plot the unemployment rate."
   ]
  },
  {
   "cell_type": "code",
   "execution_count": null,
   "metadata": {},
   "outputs": [],
   "source": [
    "df['unemployment_rate'].plot()\n",
    "plt.xticks(rotation=45)\n",
    "plt.xlabel('Date')\n",
    "plt.ylabel('Unemployment Rate')\n",
    "plt.title('Unemployment Rate Over Time')\n",
    "\n",
    "plt.show()\n"
   ]
  },
  {
   "cell_type": "markdown",
   "metadata": {},
   "source": [
    "### Resample the time series to report weekly or annual means.\n",
    "\n",
    "Applying `.resample(freq)` to a pandas timeseries with a specified frequency, for example:\n",
    "- `'W'` : weekly \n",
    "- `'A'` : year end\n",
    "- `'M'` : month end\n",
    "- `'MS'`: month start \n",
    "- `'H'` : hour\n",
    "- `'T'` or `'min'` : minute\n",
    "\n",
    "followed by an aggregation function like `.mean()`, creates aggregates across the indicated frequency (similar to `group by`).\n",
    "\n",
    "For more codes refer to the [Pandas Timeseries documentation](http://pandas.pydata.org/pandas-docs/stable/user_guide/timeseries.html) (under \"Frequency String\")"
   ]
  },
  {
   "cell_type": "markdown",
   "metadata": {},
   "source": [
    "#### Resample annually using the mean for aggregation. Plot and compare to the original time series."
   ]
  },
  {
   "cell_type": "code",
   "execution_count": null,
   "metadata": {},
   "outputs": [],
   "source": [
    "yearly = df['unemployment_rate'].resample('A').mean()\n",
    "yearly.head()"
   ]
  },
  {
   "cell_type": "code",
   "execution_count": null,
   "metadata": {},
   "outputs": [],
   "source": [
    "# Try to add a quarterly \n"
   ]
  },
  {
   "cell_type": "code",
   "execution_count": null,
   "metadata": {},
   "outputs": [],
   "source": [
    "plt.figure(figsize=(12,6))\n",
    "df.unemployment_rate.plot(label='orig',legend=True)\n",
    "yearly.plot(label='yearly',legend=True);\n",
    "\n",
    "# add the quarterly plot \n",
    "\n",
    "plt.show()\n"
   ]
  },
  {
   "cell_type": "code",
   "execution_count": null,
   "metadata": {},
   "outputs": [],
   "source": []
  },
  {
   "cell_type": "markdown",
   "metadata": {},
   "source": [
    "<a id=\"rolling-functions\"></a>\n",
    "<a id=\"rolling-functions\"></a>\n",
    "## \"Rolling\" Functions\n",
    "---\n",
    "\n",
    "With time series, we can \"roll\" statistics across time. For example, the rolling mean is the mean of a moving window across time periods. Pandas offers a variety of functionalities for creating rolling statistics, which we'll only scratch the surface of here. \n",
    "\n",
    "The syntax for these can be a little tricky at first. We'll be using a `rolling()` function with a statistical function chained to it. Let's dive into more detail.\n",
    "\n",
    "<a id=\"parameters-for-rolling-functions\"></a>\n",
    "<a id=\"parameters-for-rolling-functions\"></a>\n",
    "### Parameters for `rolling()` Functions\n",
    "\n",
    "**`rolling().mean()`** (as well as **`rolling().median()`**) can take the following parameters:\n",
    "\n",
    "- The first indicates the time series to aggregate.\n",
    "- **`window`** indicates the number of days to include in the average.\n",
    "- **`center`** indicates whether the window should be centered on the date or use data prior to that date.\n",
    "- **`freq`** indicates which level to roll the averages up to (as used in **`resample`**): **`D`** for day, **`M`** for month, **`A`** for year, etc.\n",
    "\n",
    "> **Note:** For more information, see Pandas' [resample documentation](https://pandas.pydata.org/docs/reference/api/pandas.DataFrame.resample.html#pandas.DataFrame.resample)."
   ]
  },
  {
   "cell_type": "markdown",
   "metadata": {},
   "source": [
    "To compare the resampled values from the rolling values, let's create some plots."
   ]
  },
  {
   "cell_type": "markdown",
   "metadata": {},
   "source": [
    "**Extract the dates from the index as timestamps.**\n",
    "\n",
    "> *Hint: The `.to_timestamp()` function allows you to extract the timestamps.*"
   ]
  },
  {
   "cell_type": "code",
   "execution_count": null,
   "metadata": {},
   "outputs": [],
   "source": [
    "# Get the index from the original series as a timestampdate_ticks_orig.head()\n",
    "date_ticks_orig = df.index.to_timestamp()\n",
    "date_ticks_orig"
   ]
  },
  {
   "cell_type": "code",
   "execution_count": null,
   "metadata": {},
   "outputs": [],
   "source": [
    "# Now get the index from the yearly resampled series as a timestamp.\n"
   ]
  },
  {
   "cell_type": "markdown",
   "metadata": {},
   "source": [
    "#### Use matplotlib to plot your time series.\n",
    "\n",
    "- Choose the time series as y-values and the timestamp-indices extracted in the last part as x-values.\n",
    "- Plot both, the original timeseries and the one averaged over the windows."
   ]
  },
  {
   "cell_type": "code",
   "execution_count": null,
   "metadata": {},
   "outputs": [],
   "source": [
    "plt.figure(figsize=(14,7))\n",
    "\n",
    "# plot the original time series with the date_ticks_org as x-values, the unemployment rate as y-values\n",
    "plt.plot(???)\n",
    "\n",
    "# plot the original yearly series with timestamp index values as x-values, yearly.values as y-values\n",
    "plt.plot(???)\n",
    "plt.tick_params(labelsize=14)"
   ]
  },
  {
   "cell_type": "markdown",
   "metadata": {},
   "source": [
    "#### Resample annually and calculate the rolling mean of years with `window=3`  without centering."
   ]
  },
  {
   "cell_type": "code",
   "execution_count": null,
   "metadata": {},
   "outputs": [],
   "source": [
    "yearly_3 = yearly.rolling(window=???, center=???).mean()\n",
    "yearly_3.head()"
   ]
  },
  {
   "cell_type": "code",
   "execution_count": null,
   "metadata": {},
   "outputs": [],
   "source": [
    "plt.figure(figsize=(12,6))\n",
    "df.unemployment_rate.plot(label='orig',legend=True)\n",
    "yearly_3.plot(label='yearly_3',legend=True);"
   ]
  },
  {
   "cell_type": "markdown",
   "metadata": {},
   "source": [
    "#### Calculate the rolling mean of the original monthly time series with `window=5` and `window=15`. Plot both together."
   ]
  },
  {
   "cell_type": "code",
   "execution_count": null,
   "metadata": {},
   "outputs": [],
   "source": [
    "uroll_w5 = \n",
    "uroll_w15 = "
   ]
  },
  {
   "cell_type": "code",
   "execution_count": null,
   "metadata": {},
   "outputs": [],
   "source": [
    "uroll_w5"
   ]
  },
  {
   "cell_type": "code",
   "execution_count": null,
   "metadata": {},
   "outputs": [],
   "source": [
    "plt.figure(figsize=(12,6))\n",
    "# plot the original time series\n",
    "\n",
    "# plot the uroll_w5 and see the difference\n",
    "\n",
    "# next plot the uroll_w15\n",
    "\n",
    "# Add the quarterly plot to view the difference"
   ]
  },
  {
   "cell_type": "markdown",
   "metadata": {},
   "source": [
    "## The Expanding Mean\n",
    "---\n",
    "\n",
    "The \"expanding mean\" uses all data points up to the current time to calculate the mean, as opposed to a moving window.\n",
    "\n",
    "Let's see what this means by considering the unemployment for the year 1999 only."
   ]
  },
  {
   "cell_type": "code",
   "execution_count": null,
   "metadata": {},
   "outputs": [],
   "source": [
    "# Get 12 months of 1999\n",
    "df_1999 = df.iloc[0:12,]\n",
    "df_1999"
   ]
  },
  {
   "cell_type": "code",
   "execution_count": null,
   "metadata": {},
   "outputs": [],
   "source": [
    "# Resample into Quarters and find the mean for each quarter\n",
    "quarterly_means_1999 = df_1999.unemployment_rate.resample('Q').mean()\n",
    "quarterly_means_1999"
   ]
  },
  {
   "cell_type": "code",
   "execution_count": null,
   "metadata": {},
   "outputs": [],
   "source": [
    "# Find the mean for Quarter 1, 2 3, 4 each to check how the above values are calculated:\n",
    "df_1999.iloc[0:3].mean()  # Quarter 1, for example"
   ]
  },
  {
   "cell_type": "markdown",
   "metadata": {},
   "source": [
    "### Expanding Mean\n",
    "\n",
    "The expanding mean, on the other hand, calculates the mean cumulatively up to each time period. You can compare the values by using the first four values of the quarterly_means, and expanding them:"
   ]
  },
  {
   "cell_type": "code",
   "execution_count": null,
   "metadata": {},
   "outputs": [],
   "source": [
    "quarterly_means_1999[0:4].expanding().mean()\n"
   ]
  },
  {
   "cell_type": "code",
   "execution_count": null,
   "metadata": {},
   "outputs": [],
   "source": [
    "# Check the result for the expanding mean for 1999Q4\n",
    "# Expanded mean for Q4 is the mean of each of the means from Q1 up to Q4\n",
    "\n",
    "quarterly_means_1999[0:4].mean()\n"
   ]
  },
  {
   "cell_type": "markdown",
   "metadata": {},
   "source": [
    "#### Calculate and plot the expanding mean for the original time series. Resample by quarter.\n",
    "\n",
    "Use\n",
    "\n",
    "`df.unemployment_rate.resample('Q').mean().expanding().mean()`."
   ]
  },
  {
   "cell_type": "code",
   "execution_count": null,
   "metadata": {},
   "outputs": [],
   "source": [
    "expanding_mean = \n",
    "expanding_mean.head()"
   ]
  },
  {
   "cell_type": "code",
   "execution_count": null,
   "metadata": {},
   "outputs": [],
   "source": [
    "plt.figure(figsize=(12,6))\n",
    "\n",
    "#plot the original time series\n",
    "\n",
    "\n",
    "# plot the expanding mean\n"
   ]
  },
  {
   "cell_type": "markdown",
   "metadata": {},
   "source": [
    "<a id=\"exponentially-weighted-windows\"></a>\n",
    "<a id=\"exponentially-weighted-windows\"></a>\n",
    "## Exponentially Weighted Windows\n",
    "---\n",
    "\n",
    "Exponentially weighted windows are one of the most common and effective ways of averaging out noise in time series data. The averaging is done with an \"exponential decay\" on the contribution of prior means, decreasing the contribution of time points that are further in the past.\n",
    "\n",
    "The (adjusted) exponentially weighted mean for time $t$, is defined as:\n",
    "\n",
    "$$ x_t = \\frac{x_t + (1 - \\alpha)x_{t-1} + (1 - \\alpha)^2x_{t-2} + ... + (1 - \\alpha)^{t}x_0} {1 + (1 - \\alpha) + (1 - \\alpha)^2 + ... + (1 - \\alpha)^{t}} $$\n",
    "\n",
    "> **Note:** Review Pandas' [documentation](https://pandas.pydata.org/docs/reference/api/pandas.DataFrame.ewm.html) for more information."
   ]
  },
  {
   "cell_type": "markdown",
   "metadata": {},
   "source": [
    "#### Calculate and plot the exponentially weighted sum along with the rolling sum. What is the difference?\n",
    "\n",
    "For example: `.resample('Q').sum().ewm(span=10).mean()`.\n",
    "\n",
    "- Find out what `span` does."
   ]
  },
  {
   "cell_type": "code",
   "execution_count": null,
   "metadata": {},
   "outputs": [],
   "source": [
    "exp_weighted_mean = df.unemployment_rate.resample('Q').mean().ewm(span=10).mean()"
   ]
  },
  {
   "cell_type": "code",
   "execution_count": null,
   "metadata": {},
   "outputs": [],
   "source": [
    "plt.figure(figsize=(12,6))\n",
    "\n",
    "# plot the original time series\n",
    "\n",
    "# plot the exponentially weighted mean\n",
    "\n",
    "# compare with the quarterly plot"
   ]
  },
  {
   "cell_type": "markdown",
   "metadata": {},
   "source": [
    "### Use `.diff()` to calculate changes in values from one time period to another\n",
    "\n",
    "- Why do you get missing values?\n",
    "- Plot the resulting time series. Compare to the original time series."
   ]
  },
  {
   "cell_type": "code",
   "execution_count": null,
   "metadata": {},
   "outputs": [],
   "source": [
    "df.diff().head(6)"
   ]
  },
  {
   "cell_type": "code",
   "execution_count": null,
   "metadata": {},
   "outputs": [],
   "source": [
    "df.head(6)"
   ]
  },
  {
   "cell_type": "code",
   "execution_count": null,
   "metadata": {},
   "outputs": [],
   "source": [
    "plt.figure(figsize=(12,6))\n",
    "\n",
    "# plot the unemployment rate\n",
    "\n",
    "# plot the differenced unemployment rate\n"
   ]
  },
  {
   "cell_type": "markdown",
   "metadata": {},
   "source": [
    "### What is the difference between applying `.diff(2)` and `.diff().diff()`?"
   ]
  },
  {
   "cell_type": "code",
   "execution_count": null,
   "metadata": {},
   "outputs": [],
   "source": []
  },
  {
   "cell_type": "code",
   "execution_count": null,
   "metadata": {},
   "outputs": [],
   "source": []
  },
  {
   "cell_type": "markdown",
   "metadata": {},
   "source": [
    "### Use `df.pct_change()` to calculate percent changes from period to period\n",
    "\n",
    "- Plot the resulting time series. Compare to the original time series."
   ]
  },
  {
   "cell_type": "code",
   "execution_count": null,
   "metadata": {},
   "outputs": [],
   "source": [
    "# check the values after calculating pct_change()\n"
   ]
  },
  {
   "cell_type": "code",
   "execution_count": null,
   "metadata": {},
   "outputs": [],
   "source": [
    "# Plot the pct_change() of the unemployment rate\n"
   ]
  },
  {
   "cell_type": "markdown",
   "metadata": {},
   "source": [
    "### Shifting\n",
    "\n",
    "`df.shift()` is used to bring values from previous dates forward in time.\n",
    "\n",
    "- How is that different from `.diff()`?"
   ]
  },
  {
   "cell_type": "code",
   "execution_count": null,
   "metadata": {},
   "outputs": [],
   "source": []
  },
  {
   "cell_type": "code",
   "execution_count": null,
   "metadata": {},
   "outputs": [],
   "source": []
  }
 ],
 "metadata": {
  "kernelspec": {
   "display_name": "Python 3 (ipykernel)",
   "language": "python",
   "name": "python3"
  },
  "language_info": {
   "codemirror_mode": {
    "name": "ipython",
    "version": 3
   },
   "file_extension": ".py",
   "mimetype": "text/x-python",
   "name": "python",
   "nbconvert_exporter": "python",
   "pygments_lexer": "ipython3",
   "version": "3.11.4"
  },
  "toc": {
   "nav_menu": {},
   "number_sections": false,
   "sideBar": true,
   "skip_h1_title": true,
   "title_cell": "Table of Contents",
   "title_sidebar": "Contents",
   "toc_cell": false,
   "toc_position": {},
   "toc_section_display": true,
   "toc_window_display": false
  }
 },
 "nbformat": 4,
 "nbformat_minor": 2
}
