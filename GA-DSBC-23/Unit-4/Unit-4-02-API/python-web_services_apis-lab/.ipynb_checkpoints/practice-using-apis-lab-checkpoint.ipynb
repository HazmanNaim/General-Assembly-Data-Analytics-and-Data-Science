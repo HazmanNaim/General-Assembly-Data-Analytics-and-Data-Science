{
 "cells": [
  {
   "cell_type": "markdown",
   "metadata": {},
   "source": [
    "<img src=\"http://imgur.com/1ZcRyrc.png\" style=\"float: left; margin: 20px; height: 55px\">\n",
    "\n",
    "# Practice Using APIs\n",
    "\n",
    "---\n",
    "\n",
    "In this lab we will practice web scraping and using an API to retrieve and store data."
   ]
  },
  {
   "cell_type": "code",
   "execution_count": 2,
   "metadata": {},
   "outputs": [],
   "source": [
    "# Imports at the top\n",
    "import json\n",
    "import pandas as pd\n",
    "import numpy as np\n",
    "import requests\n",
    "import json\n",
    "import re\n",
    "from bs4 import BeautifulSoup\n",
    "import matplotlib.pyplot as plt\n",
    "%matplotlib inline"
   ]
  },
  {
   "cell_type": "markdown",
   "metadata": {},
   "source": [
    "## IMDB TV Shows\n",
    "\n",
    "---\n",
    "\n",
    "Sometimes an API doesn't provide all the information we would like to get and we need to be creative.\n",
    "\n",
    "Here we will use a combination of scraping and API calls to find the ratings and networks of famous television shows."
   ]
  },
  {
   "cell_type": "markdown",
   "metadata": {
    "collapsed": true
   },
   "source": [
    "### 1 Get the top TV Shows\n",
    "\n",
    "The Internet Movie Database contains data about movies and TV shows. Unfortunately it does not have a public API.\n",
    "\n",
    "The page http://www.imdb.com/chart/toptv/?ref_=nv_tp_tv250_2 contains the list of the top 250 tv shows of all time. \n",
    "\n",
    "Let's try to get the web page directly:"
   ]
  },
  {
   "cell_type": "code",
   "execution_count": 3,
   "metadata": {},
   "outputs": [
    {
     "name": "stdout",
     "output_type": "stream",
     "text": [
      "Forbidden\n"
     ]
    }
   ],
   "source": [
    "# Send a request to get the books.toscrape web page\n",
    "\n",
    "web_url = \"https://www.imdb.com/chart/toptv/?ref_=nv_tp_tv250_2\"\n",
    "response = requests.get(web_url)\n",
    "\n",
    "# Check the response \n",
    "if (response.status_code == 200):\n",
    "    print(response.headers['Content-Type'])\n",
    "else:\n",
    "    print(response.reason)"
   ]
  },
  {
   "cell_type": "markdown",
   "metadata": {},
   "source": [
    "**Forbidden??**\n",
    "Looks like we are not able to scrape the data directly as the site is not allowing automated requests.\n"
   ]
  },
  {
   "cell_type": "markdown",
   "metadata": {},
   "source": [
    "However, we can save the HTML page as a file, then parse the file using `BeautifulSoup`.\n",
    "\n",
    "I have saved it as as \"Top250TVShows.html\". \n"
   ]
  },
  {
   "cell_type": "code",
   "execution_count": null,
   "metadata": {},
   "outputs": [],
   "source": [
    "# open the file\n",
    "topshows_file = open(\"../python-web_services_apis-lab/files/Top250TVShows.html\", \"r\", encoding=\"utf-8\")\n",
    "\n",
    "# read the file as as BeautifulSoup object\n",
    "soup = BeautifulSoup(topshows_file.read(), 'html.parser')\n",
    "type(soup)"
   ]
  },
  {
   "cell_type": "markdown",
   "metadata": {},
   "source": [
    "## 1.1 Find the movie_ids\n",
    "\n",
    "Parse the html to obtain a list of the `movie_ids` for these movies. \n",
    "\n",
    "\n",
    "> **Hint:** movie_ids look like this: `tt2582802`\n",
    "> _Everything after \"/title/\" and before \"/?\"_.\n",
    "> We can use regular expressions (the `re` library) to find the tag with `href` value that contains \n",
    "> a string that looks like `/title` using `href=re.compile('/title')`\n"
   ]
  },
  {
   "cell_type": "code",
   "execution_count": null,
   "metadata": {},
   "outputs": [],
   "source": [
    "# Where can we find the top 250 tv shows? Inspect the elements to find it.\n"
   ]
  },
  {
   "cell_type": "code",
   "execution_count": null,
   "metadata": {
    "scrolled": false
   },
   "outputs": [],
   "source": [
    "# Get the movie IDs only as a list (practice list comprehension...)\n"
   ]
  },
  {
   "cell_type": "markdown",
   "metadata": {},
   "source": [
    "### 2 Get data on the top movies\n",
    "\n",
    "Although the Internet Movie Database does not have a public API, an open API exists at http://www.tvmaze.com/api.\n",
    "\n",
    "We will use this API to retrieve information about each of the 250 TV shows you have extracted in the previous step.\n",
    "\n"
   ]
  },
  {
   "cell_type": "markdown",
   "metadata": {},
   "source": [
    "**2.1 Find the Correct API**\n",
    "\n",
    "Check the documentation of tvmaze's api to select the correct endpoint to use in our request so that we can get the show data by the IMDB movie id."
   ]
  },
  {
   "cell_type": "code",
   "execution_count": null,
   "metadata": {},
   "outputs": [],
   "source": [
    "## What's the endpoint URI?\n"
   ]
  },
  {
   "cell_type": "code",
   "execution_count": null,
   "metadata": {},
   "outputs": [],
   "source": [
    "## Test the request with the first movie id that you found\n",
    "# and decode the json info\n"
   ]
  },
  {
   "cell_type": "markdown",
   "metadata": {},
   "source": [
    "**2.2 Let's get some data**\n",
    "\n",
    "Let's check that you can get each of the required info to be stored"
   ]
  },
  {
   "cell_type": "code",
   "execution_count": null,
   "metadata": {},
   "outputs": [],
   "source": [
    "# Get the name of the show\n"
   ]
  },
  {
   "cell_type": "code",
   "execution_count": null,
   "metadata": {},
   "outputs": [],
   "source": [
    "# Get the average rating, return np.NaN if the value for the key is None\n"
   ]
  },
  {
   "cell_type": "code",
   "execution_count": null,
   "metadata": {},
   "outputs": [],
   "source": [
    "# Get the genres as a string using the string join() \n"
   ]
  },
  {
   "cell_type": "code",
   "execution_count": null,
   "metadata": {},
   "outputs": [],
   "source": [
    "# Get the network name, return None if the value for the key is None\n"
   ]
  },
  {
   "cell_type": "code",
   "execution_count": null,
   "metadata": {},
   "outputs": [],
   "source": [
    "# Get the Premiere date\n"
   ]
  },
  {
   "cell_type": "code",
   "execution_count": null,
   "metadata": {},
   "outputs": [],
   "source": [
    "# Get the status\n"
   ]
  },
  {
   "cell_type": "markdown",
   "metadata": {},
   "source": [
    "**2.3 Write a Function**\n",
    "\n",
    "- Define a function that returns a python list object with selected information for a given id.\n",
    "    - Show name\n",
    "    - Rating (avg)\n",
    "    - Genre(s)\n",
    "    - Network name\n",
    "    - Premiere date\n",
    "    - Status\n"
   ]
  },
  {
   "cell_type": "code",
   "execution_count": null,
   "metadata": {},
   "outputs": [],
   "source": [
    "# A:\n",
    "def get_show_info(movie_id):\n",
    "    info_list = []\n",
    "    response = requests.get('https://api.tvmaze.com/lookup/shows?imdb='+movie_id)\n",
    "    if (response.status_code == 200):\n",
    "        show_info=response.json()\n",
    "        info_list.append(movie_id)\n",
    "        info_list.append(show_info['name'])\n",
    "        info_list.append(show_info['rating']['average'])\n",
    "        info_list.append(','.join(show_info['genres']))\n",
    "        info_list.append(show_info['network']['name'] if show_info['network'] else None)\n",
    "        info_list.append(show_info['premiered'])\n",
    "        info_list.append(show_info['status'])\n",
    "    return info_list\n"
   ]
  },
  {
   "cell_type": "code",
   "execution_count": null,
   "metadata": {},
   "outputs": [],
   "source": [
    "# Test the Function\n"
   ]
  },
  {
   "cell_type": "markdown",
   "metadata": {},
   "source": [
    "**2.3 Create a DataFrame**\n",
    "\n",
    "Let's create a `Pandas` DataFrame to store all the show data:\n"
   ]
  },
  {
   "cell_type": "code",
   "execution_count": null,
   "metadata": {},
   "outputs": [],
   "source": [
    "shows_df = pd.DataFrame(columns=('IMDB_id','Name','Rating','Genres','Network','Premier_Date','Status'))\n",
    "shows_df"
   ]
  },
  {
   "cell_type": "code",
   "execution_count": null,
   "metadata": {},
   "outputs": [],
   "source": [
    "# Lets test getting one movie and adding to the DataFrame\n",
    "show_info = get_show_info('tt2707408')\n",
    "show_info"
   ]
  },
  {
   "cell_type": "code",
   "execution_count": null,
   "metadata": {},
   "outputs": [],
   "source": [
    "# We can now append this list to our dataframe, let's store in a temporary dataframe\n",
    "temp_df = shows_df.append(pd.Series(show_info, index=shows_df.columns), ignore_index=True)\n",
    "temp_df"
   ]
  },
  {
   "cell_type": "markdown",
   "metadata": {},
   "source": [
    "**2.4 Store all the movies**\n",
    "\n",
    "Now let's add the data for all 250 shows to `shows_df`. \n",
    "We need to check that the list is non-empty though before appending to the dataframe, in case we were not able to look it up using the API. "
   ]
  },
  {
   "cell_type": "code",
   "execution_count": null,
   "metadata": {},
   "outputs": [],
   "source": [
    "# Just try to add 10 first\n"
   ]
  },
  {
   "cell_type": "code",
   "execution_count": null,
   "metadata": {},
   "outputs": [],
   "source": []
  },
  {
   "cell_type": "code",
   "execution_count": null,
   "metadata": {},
   "outputs": [],
   "source": []
  }
 ],
 "metadata": {
  "kernelspec": {
   "display_name": "Python 3 (ipykernel)",
   "language": "python",
   "name": "python3"
  },
  "language_info": {
   "codemirror_mode": {
    "name": "ipython",
    "version": 3
   },
   "file_extension": ".py",
   "mimetype": "text/x-python",
   "name": "python",
   "nbconvert_exporter": "python",
   "pygments_lexer": "ipython3",
   "version": "3.11.4"
  },
  "toc": {
   "nav_menu": {},
   "number_sections": false,
   "sideBar": true,
   "skip_h1_title": false,
   "title_cell": "Table of Contents",
   "title_sidebar": "Contents",
   "toc_cell": false,
   "toc_position": {},
   "toc_section_display": true,
   "toc_window_display": false
  },
  "varInspector": {
   "cols": {
    "lenName": 16,
    "lenType": 16,
    "lenVar": 40
   },
   "kernels_config": {
    "python": {
     "delete_cmd_postfix": "",
     "delete_cmd_prefix": "del ",
     "library": "var_list.py",
     "varRefreshCmd": "print(var_dic_list())"
    },
    "r": {
     "delete_cmd_postfix": ") ",
     "delete_cmd_prefix": "rm(",
     "library": "var_list.r",
     "varRefreshCmd": "cat(var_dic_list()) "
    }
   },
   "types_to_exclude": [
    "module",
    "function",
    "builtin_function_or_method",
    "instance",
    "_Feature"
   ],
   "window_display": false
  }
 },
 "nbformat": 4,
 "nbformat_minor": 1
}
