{
 "cells": [
  {
   "cell_type": "markdown",
   "metadata": {},
   "source": [
    "<img src=\"http://imgur.com/1ZcRyrc.png\" style=\"float: left; margin: 20px; height: 55px\">\n",
    "\n",
    "# Practice Using APIs\n",
    "\n",
    "---\n",
    "\n",
    "In this lab we will practice web scraping and using an API to retrieve and store data."
   ]
  },
  {
   "cell_type": "code",
   "execution_count": 1,
   "metadata": {},
   "outputs": [],
   "source": [
    "# Imports at the top\n",
    "import json\n",
    "import pandas as pd\n",
    "import numpy as np\n",
    "import requests\n",
    "import re\n",
    "from bs4 import BeautifulSoup\n",
    "import matplotlib.pyplot as plt\n",
    "%matplotlib inline"
   ]
  },
  {
   "cell_type": "markdown",
   "metadata": {},
   "source": [
    "## IMDB TV Shows\n",
    "\n",
    "---\n",
    "\n",
    "Sometimes an API doesn't provide all the information we would like to get and we need to be creative.\n",
    "\n",
    "Here we will use a combination of scraping and API calls to find the ratings and networks of famous television shows."
   ]
  },
  {
   "cell_type": "markdown",
   "metadata": {
    "collapsed": true
   },
   "source": [
    "### 1 Get the top TV Shows\n",
    "\n",
    "The Internet Movie Database contains data about movies and TV shows. Unfortunately it does not have a public API.\n",
    "\n",
    "The page http://www.imdb.com/chart/toptv/?ref_=nv_tp_tv250_2 contains the list of the top 250 tv shows of all time. \n",
    "\n",
    "Let's try to get the web page directly:"
   ]
  },
  {
   "cell_type": "code",
   "execution_count": 2,
   "metadata": {},
   "outputs": [
    {
     "name": "stdout",
     "output_type": "stream",
     "text": [
      "Forbidden\n"
     ]
    }
   ],
   "source": [
    "# Send a request to get the books.toscrape web page\n",
    "\n",
    "web_url = \"https://www.imdb.com/chart/toptv/?ref_=nv_tp_tv250_2\"\n",
    "response = requests.get(web_url)\n",
    "\n",
    "# Check the response \n",
    "if (response.status_code == 200):\n",
    "    print(response.headers['Content-Type'])\n",
    "else:\n",
    "    print(response.reason)"
   ]
  },
  {
   "cell_type": "markdown",
   "metadata": {},
   "source": [
    "**Forbidden??**\n",
    "Looks like we are not able to scrape the data directly as the site is not allowing automated requests.\n"
   ]
  },
  {
   "cell_type": "markdown",
   "metadata": {},
   "source": [
    "However, we can save the HTML page as a file, then parse the file using `BeautifulSoup`.\n",
    "\n",
    "I have saved it as as \"Top250TVShows.html\". \n"
   ]
  },
  {
   "cell_type": "code",
   "execution_count": 3,
   "metadata": {},
   "outputs": [
    {
     "data": {
      "text/plain": [
       "bs4.BeautifulSoup"
      ]
     },
     "execution_count": 3,
     "metadata": {},
     "output_type": "execute_result"
    }
   ],
   "source": [
    "# open the file\n",
    "topshows_file = open(\"../python-web_services_apis-lab/files/Top250TVShows.html\", \"r\", encoding=\"utf-8\")\n",
    "\n",
    "# read the file as as BeautifulSoup object\n",
    "soup = BeautifulSoup(topshows_file.read(), 'html.parser')\n",
    "type(soup)"
   ]
  },
  {
   "cell_type": "markdown",
   "metadata": {},
   "source": [
    "## 1.1 Find the movie_ids\n",
    "\n",
    "Parse the html to obtain a list of the `movie_ids` for these movies. \n",
    "\n",
    "\n",
    "> **Hint:** movie_ids look like this: `tt2582802`\n",
    "> _Everything after \"/title/\" and before \"/?\"_.\n",
    "> We can use regular expressions (the `re` library) to find the tag with `href` value that contains \n",
    "> a string that looks like `/title` using `href=re.compile('/title')`\n"
   ]
  },
  {
   "cell_type": "code",
   "execution_count": 9,
   "metadata": {},
   "outputs": [
    {
     "data": {
      "text/plain": [
       "[<a class=\"ipc-title-link-wrapper\" href=\"/title/tt0903747/?ref_=chttvtp_t_1\" tabindex=\"0\"><h3 class=\"ipc-title__text\">1. Breaking Bad</h3></a>,\n",
       " <a class=\"ipc-title-link-wrapper\" href=\"/title/tt5491994/?ref_=chttvtp_t_2\" tabindex=\"0\"><h3 class=\"ipc-title__text\">2. Planet Earth II</h3></a>,\n",
       " <a class=\"ipc-title-link-wrapper\" href=\"/title/tt0795176/?ref_=chttvtp_t_3\" tabindex=\"0\"><h3 class=\"ipc-title__text\">3. Planet Earth</h3></a>,\n",
       " <a class=\"ipc-title-link-wrapper\" href=\"/title/tt0185906/?ref_=chttvtp_t_4\" tabindex=\"0\"><h3 class=\"ipc-title__text\">4. Band of Brothers</h3></a>,\n",
       " <a class=\"ipc-title-link-wrapper\" href=\"/title/tt7366338/?ref_=chttvtp_t_5\" tabindex=\"0\"><h3 class=\"ipc-title__text\">5. Chernobyl</h3></a>,\n",
       " <a class=\"ipc-title-link-wrapper\" href=\"/title/tt0306414/?ref_=chttvtp_t_6\" tabindex=\"0\"><h3 class=\"ipc-title__text\">6. The Wire</h3></a>,\n",
       " <a class=\"ipc-title-link-wrapper\" href=\"/title/tt0417299/?ref_=chttvtp_t_7\" tabindex=\"0\"><h3 class=\"ipc-title__text\">7. Avatar: The Last Airbender</h3></a>,\n",
       " <a class=\"ipc-title-link-wrapper\" href=\"/title/tt6769208/?ref_=chttvtp_t_8\" tabindex=\"0\"><h3 class=\"ipc-title__text\">8. Blue Planet II</h3></a>,\n",
       " <a class=\"ipc-title-link-wrapper\" href=\"/title/tt0141842/?ref_=chttvtp_t_9\" tabindex=\"0\"><h3 class=\"ipc-title__text\">9. The Sopranos</h3></a>,\n",
       " <a class=\"ipc-title-link-wrapper\" href=\"/title/tt2395695/?ref_=chttvtp_t_10\" tabindex=\"0\"><h3 class=\"ipc-title__text\">10. Cosmos: A Spacetime Odyssey</h3></a>,\n",
       " <a class=\"ipc-title-link-wrapper\" href=\"/title/tt0081846/?ref_=chttvtp_t_11\" tabindex=\"0\"><h3 class=\"ipc-title__text\">11. Cosmos</h3></a>,\n",
       " <a class=\"ipc-title-link-wrapper\" href=\"/title/tt9253866/?ref_=chttvtp_t_12\" tabindex=\"0\"><h3 class=\"ipc-title__text\">12. Our Planet</h3></a>,\n",
       " <a class=\"ipc-title-link-wrapper\" href=\"/title/tt0944947/?ref_=chttvtp_t_13\" tabindex=\"0\"><h3 class=\"ipc-title__text\">13. Game of Thrones</h3></a>,\n",
       " <a class=\"ipc-title-link-wrapper\" href=\"/title/tt0071075/?ref_=chttvtp_t_14\" tabindex=\"0\"><h3 class=\"ipc-title__text\">14. The World at War</h3></a>,\n",
       " <a class=\"ipc-title-link-wrapper\" href=\"/title/tt2861424/?ref_=chttvtp_t_15\" tabindex=\"0\"><h3 class=\"ipc-title__text\">15. Rick and Morty</h3></a>,\n",
       " <a class=\"ipc-title-link-wrapper\" href=\"/title/tt7678620/?ref_=chttvtp_t_16\" tabindex=\"0\"><h3 class=\"ipc-title__text\">16. Bluey</h3></a>,\n",
       " <a class=\"ipc-title-link-wrapper\" href=\"/title/tt1355642/?ref_=chttvtp_t_17\" tabindex=\"0\"><h3 class=\"ipc-title__text\">17. Fullmetal Alchemist: Brotherhood</h3></a>,\n",
       " <a class=\"ipc-title-link-wrapper\" href=\"/title/tt8420184/?ref_=chttvtp_t_18\" tabindex=\"0\"><h3 class=\"ipc-title__text\">18. The Last Dance</h3></a>,\n",
       " <a class=\"ipc-title-link-wrapper\" href=\"/title/tt1533395/?ref_=chttvtp_t_19\" tabindex=\"0\"><h3 class=\"ipc-title__text\">19. Life</h3></a>,\n",
       " <a class=\"ipc-title-link-wrapper\" href=\"/title/tt0052520/?ref_=chttvtp_t_20\" tabindex=\"0\"><h3 class=\"ipc-title__text\">20. The Twilight Zone</h3></a>,\n",
       " <a class=\"ipc-title-link-wrapper\" href=\"/title/tt1475582/?ref_=chttvtp_t_21\" tabindex=\"0\"><h3 class=\"ipc-title__text\">21. Sherlock</h3></a>,\n",
       " <a class=\"ipc-title-link-wrapper\" href=\"/title/tt1877514/?ref_=chttvtp_t_22\" tabindex=\"0\"><h3 class=\"ipc-title__text\">22. The Vietnam War</h3></a>,\n",
       " <a class=\"ipc-title-link-wrapper\" href=\"/title/tt0103359/?ref_=chttvtp_t_23\" tabindex=\"0\"><h3 class=\"ipc-title__text\">23. Batman: The Animated Series</h3></a>,\n",
       " <a class=\"ipc-title-link-wrapper\" href=\"/title/tt2560140/?ref_=chttvtp_t_24\" tabindex=\"0\"><h3 class=\"ipc-title__text\">24. Attack on Titan</h3></a>,\n",
       " <a class=\"ipc-title-link-wrapper\" href=\"/title/tt12392504/?ref_=chttvtp_t_25\" tabindex=\"0\"><h3 class=\"ipc-title__text\">25. Scam 1992: The Harshad Mehta Story</h3></a>,\n",
       " <a class=\"ipc-title-link-wrapper\" href=\"/title/tt0386676/?ref_=chttvtp_t_26\" tabindex=\"0\"><h3 class=\"ipc-title__text\">26. The Office</h3></a>,\n",
       " <a class=\"ipc-title-link-wrapper\" href=\"/title/tt11126994/?ref_=chttvtp_t_27\" tabindex=\"0\"><h3 class=\"ipc-title__text\">27. Arcane</h3></a>,\n",
       " <a class=\"ipc-title-link-wrapper\" href=\"/title/tt0296310/?ref_=chttvtp_t_28\" tabindex=\"0\"><h3 class=\"ipc-title__text\">28. The Blue Planet</h3></a>,\n",
       " <a class=\"ipc-title-link-wrapper\" href=\"/title/tt3032476/?ref_=chttvtp_t_29\" tabindex=\"0\"><h3 class=\"ipc-title__text\">29. Better Call Saul</h3></a>,\n",
       " <a class=\"ipc-title-link-wrapper\" href=\"/title/tt1806234/?ref_=chttvtp_t_30\" tabindex=\"0\"><h3 class=\"ipc-title__text\">30. Human Planet</h3></a>,\n",
       " <a class=\"ipc-title-link-wrapper\" href=\"/title/tt0303461/?ref_=chttvtp_t_31\" tabindex=\"0\"><h3 class=\"ipc-title__text\">31. Firefly</h3></a>,\n",
       " <a class=\"ipc-title-link-wrapper\" href=\"/title/tt2092588/?ref_=chttvtp_t_32\" tabindex=\"0\"><h3 class=\"ipc-title__text\">32. Frozen Planet</h3></a>,\n",
       " <a class=\"ipc-title-link-wrapper\" href=\"/title/tt10541088/?ref_=chttvtp_t_33\" tabindex=\"0\"><h3 class=\"ipc-title__text\">33. Clarkson's Farm</h3></a>,\n",
       " <a class=\"ipc-title-link-wrapper\" href=\"/title/tt0877057/?ref_=chttvtp_t_34\" tabindex=\"0\"><h3 class=\"ipc-title__text\">34. Death Note</h3></a>,\n",
       " <a class=\"ipc-title-link-wrapper\" href=\"/title/tt0081912/?ref_=chttvtp_t_35\" tabindex=\"0\"><h3 class=\"ipc-title__text\">35. Only Fools and Horses</h3></a>,\n",
       " <a class=\"ipc-title-link-wrapper\" href=\"/title/tt0098769/?ref_=chttvtp_t_36\" tabindex=\"0\"><h3 class=\"ipc-title__text\">36. The Civil War</h3></a>,\n",
       " <a class=\"ipc-title-link-wrapper\" href=\"/title/tt2098220/?ref_=chttvtp_t_37\" tabindex=\"0\"><h3 class=\"ipc-title__text\">37. Hunter x Hunter</h3></a>,\n",
       " <a class=\"ipc-title-link-wrapper\" href=\"/title/tt2356777/?ref_=chttvtp_t_38\" tabindex=\"0\"><h3 class=\"ipc-title__text\">38. True Detective</h3></a>,\n",
       " <a class=\"ipc-title-link-wrapper\" href=\"/title/tt0098904/?ref_=chttvtp_t_39\" tabindex=\"0\"><h3 class=\"ipc-title__text\">39. Seinfeld</h3></a>,\n",
       " <a class=\"ipc-title-link-wrapper\" href=\"/title/tt0092337/?ref_=chttvtp_t_40\" tabindex=\"0\"><h3 class=\"ipc-title__text\">40. Dekalog</h3></a>,\n",
       " <a class=\"ipc-title-link-wrapper\" href=\"/title/tt9735318/?ref_=chttvtp_t_41\" tabindex=\"0\"><h3 class=\"ipc-title__text\">41. The Beatles: Get Back</h3></a>,\n",
       " <a class=\"ipc-title-link-wrapper\" href=\"/title/tt7920978/?ref_=chttvtp_t_42\" tabindex=\"0\"><h3 class=\"ipc-title__text\">42. Persona</h3></a>,\n",
       " <a class=\"ipc-title-link-wrapper\" href=\"/title/tt2802850/?ref_=chttvtp_t_43\" tabindex=\"0\"><h3 class=\"ipc-title__text\">43. Fargo</h3></a>,\n",
       " <a class=\"ipc-title-link-wrapper\" href=\"/title/tt0213338/?ref_=chttvtp_t_44\" tabindex=\"0\"><h3 class=\"ipc-title__text\">44. Cowboy Bebop</h3></a>,\n",
       " <a class=\"ipc-title-link-wrapper\" href=\"/title/tt1865718/?ref_=chttvtp_t_45\" tabindex=\"0\"><h3 class=\"ipc-title__text\">45. Gravity Falls</h3></a>,\n",
       " <a class=\"ipc-title-link-wrapper\" href=\"/title/tt2297757/?ref_=chttvtp_t_46\" tabindex=\"0\"><h3 class=\"ipc-title__text\">46. Nathan for You</h3></a>,\n",
       " <a class=\"ipc-title-link-wrapper\" href=\"/title/tt3530232/?ref_=chttvtp_t_47\" tabindex=\"0\"><h3 class=\"ipc-title__text\">47. Last Week Tonight with John Oliver</h3></a>,\n",
       " <a class=\"ipc-title-link-wrapper\" href=\"/title/tt7660850/?ref_=chttvtp_t_48\" tabindex=\"0\"><h3 class=\"ipc-title__text\">48. Succession</h3></a>,\n",
       " <a class=\"ipc-title-link-wrapper\" href=\"/title/tt7137906/?ref_=chttvtp_t_49\" tabindex=\"0\"><h3 class=\"ipc-title__text\">49. When They See Us</h3></a>,\n",
       " <a class=\"ipc-title-link-wrapper\" href=\"/title/tt1508238/?ref_=chttvtp_t_50\" tabindex=\"0\"><h3 class=\"ipc-title__text\">50. Apocalypse: The Second World War</h3></a>,\n",
       " <a class=\"ipc-title-link-wrapper\" href=\"/title/tt0108778/?ref_=chttvtp_t_51\" tabindex=\"0\"><h3 class=\"ipc-title__text\">51. Friends</h3></a>,\n",
       " <a class=\"ipc-title-link-wrapper\" href=\"/title/tt2571774/?ref_=chttvtp_t_52\" tabindex=\"0\"><h3 class=\"ipc-title__text\">52. Africa</h3></a>,\n",
       " <a class=\"ipc-title-link-wrapper\" href=\"/title/tt4742876/?ref_=chttvtp_t_53\" tabindex=\"0\"><h3 class=\"ipc-title__text\">53. TVF Pitchers</h3></a>,\n",
       " <a class=\"ipc-title-link-wrapper\" href=\"/title/tt4934214/?ref_=chttvtp_t_54\" tabindex=\"0\"><h3 class=\"ipc-title__text\">54. Taskmaster</h3></a>,\n",
       " <a class=\"ipc-title-link-wrapper\" href=\"/title/tt0472954/?ref_=chttvtp_t_55\" tabindex=\"0\"><h3 class=\"ipc-title__text\">55. It's Always Sunny in Philadelphia</h3></a>,\n",
       " <a class=\"ipc-title-link-wrapper\" href=\"/title/tt0063929/?ref_=chttvtp_t_56\" tabindex=\"0\"><h3 class=\"ipc-title__text\">56. Monty Python's Flying Circus</h3></a>,\n",
       " <a class=\"ipc-title-link-wrapper\" href=\"/title/tt13675832/?ref_=chttvtp_t_57\" tabindex=\"0\"><h3 class=\"ipc-title__text\">57. As If</h3></a>,\n",
       " <a class=\"ipc-title-link-wrapper\" href=\"/title/tt0200276/?ref_=chttvtp_t_58\" tabindex=\"0\"><h3 class=\"ipc-title__text\">58. The West Wing</h3></a>,\n",
       " <a class=\"ipc-title-link-wrapper\" href=\"/title/tt0081834/?ref_=chttvtp_t_59\" tabindex=\"0\"><h3 class=\"ipc-title__text\">59. Das Boot</h3></a>,\n",
       " <a class=\"ipc-title-link-wrapper\" href=\"/title/tt0264235/?ref_=chttvtp_t_60\" tabindex=\"0\"><h3 class=\"ipc-title__text\">60. Curb Your Enthusiasm</h3></a>,\n",
       " <a class=\"ipc-title-link-wrapper\" href=\"/title/tt0388629/?ref_=chttvtp_t_61\" tabindex=\"0\"><h3 class=\"ipc-title__text\">61. One Piece</h3></a>,\n",
       " <a class=\"ipc-title-link-wrapper\" href=\"/title/tt0072500/?ref_=chttvtp_t_62\" tabindex=\"0\"><h3 class=\"ipc-title__text\">62. Fawlty Towers</h3></a>,\n",
       " <a class=\"ipc-title-link-wrapper\" href=\"/title/tt1831164/?ref_=chttvtp_t_63\" tabindex=\"0\"><h3 class=\"ipc-title__text\">63. Leyla and Mecnun</h3></a>,\n",
       " <a class=\"ipc-title-link-wrapper\" href=\"/title/tt3398228/?ref_=chttvtp_t_64\" tabindex=\"0\"><h3 class=\"ipc-title__text\">64. BoJack Horseman</h3></a>,\n",
       " <a class=\"ipc-title-link-wrapper\" href=\"/title/tt0112130/?ref_=chttvtp_t_65\" tabindex=\"0\"><h3 class=\"ipc-title__text\">65. Pride and Prejudice</h3></a>,\n",
       " <a class=\"ipc-title-link-wrapper\" href=\"/title/tt0193676/?ref_=chttvtp_t_66\" tabindex=\"0\"><h3 class=\"ipc-title__text\">66. Freaks and Geeks</h3></a>,\n",
       " <a class=\"ipc-title-link-wrapper\" href=\"/title/tt0096548/?ref_=chttvtp_t_67\" tabindex=\"0\"><h3 class=\"ipc-title__text\">67. Blackadder Goes Forth</h3></a>,\n",
       " <a class=\"ipc-title-link-wrapper\" href=\"/title/tt0098936/?ref_=chttvtp_t_68\" tabindex=\"0\"><h3 class=\"ipc-title__text\">68. Twin Peaks</h3></a>,\n",
       " <a class=\"ipc-title-link-wrapper\" href=\"/title/tt0214341/?ref_=chttvtp_t_69\" tabindex=\"0\"><h3 class=\"ipc-title__text\">69. Dragon Ball Z</h3></a>,\n",
       " <a class=\"ipc-title-link-wrapper\" href=\"/title/tt2707408/?ref_=chttvtp_t_70\" tabindex=\"0\"><h3 class=\"ipc-title__text\">70. Narcos</h3></a>,\n",
       " <a class=\"ipc-title-link-wrapper\" href=\"/title/tt0353049/?ref_=chttvtp_t_71\" tabindex=\"0\"><h3 class=\"ipc-title__text\">71. Chappelle's Show</h3></a>,\n",
       " <a class=\"ipc-title-link-wrapper\" href=\"/title/tt0121220/?ref_=chttvtp_t_72\" tabindex=\"0\"><h3 class=\"ipc-title__text\">72. Dragon Ball Z</h3></a>,\n",
       " <a class=\"ipc-title-link-wrapper\" href=\"/title/tt3581920/?ref_=chttvtp_t_73\" tabindex=\"0\"><h3 class=\"ipc-title__text\">73. The Last of Us</h3></a>,\n",
       " <a class=\"ipc-title-link-wrapper\" href=\"/title/tt2085059/?ref_=chttvtp_t_74\" tabindex=\"0\"><h3 class=\"ipc-title__text\">74. Black Mirror</h3></a>,\n",
       " <a class=\"ipc-title-link-wrapper\" href=\"/title/tt0074006/?ref_=chttvtp_t_75\" tabindex=\"0\"><h3 class=\"ipc-title__text\">75. I, Claudius</h3></a>,\n",
       " <a class=\"ipc-title-link-wrapper\" href=\"/title/tt0121955/?ref_=chttvtp_t_76\" tabindex=\"0\"><h3 class=\"ipc-title__text\">76. South Park</h3></a>,\n",
       " <a class=\"ipc-title-link-wrapper\" href=\"/title/tt3718778/?ref_=chttvtp_t_77\" tabindex=\"0\"><h3 class=\"ipc-title__text\">77. Over the Garden Wall</h3></a>,\n",
       " <a class=\"ipc-title-link-wrapper\" href=\"/title/tt9432978/?ref_=chttvtp_t_78\" tabindex=\"0\"><h3 class=\"ipc-title__text\">78. Kota Factory</h3></a>,\n",
       " <a class=\"ipc-title-link-wrapper\" href=\"/title/tt10986410/?ref_=chttvtp_t_79\" tabindex=\"0\"><h3 class=\"ipc-title__text\">79. Ted Lasso</h3></a>,\n",
       " <a class=\"ipc-title-link-wrapper\" href=\"/title/tt0248654/?ref_=chttvtp_t_80\" tabindex=\"0\"><h3 class=\"ipc-title__text\">80. Six Feet Under</h3></a>,\n",
       " <a class=\"ipc-title-link-wrapper\" href=\"/title/tt2442560/?ref_=chttvtp_t_81\" tabindex=\"0\"><h3 class=\"ipc-title__text\">81. Peaky Blinders</h3></a>,\n",
       " <a class=\"ipc-title-link-wrapper\" href=\"/title/tt0384766/?ref_=chttvtp_t_82\" tabindex=\"0\"><h3 class=\"ipc-title__text\">82. Rome</h3></a>,\n",
       " <a class=\"ipc-title-link-wrapper\" href=\"/title/tt0118421/?ref_=chttvtp_t_83\" tabindex=\"0\"><h3 class=\"ipc-title__text\">83. Oz</h3></a>,\n",
       " <a class=\"ipc-title-link-wrapper\" href=\"/title/tt10233448/?ref_=chttvtp_t_84\" tabindex=\"0\"><h3 class=\"ipc-title__text\">84. Vinland Saga</h3></a>,\n",
       " <a class=\"ipc-title-link-wrapper\" href=\"/title/tt10530900/?ref_=chttvtp_t_85\" tabindex=\"0\"><h3 class=\"ipc-title__text\">85. Gullak</h3></a>,\n",
       " <a class=\"ipc-title-link-wrapper\" href=\"/title/tt1910272/?ref_=chttvtp_t_86\" tabindex=\"0\"><h3 class=\"ipc-title__text\">86. Steins;Gate</h3></a>,\n",
       " <a class=\"ipc-title-link-wrapper\" href=\"/title/tt5753856/?ref_=chttvtp_t_87\" tabindex=\"0\"><h3 class=\"ipc-title__text\">87. Dark</h3></a>,\n",
       " <a class=\"ipc-title-link-wrapper\" href=\"/title/tt12004706/?ref_=chttvtp_t_88\" tabindex=\"0\"><h3 class=\"ipc-title__text\">88. Panchayat</h3></a>,\n",
       " <a class=\"ipc-title-link-wrapper\" href=\"/title/tt1190634/?ref_=chttvtp_t_89\" tabindex=\"0\"><h3 class=\"ipc-title__text\">89. The Boys</h3></a>,\n",
       " <a class=\"ipc-title-link-wrapper\" href=\"/title/tt5687612/?ref_=chttvtp_t_90\" tabindex=\"0\"><h3 class=\"ipc-title__text\">90. Fleabag</h3></a>,\n",
       " <a class=\"ipc-title-link-wrapper\" href=\"/title/tt14986406/?ref_=chttvtp_t_91\" tabindex=\"0\"><h3 class=\"ipc-title__text\">91. Bleach: Thousand-Year Blood War</h3></a>,\n",
       " <a class=\"ipc-title-link-wrapper\" href=\"/title/tt0407362/?ref_=chttvtp_t_92\" tabindex=\"0\"><h3 class=\"ipc-title__text\">92. Battlestar Galactica</h3></a>,\n",
       " <a class=\"ipc-title-link-wrapper\" href=\"/title/tt0367279/?ref_=chttvtp_t_93\" tabindex=\"0\"><h3 class=\"ipc-title__text\">93. Arrested Development</h3></a>,\n",
       " <a class=\"ipc-title-link-wrapper\" href=\"/title/tt0096697/?ref_=chttvtp_t_94\" tabindex=\"0\"><h3 class=\"ipc-title__text\">94. The Simpsons</h3></a>,\n",
       " <a class=\"ipc-title-link-wrapper\" href=\"/title/tt0286486/?ref_=chttvtp_t_95\" tabindex=\"0\"><h3 class=\"ipc-title__text\">95. The Shield</h3></a>,\n",
       " <a class=\"ipc-title-link-wrapper\" href=\"/title/tt1606375/?ref_=chttvtp_t_96\" tabindex=\"0\"><h3 class=\"ipc-title__text\">96. Downton Abbey</h3></a>,\n",
       " <a class=\"ipc-title-link-wrapper\" href=\"/title/tt0412142/?ref_=chttvtp_t_97\" tabindex=\"0\"><h3 class=\"ipc-title__text\">97. House</h3></a>,\n",
       " <a class=\"ipc-title-link-wrapper\" href=\"/title/tt4508902/?ref_=chttvtp_t_98\" tabindex=\"0\"><h3 class=\"ipc-title__text\">98. One Punch Man</h3></a>,\n",
       " <a class=\"ipc-title-link-wrapper\" href=\"/title/tt6741278/?ref_=chttvtp_t_99\" tabindex=\"0\"><h3 class=\"ipc-title__text\">99. Invincible</h3></a>,\n",
       " <a class=\"ipc-title-link-wrapper\" href=\"/title/tt11280740/?ref_=chttvtp_t_100\" tabindex=\"0\"><h3 class=\"ipc-title__text\">100. Severance</h3></a>,\n",
       " <a class=\"ipc-title-link-wrapper\" href=\"/title/tt0804503/?ref_=chttvtp_t_101\" tabindex=\"0\"><h3 class=\"ipc-title__text\">101. Mad Men</h3></a>,\n",
       " <a class=\"ipc-title-link-wrapper\" href=\"/title/tt4574334/?ref_=chttvtp_t_102\" tabindex=\"0\"><h3 class=\"ipc-title__text\">102. Stranger Things</h3></a>,\n",
       " <a class=\"ipc-title-link-wrapper\" href=\"/title/tt0387764/?ref_=chttvtp_t_103\" tabindex=\"0\"><h3 class=\"ipc-title__text\">103. Peep Show</h3></a>,\n",
       " <a class=\"ipc-title-link-wrapper\" href=\"/title/tt1518542/?ref_=chttvtp_t_104\" tabindex=\"0\"><h3 class=\"ipc-title__text\">104. Sarabhai V/S Sarabhai</h3></a>,\n",
       " <a class=\"ipc-title-link-wrapper\" href=\"/title/tt0318871/?ref_=chttvtp_t_105\" tabindex=\"0\"><h3 class=\"ipc-title__text\">105. Berserk</h3></a>,\n",
       " <a class=\"ipc-title-link-wrapper\" href=\"/title/tt0092455/?ref_=chttvtp_t_106\" tabindex=\"0\"><h3 class=\"ipc-title__text\">106. Star Trek: The Next Generation</h3></a>,\n",
       " <a class=\"ipc-title-link-wrapper\" href=\"/title/tt8111088/?ref_=chttvtp_t_107\" tabindex=\"0\"><h3 class=\"ipc-title__text\">107. The Mandalorian</h3></a>,\n",
       " <a class=\"ipc-title-link-wrapper\" href=\"/title/tt0158417/?ref_=chttvtp_t_108\" tabindex=\"0\"><h3 class=\"ipc-title__text\">108. Mahabharat</h3></a>,\n",
       " <a class=\"ipc-title-link-wrapper\" href=\"/title/tt5788792/?ref_=chttvtp_t_109\" tabindex=\"0\"><h3 class=\"ipc-title__text\">109. The Marvelous Mrs. Maisel</h3></a>,\n",
       " <a class=\"ipc-title-link-wrapper\" href=\"/title/tt0086661/?ref_=chttvtp_t_110\" tabindex=\"0\"><h3 class=\"ipc-title__text\">110. The Adventures of Sherlock Holmes</h3></a>,\n",
       " <a class=\"ipc-title-link-wrapper\" href=\"/title/tt0758745/?ref_=chttvtp_t_111\" tabindex=\"0\"><h3 class=\"ipc-title__text\">111. Friday Night Lights</h3></a>,\n",
       " <a class=\"ipc-title-link-wrapper\" href=\"/title/tt5712554/?ref_=chttvtp_t_112\" tabindex=\"0\"><h3 class=\"ipc-title__text\">112. The Grand Tour</h3></a>,\n",
       " <a class=\"ipc-title-link-wrapper\" href=\"/title/tt6025022/?ref_=chttvtp_t_113\" tabindex=\"0\"><h3 class=\"ipc-title__text\">113. Justice League Unlimited</h3></a>,\n",
       " <a class=\"ipc-title-link-wrapper\" href=\"/title/tt1628033/?ref_=chttvtp_t_114\" tabindex=\"0\"><h3 class=\"ipc-title__text\">114. Top Gear</h3></a>,\n",
       " <a class=\"ipc-title-link-wrapper\" href=\"/title/tt14392248/?ref_=chttvtp_t_115\" tabindex=\"0\"><h3 class=\"ipc-title__text\">115. Aspirants</h3></a>,\n",
       " <a class=\"ipc-title-link-wrapper\" href=\"/title/tt1795096/?ref_=chttvtp_t_116\" tabindex=\"0\"><h3 class=\"ipc-title__text\">116. Behzat Ç: An Ankara Detective Story</h3></a>,\n",
       " <a class=\"ipc-title-link-wrapper\" href=\"/title/tt0459159/?ref_=chttvtp_t_117\" tabindex=\"0\"><h3 class=\"ipc-title__text\">117. The Thick of It</h3></a>,\n",
       " <a class=\"ipc-title-link-wrapper\" href=\"/title/tt2303687/?ref_=chttvtp_t_118\" tabindex=\"0\"><h3 class=\"ipc-title__text\">118. Line of Duty</h3></a>,\n",
       " <a class=\"ipc-title-link-wrapper\" href=\"/title/tt1856010/?ref_=chttvtp_t_119\" tabindex=\"0\"><h3 class=\"ipc-title__text\">119. House of Cards</h3></a>,\n",
       " <a class=\"ipc-title-link-wrapper\" href=\"/title/tt13991232/?ref_=chttvtp_t_120\" tabindex=\"0\"><h3 class=\"ipc-title__text\">120. 1883</h3></a>,\n",
       " <a class=\"ipc-title-link-wrapper\" href=\"/title/tt5555260/?ref_=chttvtp_t_121\" tabindex=\"0\"><h3 class=\"ipc-title__text\">121. This Is Us</h3></a>,\n",
       " <a class=\"ipc-title-link-wrapper\" href=\"/title/tt0988824/?ref_=chttvtp_t_122\" tabindex=\"0\"><h3 class=\"ipc-title__text\">122. Naruto: Shippuden</h3></a>,\n",
       " <a class=\"ipc-title-link-wrapper\" href=\"/title/tt4786824/?ref_=chttvtp_t_123\" tabindex=\"0\"><h3 class=\"ipc-title__text\">123. The Crown</h3></a>,\n",
       " <a class=\"ipc-title-link-wrapper\" href=\"/title/tt0268093/?ref_=chttvtp_t_124\" tabindex=\"0\"><h3 class=\"ipc-title__text\">124. Ramayan</h3></a>,\n",
       " <a class=\"ipc-title-link-wrapper\" href=\"/title/tt4288182/?ref_=chttvtp_t_125\" tabindex=\"0\"><h3 class=\"ipc-title__text\">125. Atlanta</h3></a>,\n",
       " <a class=\"ipc-title-link-wrapper\" href=\"/title/tt0111958/?ref_=chttvtp_t_126\" tabindex=\"0\"><h3 class=\"ipc-title__text\">126. Father Ted</h3></a>,\n",
       " <a class=\"ipc-title-link-wrapper\" href=\"/title/tt10801534/?ref_=chttvtp_t_127\" tabindex=\"0\"><h3 class=\"ipc-title__text\">127. How to with John Wilson</h3></a>,\n",
       " <a class=\"ipc-title-link-wrapper\" href=\"/title/tt1266020/?ref_=chttvtp_t_128\" tabindex=\"0\"><h3 class=\"ipc-title__text\">128. Parks and Recreation</h3></a>,\n",
       " <a class=\"ipc-title-link-wrapper\" href=\"/title/tt0106179/?ref_=chttvtp_t_129\" tabindex=\"0\"><h3 class=\"ipc-title__text\">129. The X-Files</h3></a>,\n",
       " <a class=\"ipc-title-link-wrapper\" href=\"/title/tt0434706/?ref_=chttvtp_t_130\" tabindex=\"0\"><h3 class=\"ipc-title__text\">130. Monster</h3></a>,\n",
       " <a class=\"ipc-title-link-wrapper\" href=\"/title/tt0348914/?ref_=chttvtp_t_131\" tabindex=\"0\"><h3 class=\"ipc-title__text\">131. Deadwood</h3></a>,\n",
       " <a class=\"ipc-title-link-wrapper\" href=\"/title/tt0773262/?ref_=chttvtp_t_132\" tabindex=\"0\"><h3 class=\"ipc-title__text\">132. Dexter</h3></a>,\n",
       " <a class=\"ipc-title-link-wrapper\" href=\"/title/tt0994314/?ref_=chttvtp_t_133\" tabindex=\"0\"><h3 class=\"ipc-title__text\">133. Code Geass</h3></a>,\n",
       " <a class=\"ipc-title-link-wrapper\" href=\"/title/tt4834232/?ref_=chttvtp_t_134\" tabindex=\"0\"><h3 class=\"ipc-title__text\">134. Critical Role</h3></a>,\n",
       " <a class=\"ipc-title-link-wrapper\" href=\"/title/tt10332508/?ref_=chttvtp_t_135\" tabindex=\"0\"><h3 class=\"ipc-title__text\">135. Primal</h3></a>,\n",
       " <a class=\"ipc-title-link-wrapper\" href=\"/title/tt4299972/?ref_=chttvtp_t_136\" tabindex=\"0\"><h3 class=\"ipc-title__text\">136. The Jinx: The Life and Deaths of Robert Durst</h3></a>,\n",
       " <a class=\"ipc-title-link-wrapper\" href=\"/title/tt9140342/?ref_=chttvtp_t_137\" tabindex=\"0\"><h3 class=\"ipc-title__text\">137. It's a Sin</h3></a>,\n",
       " <a class=\"ipc-title-link-wrapper\" href=\"/title/tt1733785/?ref_=chttvtp_t_138\" tabindex=\"0\"><h3 class=\"ipc-title__text\">138. The Bridge</h3></a>,\n",
       " <a class=\"ipc-title-link-wrapper\" href=\"/title/tt3322312/?ref_=chttvtp_t_139\" tabindex=\"0\"><h3 class=\"ipc-title__text\">139. Daredevil</h3></a>,\n",
       " <a class=\"ipc-title-link-wrapper\" href=\"/title/tt0088484/?ref_=chttvtp_t_140\" tabindex=\"0\"><h3 class=\"ipc-title__text\">140. Blackadder II</h3></a>,\n",
       " <a class=\"ipc-title-link-wrapper\" href=\"/title/tt1305826/?ref_=chttvtp_t_141\" tabindex=\"0\"><h3 class=\"ipc-title__text\">141. Adventure Time</h3></a>,\n",
       " <a class=\"ipc-title-link-wrapper\" href=\"/title/tt0096639/?ref_=chttvtp_t_142\" tabindex=\"0\"><h3 class=\"ipc-title__text\">142. Lonesome Dove</h3></a>,\n",
       " <a class=\"ipc-title-link-wrapper\" href=\"/title/tt8595766/?ref_=chttvtp_t_143\" tabindex=\"0\"><h3 class=\"ipc-title__text\">143. Yeh Meri Family</h3></a>,\n",
       " <a class=\"ipc-title-link-wrapper\" href=\"/title/tt9335498/?ref_=chttvtp_t_144\" tabindex=\"0\"><h3 class=\"ipc-title__text\">144. Demon Slayer: Kimetsu no Yaiba</h3></a>,\n",
       " <a class=\"ipc-title-link-wrapper\" href=\"/title/tt5290382/?ref_=chttvtp_t_145\" tabindex=\"0\"><h3 class=\"ipc-title__text\">145. Mindhunter</h3></a>,\n",
       " <a class=\"ipc-title-link-wrapper\" href=\"/title/tt0090509/?ref_=chttvtp_t_146\" tabindex=\"0\"><h3 class=\"ipc-title__text\">146. The Return of Sherlock Holmes</h3></a>,\n",
       " <a class=\"ipc-title-link-wrapper\" href=\"/title/tt2049116/?ref_=chttvtp_t_147\" tabindex=\"0\"><h3 class=\"ipc-title__text\">147. Gomorrah</h3></a>,\n",
       " <a class=\"ipc-title-link-wrapper\" href=\"/title/tt1486217/?ref_=chttvtp_t_148\" tabindex=\"0\"><h3 class=\"ipc-title__text\">148. Archer</h3></a>,\n",
       " <a class=\"ipc-title-link-wrapper\" href=\"/title/tt13111040/?ref_=chttvtp_t_149\" tabindex=\"0\"><h3 class=\"ipc-title__text\">149. The Offer</h3></a>,\n",
       " <a class=\"ipc-title-link-wrapper\" href=\"/title/tt0094517/?ref_=chttvtp_t_150\" tabindex=\"0\"><h3 class=\"ipc-title__text\">150. Mystery Science Theater 3000</h3></a>,\n",
       " <a class=\"ipc-title-link-wrapper\" href=\"/title/tt3398540/?ref_=chttvtp_t_151\" tabindex=\"0\"><h3 class=\"ipc-title__text\">151. Haikyu!!</h3></a>,\n",
       " <a class=\"ipc-title-link-wrapper\" href=\"/title/tt0092324/?ref_=chttvtp_t_152\" tabindex=\"0\"><h3 class=\"ipc-title__text\">152. Blackadder the Third</h3></a>,\n",
       " <a class=\"ipc-title-link-wrapper\" href=\"/title/tt1641384/?ref_=chttvtp_t_153\" tabindex=\"0\"><h3 class=\"ipc-title__text\">153. Young Justice</h3></a>,\n",
       " <a class=\"ipc-title-link-wrapper\" href=\"/title/tt0094525/?ref_=chttvtp_t_154\" tabindex=\"0\"><h3 class=\"ipc-title__text\">154. Poirot</h3></a>,\n",
       " <a class=\"ipc-title-link-wrapper\" href=\"/title/tt0096657/?ref_=chttvtp_t_155\" tabindex=\"0\"><h3 class=\"ipc-title__text\">155. Mr. Bean</h3></a>,\n",
       " <a class=\"ipc-title-link-wrapper\" href=\"/title/tt9174558/?ref_=chttvtp_t_156\" tabindex=\"0\"><h3 class=\"ipc-title__text\">156. Dopesick</h3></a>,\n",
       " <a class=\"ipc-title-link-wrapper\" href=\"/title/tt0080306/?ref_=chttvtp_t_157\" tabindex=\"0\"><h3 class=\"ipc-title__text\">157. Yes Minister</h3></a>,\n",
       " <a class=\"ipc-title-link-wrapper\" href=\"/title/tt7562112/?ref_=chttvtp_t_158\" tabindex=\"0\"><h3 class=\"ipc-title__text\">158. Pose</h3></a>,\n",
       " <a class=\"ipc-title-link-wrapper\" href=\"/title/tt5421602/?ref_=chttvtp_t_159\" tabindex=\"0\"><h3 class=\"ipc-title__text\">159. Anne with an E</h3></a>,\n",
       " <a class=\"ipc-title-link-wrapper\" href=\"/title/tt4236770/?ref_=chttvtp_t_160\" tabindex=\"0\"><h3 class=\"ipc-title__text\">160. Yellowstone</h3></a>,\n",
       " <a class=\"ipc-title-link-wrapper\" href=\"/title/tt10850932/?ref_=chttvtp_t_161\" tabindex=\"0\"><h3 class=\"ipc-title__text\">161. Crash Landing on You</h3></a>,\n",
       " <a class=\"ipc-title-link-wrapper\" href=\"/title/tt0380136/?ref_=chttvtp_t_162\" tabindex=\"0\"><h3 class=\"ipc-title__text\">162. QI</h3></a>,\n",
       " <a class=\"ipc-title-link-wrapper\" href=\"/title/tt1870479/?ref_=chttvtp_t_163\" tabindex=\"0\"><h3 class=\"ipc-title__text\">163. The Newsroom</h3></a>,\n",
       " <a class=\"ipc-title-link-wrapper\" href=\"/title/tt0979432/?ref_=chttvtp_t_164\" tabindex=\"0\"><h3 class=\"ipc-title__text\">164. Boardwalk Empire</h3></a>,\n",
       " <a class=\"ipc-title-link-wrapper\" href=\"/title/tt1489428/?ref_=chttvtp_t_165\" tabindex=\"0\"><h3 class=\"ipc-title__text\">165. Justified</h3></a>,\n",
       " <a class=\"ipc-title-link-wrapper\" href=\"/title/tt0053488/?ref_=chttvtp_t_166\" tabindex=\"0\"><h3 class=\"ipc-title__text\">166. The Bugs Bunny Show</h3></a>,\n",
       " <a class=\"ipc-title-link-wrapper\" href=\"/title/tt6763664/?ref_=chttvtp_t_167\" tabindex=\"0\"><h3 class=\"ipc-title__text\">167. The Haunting of Hill House</h3></a>,\n",
       " <a class=\"ipc-title-link-wrapper\" href=\"/title/tt5189670/?ref_=chttvtp_t_168\" tabindex=\"0\"><h3 class=\"ipc-title__text\">168. Making a Murderer</h3></a>,\n",
       " <a class=\"ipc-title-link-wrapper\" href=\"/title/tt0275137/?ref_=chttvtp_t_169\" tabindex=\"0\"><h3 class=\"ipc-title__text\">169. Justice League</h3></a>,\n",
       " <a class=\"ipc-title-link-wrapper\" href=\"/title/tt0417373/?ref_=chttvtp_t_170\" tabindex=\"0\"><h3 class=\"ipc-title__text\">170. The Venture Bros.</h3></a>,\n",
       " <a class=\"ipc-title-link-wrapper\" href=\"/title/tt4063800/?ref_=chttvtp_t_171\" tabindex=\"0\"><h3 class=\"ipc-title__text\">171. The Bureau</h3></a>,\n",
       " <a class=\"ipc-title-link-wrapper\" href=\"/title/tt0229889/?ref_=chttvtp_t_172\" tabindex=\"0\"><h3 class=\"ipc-title__text\">172. El Chavo del Ocho</h3></a>,\n",
       " <a class=\"ipc-title-link-wrapper\" href=\"/title/tt10048342/?ref_=chttvtp_t_173\" tabindex=\"0\"><h3 class=\"ipc-title__text\">173. The Queen's Gambit</h3></a>,\n",
       " <a class=\"ipc-title-link-wrapper\" href=\"/title/tt0106028/?ref_=chttvtp_t_174\" tabindex=\"0\"><h3 class=\"ipc-title__text\">174. Homicide: Life on the Street</h3></a>,\n",
       " <a class=\"ipc-title-link-wrapper\" href=\"/title/tt14452776/?ref_=chttvtp_t_175\" tabindex=\"0\"><h3 class=\"ipc-title__text\">175. The Bear</h3></a>,\n",
       " <a class=\"ipc-title-link-wrapper\" href=\"/title/tt7472896/?ref_=chttvtp_t_176\" tabindex=\"0\"><h3 class=\"ipc-title__text\">176. Mr Inbetween</h3></a>,\n",
       " <a class=\"ipc-title-link-wrapper\" href=\"/title/tt0863046/?ref_=chttvtp_t_177\" tabindex=\"0\"><h3 class=\"ipc-title__text\">177. Flight of the Conchords</h3></a>,\n",
       " <a class=\"ipc-title-link-wrapper\" href=\"/title/tt0088509/?ref_=chttvtp_t_178\" tabindex=\"0\"><h3 class=\"ipc-title__text\">178. Dragon Ball</h3></a>,\n",
       " <a class=\"ipc-title-link-wrapper\" href=\"/title/tt0280249/?ref_=chttvtp_t_179\" tabindex=\"0\"><h3 class=\"ipc-title__text\">179. Dragon Ball</h3></a>,\n",
       " <a class=\"ipc-title-link-wrapper\" href=\"/title/tt2244495/?ref_=chttvtp_t_180\" tabindex=\"0\"><h3 class=\"ipc-title__text\">180. The Eric Andre Show</h3></a>,\n",
       " <a class=\"ipc-title-link-wrapper\" href=\"/title/tt7908628/?ref_=chttvtp_t_181\" tabindex=\"0\"><h3 class=\"ipc-title__text\">181. What We Do in the Shadows</h3></a>,\n",
       " <a class=\"ipc-title-link-wrapper\" href=\"/title/tt0314979/?ref_=chttvtp_t_182\" tabindex=\"0\"><h3 class=\"ipc-title__text\">182. Battlestar Galactica</h3></a>,\n",
       " <a class=\"ipc-title-link-wrapper\" href=\"/title/tt0237123/?ref_=chttvtp_t_183\" tabindex=\"0\"><h3 class=\"ipc-title__text\">183. Coupling</h3></a>,\n",
       " <a class=\"ipc-title-link-wrapper\" href=\"/title/tt2100976/?ref_=chttvtp_t_184\" tabindex=\"0\"><h3 class=\"ipc-title__text\">184. Impractical Jokers</h3></a>,\n",
       " <a class=\"ipc-title-link-wrapper\" href=\"/title/tt9544034/?ref_=chttvtp_t_185\" tabindex=\"0\"><h3 class=\"ipc-title__text\">185. The Family Man</h3></a>,\n",
       " <a class=\"ipc-title-link-wrapper\" href=\"/title/tt6108262/?ref_=chttvtp_t_186\" tabindex=\"0\"><h3 class=\"ipc-title__text\">186. Black Sun</h3></a>,\n",
       " <a class=\"ipc-title-link-wrapper\" href=\"/title/tt10638036/?ref_=chttvtp_t_187\" tabindex=\"0\"><h3 class=\"ipc-title__text\">187. Heartstopper</h3></a>,\n",
       " <a class=\"ipc-title-link-wrapper\" href=\"/title/tt0086831/?ref_=chttvtp_t_188\" tabindex=\"0\"><h3 class=\"ipc-title__text\">188. Yes, Prime Minister</h3></a>,\n",
       " <a class=\"ipc-title-link-wrapper\" href=\"/title/tt0187664/?ref_=chttvtp_t_189\" tabindex=\"0\"><h3 class=\"ipc-title__text\">189. Spaced</h3></a>,\n",
       " <a class=\"ipc-title-link-wrapper\" href=\"/title/tt0423731/?ref_=chttvtp_t_190\" tabindex=\"0\"><h3 class=\"ipc-title__text\">190. Samurai Champloo</h3></a>,\n",
       " <a class=\"ipc-title-link-wrapper\" href=\"/title/tt4158110/?ref_=chttvtp_t_191\" tabindex=\"0\"><h3 class=\"ipc-title__text\">191. Mr. Robot</h3></a>,\n",
       " <a class=\"ipc-title-link-wrapper\" href=\"/title/tt0487831/?ref_=chttvtp_t_192\" tabindex=\"0\"><h3 class=\"ipc-title__text\">192. The IT Crowd</h3></a>,\n",
       " <a class=\"ipc-title-link-wrapper\" href=\"/title/tt0403778/?ref_=chttvtp_t_193\" tabindex=\"0\"><h3 class=\"ipc-title__text\">193. Long Way Round</h3></a>,\n",
       " <a class=\"ipc-title-link-wrapper\" href=\"/title/tt2701582/?ref_=chttvtp_t_194\" tabindex=\"0\"><h3 class=\"ipc-title__text\">194. Endeavour</h3></a>,\n",
       " <a class=\"ipc-title-link-wrapper\" href=\"/title/tt0129690/?ref_=chttvtp_t_195\" tabindex=\"0\"><h3 class=\"ipc-title__text\">195. I'm Alan Partridge</h3></a>,\n",
       " <a class=\"ipc-title-link-wrapper\" href=\"/title/tt13868972/?ref_=chttvtp_t_196\" tabindex=\"0\"><h3 class=\"ipc-title__text\">196. Rocket Boys</h3></a>,\n",
       " <a class=\"ipc-title-link-wrapper\" href=\"/title/tt8289930/?ref_=chttvtp_t_197\" tabindex=\"0\"><h3 class=\"ipc-title__text\">197. Formula 1: Drive to Survive</h3></a>,\n",
       " <a class=\"ipc-title-link-wrapper\" href=\"/title/tt1534360/?ref_=chttvtp_t_198\" tabindex=\"0\"><h3 class=\"ipc-title__text\">198. Ezel</h3></a>,\n",
       " <a class=\"ipc-title-link-wrapper\" href=\"/title/tt1492966/?ref_=chttvtp_t_199\" tabindex=\"0\"><h3 class=\"ipc-title__text\">199. Louie</h3></a>,\n",
       " <a class=\"ipc-title-link-wrapper\" href=\"/title/tt0163507/?ref_=chttvtp_t_200\" tabindex=\"0\"><h3 class=\"ipc-title__text\">200. Whose Line Is It Anyway?</h3></a>,\n",
       " <a class=\"ipc-title-link-wrapper\" href=\"/title/tt0278238/?ref_=chttvtp_t_201\" tabindex=\"0\"><h3 class=\"ipc-title__text\">201. Samurai Jack</h3></a>,\n",
       " <a class=\"ipc-title-link-wrapper\" href=\"/title/tt5897304/?ref_=chttvtp_t_202\" tabindex=\"0\"><h3 class=\"ipc-title__text\">202. Mob Psycho 100</h3></a>,\n",
       " <a class=\"ipc-title-link-wrapper\" href=\"/title/tt0290978/?ref_=chttvtp_t_203\" tabindex=\"0\"><h3 class=\"ipc-title__text\">203. The Office</h3></a>,\n",
       " <a class=\"ipc-title-link-wrapper\" href=\"/title/tt4082744/?ref_=chttvtp_t_204\" tabindex=\"0\"><h3 class=\"ipc-title__text\">204. Detectorists</h3></a>,\n",
       " <a class=\"ipc-title-link-wrapper\" href=\"/title/tt1513168/?ref_=chttvtp_t_205\" tabindex=\"0\"><h3 class=\"ipc-title__text\">205. Through the Wormhole</h3></a>,\n",
       " <a class=\"ipc-title-link-wrapper\" href=\"/title/tt1442449/?ref_=chttvtp_t_206\" tabindex=\"0\"><h3 class=\"ipc-title__text\">206. Spartacus</h3></a>,\n",
       " <a class=\"ipc-title-link-wrapper\" href=\"/title/tt1586680/?ref_=chttvtp_t_207\" tabindex=\"0\"><h3 class=\"ipc-title__text\">207. Shameless</h3></a>,\n",
       " <a class=\"ipc-title-link-wrapper\" href=\"/title/tt1124373/?ref_=chttvtp_t_208\" tabindex=\"0\"><h3 class=\"ipc-title__text\">208. Sons of Anarchy</h3></a>,\n",
       " <a class=\"ipc-title-link-wrapper\" href=\"/title/tt0436992/?ref_=chttvtp_t_209\" tabindex=\"0\"><h3 class=\"ipc-title__text\">209. Doctor Who</h3></a>,\n",
       " <a class=\"ipc-title-link-wrapper\" href=\"/title/tt0112159/?ref_=chttvtp_t_210\" tabindex=\"0\"><h3 class=\"ipc-title__text\">210. Neon Genesis Evangelion</h3></a>,\n",
       " <a class=\"ipc-title-link-wrapper\" href=\"/title/tt4647692/?ref_=chttvtp_t_211\" tabindex=\"0\"><h3 class=\"ipc-title__text\">211. Letterkenny</h3></a>,\n",
       " <a class=\"ipc-title-link-wrapper\" href=\"/title/tt3428912/?ref_=chttvtp_t_212\" tabindex=\"0\"><h3 class=\"ipc-title__text\">212. Happy Valley</h3></a>,\n",
       " <a class=\"ipc-title-link-wrapper\" href=\"/title/tt0118273/?ref_=chttvtp_t_213\" tabindex=\"0\"><h3 class=\"ipc-title__text\">213. Brass Eye</h3></a>,\n",
       " <a class=\"ipc-title-link-wrapper\" href=\"/title/tt5288312/?ref_=chttvtp_t_214\" tabindex=\"0\"><h3 class=\"ipc-title__text\">214. Skam</h3></a>,\n",
       " <a class=\"ipc-title-link-wrapper\" href=\"/title/tt4093826/?ref_=chttvtp_t_215\" tabindex=\"0\"><h3 class=\"ipc-title__text\">215. Twin Peaks</h3></a>,\n",
       " <a class=\"ipc-title-link-wrapper\" href=\"/title/tt0290988/?ref_=chttvtp_t_216\" tabindex=\"0\"><h3 class=\"ipc-title__text\">216. Trailer Park Boys</h3></a>,\n",
       " <a class=\"ipc-title-link-wrapper\" href=\"/title/tt0417349/?ref_=chttvtp_t_217\" tabindex=\"0\"><h3 class=\"ipc-title__text\">217. North &amp; South</h3></a>,\n",
       " <a class=\"ipc-title-link-wrapper\" href=\"/title/tt20869502/?ref_=chttvtp_t_218\" tabindex=\"0\"><h3 class=\"ipc-title__text\">218. Extraordinary Attorney Woo</h3></a>,\n",
       " <a class=\"ipc-title-link-wrapper\" href=\"/title/tt10802170/?ref_=chttvtp_t_219\" tabindex=\"0\"><h3 class=\"ipc-title__text\">219. The Rehearsal</h3></a>,\n",
       " <a class=\"ipc-title-link-wrapper\" href=\"/title/tt1758429/?ref_=chttvtp_t_220\" tabindex=\"0\"><h3 class=\"ipc-title__text\">220. Spartacus: Gods of the Arena</h3></a>,\n",
       " <a class=\"ipc-title-link-wrapper\" href=\"/title/tt2575988/?ref_=chttvtp_t_221\" tabindex=\"0\"><h3 class=\"ipc-title__text\">221. Silicon Valley</h3></a>,\n",
       " <a class=\"ipc-title-link-wrapper\" href=\"/title/tt0421357/?ref_=chttvtp_t_222\" tabindex=\"0\"><h3 class=\"ipc-title__text\">222. Fullmetal Alchemist</h3></a>,\n",
       " <a class=\"ipc-title-link-wrapper\" href=\"/title/tt0149460/?ref_=chttvtp_t_223\" tabindex=\"0\"><h3 class=\"ipc-title__text\">223. Futurama</h3></a>,\n",
       " <a class=\"ipc-title-link-wrapper\" href=\"/title/tt0475784/?ref_=chttvtp_t_224\" tabindex=\"0\"><h3 class=\"ipc-title__text\">224. Westworld</h3></a>,\n",
       " <a class=\"ipc-title-link-wrapper\" href=\"/title/tt1710308/?ref_=chttvtp_t_225\" tabindex=\"0\"><h3 class=\"ipc-title__text\">225. Regular Show</h3></a>,\n",
       " <a class=\"ipc-title-link-wrapper\" href=\"/title/tt0203082/?ref_=chttvtp_t_226\" tabindex=\"0\"><h3 class=\"ipc-title__text\">226. Rurouni Kenshin: Trust and Betrayal</h3></a>,\n",
       " <a class=\"ipc-title-link-wrapper\" href=\"/title/tt0120570/?ref_=chttvtp_t_227\" tabindex=\"0\"><h3 class=\"ipc-title__text\">227. From the Earth to the Moon</h3></a>,\n",
       " <a class=\"ipc-title-link-wrapper\" href=\"/title/tt3526078/?ref_=chttvtp_t_228\" tabindex=\"0\"><h3 class=\"ipc-title__text\">228. Schitt's Creek</h3></a>,\n",
       " <a class=\"ipc-title-link-wrapper\" href=\"/title/tt12343534/?ref_=chttvtp_t_229\" tabindex=\"0\"><h3 class=\"ipc-title__text\">229. Jujutsu Kaisen</h3></a>,\n",
       " <a class=\"ipc-title-link-wrapper\" href=\"/title/tt2243973/?ref_=chttvtp_t_230\" tabindex=\"0\"><h3 class=\"ipc-title__text\">230. Hannibal</h3></a>,\n",
       " <a class=\"ipc-title-link-wrapper\" href=\"/title/tt3230854/?ref_=chttvtp_t_231\" tabindex=\"0\"><h3 class=\"ipc-title__text\">231. The Expanse</h3></a>,\n",
       " <a class=\"ipc-title-link-wrapper\" href=\"/title/tt15614372/?ref_=chttvtp_t_232\" tabindex=\"0\"><h3 class=\"ipc-title__text\">232. Tear Along the Dotted Line</h3></a>,\n",
       " <a class=\"ipc-title-link-wrapper\" href=\"/title/tt4269716/?ref_=chttvtp_t_233\" tabindex=\"0\"><h3 class=\"ipc-title__text\">233. Umbre</h3></a>,\n",
       " <a class=\"ipc-title-link-wrapper\" href=\"/title/tt1439629/?ref_=chttvtp_t_234\" tabindex=\"0\"><h3 class=\"ipc-title__text\">234. Community</h3></a>,\n",
       " <a class=\"ipc-title-link-wrapper\" href=\"/title/tt7120662/?ref_=chttvtp_t_235\" tabindex=\"0\"><h3 class=\"ipc-title__text\">235. Derry Girls</h3></a>,\n",
       " <a class=\"ipc-title-link-wrapper\" href=\"/title/tt7278862/?ref_=chttvtp_t_236\" tabindex=\"0\"><h3 class=\"ipc-title__text\">236. My Brilliant Friend</h3></a>,\n",
       " <a class=\"ipc-title-link-wrapper\" href=\"/title/tt2433738/?ref_=chttvtp_t_237\" tabindex=\"0\"><h3 class=\"ipc-title__text\">237. Wentworth</h3></a>,\n",
       " <a class=\"ipc-title-link-wrapper\" href=\"/title/tt4295140/?ref_=chttvtp_t_238\" tabindex=\"0\"><h3 class=\"ipc-title__text\">238. Chef's Table</h3></a>,\n",
       " <a class=\"ipc-title-link-wrapper\" href=\"/title/tt0421291/?ref_=chttvtp_t_239\" tabindex=\"0\"><h3 class=\"ipc-title__text\">239. Avrupa Yakasi</h3></a>,\n",
       " <a class=\"ipc-title-link-wrapper\" href=\"/title/tt3895150/?ref_=chttvtp_t_240\" tabindex=\"0\"><h3 class=\"ipc-title__text\">240. Your Lie in April</h3></a>,\n",
       " <a class=\"ipc-title-link-wrapper\" href=\"/title/tt0988818/?ref_=chttvtp_t_241\" tabindex=\"0\"><h3 class=\"ipc-title__text\">241. Gintama</h3></a>,\n",
       " <a class=\"ipc-title-link-wrapper\" href=\"/title/tt0995832/?ref_=chttvtp_t_242\" tabindex=\"0\"><h3 class=\"ipc-title__text\">242. Generation Kill</h3></a>,\n",
       " <a class=\"ipc-title-link-wrapper\" href=\"/title/tt7221388/?ref_=chttvtp_t_243\" tabindex=\"0\"><h3 class=\"ipc-title__text\">243. Cobra Kai</h3></a>,\n",
       " <a class=\"ipc-title-link-wrapper\" href=\"/title/tt0047708/?ref_=chttvtp_t_244\" tabindex=\"0\"><h3 class=\"ipc-title__text\">244. Alfred Hitchcock Presents</h3></a>,\n",
       " <a class=\"ipc-title-link-wrapper\" href=\"/title/tt0310455/?ref_=chttvtp_t_245\" tabindex=\"0\"><h3 class=\"ipc-title__text\">245. Foyle's War</h3></a>,\n",
       " <a class=\"ipc-title-link-wrapper\" href=\"/title/tt2401256/?ref_=chttvtp_t_246\" tabindex=\"0\"><h3 class=\"ipc-title__text\">246. The Night Of</h3></a>,\n",
       " <a class=\"ipc-title-link-wrapper\" href=\"/title/tt1299368/?ref_=chttvtp_t_247\" tabindex=\"0\"><h3 class=\"ipc-title__text\">247. Southland</h3></a>,\n",
       " <a class=\"ipc-title-link-wrapper\" href=\"/title/tt1230180/?ref_=chttvtp_t_248\" tabindex=\"0\"><h3 class=\"ipc-title__text\">248. The Angry Video Game Nerd</h3></a>,\n",
       " <a class=\"ipc-title-link-wrapper\" href=\"/title/tt2937900/?ref_=chttvtp_t_249\" tabindex=\"0\"><h3 class=\"ipc-title__text\">249. The Knick</h3></a>,\n",
       " <a class=\"ipc-title-link-wrapper\" href=\"/title/tt3920596/?ref_=chttvtp_t_250\" tabindex=\"0\"><h3 class=\"ipc-title__text\">250. Big Little Lies</h3></a>]"
      ]
     },
     "execution_count": 9,
     "metadata": {},
     "output_type": "execute_result"
    }
   ],
   "source": [
    "# Where can we find the top 250 tv shows? Inspect the elements to find it.\n",
    "movies=soup.find_all(\"a\", class_=\"ipc-title-link-wrapper\", href=re.compile('/title'))\n",
    "movies"
   ]
  },
  {
   "cell_type": "code",
   "execution_count": 26,
   "metadata": {},
   "outputs": [
    {
     "data": {
      "text/plain": [
       "'tt0903747'"
      ]
     },
     "execution_count": 26,
     "metadata": {},
     "output_type": "execute_result"
    }
   ],
   "source": [
    "movies[0]['href'].split('/')[2]"
   ]
  },
  {
   "cell_type": "code",
   "execution_count": 16,
   "metadata": {
    "scrolled": false
   },
   "outputs": [],
   "source": [
    "# Get the movie IDs only as a list (practice list comprehension...)\n",
    "top_shows = [movie['href'].split('/')[2] for movie in movies]"
   ]
  },
  {
   "cell_type": "code",
   "execution_count": 17,
   "metadata": {},
   "outputs": [
    {
     "data": {
      "text/plain": [
       "['tt0903747',\n",
       " 'tt5491994',\n",
       " 'tt0795176',\n",
       " 'tt0185906',\n",
       " 'tt7366338',\n",
       " 'tt0306414',\n",
       " 'tt0417299',\n",
       " 'tt6769208',\n",
       " 'tt0141842',\n",
       " 'tt2395695',\n",
       " 'tt0081846',\n",
       " 'tt9253866',\n",
       " 'tt0944947',\n",
       " 'tt0071075',\n",
       " 'tt2861424',\n",
       " 'tt7678620',\n",
       " 'tt1355642',\n",
       " 'tt8420184',\n",
       " 'tt1533395',\n",
       " 'tt0052520',\n",
       " 'tt1475582',\n",
       " 'tt1877514',\n",
       " 'tt0103359',\n",
       " 'tt2560140',\n",
       " 'tt12392504',\n",
       " 'tt0386676',\n",
       " 'tt11126994',\n",
       " 'tt0296310',\n",
       " 'tt3032476',\n",
       " 'tt1806234',\n",
       " 'tt0303461',\n",
       " 'tt2092588',\n",
       " 'tt10541088',\n",
       " 'tt0877057',\n",
       " 'tt0081912',\n",
       " 'tt0098769',\n",
       " 'tt2098220',\n",
       " 'tt2356777',\n",
       " 'tt0098904',\n",
       " 'tt0092337',\n",
       " 'tt9735318',\n",
       " 'tt7920978',\n",
       " 'tt2802850',\n",
       " 'tt0213338',\n",
       " 'tt1865718',\n",
       " 'tt2297757',\n",
       " 'tt3530232',\n",
       " 'tt7660850',\n",
       " 'tt7137906',\n",
       " 'tt1508238',\n",
       " 'tt0108778',\n",
       " 'tt2571774',\n",
       " 'tt4742876',\n",
       " 'tt4934214',\n",
       " 'tt0472954',\n",
       " 'tt0063929',\n",
       " 'tt13675832',\n",
       " 'tt0200276',\n",
       " 'tt0081834',\n",
       " 'tt0264235',\n",
       " 'tt0388629',\n",
       " 'tt0072500',\n",
       " 'tt1831164',\n",
       " 'tt3398228',\n",
       " 'tt0112130',\n",
       " 'tt0193676',\n",
       " 'tt0096548',\n",
       " 'tt0098936',\n",
       " 'tt0214341',\n",
       " 'tt2707408',\n",
       " 'tt0353049',\n",
       " 'tt0121220',\n",
       " 'tt3581920',\n",
       " 'tt2085059',\n",
       " 'tt0074006',\n",
       " 'tt0121955',\n",
       " 'tt3718778',\n",
       " 'tt9432978',\n",
       " 'tt10986410',\n",
       " 'tt0248654',\n",
       " 'tt2442560',\n",
       " 'tt0384766',\n",
       " 'tt0118421',\n",
       " 'tt10233448',\n",
       " 'tt10530900',\n",
       " 'tt1910272',\n",
       " 'tt5753856',\n",
       " 'tt12004706',\n",
       " 'tt1190634',\n",
       " 'tt5687612',\n",
       " 'tt14986406',\n",
       " 'tt0407362',\n",
       " 'tt0367279',\n",
       " 'tt0096697',\n",
       " 'tt0286486',\n",
       " 'tt1606375',\n",
       " 'tt0412142',\n",
       " 'tt4508902',\n",
       " 'tt6741278',\n",
       " 'tt11280740',\n",
       " 'tt0804503',\n",
       " 'tt4574334',\n",
       " 'tt0387764',\n",
       " 'tt1518542',\n",
       " 'tt0318871',\n",
       " 'tt0092455',\n",
       " 'tt8111088',\n",
       " 'tt0158417',\n",
       " 'tt5788792',\n",
       " 'tt0086661',\n",
       " 'tt0758745',\n",
       " 'tt5712554',\n",
       " 'tt6025022',\n",
       " 'tt1628033',\n",
       " 'tt14392248',\n",
       " 'tt1795096',\n",
       " 'tt0459159',\n",
       " 'tt2303687',\n",
       " 'tt1856010',\n",
       " 'tt13991232',\n",
       " 'tt5555260',\n",
       " 'tt0988824',\n",
       " 'tt4786824',\n",
       " 'tt0268093',\n",
       " 'tt4288182',\n",
       " 'tt0111958',\n",
       " 'tt10801534',\n",
       " 'tt1266020',\n",
       " 'tt0106179',\n",
       " 'tt0434706',\n",
       " 'tt0348914',\n",
       " 'tt0773262',\n",
       " 'tt0994314',\n",
       " 'tt4834232',\n",
       " 'tt10332508',\n",
       " 'tt4299972',\n",
       " 'tt9140342',\n",
       " 'tt1733785',\n",
       " 'tt3322312',\n",
       " 'tt0088484',\n",
       " 'tt1305826',\n",
       " 'tt0096639',\n",
       " 'tt8595766',\n",
       " 'tt9335498',\n",
       " 'tt5290382',\n",
       " 'tt0090509',\n",
       " 'tt2049116',\n",
       " 'tt1486217',\n",
       " 'tt13111040',\n",
       " 'tt0094517',\n",
       " 'tt3398540',\n",
       " 'tt0092324',\n",
       " 'tt1641384',\n",
       " 'tt0094525',\n",
       " 'tt0096657',\n",
       " 'tt9174558',\n",
       " 'tt0080306',\n",
       " 'tt7562112',\n",
       " 'tt5421602',\n",
       " 'tt4236770',\n",
       " 'tt10850932',\n",
       " 'tt0380136',\n",
       " 'tt1870479',\n",
       " 'tt0979432',\n",
       " 'tt1489428',\n",
       " 'tt0053488',\n",
       " 'tt6763664',\n",
       " 'tt5189670',\n",
       " 'tt0275137',\n",
       " 'tt0417373',\n",
       " 'tt4063800',\n",
       " 'tt0229889',\n",
       " 'tt10048342',\n",
       " 'tt0106028',\n",
       " 'tt14452776',\n",
       " 'tt7472896',\n",
       " 'tt0863046',\n",
       " 'tt0088509',\n",
       " 'tt0280249',\n",
       " 'tt2244495',\n",
       " 'tt7908628',\n",
       " 'tt0314979',\n",
       " 'tt0237123',\n",
       " 'tt2100976',\n",
       " 'tt9544034',\n",
       " 'tt6108262',\n",
       " 'tt10638036',\n",
       " 'tt0086831',\n",
       " 'tt0187664',\n",
       " 'tt0423731',\n",
       " 'tt4158110',\n",
       " 'tt0487831',\n",
       " 'tt0403778',\n",
       " 'tt2701582',\n",
       " 'tt0129690',\n",
       " 'tt13868972',\n",
       " 'tt8289930',\n",
       " 'tt1534360',\n",
       " 'tt1492966',\n",
       " 'tt0163507',\n",
       " 'tt0278238',\n",
       " 'tt5897304',\n",
       " 'tt0290978',\n",
       " 'tt4082744',\n",
       " 'tt1513168',\n",
       " 'tt1442449',\n",
       " 'tt1586680',\n",
       " 'tt1124373',\n",
       " 'tt0436992',\n",
       " 'tt0112159',\n",
       " 'tt4647692',\n",
       " 'tt3428912',\n",
       " 'tt0118273',\n",
       " 'tt5288312',\n",
       " 'tt4093826',\n",
       " 'tt0290988',\n",
       " 'tt0417349',\n",
       " 'tt20869502',\n",
       " 'tt10802170',\n",
       " 'tt1758429',\n",
       " 'tt2575988',\n",
       " 'tt0421357',\n",
       " 'tt0149460',\n",
       " 'tt0475784',\n",
       " 'tt1710308',\n",
       " 'tt0203082',\n",
       " 'tt0120570',\n",
       " 'tt3526078',\n",
       " 'tt12343534',\n",
       " 'tt2243973',\n",
       " 'tt3230854',\n",
       " 'tt15614372',\n",
       " 'tt4269716',\n",
       " 'tt1439629',\n",
       " 'tt7120662',\n",
       " 'tt7278862',\n",
       " 'tt2433738',\n",
       " 'tt4295140',\n",
       " 'tt0421291',\n",
       " 'tt3895150',\n",
       " 'tt0988818',\n",
       " 'tt0995832',\n",
       " 'tt7221388',\n",
       " 'tt0047708',\n",
       " 'tt0310455',\n",
       " 'tt2401256',\n",
       " 'tt1299368',\n",
       " 'tt1230180',\n",
       " 'tt2937900',\n",
       " 'tt3920596']"
      ]
     },
     "execution_count": 17,
     "metadata": {},
     "output_type": "execute_result"
    }
   ],
   "source": [
    "top_shows"
   ]
  },
  {
   "cell_type": "markdown",
   "metadata": {},
   "source": [
    "### 2 Get data on the top movies\n",
    "\n",
    "Although the Internet Movie Database does not have a public API, an open API exists at http://www.tvmaze.com/api.\n",
    "\n",
    "We will use this API to retrieve information about each of the 250 TV shows you have extracted in the previous step.\n",
    "\n"
   ]
  },
  {
   "cell_type": "markdown",
   "metadata": {},
   "source": [
    "**2.1 Find the Correct API**\n",
    "\n",
    "Check the documentation of tvmaze's api to select the correct endpoint to use in our request so that we can get the show data by the IMDB movie id."
   ]
  },
  {
   "cell_type": "code",
   "execution_count": 28,
   "metadata": {},
   "outputs": [],
   "source": [
    "## What's the endpoint URI?\n",
    "URI = 'https://api.tvmaze.com/lookup/shows?imdb='"
   ]
  },
  {
   "cell_type": "code",
   "execution_count": 86,
   "metadata": {},
   "outputs": [
    {
     "name": "stdout",
     "output_type": "stream",
     "text": [
      "b'{\"id\":169,\"url\":\"https://www.tvmaze.com/shows/169/breaking-bad\",\"name\":\"Breaking Bad\",\"type\":\"Scripted\",\"language\":\"English\",\"genres\":[\"Drama\",\"Crime\",\"Thriller\"],\"status\":\"Ended\",\"runtime\":60,\"averageRuntime\":60,\"premiered\":\"2008-01-20\",\"ended\":\"2019-10-11\",\"officialSite\":\"http://www.amc.com/shows/breaking-bad\",\"schedule\":{\"time\":\"22:00\",\"days\":[\"Sunday\"]},\"rating\":{\"average\":9.3},\"weight\":98,\"network\":{\"id\":20,\"name\":\"AMC\",\"country\":{\"name\":\"United States\",\"code\":\"US\",\"timezone\":\"America/New_York\"},\"officialSite\":null},\"webChannel\":null,\"dvdCountry\":null,\"externals\":{\"tvrage\":18164,\"thetvdb\":81189,\"imdb\":\"tt0903747\"},\"image\":{\"medium\":\"https://static.tvmaze.com/uploads/images/medium_portrait/0/2400.jpg\",\"original\":\"https://static.tvmaze.com/uploads/images/original_untouched/0/2400.jpg\"},\"summary\":\"<p><b>Breaking Bad</b> follows protagonist Walter White, a chemistry teacher who lives in New Mexico with his wife and teenage son who has cerebral palsy. White is diagnosed with Stage III cancer and given a prognosis of two years left to live. With a new sense of fearlessness based on his medical prognosis, and a desire to secure his family\\'s financial security, White chooses to enter a dangerous world of drugs and crime and ascends to power in this world. The series explores how a fatal diagnosis such as White\\'s releases a typical man from the daily concerns and constraints of normal society and follows his transformation from mild family man to a kingpin of the drug trade.</p>\",\"updated\":1683329190,\"_links\":{\"self\":{\"href\":\"https://api.tvmaze.com/shows/169\"},\"previousepisode\":{\"href\":\"https://api.tvmaze.com/episodes/2007806\"}}}'\n"
     ]
    }
   ],
   "source": [
    "## Test the request with the first movie id that you found\n",
    "# and decode the json info\n",
    "response = requests.get(URI + 'tt0903747')\n",
    "show_info=response.json()"
   ]
  },
  {
   "cell_type": "code",
   "execution_count": 78,
   "metadata": {},
   "outputs": [
    {
     "data": {
      "text/plain": [
       "{'id': 169,\n",
       " 'url': 'https://www.tvmaze.com/shows/169/breaking-bad',\n",
       " 'name': 'Breaking Bad',\n",
       " 'type': 'Scripted',\n",
       " 'language': 'English',\n",
       " 'genres': ['Drama', 'Crime', 'Thriller'],\n",
       " 'status': 'Ended',\n",
       " 'runtime': 60,\n",
       " 'averageRuntime': 60,\n",
       " 'premiered': '2008-01-20',\n",
       " 'ended': '2019-10-11',\n",
       " 'officialSite': 'http://www.amc.com/shows/breaking-bad',\n",
       " 'schedule': {'time': '22:00', 'days': ['Sunday']},\n",
       " 'rating': {'average': 9.3},\n",
       " 'weight': 98,\n",
       " 'network': {'id': 20,\n",
       "  'name': 'AMC',\n",
       "  'country': {'name': 'United States',\n",
       "   'code': 'US',\n",
       "   'timezone': 'America/New_York'},\n",
       "  'officialSite': None},\n",
       " 'webChannel': None,\n",
       " 'dvdCountry': None,\n",
       " 'externals': {'tvrage': 18164, 'thetvdb': 81189, 'imdb': 'tt0903747'},\n",
       " 'image': {'medium': 'https://static.tvmaze.com/uploads/images/medium_portrait/0/2400.jpg',\n",
       "  'original': 'https://static.tvmaze.com/uploads/images/original_untouched/0/2400.jpg'},\n",
       " 'summary': \"<p><b>Breaking Bad</b> follows protagonist Walter White, a chemistry teacher who lives in New Mexico with his wife and teenage son who has cerebral palsy. White is diagnosed with Stage III cancer and given a prognosis of two years left to live. With a new sense of fearlessness based on his medical prognosis, and a desire to secure his family's financial security, White chooses to enter a dangerous world of drugs and crime and ascends to power in this world. The series explores how a fatal diagnosis such as White's releases a typical man from the daily concerns and constraints of normal society and follows his transformation from mild family man to a kingpin of the drug trade.</p>\",\n",
       " 'updated': 1683329190,\n",
       " '_links': {'self': {'href': 'https://api.tvmaze.com/shows/169'},\n",
       "  'previousepisode': {'href': 'https://api.tvmaze.com/episodes/2007806'}}}"
      ]
     },
     "execution_count": 78,
     "metadata": {},
     "output_type": "execute_result"
    }
   ],
   "source": [
    "show_info"
   ]
  },
  {
   "cell_type": "markdown",
   "metadata": {},
   "source": [
    "**2.2 Let's get some data**\n",
    "\n",
    "Let's check that you can get each of the required info to be stored"
   ]
  },
  {
   "cell_type": "code",
   "execution_count": 38,
   "metadata": {},
   "outputs": [
    {
     "data": {
      "text/plain": [
       "'Breaking Bad'"
      ]
     },
     "execution_count": 38,
     "metadata": {},
     "output_type": "execute_result"
    }
   ],
   "source": [
    "# Get the name of the show\n",
    "show_info['name']"
   ]
  },
  {
   "cell_type": "code",
   "execution_count": 37,
   "metadata": {},
   "outputs": [
    {
     "data": {
      "text/plain": [
       "9.3"
      ]
     },
     "execution_count": 37,
     "metadata": {},
     "output_type": "execute_result"
    }
   ],
   "source": [
    "# Get the average rating, return np.NaN if the value for the key is None\n",
    "show_info.get('rating', {}).get('average', np.NaN)"
   ]
  },
  {
   "cell_type": "code",
   "execution_count": 42,
   "metadata": {},
   "outputs": [
    {
     "data": {
      "text/plain": [
       "'Drama, Crime, Thriller'"
      ]
     },
     "execution_count": 42,
     "metadata": {},
     "output_type": "execute_result"
    }
   ],
   "source": [
    "# Get the genres as a string using the string join() \n",
    "', '.join(show_info['genres'])"
   ]
  },
  {
   "cell_type": "code",
   "execution_count": 44,
   "metadata": {},
   "outputs": [
    {
     "data": {
      "text/plain": [
       "'AMC'"
      ]
     },
     "execution_count": 44,
     "metadata": {},
     "output_type": "execute_result"
    }
   ],
   "source": [
    "# Get the network name, return None if the value for the key is None\n",
    "show_info.get('network', {}).get('name', None)"
   ]
  },
  {
   "cell_type": "code",
   "execution_count": 45,
   "metadata": {},
   "outputs": [
    {
     "data": {
      "text/plain": [
       "'2008-01-20'"
      ]
     },
     "execution_count": 45,
     "metadata": {},
     "output_type": "execute_result"
    }
   ],
   "source": [
    "# Get the Premiere date\n",
    "show_info.get('premiered')"
   ]
  },
  {
   "cell_type": "code",
   "execution_count": 46,
   "metadata": {},
   "outputs": [
    {
     "data": {
      "text/plain": [
       "'Ended'"
      ]
     },
     "execution_count": 46,
     "metadata": {},
     "output_type": "execute_result"
    }
   ],
   "source": [
    "# Get the status\n",
    "show_info.get('status')"
   ]
  },
  {
   "cell_type": "code",
   "execution_count": 79,
   "metadata": {},
   "outputs": [
    {
     "data": {
      "text/plain": [
       "\"<p><b>Breaking Bad</b> follows protagonist Walter White, a chemistry teacher who lives in New Mexico with his wife and teenage son who has cerebral palsy. White is diagnosed with Stage III cancer and given a prognosis of two years left to live. With a new sense of fearlessness based on his medical prognosis, and a desire to secure his family's financial security, White chooses to enter a dangerous world of drugs and crime and ascends to power in this world. The series explores how a fatal diagnosis such as White's releases a typical man from the daily concerns and constraints of normal society and follows his transformation from mild family man to a kingpin of the drug trade.</p>\""
      ]
     },
     "execution_count": 79,
     "metadata": {},
     "output_type": "execute_result"
    }
   ],
   "source": [
    "# Get the summary\n",
    "show_info.get('summary')"
   ]
  },
  {
   "cell_type": "markdown",
   "metadata": {},
   "source": [
    "**2.3 Write a Function**\n",
    "\n",
    "- Define a function that returns a python list object with selected information for a given id.\n",
    "    - Show name\n",
    "    - Rating (avg)\n",
    "    - Genre(s)\n",
    "    - Network name\n",
    "    - Premiere date\n",
    "    - Status\n"
   ]
  },
  {
   "cell_type": "code",
   "execution_count": 80,
   "metadata": {},
   "outputs": [],
   "source": [
    "# A:\n",
    "def get_show_info(movie_id):\n",
    "    info_list = []\n",
    "    response = requests.get('https://api.tvmaze.com/lookup/shows?imdb='+movie_id)\n",
    "    if (response.status_code == 200):\n",
    "        show_info=response.json()\n",
    "        info_list.append(movie_id)\n",
    "        info_list.append(show_info['name'])\n",
    "        info_list.append(show_info['rating']['average'])\n",
    "        info_list.append(','.join(show_info['genres']))\n",
    "        info_list.append(show_info['network']['name'] if show_info['network'] else None)\n",
    "        info_list.append(show_info['premiered'])\n",
    "        info_list.append(show_info['status'])\n",
    "        info_list.append(show_info['summary'])\n",
    "    return info_list\n"
   ]
  },
  {
   "cell_type": "code",
   "execution_count": 81,
   "metadata": {},
   "outputs": [
    {
     "data": {
      "text/plain": [
       "['tt0388629',\n",
       " 'One Piece',\n",
       " 8.9,\n",
       " 'Action,Adventure,Anime,Fantasy',\n",
       " 'Fuji TV',\n",
       " '1999-10-20',\n",
       " 'Running',\n",
       " '<p><b>One Piece</b> animation is based on the successful comic by Eiichiro Oda. The comic has sold more than 260 million copies. The success doesn\\'t stop; the <i>One Piece</i> animation series is in its top 5 TV ratings for kids programs in Japan for past few years and the series\\' most recent feature film title <i>\"One Piece Film Z\" </i>which was released on December 2012 has gathered 5.6 million viewers so far. The success goes beyond borders; receives high popularity on animation at terrestrial channel in Taiwan, no.1 rating on animation at a DTT channel in France, received high popularity among age 3-13 on a terrestrial channel in Germany in year 2010. The animation series has been broadcasted in many parts of the world: USA, UK, Australia, France, Spain, Portugal, Germany, Italy, Greece, Turkey, Israel, South Korea, Taiwan, China, Hong Kong, Philippine, Thailand, Singapore, Malaysia, Indonesia, Ecuador, Nicaragua, Chile, Mexico, Brazil, and etc.</p>']"
      ]
     },
     "execution_count": 81,
     "metadata": {},
     "output_type": "execute_result"
    }
   ],
   "source": [
    "# Test the Function\n",
    "get_show_info('tt0388629')"
   ]
  },
  {
   "cell_type": "markdown",
   "metadata": {},
   "source": [
    "**2.3 Create a DataFrame**\n",
    "\n",
    "Let's create a `Pandas` DataFrame to store all the show data:\n"
   ]
  },
  {
   "cell_type": "code",
   "execution_count": 82,
   "metadata": {},
   "outputs": [
    {
     "data": {
      "text/html": [
       "<div>\n",
       "<style scoped>\n",
       "    .dataframe tbody tr th:only-of-type {\n",
       "        vertical-align: middle;\n",
       "    }\n",
       "\n",
       "    .dataframe tbody tr th {\n",
       "        vertical-align: top;\n",
       "    }\n",
       "\n",
       "    .dataframe thead th {\n",
       "        text-align: right;\n",
       "    }\n",
       "</style>\n",
       "<table border=\"1\" class=\"dataframe\">\n",
       "  <thead>\n",
       "    <tr style=\"text-align: right;\">\n",
       "      <th></th>\n",
       "      <th>IMDB_id</th>\n",
       "      <th>Name</th>\n",
       "      <th>Rating</th>\n",
       "      <th>Genres</th>\n",
       "      <th>Network</th>\n",
       "      <th>Premier_Date</th>\n",
       "      <th>Status</th>\n",
       "      <th>Summary</th>\n",
       "    </tr>\n",
       "  </thead>\n",
       "  <tbody>\n",
       "  </tbody>\n",
       "</table>\n",
       "</div>"
      ],
      "text/plain": [
       "Empty DataFrame\n",
       "Columns: [IMDB_id, Name, Rating, Genres, Network, Premier_Date, Status, Summary]\n",
       "Index: []"
      ]
     },
     "execution_count": 82,
     "metadata": {},
     "output_type": "execute_result"
    }
   ],
   "source": [
    "shows_df = pd.DataFrame(columns=('IMDB_id','Name','Rating','Genres','Network','Premier_Date','Status','Summary'))\n",
    "shows_df"
   ]
  },
  {
   "cell_type": "code",
   "execution_count": 50,
   "metadata": {},
   "outputs": [
    {
     "data": {
      "text/plain": [
       "['tt2707408', 'Narcos', 8.4, 'Drama,Action,Crime', None, '2015-08-28', 'Ended']"
      ]
     },
     "execution_count": 50,
     "metadata": {},
     "output_type": "execute_result"
    }
   ],
   "source": [
    "# Lets test getting one movie and adding to the DataFrame\n",
    "show_info = get_show_info('tt2707408')\n",
    "show_info"
   ]
  },
  {
   "cell_type": "code",
   "execution_count": 51,
   "metadata": {},
   "outputs": [
    {
     "data": {
      "text/html": [
       "<div>\n",
       "<style scoped>\n",
       "    .dataframe tbody tr th:only-of-type {\n",
       "        vertical-align: middle;\n",
       "    }\n",
       "\n",
       "    .dataframe tbody tr th {\n",
       "        vertical-align: top;\n",
       "    }\n",
       "\n",
       "    .dataframe thead th {\n",
       "        text-align: right;\n",
       "    }\n",
       "</style>\n",
       "<table border=\"1\" class=\"dataframe\">\n",
       "  <thead>\n",
       "    <tr style=\"text-align: right;\">\n",
       "      <th></th>\n",
       "      <th>IMDB_id</th>\n",
       "      <th>Name</th>\n",
       "      <th>Rating</th>\n",
       "      <th>Genres</th>\n",
       "      <th>Network</th>\n",
       "      <th>Premier_Date</th>\n",
       "      <th>Status</th>\n",
       "    </tr>\n",
       "  </thead>\n",
       "  <tbody>\n",
       "    <tr>\n",
       "      <th>0</th>\n",
       "      <td>tt2707408</td>\n",
       "      <td>Narcos</td>\n",
       "      <td>8.4</td>\n",
       "      <td>Drama,Action,Crime</td>\n",
       "      <td>None</td>\n",
       "      <td>2015-08-28</td>\n",
       "      <td>Ended</td>\n",
       "    </tr>\n",
       "  </tbody>\n",
       "</table>\n",
       "</div>"
      ],
      "text/plain": [
       "     IMDB_id    Name  Rating              Genres Network Premier_Date Status\n",
       "0  tt2707408  Narcos     8.4  Drama,Action,Crime    None   2015-08-28  Ended"
      ]
     },
     "execution_count": 51,
     "metadata": {},
     "output_type": "execute_result"
    }
   ],
   "source": [
    "# We can now append this list to our dataframe, let's store in a temporary dataframe\n",
    "temp_df = shows_df.append(pd.Series(show_info, index=shows_df.columns), ignore_index=True)\n",
    "temp_df"
   ]
  },
  {
   "cell_type": "code",
   "execution_count": 71,
   "metadata": {},
   "outputs": [],
   "source": [
    "show_info=[]\n",
    "if len(show_info)>0:\n",
    "    show_info_series = pd.Series(show_info, index=shows_df.columns)"
   ]
  },
  {
   "cell_type": "code",
   "execution_count": 65,
   "metadata": {},
   "outputs": [
    {
     "data": {
      "text/plain": [
       "IMDB_id                  tt2707408\n",
       "Name                        Narcos\n",
       "Rating                         8.4\n",
       "Genres          Drama,Action,Crime\n",
       "Network                       None\n",
       "Premier_Date            2015-08-28\n",
       "Status                       Ended\n",
       "dtype: object"
      ]
     },
     "execution_count": 65,
     "metadata": {},
     "output_type": "execute_result"
    }
   ],
   "source": [
    "show_info_series"
   ]
  },
  {
   "cell_type": "code",
   "execution_count": 66,
   "metadata": {},
   "outputs": [
    {
     "data": {
      "text/html": [
       "<div>\n",
       "<style scoped>\n",
       "    .dataframe tbody tr th:only-of-type {\n",
       "        vertical-align: middle;\n",
       "    }\n",
       "\n",
       "    .dataframe tbody tr th {\n",
       "        vertical-align: top;\n",
       "    }\n",
       "\n",
       "    .dataframe thead th {\n",
       "        text-align: right;\n",
       "    }\n",
       "</style>\n",
       "<table border=\"1\" class=\"dataframe\">\n",
       "  <thead>\n",
       "    <tr style=\"text-align: right;\">\n",
       "      <th></th>\n",
       "      <th>IMDB_id</th>\n",
       "      <th>Name</th>\n",
       "      <th>Rating</th>\n",
       "      <th>Genres</th>\n",
       "      <th>Network</th>\n",
       "      <th>Premier_Date</th>\n",
       "      <th>Status</th>\n",
       "    </tr>\n",
       "  </thead>\n",
       "  <tbody>\n",
       "    <tr>\n",
       "      <th>0</th>\n",
       "      <td>tt2707408</td>\n",
       "      <td>Narcos</td>\n",
       "      <td>8.4</td>\n",
       "      <td>Drama,Action,Crime</td>\n",
       "      <td>None</td>\n",
       "      <td>2015-08-28</td>\n",
       "      <td>Ended</td>\n",
       "    </tr>\n",
       "  </tbody>\n",
       "</table>\n",
       "</div>"
      ],
      "text/plain": [
       "     IMDB_id    Name Rating              Genres Network Premier_Date Status\n",
       "0  tt2707408  Narcos    8.4  Drama,Action,Crime    None   2015-08-28  Ended"
      ]
     },
     "execution_count": 66,
     "metadata": {},
     "output_type": "execute_result"
    }
   ],
   "source": [
    "# Concatenate the Series to the DataFrame\n",
    "temp_df = pd.concat([shows_df, show_info_series.to_frame().T], ignore_index=True)\n",
    "temp_df"
   ]
  },
  {
   "cell_type": "markdown",
   "metadata": {},
   "source": [
    "**2.4 Store all the movies**\n",
    "\n",
    "Now let's add the data for all 250 shows to `shows_df`. \n",
    "We need to check that the list is non-empty though before appending to the dataframe, in case we were not able to look it up using the API. "
   ]
  },
  {
   "cell_type": "code",
   "execution_count": 83,
   "metadata": {},
   "outputs": [
    {
     "name": "stdout",
     "output_type": "stream",
     "text": [
      "tt0903747\n",
      "tt5491994\n",
      "tt0795176\n",
      "tt0185906\n",
      "tt7366338\n",
      "tt0306414\n",
      "tt0417299\n",
      "tt6769208\n",
      "tt0141842\n",
      "tt2395695\n"
     ]
    }
   ],
   "source": [
    "# Just try to add 10 first\n",
    "for show in top_shows[:10]:\n",
    "    print(show)\n",
    "    show_info=get_show_info(show)\n",
    "    if len(show_info)>0:\n",
    "        show_info_series = pd.Series(show_info, index=shows_df.columns)\n",
    "        shows_df = pd.concat([shows_df, show_info_series.to_frame().T], ignore_index=True)"
   ]
  },
  {
   "cell_type": "code",
   "execution_count": 84,
   "metadata": {},
   "outputs": [
    {
     "data": {
      "text/html": [
       "<div>\n",
       "<style scoped>\n",
       "    .dataframe tbody tr th:only-of-type {\n",
       "        vertical-align: middle;\n",
       "    }\n",
       "\n",
       "    .dataframe tbody tr th {\n",
       "        vertical-align: top;\n",
       "    }\n",
       "\n",
       "    .dataframe thead th {\n",
       "        text-align: right;\n",
       "    }\n",
       "</style>\n",
       "<table border=\"1\" class=\"dataframe\">\n",
       "  <thead>\n",
       "    <tr style=\"text-align: right;\">\n",
       "      <th></th>\n",
       "      <th>IMDB_id</th>\n",
       "      <th>Name</th>\n",
       "      <th>Rating</th>\n",
       "      <th>Genres</th>\n",
       "      <th>Network</th>\n",
       "      <th>Premier_Date</th>\n",
       "      <th>Status</th>\n",
       "      <th>Summary</th>\n",
       "    </tr>\n",
       "  </thead>\n",
       "  <tbody>\n",
       "    <tr>\n",
       "      <th>0</th>\n",
       "      <td>tt0903747</td>\n",
       "      <td>Breaking Bad</td>\n",
       "      <td>9.3</td>\n",
       "      <td>Drama,Crime,Thriller</td>\n",
       "      <td>AMC</td>\n",
       "      <td>2008-01-20</td>\n",
       "      <td>Ended</td>\n",
       "      <td>&lt;p&gt;&lt;b&gt;Breaking Bad&lt;/b&gt; follows protagonist Wal...</td>\n",
       "    </tr>\n",
       "    <tr>\n",
       "      <th>1</th>\n",
       "      <td>tt5491994</td>\n",
       "      <td>Planet Earth II</td>\n",
       "      <td>8.8</td>\n",
       "      <td>Nature</td>\n",
       "      <td>BBC One</td>\n",
       "      <td>2016-11-06</td>\n",
       "      <td>Ended</td>\n",
       "      <td>&lt;p&gt;David Attenborough presents a documentary s...</td>\n",
       "    </tr>\n",
       "    <tr>\n",
       "      <th>2</th>\n",
       "      <td>tt0795176</td>\n",
       "      <td>Planet Earth</td>\n",
       "      <td>8.9</td>\n",
       "      <td>Nature</td>\n",
       "      <td>BBC One</td>\n",
       "      <td>2006-03-05</td>\n",
       "      <td>Ended</td>\n",
       "      <td>&lt;p&gt;David Attenborough celebrates the amazing v...</td>\n",
       "    </tr>\n",
       "    <tr>\n",
       "      <th>3</th>\n",
       "      <td>tt0185906</td>\n",
       "      <td>Band of Brothers</td>\n",
       "      <td>8.9</td>\n",
       "      <td>Drama,Action,War</td>\n",
       "      <td>HBO</td>\n",
       "      <td>2001-09-09</td>\n",
       "      <td>Ended</td>\n",
       "      <td>&lt;p&gt;Drawn from interviews with survivors of Eas...</td>\n",
       "    </tr>\n",
       "    <tr>\n",
       "      <th>4</th>\n",
       "      <td>tt7366338</td>\n",
       "      <td>Chernobyl</td>\n",
       "      <td>8.9</td>\n",
       "      <td>Drama,History</td>\n",
       "      <td>HBO</td>\n",
       "      <td>2019-05-06</td>\n",
       "      <td>Ended</td>\n",
       "      <td>&lt;p&gt;&lt;b&gt;Chernobyl&lt;/b&gt; dramatizes the true story ...</td>\n",
       "    </tr>\n",
       "    <tr>\n",
       "      <th>5</th>\n",
       "      <td>tt0306414</td>\n",
       "      <td>The Wire</td>\n",
       "      <td>8.9</td>\n",
       "      <td>Drama,Crime</td>\n",
       "      <td>HBO</td>\n",
       "      <td>2002-06-02</td>\n",
       "      <td>Ended</td>\n",
       "      <td>&lt;p&gt;The first season of &lt;b&gt;The Wire&lt;/b&gt; (2002) ...</td>\n",
       "    </tr>\n",
       "    <tr>\n",
       "      <th>6</th>\n",
       "      <td>tt0417299</td>\n",
       "      <td>Avatar: The Last Airbender</td>\n",
       "      <td>8.9</td>\n",
       "      <td>Action,Adventure,Fantasy</td>\n",
       "      <td>Nickelodeon</td>\n",
       "      <td>2005-02-21</td>\n",
       "      <td>Ended</td>\n",
       "      <td>&lt;p&gt;Water. Earth. Fire. Air. Only the Avatar wa...</td>\n",
       "    </tr>\n",
       "    <tr>\n",
       "      <th>7</th>\n",
       "      <td>tt6769208</td>\n",
       "      <td>Blue Planet II</td>\n",
       "      <td>9.1</td>\n",
       "      <td>Nature</td>\n",
       "      <td>BBC One</td>\n",
       "      <td>2017-10-29</td>\n",
       "      <td>Ended</td>\n",
       "      <td>&lt;p&gt;Wildlife documentary series, presented and ...</td>\n",
       "    </tr>\n",
       "    <tr>\n",
       "      <th>8</th>\n",
       "      <td>tt0141842</td>\n",
       "      <td>The Sopranos</td>\n",
       "      <td>8.8</td>\n",
       "      <td>Drama,Crime</td>\n",
       "      <td>HBO</td>\n",
       "      <td>1999-01-10</td>\n",
       "      <td>Ended</td>\n",
       "      <td>&lt;p&gt;&lt;b&gt;The Sopranos&lt;/b&gt;, writer-producer-direct...</td>\n",
       "    </tr>\n",
       "    <tr>\n",
       "      <th>9</th>\n",
       "      <td>tt2395695</td>\n",
       "      <td>Cosmos</td>\n",
       "      <td>8.6</td>\n",
       "      <td></td>\n",
       "      <td>National Geographic Channel</td>\n",
       "      <td>1980-09-28</td>\n",
       "      <td>Ended</td>\n",
       "      <td>&lt;p&gt;Hosted by renowned astrophysicist Neil deGr...</td>\n",
       "    </tr>\n",
       "  </tbody>\n",
       "</table>\n",
       "</div>"
      ],
      "text/plain": [
       "     IMDB_id                        Name Rating                    Genres  \\\n",
       "0  tt0903747                Breaking Bad    9.3      Drama,Crime,Thriller   \n",
       "1  tt5491994             Planet Earth II    8.8                    Nature   \n",
       "2  tt0795176                Planet Earth    8.9                    Nature   \n",
       "3  tt0185906            Band of Brothers    8.9          Drama,Action,War   \n",
       "4  tt7366338                   Chernobyl    8.9             Drama,History   \n",
       "5  tt0306414                    The Wire    8.9               Drama,Crime   \n",
       "6  tt0417299  Avatar: The Last Airbender    8.9  Action,Adventure,Fantasy   \n",
       "7  tt6769208              Blue Planet II    9.1                    Nature   \n",
       "8  tt0141842                The Sopranos    8.8               Drama,Crime   \n",
       "9  tt2395695                      Cosmos    8.6                             \n",
       "\n",
       "                       Network Premier_Date Status  \\\n",
       "0                          AMC   2008-01-20  Ended   \n",
       "1                      BBC One   2016-11-06  Ended   \n",
       "2                      BBC One   2006-03-05  Ended   \n",
       "3                          HBO   2001-09-09  Ended   \n",
       "4                          HBO   2019-05-06  Ended   \n",
       "5                          HBO   2002-06-02  Ended   \n",
       "6                  Nickelodeon   2005-02-21  Ended   \n",
       "7                      BBC One   2017-10-29  Ended   \n",
       "8                          HBO   1999-01-10  Ended   \n",
       "9  National Geographic Channel   1980-09-28  Ended   \n",
       "\n",
       "                                             Summary  \n",
       "0  <p><b>Breaking Bad</b> follows protagonist Wal...  \n",
       "1  <p>David Attenborough presents a documentary s...  \n",
       "2  <p>David Attenborough celebrates the amazing v...  \n",
       "3  <p>Drawn from interviews with survivors of Eas...  \n",
       "4  <p><b>Chernobyl</b> dramatizes the true story ...  \n",
       "5  <p>The first season of <b>The Wire</b> (2002) ...  \n",
       "6  <p>Water. Earth. Fire. Air. Only the Avatar wa...  \n",
       "7  <p>Wildlife documentary series, presented and ...  \n",
       "8  <p><b>The Sopranos</b>, writer-producer-direct...  \n",
       "9  <p>Hosted by renowned astrophysicist Neil deGr...  "
      ]
     },
     "execution_count": 84,
     "metadata": {},
     "output_type": "execute_result"
    }
   ],
   "source": [
    "shows_df"
   ]
  },
  {
   "cell_type": "code",
   "execution_count": null,
   "metadata": {},
   "outputs": [],
   "source": [
    "shows_df.to_csv('Top_shows.csv', index=False)"
   ]
  }
 ],
 "metadata": {
  "kernelspec": {
   "display_name": "Python 3 (ipykernel)",
   "language": "python",
   "name": "python3"
  },
  "language_info": {
   "codemirror_mode": {
    "name": "ipython",
    "version": 3
   },
   "file_extension": ".py",
   "mimetype": "text/x-python",
   "name": "python",
   "nbconvert_exporter": "python",
   "pygments_lexer": "ipython3",
   "version": "3.9.7"
  },
  "toc": {
   "nav_menu": {},
   "number_sections": false,
   "sideBar": true,
   "skip_h1_title": false,
   "title_cell": "Table of Contents",
   "title_sidebar": "Contents",
   "toc_cell": false,
   "toc_position": {},
   "toc_section_display": true,
   "toc_window_display": false
  },
  "varInspector": {
   "cols": {
    "lenName": 16,
    "lenType": 16,
    "lenVar": 40
   },
   "kernels_config": {
    "python": {
     "delete_cmd_postfix": "",
     "delete_cmd_prefix": "del ",
     "library": "var_list.py",
     "varRefreshCmd": "print(var_dic_list())"
    },
    "r": {
     "delete_cmd_postfix": ") ",
     "delete_cmd_prefix": "rm(",
     "library": "var_list.r",
     "varRefreshCmd": "cat(var_dic_list()) "
    }
   },
   "types_to_exclude": [
    "module",
    "function",
    "builtin_function_or_method",
    "instance",
    "_Feature"
   ],
   "window_display": false
  }
 },
 "nbformat": 4,
 "nbformat_minor": 1
}
