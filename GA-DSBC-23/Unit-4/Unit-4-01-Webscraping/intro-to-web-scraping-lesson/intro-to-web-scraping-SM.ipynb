{
 "cells": [
  {
   "cell_type": "markdown",
   "metadata": {
    "collapsed": true
   },
   "source": [
    "# Web Scraping\n",
    "\n",
    "Now that we have looked at some HTML tags, let's explore how we can actually perform web scraping.\n",
    "\n",
    "\n",
    "<div style=\"text-align: center\"><h3>The Reality of Scraping</h3><img src=\"images/scraping_meme.png\" style=\"width: 600px\"></div>"
   ]
  },
  {
   "cell_type": "markdown",
   "metadata": {},
   "source": [
    "## Why do we scrape the web?\n",
    "\n",
    "* Realistically, data that you want to study won't always be available to you in the form of a curated data set.\n",
    "* Need to go to the internet to find interesting data:\n",
    "    * From an existing company\n",
    "    * Text for NLP\n",
    "    * Images\n"
   ]
  },
  {
   "cell_type": "markdown",
   "metadata": {},
   "source": [
    "# Scraping from a Web Page with Python\n",
    "\n",
    "Scraping a web site basically comes down to making a **request from Python and parsing through the HTML** that is returned from each page. For each of these tasks we have a Python library, **`requests` and `bs4`**, respectively."
   ]
  },
  {
   "cell_type": "markdown",
   "metadata": {},
   "source": [
    "### Getting Info from a Web Page\n",
    "\n",
    "Suppose that we have access to the HTML for a web page, we need **some way to pull the desired content from it**. Luckily there is already a system in place to do this. Using HTML tags, we can identify the information on a HTML page that we wish to retrieve and grab it with [BeautifulSoup](https://www.crummy.com/software/BeautifulSoup/bs4/doc/#searching-the-tree).\n",
    "\n",
    "To try it out, let's define some sample html code."
   ]
  },
  {
   "cell_type": "code",
   "execution_count": 1,
   "metadata": {},
   "outputs": [
    {
     "data": {
      "text/html": [
       "<!DOCTYPE html>\n",
       "<html>\n",
       "<head>\n",
       "<title>My Holiday Photos</title>\n",
       "</head>\n",
       "<body>\n",
       "<h1>My Photos</h1>\n",
       "<div class='intro'>\n",
       "<p>These are some photos of my trips.</p>\n",
       "<img src=\"me.jpg\" width = \"212\" height = \"107\">\n",
       "</div>\n",
       "\n",
       "<h3>Italy</h3>\n",
       "<div class='country'>\n",
       "<img src=\"venice1.jpg\" alt=\"Venice\" width = \"212\" height = \"107\"> <br />\n",
       "<img src=\"venice2.jpg\" alt=\"Venice\" width = \"212\" height = \"107\"> <br />\n",
       "<img src=\"rome.jpg\" alt=\"Roma\" width = \"212\" height = \"107\">\n",
       "</div>\n",
       "\n",
       "<h3>Germany</h3>\n",
       "<div class='country'>\n",
       "<img src=\"berlin.jpg\" alt=\"Berlin\" width = \"212\" height = \"107\">\n",
       "</div>\n",
       "</body>\n",
       "</html>\n"
      ],
      "text/plain": [
       "<IPython.core.display.HTML object>"
      ]
     },
     "execution_count": 1,
     "metadata": {},
     "output_type": "execute_result"
    }
   ],
   "source": [
    "from IPython.display import HTML\n",
    "\n",
    "sample_html = '''<!DOCTYPE html>\n",
    "<html>\n",
    "<head>\n",
    "<title>My Holiday Photos</title>\n",
    "</head>\n",
    "<body>\n",
    "<h1>My Photos</h1>\n",
    "<div class='intro'>\n",
    "<p>These are some photos of my trips.</p>\n",
    "<img src=\"me.jpg\" width = \"212\" height = \"107\">\n",
    "</div>\n",
    "\n",
    "<h3>Italy</h3>\n",
    "<div class='country'>\n",
    "<img src=\"venice1.jpg\" alt=\"Venice\" width = \"212\" height = \"107\"> <br />\n",
    "<img src=\"venice2.jpg\" alt=\"Venice\" width = \"212\" height = \"107\"> <br />\n",
    "<img src=\"rome.jpg\" alt=\"Roma\" width = \"212\" height = \"107\">\n",
    "</div>\n",
    "\n",
    "<h3>Germany</h3>\n",
    "<div class='country'>\n",
    "<img src=\"berlin.jpg\" alt=\"Berlin\" width = \"212\" height = \"107\">\n",
    "</div>\n",
    "</body>\n",
    "</html>\n",
    "'''\n",
    "HTML(sample_html)"
   ]
  },
  {
   "cell_type": "markdown",
   "metadata": {},
   "source": [
    "## Beautiful Soup\n",
    "\n",
    "First we have to import the `BeautifulSoup` module from the `bs4` library."
   ]
  },
  {
   "cell_type": "code",
   "execution_count": 2,
   "metadata": {},
   "outputs": [
    {
     "data": {
      "text/plain": [
       "bs4.BeautifulSoup"
      ]
     },
     "execution_count": 2,
     "metadata": {},
     "output_type": "execute_result"
    }
   ],
   "source": [
    "from bs4 import BeautifulSoup\n",
    "\n",
    "# we create a soup object with the sample_html:\n",
    "soup = BeautifulSoup(sample_html, 'html.parser')\n",
    "type(soup)"
   ]
  },
  {
   "cell_type": "markdown",
   "metadata": {},
   "source": [
    "We can see that `soup` is a `BeautifulSoup` object. This represents the entire parsed document that we can search through.\n",
    "\n"
   ]
  },
  {
   "cell_type": "markdown",
   "metadata": {},
   "source": [
    "We can use the `prettify()` method to print the HTML document tree."
   ]
  },
  {
   "cell_type": "code",
   "execution_count": 3,
   "metadata": {},
   "outputs": [
    {
     "data": {
      "text/plain": [
       "'<!DOCTYPE html>\\n<html>\\n <head>\\n  <title>\\n   My Holiday Photos\\n  </title>\\n </head>\\n <body>\\n  <h1>\\n   My Photos\\n  </h1>\\n  <div class=\"intro\">\\n   <p>\\n    These are some photos of my trips.\\n   </p>\\n   <img height=\"107\" src=\"me.jpg\" width=\"212\"/>\\n  </div>\\n  <h3>\\n   Italy\\n  </h3>\\n  <div class=\"country\">\\n   <img alt=\"Venice\" height=\"107\" src=\"venice1.jpg\" width=\"212\"/>\\n   <br/>\\n   <img alt=\"Venice\" height=\"107\" src=\"venice2.jpg\" width=\"212\"/>\\n   <br/>\\n   <img alt=\"Roma\" height=\"107\" src=\"rome.jpg\" width=\"212\"/>\\n  </div>\\n  <h3>\\n   Germany\\n  </h3>\\n  <div class=\"country\">\\n   <img alt=\"Berlin\" height=\"107\" src=\"berlin.jpg\" width=\"212\"/>\\n  </div>\\n </body>\\n</html>\\n'"
      ]
     },
     "execution_count": 3,
     "metadata": {},
     "output_type": "execute_result"
    }
   ],
   "source": [
    "# The prettify method returns the HTML DOM tree as a string, which shows\n",
    "# there are actually many newlines '\\n' in the document.\n",
    "soup.prettify()"
   ]
  },
  {
   "cell_type": "markdown",
   "metadata": {},
   "source": [
    "Priting out the result will format the HTML in indented form."
   ]
  },
  {
   "cell_type": "code",
   "execution_count": 4,
   "metadata": {
    "scrolled": true
   },
   "outputs": [
    {
     "name": "stdout",
     "output_type": "stream",
     "text": [
      "<!DOCTYPE html>\n",
      "<html>\n",
      " <head>\n",
      "  <title>\n",
      "   My Holiday Photos\n",
      "  </title>\n",
      " </head>\n",
      " <body>\n",
      "  <h1>\n",
      "   My Photos\n",
      "  </h1>\n",
      "  <div class=\"intro\">\n",
      "   <p>\n",
      "    These are some photos of my trips.\n",
      "   </p>\n",
      "   <img height=\"107\" src=\"me.jpg\" width=\"212\"/>\n",
      "  </div>\n",
      "  <h3>\n",
      "   Italy\n",
      "  </h3>\n",
      "  <div class=\"country\">\n",
      "   <img alt=\"Venice\" height=\"107\" src=\"venice1.jpg\" width=\"212\"/>\n",
      "   <br/>\n",
      "   <img alt=\"Venice\" height=\"107\" src=\"venice2.jpg\" width=\"212\"/>\n",
      "   <br/>\n",
      "   <img alt=\"Roma\" height=\"107\" src=\"rome.jpg\" width=\"212\"/>\n",
      "  </div>\n",
      "  <h3>\n",
      "   Germany\n",
      "  </h3>\n",
      "  <div class=\"country\">\n",
      "   <img alt=\"Berlin\" height=\"107\" src=\"berlin.jpg\" width=\"212\"/>\n",
      "  </div>\n",
      " </body>\n",
      "</html>\n",
      "\n"
     ]
    }
   ],
   "source": [
    "print(soup.prettify())"
   ]
  },
  {
   "cell_type": "markdown",
   "metadata": {},
   "source": [
    "## Tag objects\n",
    "\n",
    "Another type of object in `BeautifulSoup` is a `Tag` object. This corresponds to a HTML tag in the document. For example, we can access the `<title>` tag in the original HTML document."
   ]
  },
  {
   "cell_type": "code",
   "execution_count": 5,
   "metadata": {},
   "outputs": [
    {
     "name": "stdout",
     "output_type": "stream",
     "text": [
      "<title>My Holiday Photos</title>\n",
      "<class 'bs4.element.Tag'>\n"
     ]
    }
   ],
   "source": [
    "title_tag = soup.title\n",
    "print(title_tag)\n",
    "print(type(title_tag))"
   ]
  },
  {
   "cell_type": "code",
   "execution_count": 6,
   "metadata": {},
   "outputs": [
    {
     "data": {
      "text/plain": [
       "'title'"
      ]
     },
     "execution_count": 6,
     "metadata": {},
     "output_type": "execute_result"
    }
   ],
   "source": [
    "title_tag.name"
   ]
  },
  {
   "cell_type": "code",
   "execution_count": 7,
   "metadata": {},
   "outputs": [
    {
     "data": {
      "text/plain": [
       "'My Holiday Photos'"
      ]
     },
     "execution_count": 7,
     "metadata": {},
     "output_type": "execute_result"
    }
   ],
   "source": [
    "title_tag.string"
   ]
  },
  {
   "cell_type": "markdown",
   "metadata": {},
   "source": [
    "Using the tag name returns the first tag that matches. For example, there are many `<img>` tags, but the first one will be returned."
   ]
  },
  {
   "cell_type": "code",
   "execution_count": 8,
   "metadata": {},
   "outputs": [
    {
     "data": {
      "text/plain": [
       "<img height=\"107\" src=\"me.jpg\" width=\"212\"/>"
      ]
     },
     "execution_count": 8,
     "metadata": {},
     "output_type": "execute_result"
    }
   ],
   "source": [
    "soup.img"
   ]
  },
  {
   "cell_type": "markdown",
   "metadata": {},
   "source": [
    "## Attributes\n",
    "\n",
    "We can see from that the `<img>` contains a few attributes. We can access these attributes using `attrs`"
   ]
  },
  {
   "cell_type": "code",
   "execution_count": 9,
   "metadata": {},
   "outputs": [
    {
     "data": {
      "text/plain": [
       "{'src': 'me.jpg', 'width': '212', 'height': '107'}"
      ]
     },
     "execution_count": 9,
     "metadata": {},
     "output_type": "execute_result"
    }
   ],
   "source": [
    "soup.img.attrs"
   ]
  },
  {
   "cell_type": "markdown",
   "metadata": {},
   "source": [
    "It looks like the attributes are organised in a dictionary, so we can access the values by using the keys:"
   ]
  },
  {
   "cell_type": "code",
   "execution_count": 10,
   "metadata": {},
   "outputs": [
    {
     "data": {
      "text/plain": [
       "'me.jpg'"
      ]
     },
     "execution_count": 10,
     "metadata": {},
     "output_type": "execute_result"
    }
   ],
   "source": [
    "# How can we acess the file name of the image?\n",
    "soup.img['src']"
   ]
  },
  {
   "cell_type": "markdown",
   "metadata": {},
   "source": [
    "## NavigableString objects\n",
    "\n",
    "The text within a tag is returned by Beautiful Soup as a `Navigable String` object.\n"
   ]
  },
  {
   "cell_type": "code",
   "execution_count": 11,
   "metadata": {},
   "outputs": [
    {
     "data": {
      "text/plain": [
       "'These are some photos of my trips.'"
      ]
     },
     "execution_count": 11,
     "metadata": {},
     "output_type": "execute_result"
    }
   ],
   "source": [
    "soup.p.string"
   ]
  },
  {
   "cell_type": "code",
   "execution_count": 12,
   "metadata": {},
   "outputs": [
    {
     "data": {
      "text/plain": [
       "bs4.element.NavigableString"
      ]
     },
     "execution_count": 12,
     "metadata": {},
     "output_type": "execute_result"
    }
   ],
   "source": [
    "info = soup.p.string\n",
    "type(info)\n"
   ]
  },
  {
   "cell_type": "code",
   "execution_count": 16,
   "metadata": {},
   "outputs": [
    {
     "data": {
      "text/plain": [
       "['__add__',\n",
       " '__class__',\n",
       " '__contains__',\n",
       " '__delattr__',\n",
       " '__dir__',\n",
       " '__doc__',\n",
       " '__eq__',\n",
       " '__format__',\n",
       " '__ge__',\n",
       " '__getattribute__',\n",
       " '__getitem__',\n",
       " '__getnewargs__',\n",
       " '__gt__',\n",
       " '__hash__',\n",
       " '__init__',\n",
       " '__init_subclass__',\n",
       " '__iter__',\n",
       " '__le__',\n",
       " '__len__',\n",
       " '__lt__',\n",
       " '__mod__',\n",
       " '__mul__',\n",
       " '__ne__',\n",
       " '__new__',\n",
       " '__reduce__',\n",
       " '__reduce_ex__',\n",
       " '__repr__',\n",
       " '__rmod__',\n",
       " '__rmul__',\n",
       " '__setattr__',\n",
       " '__sizeof__',\n",
       " '__str__',\n",
       " '__subclasshook__',\n",
       " 'capitalize',\n",
       " 'casefold',\n",
       " 'center',\n",
       " 'count',\n",
       " 'encode',\n",
       " 'endswith',\n",
       " 'expandtabs',\n",
       " 'find',\n",
       " 'format',\n",
       " 'format_map',\n",
       " 'index',\n",
       " 'isalnum',\n",
       " 'isalpha',\n",
       " 'isascii',\n",
       " 'isdecimal',\n",
       " 'isdigit',\n",
       " 'isidentifier',\n",
       " 'islower',\n",
       " 'isnumeric',\n",
       " 'isprintable',\n",
       " 'isspace',\n",
       " 'istitle',\n",
       " 'isupper',\n",
       " 'join',\n",
       " 'ljust',\n",
       " 'lower',\n",
       " 'lstrip',\n",
       " 'maketrans',\n",
       " 'partition',\n",
       " 'removeprefix',\n",
       " 'removesuffix',\n",
       " 'replace',\n",
       " 'rfind',\n",
       " 'rindex',\n",
       " 'rjust',\n",
       " 'rpartition',\n",
       " 'rsplit',\n",
       " 'rstrip',\n",
       " 'split',\n",
       " 'splitlines',\n",
       " 'startswith',\n",
       " 'strip',\n",
       " 'swapcase',\n",
       " 'title',\n",
       " 'translate',\n",
       " 'upper',\n",
       " 'zfill']"
      ]
     },
     "execution_count": 16,
     "metadata": {},
     "output_type": "execute_result"
    }
   ],
   "source": [
    "name='Python'\n",
    "dir(name)"
   ]
  },
  {
   "cell_type": "code",
   "execution_count": 13,
   "metadata": {},
   "outputs": [
    {
     "data": {
      "text/plain": [
       "['PREFIX',\n",
       " 'SUFFIX',\n",
       " '__add__',\n",
       " '__class__',\n",
       " '__contains__',\n",
       " '__copy__',\n",
       " '__delattr__',\n",
       " '__dict__',\n",
       " '__dir__',\n",
       " '__doc__',\n",
       " '__eq__',\n",
       " '__format__',\n",
       " '__ge__',\n",
       " '__getattr__',\n",
       " '__getattribute__',\n",
       " '__getitem__',\n",
       " '__getnewargs__',\n",
       " '__gt__',\n",
       " '__hash__',\n",
       " '__init__',\n",
       " '__init_subclass__',\n",
       " '__iter__',\n",
       " '__le__',\n",
       " '__len__',\n",
       " '__lt__',\n",
       " '__mod__',\n",
       " '__module__',\n",
       " '__mul__',\n",
       " '__ne__',\n",
       " '__new__',\n",
       " '__reduce__',\n",
       " '__reduce_ex__',\n",
       " '__repr__',\n",
       " '__rmod__',\n",
       " '__rmul__',\n",
       " '__setattr__',\n",
       " '__sizeof__',\n",
       " '__str__',\n",
       " '__subclasshook__',\n",
       " '__weakref__',\n",
       " '_all_strings',\n",
       " '_find_all',\n",
       " '_find_one',\n",
       " '_is_xml',\n",
       " '_lastRecursiveChild',\n",
       " '_last_descendant',\n",
       " 'append',\n",
       " 'capitalize',\n",
       " 'casefold',\n",
       " 'center',\n",
       " 'count',\n",
       " 'decomposed',\n",
       " 'default',\n",
       " 'encode',\n",
       " 'endswith',\n",
       " 'expandtabs',\n",
       " 'extend',\n",
       " 'extract',\n",
       " 'fetchNextSiblings',\n",
       " 'fetchParents',\n",
       " 'fetchPrevious',\n",
       " 'fetchPreviousSiblings',\n",
       " 'find',\n",
       " 'findAllNext',\n",
       " 'findAllPrevious',\n",
       " 'findNext',\n",
       " 'findNextSibling',\n",
       " 'findNextSiblings',\n",
       " 'findParent',\n",
       " 'findParents',\n",
       " 'findPrevious',\n",
       " 'findPreviousSibling',\n",
       " 'findPreviousSiblings',\n",
       " 'find_all_next',\n",
       " 'find_all_previous',\n",
       " 'find_next',\n",
       " 'find_next_sibling',\n",
       " 'find_next_siblings',\n",
       " 'find_parent',\n",
       " 'find_parents',\n",
       " 'find_previous',\n",
       " 'find_previous_sibling',\n",
       " 'find_previous_siblings',\n",
       " 'format',\n",
       " 'format_map',\n",
       " 'format_string',\n",
       " 'formatter_for_name',\n",
       " 'getText',\n",
       " 'get_text',\n",
       " 'index',\n",
       " 'insert',\n",
       " 'insert_after',\n",
       " 'insert_before',\n",
       " 'isalnum',\n",
       " 'isalpha',\n",
       " 'isascii',\n",
       " 'isdecimal',\n",
       " 'isdigit',\n",
       " 'isidentifier',\n",
       " 'islower',\n",
       " 'isnumeric',\n",
       " 'isprintable',\n",
       " 'isspace',\n",
       " 'istitle',\n",
       " 'isupper',\n",
       " 'join',\n",
       " 'known_xml',\n",
       " 'ljust',\n",
       " 'lower',\n",
       " 'lstrip',\n",
       " 'maketrans',\n",
       " 'name',\n",
       " 'next',\n",
       " 'nextGenerator',\n",
       " 'nextSibling',\n",
       " 'nextSiblingGenerator',\n",
       " 'next_element',\n",
       " 'next_elements',\n",
       " 'next_sibling',\n",
       " 'next_siblings',\n",
       " 'output_ready',\n",
       " 'parent',\n",
       " 'parentGenerator',\n",
       " 'parents',\n",
       " 'partition',\n",
       " 'previous',\n",
       " 'previousGenerator',\n",
       " 'previousSibling',\n",
       " 'previousSiblingGenerator',\n",
       " 'previous_element',\n",
       " 'previous_elements',\n",
       " 'previous_sibling',\n",
       " 'previous_siblings',\n",
       " 'removeprefix',\n",
       " 'removesuffix',\n",
       " 'replace',\n",
       " 'replaceWith',\n",
       " 'replaceWithChildren',\n",
       " 'replace_with',\n",
       " 'replace_with_children',\n",
       " 'rfind',\n",
       " 'rindex',\n",
       " 'rjust',\n",
       " 'rpartition',\n",
       " 'rsplit',\n",
       " 'rstrip',\n",
       " 'setup',\n",
       " 'split',\n",
       " 'splitlines',\n",
       " 'startswith',\n",
       " 'strings',\n",
       " 'strip',\n",
       " 'stripped_strings',\n",
       " 'swapcase',\n",
       " 'text',\n",
       " 'title',\n",
       " 'translate',\n",
       " 'unwrap',\n",
       " 'upper',\n",
       " 'wrap',\n",
       " 'zfill']"
      ]
     },
     "execution_count": 13,
     "metadata": {},
     "output_type": "execute_result"
    }
   ],
   "source": [
    "# How are NavigableString methods different from those in normal Python Strings?\n",
    "dir(info)"
   ]
  },
  {
   "cell_type": "markdown",
   "metadata": {},
   "source": [
    "## Quick Exercises"
   ]
  },
  {
   "cell_type": "code",
   "execution_count": 17,
   "metadata": {},
   "outputs": [
    {
     "data": {
      "text/plain": [
       "<h1>My Photos</h1>"
      ]
     },
     "execution_count": 17,
     "metadata": {},
     "output_type": "execute_result"
    }
   ],
   "source": [
    "# Get the first <h1> tag\n",
    "soup.h1"
   ]
  },
  {
   "cell_type": "code",
   "execution_count": 18,
   "metadata": {},
   "outputs": [
    {
     "data": {
      "text/plain": [
       "<h3>Italy</h3>"
      ]
     },
     "execution_count": 18,
     "metadata": {},
     "output_type": "execute_result"
    }
   ],
   "source": [
    "# Get the first <h3> tag\n",
    "soup.h3"
   ]
  },
  {
   "cell_type": "code",
   "execution_count": 19,
   "metadata": {},
   "outputs": [],
   "source": [
    "# Get the first <h2> tag\n",
    "soup.h2"
   ]
  },
  {
   "cell_type": "code",
   "execution_count": 20,
   "metadata": {},
   "outputs": [
    {
     "data": {
      "text/plain": [
       "<div class=\"intro\">\n",
       "<p>These are some photos of my trips.</p>\n",
       "<img height=\"107\" src=\"me.jpg\" width=\"212\"/>\n",
       "</div>"
      ]
     },
     "execution_count": 20,
     "metadata": {},
     "output_type": "execute_result"
    }
   ],
   "source": [
    "# Get the first <div> tag\n",
    "soup.div"
   ]
  },
  {
   "cell_type": "markdown",
   "metadata": {},
   "source": [
    "What did you notice about the values that are returned?\n",
    "- if a tag contains other tags\n",
    "- if a tag does not exist"
   ]
  },
  {
   "cell_type": "markdown",
   "metadata": {},
   "source": [
    "## Navigating the HTML Tree\n",
    "\n",
    "Since the HTML document is organized as a tree, we can navigate it. You can copy and paste the sample HTML code into the [live DOM viewer](https://software.hixie.ch/utilities/js/live-dom-viewer/) to see it better.\n",
    "\n",
    "We can navigate the `BeautifulSoup` and `Tag` objects using the tag names."
   ]
  },
  {
   "cell_type": "code",
   "execution_count": 21,
   "metadata": {},
   "outputs": [
    {
     "data": {
      "text/plain": [
       "<img height=\"107\" src=\"me.jpg\" width=\"212\"/>"
      ]
     },
     "execution_count": 21,
     "metadata": {},
     "output_type": "execute_result"
    }
   ],
   "source": [
    "# Get the first <div> tag\n",
    "intro_tag = soup.div \n",
    "\n",
    "# Then get the <img> tag within this \n",
    "intro_tag.img"
   ]
  },
  {
   "cell_type": "code",
   "execution_count": 22,
   "metadata": {},
   "outputs": [
    {
     "data": {
      "text/plain": [
       "<img height=\"107\" src=\"me.jpg\" width=\"212\"/>"
      ]
     },
     "execution_count": 22,
     "metadata": {},
     "output_type": "execute_result"
    }
   ],
   "source": [
    "# or just get the img tag within the div tag\n",
    "soup.div.img"
   ]
  },
  {
   "cell_type": "markdown",
   "metadata": {},
   "source": []
  },
  {
   "cell_type": "markdown",
   "metadata": {},
   "source": [
    "## Getting all tags\n",
    "\n",
    "As you can see, using the tag name only returns the first tag. If you want to find _all_ tags, you have to use the `find_all()` method. "
   ]
  },
  {
   "cell_type": "code",
   "execution_count": 35,
   "metadata": {},
   "outputs": [
    {
     "data": {
      "text/plain": [
       "[<h3>Italy</h3>, <h3>Germany</h3>]"
      ]
     },
     "execution_count": 35,
     "metadata": {},
     "output_type": "execute_result"
    }
   ],
   "source": [
    "soup.find_all('h3')"
   ]
  },
  {
   "cell_type": "code",
   "execution_count": 38,
   "metadata": {},
   "outputs": [
    {
     "data": {
      "text/plain": [
       "'Germany'"
      ]
     },
     "execution_count": 38,
     "metadata": {},
     "output_type": "execute_result"
    }
   ],
   "source": [
    "# Getting the text from the 2nd item in the list\n",
    "soup.find_all('h3')[1].string"
   ]
  },
  {
   "cell_type": "code",
   "execution_count": 25,
   "metadata": {},
   "outputs": [
    {
     "data": {
      "text/plain": [
       "[<div class=\"country\">\n",
       " <img alt=\"Venice\" height=\"107\" src=\"venice1.jpg\" width=\"212\"/> <br/>\n",
       " <img alt=\"Venice\" height=\"107\" src=\"venice2.jpg\" width=\"212\"/> <br/>\n",
       " <img alt=\"Roma\" height=\"107\" src=\"rome.jpg\" width=\"212\"/>\n",
       " </div>,\n",
       " <div class=\"country\">\n",
       " <img alt=\"Berlin\" height=\"107\" src=\"berlin.jpg\" width=\"212\"/>\n",
       " </div>]"
      ]
     },
     "execution_count": 25,
     "metadata": {},
     "output_type": "execute_result"
    }
   ],
   "source": [
    "# Find all using attribute. \n",
    "# Note that 'class' has a special meaning in Python, so for this attribute\n",
    "# we add an underscore\n",
    "soup.find_all('div', class_='country')"
   ]
  },
  {
   "cell_type": "code",
   "execution_count": 28,
   "metadata": {},
   "outputs": [
    {
     "name": "stdout",
     "output_type": "stream",
     "text": [
      "5\n"
     ]
    }
   ],
   "source": [
    "# Find all elements with tag <img>\n",
    "img_tags = soup.find_all('img')\n",
    "\n",
    "# print the number of <img> tags found\n",
    "print(len(img_tags))"
   ]
  },
  {
   "cell_type": "code",
   "execution_count": null,
   "metadata": {},
   "outputs": [],
   "source": [
    "# Print the first two tags\n",
    "\n",
    "print(img_tags[0])\n",
    "print(img_tags[1])"
   ]
  },
  {
   "cell_type": "code",
   "execution_count": 34,
   "metadata": {},
   "outputs": [
    {
     "data": {
      "text/plain": [
       "[<img height=\"107\" src=\"me.jpg\" width=\"212\"/>,\n",
       " <img alt=\"Venice\" height=\"107\" src=\"venice1.jpg\" width=\"212\"/>,\n",
       " <img alt=\"Venice\" height=\"107\" src=\"venice2.jpg\" width=\"212\"/>,\n",
       " <img alt=\"Roma\" height=\"107\" src=\"rome.jpg\" width=\"212\"/>,\n",
       " <img alt=\"Berlin\" height=\"107\" src=\"berlin.jpg\" width=\"212\"/>]"
      ]
     },
     "execution_count": 34,
     "metadata": {},
     "output_type": "execute_result"
    }
   ],
   "source": [
    "# Can you loop through the img_tags?\n",
    "[img for img in img_tags]"
   ]
  },
  {
   "cell_type": "code",
   "execution_count": 33,
   "metadata": {},
   "outputs": [
    {
     "data": {
      "text/plain": [
       "[<img alt=\"Venice\" height=\"107\" src=\"venice1.jpg\" width=\"212\"/>,\n",
       " <img alt=\"Venice\" height=\"107\" src=\"venice2.jpg\" width=\"212\"/>,\n",
       " <img alt=\"Roma\" height=\"107\" src=\"rome.jpg\" width=\"212\"/>,\n",
       " <img alt=\"Berlin\" height=\"107\" src=\"berlin.jpg\" width=\"212\"/>]"
      ]
     },
     "execution_count": 33,
     "metadata": {},
     "output_type": "execute_result"
    }
   ],
   "source": [
    "# Find all <img> tags with an alt attribute\n",
    "soup.find_all('img', alt=True)"
   ]
  },
  {
   "cell_type": "code",
   "execution_count": null,
   "metadata": {},
   "outputs": [],
   "source": [
    "# Find all image tags with attribute 'alt' equal to 'Venice'\n",
    "soup.find_all('img', alt='Venice')"
   ]
  },
  {
   "cell_type": "markdown",
   "metadata": {},
   "source": [
    "### If I wanted to get a list of all of the countries visited, how would I do it?"
   ]
  },
  {
   "cell_type": "code",
   "execution_count": 39,
   "metadata": {},
   "outputs": [],
   "source": [
    "# A:\n",
    "country_tags = soup.find_all('h3')"
   ]
  },
  {
   "cell_type": "code",
   "execution_count": 42,
   "metadata": {},
   "outputs": [
    {
     "data": {
      "text/plain": [
       "['Italy', 'Germany']"
      ]
     },
     "execution_count": 42,
     "metadata": {},
     "output_type": "execute_result"
    }
   ],
   "source": [
    "[c.string.text for c in country_tags]"
   ]
  },
  {
   "cell_type": "code",
   "execution_count": 45,
   "metadata": {},
   "outputs": [
    {
     "data": {
      "text/plain": [
       "'Italy'"
      ]
     },
     "execution_count": 45,
     "metadata": {},
     "output_type": "execute_result"
    }
   ],
   "source": [
    "country_tags[0].string.text"
   ]
  },
  {
   "cell_type": "code",
   "execution_count": 49,
   "metadata": {},
   "outputs": [
    {
     "data": {
      "text/plain": [
       "str"
      ]
     },
     "execution_count": 49,
     "metadata": {},
     "output_type": "execute_result"
    }
   ],
   "source": [
    "type(country_tags[0].text)"
   ]
  },
  {
   "cell_type": "code",
   "execution_count": 48,
   "metadata": {},
   "outputs": [
    {
     "data": {
      "text/plain": [
       "bs4.element.NavigableString"
      ]
     },
     "execution_count": 48,
     "metadata": {},
     "output_type": "execute_result"
    }
   ],
   "source": [
    "type(country_tags[0].string)"
   ]
  },
  {
   "cell_type": "markdown",
   "metadata": {},
   "source": [
    "## Navigating Nested Tags\n",
    "\n",
    "\n",
    "We can use `.contents`,`.children` and `.descendants` to get nested tags.\n",
    "\n"
   ]
  },
  {
   "cell_type": "code",
   "execution_count": 50,
   "metadata": {},
   "outputs": [
    {
     "name": "stdout",
     "output_type": "stream",
     "text": [
      "<head>\n",
      "<title>My Holiday Photos</title>\n",
      "</head>\n"
     ]
    }
   ],
   "source": [
    "header = soup.head\n",
    "print(header)"
   ]
  },
  {
   "cell_type": "code",
   "execution_count": 51,
   "metadata": {},
   "outputs": [
    {
     "data": {
      "text/plain": [
       "['\\n', <title>My Holiday Photos</title>, '\\n']"
      ]
     },
     "execution_count": 51,
     "metadata": {},
     "output_type": "execute_result"
    }
   ],
   "source": [
    "header.contents"
   ]
  },
  {
   "cell_type": "code",
   "execution_count": 52,
   "metadata": {},
   "outputs": [
    {
     "name": "stdout",
     "output_type": "stream",
     "text": [
      "\n",
      "\n",
      "<title>My Holiday Photos</title>\n",
      "\n",
      "\n"
     ]
    }
   ],
   "source": [
    "for c in header.children:\n",
    "    print(c)"
   ]
  },
  {
   "cell_type": "code",
   "execution_count": 53,
   "metadata": {},
   "outputs": [
    {
     "data": {
      "text/plain": [
       "['\\n',\n",
       " <img alt=\"Venice\" height=\"107\" src=\"venice1.jpg\" width=\"212\"/>,\n",
       " ' ',\n",
       " <br/>,\n",
       " '\\n',\n",
       " <img alt=\"Venice\" height=\"107\" src=\"venice2.jpg\" width=\"212\"/>,\n",
       " ' ',\n",
       " <br/>,\n",
       " '\\n',\n",
       " <img alt=\"Roma\" height=\"107\" src=\"rome.jpg\" width=\"212\"/>,\n",
       " '\\n']"
      ]
     },
     "execution_count": 53,
     "metadata": {},
     "output_type": "execute_result"
    }
   ],
   "source": [
    "# find all <div> tags, then show the contents of the second one.\n",
    "\n",
    "country = soup.find_all('div')\n",
    "country[1].contents"
   ]
  },
  {
   "cell_type": "markdown",
   "metadata": {},
   "source": [
    "### Descendants\n",
    "\n",
    "`.children` only returns the first level of nested tags, while `.descendants` returns all the tag's children and their children."
   ]
  },
  {
   "cell_type": "code",
   "execution_count": 54,
   "metadata": {},
   "outputs": [
    {
     "data": {
      "text/plain": [
       "<div class=\"intro\">\n",
       "<p>These are some photos of my trips.</p>\n",
       "<img height=\"107\" src=\"me.jpg\" width=\"212\"/>\n",
       "</div>"
      ]
     },
     "execution_count": 54,
     "metadata": {},
     "output_type": "execute_result"
    }
   ],
   "source": [
    "soup.div"
   ]
  },
  {
   "cell_type": "code",
   "execution_count": 55,
   "metadata": {},
   "outputs": [
    {
     "data": {
      "text/plain": [
       "['\\n',\n",
       " <p>These are some photos of my trips.</p>,\n",
       " '\\n',\n",
       " <img height=\"107\" src=\"me.jpg\" width=\"212\"/>,\n",
       " '\\n']"
      ]
     },
     "execution_count": 55,
     "metadata": {},
     "output_type": "execute_result"
    }
   ],
   "source": [
    "soup.div.contents"
   ]
  },
  {
   "cell_type": "code",
   "execution_count": 56,
   "metadata": {},
   "outputs": [
    {
     "data": {
      "text/plain": [
       "[('\\n', bs4.element.NavigableString),\n",
       " (<p>These are some photos of my trips.</p>, bs4.element.Tag),\n",
       " ('\\n', bs4.element.NavigableString),\n",
       " (<img height=\"107\" src=\"me.jpg\" width=\"212\"/>, bs4.element.Tag),\n",
       " ('\\n', bs4.element.NavigableString)]"
      ]
     },
     "execution_count": 56,
     "metadata": {},
     "output_type": "execute_result"
    }
   ],
   "source": [
    "[(c,type(c)) for c in soup.div.children]"
   ]
  },
  {
   "cell_type": "code",
   "execution_count": 57,
   "metadata": {},
   "outputs": [
    {
     "data": {
      "text/plain": [
       "[('\\n', bs4.element.NavigableString),\n",
       " (<p>These are some photos of my trips.</p>, bs4.element.Tag),\n",
       " ('These are some photos of my trips.', bs4.element.NavigableString),\n",
       " ('\\n', bs4.element.NavigableString),\n",
       " (<img height=\"107\" src=\"me.jpg\" width=\"212\"/>, bs4.element.Tag),\n",
       " ('\\n', bs4.element.NavigableString)]"
      ]
     },
     "execution_count": 57,
     "metadata": {},
     "output_type": "execute_result"
    }
   ],
   "source": [
    "# Descendants will retrieve the children of the tag as well\n",
    "[(c,type(c)) for c in soup.div.descendants]"
   ]
  },
  {
   "cell_type": "code",
   "execution_count": 58,
   "metadata": {},
   "outputs": [
    {
     "data": {
      "text/plain": [
       "['\\n',\n",
       " '\\n',\n",
       " '\\n',\n",
       " 'My Holiday Photos',\n",
       " '\\n',\n",
       " '\\n',\n",
       " '\\n',\n",
       " 'My Photos',\n",
       " '\\n',\n",
       " '\\n',\n",
       " 'These are some photos of my trips.',\n",
       " '\\n',\n",
       " '\\n',\n",
       " '\\n',\n",
       " 'Italy',\n",
       " '\\n',\n",
       " '\\n',\n",
       " ' ',\n",
       " '\\n',\n",
       " ' ',\n",
       " '\\n',\n",
       " '\\n',\n",
       " '\\n',\n",
       " 'Germany',\n",
       " '\\n',\n",
       " '\\n',\n",
       " '\\n',\n",
       " '\\n',\n",
       " '\\n',\n",
       " '\\n']"
      ]
     },
     "execution_count": 58,
     "metadata": {},
     "output_type": "execute_result"
    }
   ],
   "source": [
    "# To just obtain the strings \n",
    "[s for s in soup.strings]"
   ]
  },
  {
   "cell_type": "code",
   "execution_count": 59,
   "metadata": {},
   "outputs": [
    {
     "data": {
      "text/plain": [
       "['My Holiday Photos',\n",
       " 'My Photos',\n",
       " 'These are some photos of my trips.',\n",
       " 'Italy',\n",
       " 'Germany']"
      ]
     },
     "execution_count": 59,
     "metadata": {},
     "output_type": "execute_result"
    }
   ],
   "source": [
    "# To just obtain the strings without extra whitespace\n",
    "[s for s in soup.stripped_strings]"
   ]
  },
  {
   "cell_type": "markdown",
   "metadata": {},
   "source": [
    "## Parents\n",
    "\n",
    "The `.parent` attribute returns the outer tag.\n"
   ]
  },
  {
   "cell_type": "code",
   "execution_count": 60,
   "metadata": {},
   "outputs": [
    {
     "data": {
      "text/plain": [
       "<img height=\"107\" src=\"me.jpg\" width=\"212\"/>"
      ]
     },
     "execution_count": 60,
     "metadata": {},
     "output_type": "execute_result"
    }
   ],
   "source": [
    "# For example, if we get the first <img> tag\n",
    "soup.img"
   ]
  },
  {
   "cell_type": "code",
   "execution_count": 66,
   "metadata": {},
   "outputs": [
    {
     "data": {
      "text/plain": [
       "<div class=\"intro\">\n",
       "<p>These are some photos of my trips.</p>\n",
       "<img height=\"107\" src=\"me.jpg\" width=\"212\"/>\n",
       "</div>"
      ]
     },
     "execution_count": 66,
     "metadata": {},
     "output_type": "execute_result"
    }
   ],
   "source": [
    "# Find its parent\n",
    "\n",
    "soup.img.parent"
   ]
  },
  {
   "cell_type": "code",
   "execution_count": 67,
   "metadata": {},
   "outputs": [
    {
     "data": {
      "text/plain": [
       "['div', 'body', 'html', '[document]']"
      ]
     },
     "execution_count": 67,
     "metadata": {},
     "output_type": "execute_result"
    }
   ],
   "source": [
    "# Find all its parents\n",
    "[p.name for p in soup.img.parents]"
   ]
  },
  {
   "cell_type": "markdown",
   "metadata": {},
   "source": [
    "## Siblings\n",
    "\n",
    "Similarly, we can get the siblings of a tag, which are those on the same level:"
   ]
  },
  {
   "cell_type": "code",
   "execution_count": 71,
   "metadata": {},
   "outputs": [
    {
     "data": {
      "text/plain": [
       "'\\n'"
      ]
     },
     "execution_count": 71,
     "metadata": {},
     "output_type": "execute_result"
    }
   ],
   "source": [
    "header3 = soup.h3\n",
    "header3.next_sibling"
   ]
  },
  {
   "cell_type": "markdown",
   "metadata": {},
   "source": [
    "As we can see the immediate sibling is actually a newline. To get all siblings on the same level, we can use `next_siblings`"
   ]
  },
  {
   "cell_type": "code",
   "execution_count": 72,
   "metadata": {},
   "outputs": [
    {
     "data": {
      "text/plain": [
       "<generator object PageElement.next_siblings at 0x0000016664181F20>"
      ]
     },
     "execution_count": 72,
     "metadata": {},
     "output_type": "execute_result"
    }
   ],
   "source": [
    "header3.next_siblings\n"
   ]
  },
  {
   "cell_type": "code",
   "execution_count": 75,
   "metadata": {},
   "outputs": [
    {
     "data": {
      "text/plain": [
       "['\\n',\n",
       " <div class=\"country\">\n",
       " <img alt=\"Venice\" height=\"107\" src=\"venice1.jpg\" width=\"212\"/> <br/>\n",
       " <img alt=\"Venice\" height=\"107\" src=\"venice2.jpg\" width=\"212\"/> <br/>\n",
       " <img alt=\"Roma\" height=\"107\" src=\"rome.jpg\" width=\"212\"/>\n",
       " </div>,\n",
       " '\\n',\n",
       " <h3>Germany</h3>,\n",
       " '\\n',\n",
       " <div class=\"country\">\n",
       " <img alt=\"Berlin\" height=\"107\" src=\"berlin.jpg\" width=\"212\"/>\n",
       " </div>,\n",
       " '\\n']"
      ]
     },
     "execution_count": 75,
     "metadata": {},
     "output_type": "execute_result"
    }
   ],
   "source": [
    "# Ok, let's list them.\n",
    "[s for s in header3.next_siblings]"
   ]
  },
  {
   "cell_type": "code",
   "execution_count": null,
   "metadata": {},
   "outputs": [],
   "source": [
    "# What about the previous sibling(s) of header 3?\n",
    "[s for s in header3.previous_siblings]"
   ]
  },
  {
   "cell_type": "markdown",
   "metadata": {},
   "source": [
    "For more examples and shortcuts, refer to the [Beautiful Soup documentation](https://www.crummy.com/software/BeautifulSoup/bs4/doc/#bs4.Comment)"
   ]
  }
 ],
 "metadata": {
  "anaconda-cloud": {},
  "kernelspec": {
   "display_name": "Python 3 (ipykernel)",
   "language": "python",
   "name": "python3"
  },
  "language_info": {
   "codemirror_mode": {
    "name": "ipython",
    "version": 3
   },
   "file_extension": ".py",
   "mimetype": "text/x-python",
   "name": "python",
   "nbconvert_exporter": "python",
   "pygments_lexer": "ipython3",
   "version": "3.9.7"
  },
  "toc": {
   "nav_menu": {},
   "number_sections": false,
   "sideBar": true,
   "skip_h1_title": false,
   "title_cell": "Table of Contents",
   "title_sidebar": "Contents",
   "toc_cell": false,
   "toc_position": {},
   "toc_section_display": true,
   "toc_window_display": false
  },
  "varInspector": {
   "cols": {
    "lenName": 16,
    "lenType": 16,
    "lenVar": 40
   },
   "kernels_config": {
    "python": {
     "delete_cmd_postfix": "",
     "delete_cmd_prefix": "del ",
     "library": "var_list.py",
     "varRefreshCmd": "print(var_dic_list())"
    },
    "r": {
     "delete_cmd_postfix": ") ",
     "delete_cmd_prefix": "rm(",
     "library": "var_list.r",
     "varRefreshCmd": "cat(var_dic_list()) "
    }
   },
   "types_to_exclude": [
    "module",
    "function",
    "builtin_function_or_method",
    "instance",
    "_Feature"
   ],
   "window_display": false
  }
 },
 "nbformat": 4,
 "nbformat_minor": 1
}
