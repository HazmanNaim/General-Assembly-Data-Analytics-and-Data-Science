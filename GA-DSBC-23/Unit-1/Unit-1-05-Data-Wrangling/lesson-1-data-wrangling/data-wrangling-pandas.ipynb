{
 "cells": [
  {
   "cell_type": "markdown",
   "metadata": {},
   "source": [
    "# ![](https://ga-dash.s3.amazonaws.com/production/assets/logo-9f88ae6c9c3871690e33280fcf557f33.png) Data Wrangling with Pandas \n",
    "\n",
    "Pandas is a very useful Python library for data manipulation and exploration. We have so much more to explore!\n",
    "\n",
    "In this lesson, we'll continue exploring Pandas for EDA. Specifically: \n",
    "\n",
    "- Identify and handle missing values with Pandas.\n",
    "- Add and remove columns\n",
    "- Merge datasets\n",
    "- Use apply functions to clean data with Pandas.\n",
    "\n",
    "We'll implicitly review many functions from our first Pandas lesson along the way!"
   ]
  },
  {
   "cell_type": "markdown",
   "metadata": {},
   "source": [
    "## The Superstore dataset\n",
    "\n",
    "We are going to continue exploring the Superstore dataset, which consist of a few tables stored as .csv files. We will focus on: \n",
    "\n",
    "- Products Table (products.csv)\n",
    "- Orders Table (orders.csv)\n",
    "- Returns Table (returns.csv)\n",
    "\n",
    "First we will explore the Orders Table. \n",
    "\n",
    "The data dictionary for the Orders table:\n",
    "- **order_id** - The order identifier value for each order.\n",
    "- **order_date** - The date the order was placed.\n",
    "- **ship_date** - The date the order was shipped.\n",
    "- **ship_mode** - \tThe method with which the order was shipped.\n",
    "- **customer_id** - \tThe unique identifier value for the customer who placed the order\n",
    "- **product_id** - \tThe unique identifier value for the product in the order. There may be more than one product ordered for each order_id.\n",
    "- **sales** - \tThe amount of money spent on this particular product in this order\n",
    "- **quantity** - \tThe quantity of this particular product ordered.\n",
    "- **discount** - \tThe discount offered by the sales representative for this product in ths order.\n",
    "- **profit** -  The amount of profit earned from this order\n",
    "- **profit_margin** - The profit margin earned from this order\n"
   ]
  },
  {
   "cell_type": "markdown",
   "metadata": {},
   "source": [
    "### Importing the Libraries"
   ]
  },
  {
   "cell_type": "code",
   "execution_count": null,
   "metadata": {},
   "outputs": [],
   "source": [
    "import numpy as np\n",
    "import pandas as pd\n",
    "import matplotlib.pyplot as plt"
   ]
  },
  {
   "cell_type": "markdown",
   "metadata": {},
   "source": [
    "### Read in the dataset\n"
   ]
  },
  {
   "cell_type": "code",
   "execution_count": null,
   "metadata": {},
   "outputs": [],
   "source": [
    "# read in the orders dataset\n",
    "orders = pd.read_csv('datasets/orders.csv')"
   ]
  },
  {
   "cell_type": "code",
   "execution_count": null,
   "metadata": {
    "scrolled": true
   },
   "outputs": [],
   "source": [
    "# Check the first 5 rows\n"
   ]
  },
  {
   "cell_type": "code",
   "execution_count": null,
   "metadata": {},
   "outputs": [],
   "source": [
    "# and the number of rows x cols\n",
    "\n"
   ]
  },
  {
   "cell_type": "code",
   "execution_count": null,
   "metadata": {},
   "outputs": [],
   "source": [
    "# and the data types\n"
   ]
  },
  {
   "cell_type": "code",
   "execution_count": null,
   "metadata": {},
   "outputs": [],
   "source": [
    "# Check the info()\n"
   ]
  },
  {
   "cell_type": "markdown",
   "metadata": {},
   "source": [
    "## Handling missing data\n",
    "\n",
    "Missing data is a systemic, challenging problem in data collection. Imagine conducting a poll, but some of the data gets lost, or you run out of budget and can't complete it! 😮<br><br>\n",
    "\n",
    "\"Handling missing data\" itself is a broad topic. We'll focus on two components:\n",
    "\n",
    "- Using Pandas to identify we have missing data\n",
    "- Strategies to fill in missing data (known in the business as `imputing`)\n",
    "- Filling in missing data with Pandas\n"
   ]
  },
  {
   "cell_type": "markdown",
   "metadata": {},
   "source": [
    "### Identifying missing data\n",
    "\n",
    "Before *handling*, we must identify we're missing data at all!\n",
    "\n",
    "We have a few ways to explore missing data, and they are reminiscient of our Boolean filters.\n",
    "\n",
    "First we will use `notnull()` and `isnull()` - can you guess what these will do?"
   ]
  },
  {
   "cell_type": "code",
   "execution_count": null,
   "metadata": {},
   "outputs": [],
   "source": [
    "# notnull() returns True when data isn't missing\n",
    "orders.notnull().head()"
   ]
  },
  {
   "cell_type": "code",
   "execution_count": null,
   "metadata": {},
   "outputs": [],
   "source": [
    "# isnull() returns True when data is missing\n",
    "orders.isnull().head()"
   ]
  },
  {
   "cell_type": "markdown",
   "metadata": {},
   "source": [
    "Now, we may want to see null values in aggregate. We can use `sum()` to sum down a given column."
   ]
  },
  {
   "cell_type": "code",
   "execution_count": null,
   "metadata": {},
   "outputs": [],
   "source": [
    "# here is a quick and dirty way to do it\n",
    "orders.isnull().sum() \n",
    "\n",
    "# counts the number of missing values\n",
    "#in each column of the dataframe"
   ]
  },
  {
   "cell_type": "markdown",
   "metadata": {},
   "source": [
    "Look! We've found missing values!\n",
    "\n",
    "How could this missing data be problematic for our analysis?"
   ]
  },
  {
   "cell_type": "markdown",
   "metadata": {},
   "source": [
    "### Understanding missing data\n",
    "\n",
    "Finding missing data is the easy part! Determining what to do next is more complicated.\n",
    "\n",
    "Typically, we are most interested in knowing **why** we are missing data. Once we know what 'type of missingness' we have (the source of missing data), we can proceed effectively."
   ]
  },
  {
   "cell_type": "markdown",
   "metadata": {},
   "source": [
    "Let's first quantify how much data we are missing. Here is another implementation of `orders.isnull().sum()`, only wrapped with a `DataFrame` and some labels to make it a little more user-friendly:"
   ]
  },
  {
   "cell_type": "code",
   "execution_count": null,
   "metadata": {},
   "outputs": [],
   "source": [
    "# or we can make things pretty as follows\n",
    "\n",
    "# create a new DataFrame to store the information about nulls\n",
    "null_df = pd.DataFrame(orders.isnull().sum(), columns=['Count of Nulls']) \n",
    "\n",
    " \n",
    "#null_df.index.name = \"Column\"\n",
    "null_df.sort_values(['Count of Nulls'], ascending=False)"
   ]
  },
  {
   "cell_type": "markdown",
   "metadata": {},
   "source": [
    "### Filling in missing data\n",
    "\n",
    "How we fill in data depends largely on why it is missing (types of missingness) and what sampling we have available to us.\n",
    "\n",
    "We may:\n",
    "\n",
    "- Delete missing data altogether\n",
    "- Fill in missing data with:\n",
    "    - The average of the column\n",
    "    - The median of the column\n",
    "    - A predicted amount based on other factors\n",
    "- Collect more data:\n",
    "    - Resample the population\n",
    "    - Follow up with the authority providing data that is missing\n"
   ]
  },
  {
   "cell_type": "markdown",
   "metadata": {},
   "source": [
    "In our case, let's focus on handling missing values in `ship_mode`. Let's get a count of the unique values in that column. We will need to use the `dropna=False` kwarg, otherwise the `pd.Series.value_counts()` method will not count `NaN` (null) values."
   ]
  },
  {
   "cell_type": "code",
   "execution_count": null,
   "metadata": {},
   "outputs": [],
   "source": [
    "# let's get a value count with the nulls included\n",
    "orders['ship_mode'].value_counts(dropna=False)"
   ]
  },
  {
   "cell_type": "markdown",
   "metadata": {},
   "source": [
    "Ahoy! We have 4 nulls!"
   ]
  },
  {
   "cell_type": "markdown",
   "metadata": {},
   "source": [
    "Option 1: Drop the missing values."
   ]
  },
  {
   "cell_type": "code",
   "execution_count": null,
   "metadata": {},
   "outputs": [],
   "source": [
    "# drops rows where any row has a missing value - \n",
    "# this does not happen *in place*, \n",
    "# so we are not actually dropping any rows\n",
    "\n",
    "orders['ship_mode'].dropna()"
   ]
  },
  {
   "cell_type": "code",
   "execution_count": null,
   "metadata": {},
   "outputs": [],
   "source": [
    "# Check that the 4 nulls were dropped from the original row count\n",
    "orders.shape[0]- 4\n"
   ]
  },
  {
   "cell_type": "code",
   "execution_count": null,
   "metadata": {},
   "outputs": [],
   "source": [
    "orders.shape"
   ]
  },
  {
   "cell_type": "markdown",
   "metadata": {},
   "source": [
    "**Important!** `pd.DataFrame.dropna()` and `pd.Series.dropna()` are very versatile! Let's look at the docs (Series is similar):\n",
    "\n",
    "```python\n",
    "Signature: pd.DataFrame.dropna(self, axis=0, how='any', thresh=None, subset=None, inplace=False)\n",
    "Docstring:\n",
    "Remove missing values.\n",
    "\n",
    "See the :ref:`User Guide <missing_data>` for more on which values are\n",
    "considered missing, and how to work with missing data.\n",
    "\n",
    "Parameters\n",
    "----------\n",
    "axis : {0 or 'index', 1 or 'columns'}, default 0\n",
    "    Determine if rows or columns which contain missing values are\n",
    "    removed.\n",
    "\n",
    "    * 0, or 'index' : Drop rows which contain missing values.\n",
    "    * 1, or 'columns' : Drop columns which contain missing value.\n",
    "\n",
    "    .. deprecated:: 0.23.0: Pass tuple or list to drop on multiple\n",
    "    axes.\n",
    "how : {'any', 'all'}, default 'any'\n",
    "    Determine if row or column is removed from DataFrame, when we have\n",
    "    at least one NA or all NA.\n",
    "\n",
    "    * 'any' : If any NA values are present, drop that row or column.\n",
    "    * 'all' : If all values are NA, drop that row or column.\n",
    "thresh : int, optional\n",
    "    Require that many non-NA values.\n",
    "subset : array-like, optional\n",
    "    Labels along other axis to consider, e.g. if you are dropping rows\n",
    "    these would be a list of columns to include.\n",
    "inplace : bool, default False\n",
    "    If True, do operation inplace and return None.\n",
    "```\n",
    "\n",
    "**how**: This tells us if we want to remove a row if _any_ of the columns have a null, or _all_ of the columns have a null.<br>\n",
    "**subset**: We can input an array here, like `['ship_mode', 'discount', 'profit_margin']`, and it will only consider nulls in those columns. This is very useful!<br>\n",
    "**inplace**: This is if you want to mutate (change) the source dataframe. Default is `False`, so it will return a _copy_ of the source dataframe."
   ]
  },
  {
   "cell_type": "markdown",
   "metadata": {},
   "source": [
    "To accomplish the same thing, but implement it on our entire dataframe, we can do the following:"
   ]
  },
  {
   "cell_type": "code",
   "execution_count": null,
   "metadata": {},
   "outputs": [],
   "source": [
    "# drops all nulls from the ship_mode column, \n",
    "#but returns the entire dataframe instead of just the ship_mode column\n",
    "\n",
    "orders.dropna(subset=['ship_mode'])"
   ]
  },
  {
   "cell_type": "code",
   "execution_count": null,
   "metadata": {},
   "outputs": [],
   "source": [
    "# Check that the original dataframe was not actually changed, because default is inplace=False\n",
    "orders.head()"
   ]
  },
  {
   "cell_type": "markdown",
   "metadata": {},
   "source": [
    "Option 2: Fill in missing values"
   ]
  },
  {
   "cell_type": "markdown",
   "metadata": {},
   "source": [
    "Traditionally, we fill missing data with a median, average, or mode (most frequently occurring). For `ship_mode`, let's replace the nulls with the mode, `Standard_Class`.\n",
    "\n",
    "Let's first look at the way we'd do it with a single column, using the `pd.Series.fillna()` method:"
   ]
  },
  {
   "cell_type": "code",
   "execution_count": null,
   "metadata": {},
   "outputs": [],
   "source": [
    "orders['ship_mode'].fillna(value=\"Standard Class\")"
   ]
  },
  {
   "cell_type": "code",
   "execution_count": null,
   "metadata": {},
   "outputs": [],
   "source": [
    "# Since we didn't set inplace = True, the original dataframe is not changed\n",
    "orders.head()"
   ]
  },
  {
   "cell_type": "markdown",
   "metadata": {},
   "source": [
    "Now let's see how we'd do it to the whole dataframe, using the `pd.DataFrame.fillna()` method. Notice the similar API between the methods with the `value` kwarg. Good congruent design, pandas development team! The full dataframe is returned, and not just a column."
   ]
  },
  {
   "cell_type": "code",
   "execution_count": null,
   "metadata": {},
   "outputs": [],
   "source": [
    "orders.fillna(value={\"ship_mode\":\"Standard Class\",\"discount\":0}).head(10)"
   ]
  },
  {
   "cell_type": "markdown",
   "metadata": {},
   "source": [
    "But wait! There's more! We can reference any other data or formulas we want with the imputation (the value we fill the nulls with). This is very handy if you want to impute with the average or median of that column... or even another column altogether! \n",
    "\n",
    "Here is an example where we will fill the nulls of :\n",
    "- `discount` with the mean value from the `discount` column\n",
    "- `ship_mode` with the most frequently occuring value (mode)\n",
    "- `profit_margin` with the result of `profit/sales`.\n",
    "\n"
   ]
  },
  {
   "cell_type": "code",
   "execution_count": null,
   "metadata": {},
   "outputs": [],
   "source": [
    "# Check the mean value of discount\n",
    "orders['discount'].mean()"
   ]
  },
  {
   "cell_type": "code",
   "execution_count": null,
   "metadata": {},
   "outputs": [],
   "source": [
    "# Check the most frequently occurring ship_mode\n",
    "orders['ship_mode'].mode()"
   ]
  },
  {
   "cell_type": "markdown",
   "metadata": {},
   "source": [
    "Note that this returns `0    Standard Class` \n",
    "\n",
    "This is because a the `mode()` function returns a Series, as there may be more than one mode. So if we just want the first value returned, we can use the index 0.\n"
   ]
  },
  {
   "cell_type": "code",
   "execution_count": null,
   "metadata": {},
   "outputs": [],
   "source": [
    "# Get the first answer from the mode()\n",
    "orders['ship_mode'].mode()[0]"
   ]
  },
  {
   "cell_type": "markdown",
   "metadata": {},
   "source": [
    "Now we can also check the result of `profit/sales` which will be calculated for each row, and returned as a Series:"
   ]
  },
  {
   "cell_type": "code",
   "execution_count": null,
   "metadata": {},
   "outputs": [],
   "source": [
    "orders['profit']/orders['sales']"
   ]
  },
  {
   "cell_type": "markdown",
   "metadata": {},
   "source": [
    "Now we are ready to use a dictionary to fill the missing values!"
   ]
  },
  {
   "cell_type": "code",
   "execution_count": null,
   "metadata": {
    "scrolled": true
   },
   "outputs": [],
   "source": [
    "orders.fillna(value={'ship_mode':orders['ship_mode'].mode()[0],\n",
    "                     'discount':orders['discount'].mean(),\n",
    "                     'profit_margin':orders['profit']/orders['sales']}).head(5)"
   ]
  },
  {
   "cell_type": "code",
   "execution_count": null,
   "metadata": {},
   "outputs": [],
   "source": [
    "orders.head()"
   ]
  },
  {
   "cell_type": "markdown",
   "metadata": {},
   "source": [
    "#### Really filling in the missing values\n",
    "\n",
    "When we are sure the logic is correct, we can set `inplace=True` to make the changes permanent.\n",
    "\n",
    "But first, to be safe... make a copy!"
   ]
  },
  {
   "cell_type": "code",
   "execution_count": null,
   "metadata": {},
   "outputs": [],
   "source": [
    "# Make a copy first!\n",
    "orders_copy = orders.copy()\n",
    "\n",
    "# Then fill missing values for the specific columns, inplace\n",
    "orders.fillna(value={'ship_mode':orders['ship_mode'].mode()[0],\n",
    "                     'discount':orders['discount'].mean(),\n",
    "                     'profit_margin':orders['profit']/orders['sales']},\n",
    "             inplace = True)\n"
   ]
  },
  {
   "cell_type": "code",
   "execution_count": null,
   "metadata": {},
   "outputs": [],
   "source": [
    "\n",
    "# Check if there are any more nulls\n",
    "orders.isnull().sum()"
   ]
  },
  {
   "cell_type": "code",
   "execution_count": null,
   "metadata": {},
   "outputs": [],
   "source": [
    "orders_copy.isnull().sum()"
   ]
  },
  {
   "cell_type": "code",
   "execution_count": null,
   "metadata": {},
   "outputs": [],
   "source": [
    "# Can copy back if you need to!\n",
    "#orders = orders_copy.copy()\n",
    "#orders.isnull().sum()"
   ]
  },
  {
   "cell_type": "markdown",
   "metadata": {},
   "source": [
    "They're gone! Important points:\n",
    "\n",
    "- Don't forget to use the `inplace=True` kwarg to mutate the source dataframe (i.e. 'save changes'). \n",
    "- It is helpful to not use `inplace=True` initially to ensure your code/logic is correct, prior to making permanent changes."
   ]
  },
  {
   "cell_type": "markdown",
   "metadata": {},
   "source": [
    "## Renaming Columns\n",
    "\n",
    "Perhaps we want to rename our columns. \n",
    "\n",
    "Let's do it with the products table. Read it in and check the first five rows:\n"
   ]
  },
  {
   "cell_type": "code",
   "execution_count": null,
   "metadata": {
    "scrolled": true
   },
   "outputs": [],
   "source": [
    "# First read in the Products table\n",
    "\n",
    "# check the first five rows\n"
   ]
  },
  {
   "cell_type": "markdown",
   "metadata": {},
   "source": [
    "The column `product_cost_to_consumer` is actually the unit cost of each product, so let's make it a shorter name.\n",
    "\n",
    "One way is to rename **specific** columns by using a dictionary:"
   ]
  },
  {
   "cell_type": "code",
   "execution_count": null,
   "metadata": {},
   "outputs": [],
   "source": [
    "# rename one or more columns with a dictionary. Note: inplace=False will return a new DataFrame,\n",
    "# but leave the original DataFrame untouched. Change this to True to modify the original DataFrame.\n",
    "\n",
    "# use a dictionary with old column names as the key and new names as the value\n",
    "\n",
    "old_to_new = {'product_name': 'description', 'product_cost_to_consumer': 'unit_cost'}\n",
    "\n",
    "products.rename(columns=old_to_new, inplace=False).head(3)"
   ]
  },
  {
   "cell_type": "code",
   "execution_count": null,
   "metadata": {},
   "outputs": [],
   "source": [
    "products.columns"
   ]
  },
  {
   "cell_type": "markdown",
   "metadata": {},
   "source": [
    "**Note** that the above example has the argument `inplace = False`, so the original DataFrame has not been changed."
   ]
  },
  {
   "cell_type": "markdown",
   "metadata": {},
   "source": [
    "Let's set `inplace=True` and change only the `product_cost_to_customer` column name."
   ]
  },
  {
   "cell_type": "code",
   "execution_count": null,
   "metadata": {},
   "outputs": [],
   "source": [
    "# use a dictionary with old column names as the key and new names as the value\n",
    "old_to_new = {'product_name': 'description', 'product_cost_to_consumer': 'unit_cost'}\n",
    "\n",
    "# Now call rename() and set inplace=True so the change is permanent\n",
    "\n"
   ]
  },
  {
   "cell_type": "code",
   "execution_count": null,
   "metadata": {},
   "outputs": [],
   "source": [
    "products.head()"
   ]
  },
  {
   "attachments": {
    "joins.png": {
     "image/png": "[encoded data removed]"
    }
   },
   "cell_type": "markdown",
   "metadata": {},
   "source": [
    "## Merging Data\n",
    "\n",
    "You may have noticed that the Orders table doesn't give us information about the product name, product category or subcategory but we may want to get information about the total sales.\n",
    "\n",
    "We also want to check whether orders have been returned.\n",
    "\n",
    "To do this, we will have to merge the data from separate tables together, just like we do a JOIN in SQL.\n",
    "\n",
    "![joins.png](attachment:joins.png)\n",
    "We can do this in Pandas using `merge()`.\n",
    "\n"
   ]
  },
  {
   "cell_type": "markdown",
   "metadata": {},
   "source": [
    "#### Merging two DataFrames\n",
    "\n",
    "We merge two DataFrames using the Pandas `merge` function.\n",
    "\n",
    "`pd.merge(left, right, how='inner', on=IndexLabel, left_on=IndexLabel, right_on=IndexLabel)`\n",
    "\n",
    "We can specify **how** to merge the two DataFrames `orders` and `prod` using the `how=` kwarg:\n",
    "\n",
    "- `how='inner'` - only keep rows where the merge 'on' value exists in both the left and right DataFrames\n",
    "- `how='left'` - keep every row in the *left* DataFrame. Unmatched columns will be filled with NaN.\n",
    "- `how='right'` - keep every row in the *right* DataFrame. Unmatched columns will be filled with NaN.\n",
    "- `how='outer'` - returns all rows from both left and right DataFrames and matches up rows where possible and NaN elsewhere.\n",
    "\n"
   ]
  },
  {
   "cell_type": "markdown",
   "metadata": {},
   "source": [
    "#### Guided Walkthrough\n",
    "\n",
    "Let's try to merge the **Orders** and **Products** tables so that we can analyse the sales by products.\n",
    "\n"
   ]
  },
  {
   "cell_type": "code",
   "execution_count": null,
   "metadata": {},
   "outputs": [],
   "source": [
    "# Have another look at the products table\n"
   ]
  },
  {
   "cell_type": "code",
   "execution_count": null,
   "metadata": {},
   "outputs": [],
   "source": [
    "# Compare with the orders that we have \n"
   ]
  },
  {
   "cell_type": "markdown",
   "metadata": {},
   "source": [
    "#### Performing the Merge\n",
    "\n",
    "In our case, we want to keep all rows in the `orders` DataFrame, and match the rows in the `products` DataFrame based on the `product_id`, so it should be a `left` join (if `orders` is on the left!)"
   ]
  },
  {
   "cell_type": "code",
   "execution_count": null,
   "metadata": {},
   "outputs": [],
   "source": [
    "# Merge orders (left) with products (right) using product_id\n",
    "\n",
    "# merged = pd.merge(orders, products, how=??? , on=???)\n"
   ]
  },
  {
   "cell_type": "markdown",
   "metadata": {},
   "source": [
    "Check the new DataFrame by showing the first 5 rows\n"
   ]
  },
  {
   "cell_type": "code",
   "execution_count": null,
   "metadata": {},
   "outputs": [],
   "source": []
  },
  {
   "cell_type": "markdown",
   "metadata": {},
   "source": [
    "#### Adding New Columns\n",
    "\n",
    "Adding a new column is easy, we just have to define it, for example using calculations on other columns.\n",
    "\n"
   ]
  },
  {
   "cell_type": "code",
   "execution_count": null,
   "metadata": {},
   "outputs": [],
   "source": [
    "# Create a column total_cost in merged which is the unit_price * quantity\n",
    "merged['total_cost'] = merged['unit_cost']*merged['quantity']"
   ]
  },
  {
   "cell_type": "code",
   "execution_count": null,
   "metadata": {},
   "outputs": [],
   "source": [
    "# Check the new column\n",
    "merged.head()"
   ]
  },
  {
   "cell_type": "markdown",
   "metadata": {},
   "source": [
    "#### Dropping columns\n",
    "\n",
    "To drop a column, use `drop()` with the column name and kwarg `axis=1`. (To drop rows, we would use the row label and `axis=0)\n"
   ]
  },
  {
   "cell_type": "code",
   "execution_count": null,
   "metadata": {},
   "outputs": [],
   "source": [
    "merged.drop('total_cost', axis=1, inplace = True)"
   ]
  },
  {
   "cell_type": "code",
   "execution_count": null,
   "metadata": {},
   "outputs": [],
   "source": [
    "merged.head(3)"
   ]
  },
  {
   "cell_type": "markdown",
   "metadata": {},
   "source": [
    "### Cleaning Data: `str` and `dt` methods\n",
    "There are a lot of familiar string and date operations we can perform on columns. Strangely, they exist within a pandas submodule and so have to be prefixed with `str` and `dt` respectively."
   ]
  },
  {
   "cell_type": "code",
   "execution_count": null,
   "metadata": {},
   "outputs": [],
   "source": [
    "# Making the product names lowercase\n",
    "merged['description'].str.lower().head()\n",
    "\n",
    "# This doesn't change the original dataframe, so you could add another column if you want the changes to be permanent."
   ]
  },
  {
   "cell_type": "code",
   "execution_count": null,
   "metadata": {},
   "outputs": [],
   "source": [
    "merged.head()"
   ]
  },
  {
   "cell_type": "code",
   "execution_count": null,
   "metadata": {},
   "outputs": [],
   "source": [
    "# To use datetime methods, convert the date\n",
    "merged['order_date'] = pd.to_datetime(merged['order_date'])\n",
    "\n",
    "# Do the same for ship date\n",
    "merged['ship_date'] = pd.to_datetime(merged['ship_date'])"
   ]
  },
  {
   "cell_type": "code",
   "execution_count": null,
   "metadata": {},
   "outputs": [],
   "source": [
    "merged.dtypes"
   ]
  },
  {
   "cell_type": "code",
   "execution_count": null,
   "metadata": {},
   "outputs": [],
   "source": [
    "merged.head()"
   ]
  },
  {
   "cell_type": "code",
   "execution_count": null,
   "metadata": {},
   "outputs": [],
   "source": [
    "# Calculate the number of days to ship\n",
    "merged['days_to_ship'] = (merged['ship_date']-merged['order_date'])\n",
    "\n",
    "# remove the days indicator \n",
    "#merged['days_to_ship'] = (merged['ship_date']-merged['order_date']).dt.days"
   ]
  },
  {
   "cell_type": "code",
   "execution_count": null,
   "metadata": {},
   "outputs": [],
   "source": [
    "# year of order\n",
    "merged['order_year'] = merged['order_date'].dt.year\n",
    "\n",
    "# month of order (Monday, Tuesday, etc)\n",
    "merged['order_month_no'] = merged['order_date'].dt.month\n",
    "\n",
    "# day of week \n",
    "merged['order_day'] = merged['order_date'].dt.weekday\n",
    "\n",
    "# day name of week of order (Monday, Tuesday, etc)\n",
    "merged['order_day_name'] = merged['order_date'].dt.day_name()\n"
   ]
  },
  {
   "cell_type": "code",
   "execution_count": null,
   "metadata": {},
   "outputs": [],
   "source": [
    "merged.dtypes"
   ]
  },
  {
   "cell_type": "markdown",
   "metadata": {},
   "source": [
    "## Apply functions for column operations\n",
    "\n",
    "Apply functions allow us to perform a complex operation across an entire column highly efficiently."
   ]
  },
  {
   "cell_type": "markdown",
   "metadata": {},
   "source": [
    "For example, let's say we want to classify the margin category for the profit margin as *low*, *medium* or *high*.\n",
    "\n",
    "The first step is writing a function, with the argument being the value we would receive from each cell in the column. This function will mutate the input, and return the result. This result will then be _applied_ to the source dataframe (if desired)."
   ]
  },
  {
   "cell_type": "code",
   "execution_count": null,
   "metadata": {},
   "outputs": [],
   "source": [
    "merged.head()"
   ]
  },
  {
   "cell_type": "code",
   "execution_count": null,
   "metadata": {},
   "outputs": [],
   "source": [
    "# create a function to classify a profit margin as low, medium or high\n",
    "# Let's say 30% and above is high, between 10% and 30% is medium and anything else is low  \n",
    "\n",
    "def margin_category(profit_margin):\n",
    "    if profit_margin >=0.3:\n",
    "        return 'High'\n",
    "    elif profit_margin >= 0.1:\n",
    "        return 'Medium'\n",
    "    else:\n",
    "        return 'Low'\n",
    "    \n"
   ]
  },
  {
   "cell_type": "code",
   "execution_count": null,
   "metadata": {},
   "outputs": [],
   "source": [
    "# Test the function with a sample value\n",
    "margin_category(0.57)"
   ]
  },
  {
   "cell_type": "markdown",
   "metadata": {},
   "source": [
    "Now we can _apply_ this function to our `pd.Series` object, returning the result (which we can use to create a new column, if we choose)."
   ]
  },
  {
   "cell_type": "code",
   "execution_count": null,
   "metadata": {},
   "outputs": [],
   "source": [
    "# Apply the function using the function name\n",
    "merged['profit_margin'].apply(margin_category)"
   ]
  },
  {
   "cell_type": "code",
   "execution_count": null,
   "metadata": {},
   "outputs": [],
   "source": [
    "# Save the results into a new column\n",
    "merged['margin_category']=merged['profit_margin'].apply(margin_category)"
   ]
  },
  {
   "cell_type": "code",
   "execution_count": null,
   "metadata": {
    "scrolled": true
   },
   "outputs": [],
   "source": [
    "merged.head()"
   ]
  },
  {
   "cell_type": "markdown",
   "metadata": {},
   "source": [
    "The `pd.DataFrame.apply` implementation is similar, however it effectively 'scrolls through' the columns and passes each one sequentially to your function:\n",
    "\n",
    "```python\n",
    "Objects passed to the function are Series objects whose index is\n",
    "either the DataFrame's index (``axis=0``) or the DataFrame's columns\n",
    "(``axis=1``).\n",
    "```\n",
    "\n",
    "It should only be used when you wish to apply the same function to all columns (or rows) of your `pd.DataFrame` object."
   ]
  },
  {
   "cell_type": "markdown",
   "metadata": {},
   "source": [
    "We can also use `pd.Series.apply()` with a **lambda expression**. This is an undeclared function and is commonly used for simple functions within the `.apply()` method. Let's use it to add $100 to our `product-cost_to_consumer` column. "
   ]
  },
  {
   "cell_type": "code",
   "execution_count": null,
   "metadata": {},
   "outputs": [],
   "source": [
    "# prior to apply method\n",
    "merged['unit_cost'].tail(10)"
   ]
  },
  {
   "cell_type": "code",
   "execution_count": null,
   "metadata": {},
   "outputs": [],
   "source": [
    "# add 100 dollars to each product cost\n",
    "merged['unit_cost'].apply(lambda x: x+100).tail(10)"
   ]
  },
  {
   "cell_type": "markdown",
   "metadata": {},
   "source": [
    "Boom! Maybe financing that new boat wasn't such a bad idea after all! Don't worry, we haven't set  new values back to the column so the changes aren't permanent. "
   ]
  },
  {
   "cell_type": "markdown",
   "metadata": {},
   "source": [
    "### Saving the file\n",
    "\n",
    "Now that we have made the changes to our data, how do we save the DataFrame back to file?\n",
    "\n",
    "We can use the Pandas `to_csv()` function:\n"
   ]
  },
  {
   "cell_type": "code",
   "execution_count": null,
   "metadata": {},
   "outputs": [],
   "source": [
    "# Saving the merged data to a new file called orders_by_product.csv, without adding an index column\n",
    "merged.to_csv('datasets/orders_by_product.csv', index=False)"
   ]
  }
 ],
 "metadata": {
  "kernelspec": {
   "display_name": "Python 3 (ipykernel)",
   "language": "python",
   "name": "python3"
  },
  "language_info": {
   "codemirror_mode": {
    "name": "ipython",
    "version": 3
   },
   "file_extension": ".py",
   "mimetype": "text/x-python",
   "name": "python",
   "nbconvert_exporter": "python",
   "pygments_lexer": "ipython3",
   "version": "3.9.7"
  }
 },
 "nbformat": 4,
 "nbformat_minor": 2
}
