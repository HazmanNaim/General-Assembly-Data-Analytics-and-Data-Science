{
 "cells": [
  {
   "cell_type": "markdown",
   "metadata": {
    "nbpresent": {
     "id": "7fe863a0-d61c-469c-ace7-5dfda3ba9c6e"
    },
    "slideshow": {
     "slide_type": "slide"
    }
   },
   "source": [
    "<img src=\"http://imgur.com/1ZcRyrc.png\" style=\"float: left; margin: 20px; height: 55px\">\n",
    "\n",
    "### Independent practice: python lists\n",
    "\n",
    "---"
   ]
  },
  {
   "cell_type": "markdown",
   "metadata": {
    "nbpresent": {
     "id": "e9fc387b-5986-4cb3-9cc9-d4fce97db3c1"
    },
    "slideshow": {
     "slide_type": "slide"
    }
   },
   "source": [
    "Complete the questions using the following list:"
   ]
  },
  {
   "cell_type": "code",
   "execution_count": 2,
   "metadata": {
    "nbpresent": {
     "id": "caa5cf54-b2eb-45df-9c88-d899066e7315"
    },
    "slideshow": {
     "slide_type": "slide"
    }
   },
   "outputs": [],
   "source": [
    "mix = [12, 12.2, 'flower', 'a', (1, 2, 3)]"
   ]
  },
  {
   "cell_type": "markdown",
   "metadata": {
    "nbpresent": {
     "id": "f853e1f8-ba78-4067-8723-ea98d22c30bf"
    }
   },
   "source": [
    "##### 1. add the string 'animal' to mix using .append()"
   ]
  },
  {
   "cell_type": "code",
   "execution_count": 3,
   "metadata": {},
   "outputs": [
    {
     "data": {
      "text/plain": [
       "[12, 12.2, 'flower', 'a', (1, 2, 3), 'animal']"
      ]
     },
     "execution_count": 3,
     "metadata": {},
     "output_type": "execute_result"
    }
   ],
   "source": [
    "mix.append('animal')\n",
    "mix"
   ]
  },
  {
   "cell_type": "markdown",
   "metadata": {
    "nbpresent": {
     "id": "d2bdf4b1-d9bc-4f52-87bc-c3e4378b3488"
    }
   },
   "source": [
    "##### 2. join the list [1, 2] to mix using .extend()"
   ]
  },
  {
   "cell_type": "code",
   "execution_count": 4,
   "metadata": {},
   "outputs": [],
   "source": [
    "mix.extend([1, 2])"
   ]
  },
  {
   "cell_type": "markdown",
   "metadata": {
    "nbpresent": {
     "id": "497070de-b3bb-48ab-a1ea-3aad4a5b04cf"
    }
   },
   "source": [
    "##### 3. add your name at the 2nd position of the list using .insert(index, your_name)"
   ]
  },
  {
   "cell_type": "code",
   "execution_count": 7,
   "metadata": {
    "nbpresent": {
     "id": "00ce8761-a36b-4424-9808-d706eed8982c"
    }
   },
   "outputs": [
    {
     "data": {
      "text/plain": [
       "[12, 'Hazman', 12.2, 'flower', 'a', (1, 2, 3), 'animal', 1, 2]"
      ]
     },
     "execution_count": 7,
     "metadata": {},
     "output_type": "execute_result"
    }
   ],
   "source": [
    "mix.insert(1, 'Hazman')\n",
    "mix"
   ]
  },
  {
   "cell_type": "markdown",
   "metadata": {
    "nbpresent": {
     "id": "88d61f43-7937-460e-9e2a-41a513a5313d"
    }
   },
   "source": [
    "##### 4. remove 'flower' from the list using .remove()"
   ]
  },
  {
   "cell_type": "code",
   "execution_count": 8,
   "metadata": {},
   "outputs": [],
   "source": [
    "mix.remove('flower')"
   ]
  },
  {
   "cell_type": "code",
   "execution_count": 12,
   "metadata": {},
   "outputs": [
    {
     "data": {
      "text/plain": [
       "[12, 'Hazman', 12.2, 'a', (1, 2, 3), 'animal', 1, 2]"
      ]
     },
     "execution_count": 12,
     "metadata": {},
     "output_type": "execute_result"
    }
   ],
   "source": [
    "mix"
   ]
  },
  {
   "cell_type": "markdown",
   "metadata": {
    "nbpresent": {
     "id": "98b13268-3c36-452a-809c-a4ece1fa3e55"
    }
   },
   "source": [
    "##### 5. count the number of times 12 appears in the list using .count()"
   ]
  },
  {
   "cell_type": "code",
   "execution_count": 15,
   "metadata": {
    "nbpresent": {
     "id": "c39c24fa-5161-4f32-bd8c-fa4e3c0b08a3"
    }
   },
   "outputs": [
    {
     "data": {
      "text/plain": [
       "1"
      ]
     },
     "execution_count": 15,
     "metadata": {},
     "output_type": "execute_result"
    }
   ],
   "source": [
    "mix.count(12)"
   ]
  },
  {
   "cell_type": "markdown",
   "metadata": {
    "nbpresent": {
     "id": "5550fc94-3254-4ac4-9932-aca21bbb92c6"
    }
   },
   "source": [
    "##### 6. find the index integer of your name in the list using .index()"
   ]
  },
  {
   "cell_type": "code",
   "execution_count": 14,
   "metadata": {
    "nbpresent": {
     "id": "704265a9-a112-4f89-aeee-702c605dfa86"
    }
   },
   "outputs": [
    {
     "data": {
      "text/plain": [
       "1"
      ]
     },
     "execution_count": 14,
     "metadata": {},
     "output_type": "execute_result"
    }
   ],
   "source": [
    "mix.index('Hazman')"
   ]
  },
  {
   "cell_type": "markdown",
   "metadata": {
    "nbpresent": {
     "id": "99f2f861-8d61-4dd1-acd1-7eabd4acc197"
    }
   },
   "source": [
    "##### 7. remove the last element of the list and assign it to a variable with .pop()"
   ]
  },
  {
   "cell_type": "code",
   "execution_count": 16,
   "metadata": {},
   "outputs": [
    {
     "data": {
      "text/plain": [
       "2"
      ]
     },
     "execution_count": 16,
     "metadata": {},
     "output_type": "execute_result"
    }
   ],
   "source": [
    "removed = mix.pop()\n",
    "removed"
   ]
  },
  {
   "cell_type": "markdown",
   "metadata": {
    "nbpresent": {
     "id": "85513eb5-6890-4995-b730-ae022f2d4509"
    }
   },
   "source": [
    "##### 8. reverse the order of the elements in the list with .reverse()"
   ]
  },
  {
   "cell_type": "code",
   "execution_count": 17,
   "metadata": {},
   "outputs": [
    {
     "data": {
      "text/plain": [
       "[1, 'animal', (1, 2, 3), 'a', 12.2, 'Hazman', 12]"
      ]
     },
     "execution_count": 17,
     "metadata": {},
     "output_type": "execute_result"
    }
   ],
   "source": [
    "mix.reverse()\n",
    "mix"
   ]
  }
 ],
 "metadata": {
  "anaconda-cloud": {},
  "kernelspec": {
   "display_name": "Python 3 (ipykernel)",
   "language": "python",
   "name": "python3"
  },
  "language_info": {
   "codemirror_mode": {
    "name": "ipython",
    "version": 3
   },
   "file_extension": ".py",
   "mimetype": "text/x-python",
   "name": "python",
   "nbconvert_exporter": "python",
   "pygments_lexer": "ipython3",
   "version": "3.11.4"
  },
  "toc": {
   "nav_menu": {},
   "number_sections": false,
   "sideBar": true,
   "skip_h1_title": true,
   "title_cell": "Table of Contents",
   "title_sidebar": "Contents",
   "toc_cell": false,
   "toc_position": {},
   "toc_section_display": "block",
   "toc_window_display": false
  }
 },
 "nbformat": 4,
 "nbformat_minor": 1
}
